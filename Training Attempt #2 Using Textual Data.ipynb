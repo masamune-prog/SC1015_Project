{
 "cells": [
  {
   "cell_type": "code",
   "execution_count": 1,
   "id": "a6f99940",
   "metadata": {
    "cell_id": "4cdac739cf474fe69e2a1e66e33a48ca",
    "deepnote_cell_type": "code",
    "deepnote_to_be_reexecuted": false,
    "execution": {
     "iopub.execute_input": "2024-04-23T04:22:04.102753Z",
     "iopub.status.busy": "2024-04-23T04:22:04.102330Z",
     "iopub.status.idle": "2024-04-23T04:22:06.830519Z",
     "shell.execute_reply": "2024-04-23T04:22:06.829682Z"
    },
    "execution_millis": 236,
    "execution_start": 1713593893718,
    "papermill": {
     "duration": 2.738271,
     "end_time": "2024-04-23T04:22:06.832889",
     "exception": false,
     "start_time": "2024-04-23T04:22:04.094618",
     "status": "completed"
    },
    "source_hash": "6fb91718",
    "tags": []
   },
   "outputs": [],
   "source": [
    "import numpy as np\n",
    "import pandas as pd# Import cleaned dataset\n",
    "\n",
    "import seaborn as sb\n",
    "sb.set(font_scale=2) # set the default Seaborn style for graphics\n",
    "import matplotlib.pyplot as plt # we only need pyplot\n",
    "\n",
    "# For model training\n",
    "from sklearn.model_selection import train_test_split, StratifiedKFold, cross_val_score\n",
    "from sklearn.feature_extraction.text import TfidfVectorizer, TfidfTransformer, CountVectorizer\n",
    "from sklearn.linear_model import LogisticRegressionCV\n",
    "\n",
    "# For model evaluation\n",
    "from sklearn.metrics import accuracy_score, confusion_matrix, classification_report, roc_auc_score, roc_curve\n"
   ]
  },
  {
   "cell_type": "code",
   "execution_count": 2,
   "id": "29e6e00b",
   "metadata": {
    "cell_id": "b03e4b4ad36d4d47ab9c13c753bbd4f8",
    "deepnote_cell_type": "code",
    "deepnote_to_be_reexecuted": false,
    "execution": {
     "iopub.execute_input": "2024-04-23T04:22:06.846211Z",
     "iopub.status.busy": "2024-04-23T04:22:06.844899Z",
     "iopub.status.idle": "2024-04-23T04:22:11.920103Z",
     "shell.execute_reply": "2024-04-23T04:22:11.918935Z"
    },
    "execution_millis": 4344,
    "execution_start": 1713592857013,
    "papermill": {
     "duration": 5.084615,
     "end_time": "2024-04-23T04:22:11.923094",
     "exception": false,
     "start_time": "2024-04-23T04:22:06.838479",
     "status": "completed"
    },
    "source_hash": "5259b7ca",
    "tags": []
   },
   "outputs": [],
   "source": [
    "news_data = pd.read_csv(\"/kaggle/input/cleaned-news/cleaned_news.csv\")"
   ]
  },
  {
   "cell_type": "code",
   "execution_count": 3,
   "id": "0df6aa00",
   "metadata": {
    "cell_id": "9ca428f3ac3148f786e449ebe2c3e600",
    "deepnote_cell_type": "code",
    "deepnote_to_be_reexecuted": false,
    "execution": {
     "iopub.execute_input": "2024-04-23T04:22:11.935431Z",
     "iopub.status.busy": "2024-04-23T04:22:11.935017Z",
     "iopub.status.idle": "2024-04-23T04:22:11.942468Z",
     "shell.execute_reply": "2024-04-23T04:22:11.941329Z"
    },
    "execution_millis": 167,
    "execution_start": 1713592861403,
    "papermill": {
     "duration": 0.016737,
     "end_time": "2024-04-23T04:22:11.945167",
     "exception": false,
     "start_time": "2024-04-23T04:22:11.928430",
     "status": "completed"
    },
    "source_hash": "6ec4d537",
    "tags": []
   },
   "outputs": [
    {
     "data": {
      "text/plain": [
       "(44898, 26)"
      ]
     },
     "execution_count": 3,
     "metadata": {},
     "output_type": "execute_result"
    }
   ],
   "source": [
    "news_data.shape"
   ]
  },
  {
   "cell_type": "code",
   "execution_count": 4,
   "id": "376f4842",
   "metadata": {
    "cell_id": "bdaae95c7b134eae8a33236ade64567c",
    "deepnote_cell_type": "code",
    "deepnote_to_be_reexecuted": false,
    "execution": {
     "iopub.execute_input": "2024-04-23T04:22:11.958221Z",
     "iopub.status.busy": "2024-04-23T04:22:11.957552Z",
     "iopub.status.idle": "2024-04-23T04:22:11.996226Z",
     "shell.execute_reply": "2024-04-23T04:22:11.994777Z"
    },
    "execution_millis": 167,
    "execution_start": 1713592861403,
    "papermill": {
     "duration": 0.047694,
     "end_time": "2024-04-23T04:22:11.998483",
     "exception": false,
     "start_time": "2024-04-23T04:22:11.950789",
     "status": "completed"
    },
    "source_hash": "bce3789e",
    "tags": []
   },
   "outputs": [
    {
     "data": {
      "text/html": [
       "<div>\n",
       "<style scoped>\n",
       "    .dataframe tbody tr th:only-of-type {\n",
       "        vertical-align: middle;\n",
       "    }\n",
       "\n",
       "    .dataframe tbody tr th {\n",
       "        vertical-align: top;\n",
       "    }\n",
       "\n",
       "    .dataframe thead th {\n",
       "        text-align: right;\n",
       "    }\n",
       "</style>\n",
       "<table border=\"1\" class=\"dataframe\">\n",
       "  <thead>\n",
       "    <tr style=\"text-align: right;\">\n",
       "      <th></th>\n",
       "      <th>title</th>\n",
       "      <th>text</th>\n",
       "      <th>subject</th>\n",
       "      <th>date</th>\n",
       "      <th>label</th>\n",
       "      <th>label_meaning</th>\n",
       "      <th>processed_title</th>\n",
       "      <th>processed_text</th>\n",
       "      <th>title_polarity_score</th>\n",
       "      <th>text_polarity_score</th>\n",
       "      <th>...</th>\n",
       "      <th>title_pos_noun</th>\n",
       "      <th>title_pos_num</th>\n",
       "      <th>title_pos_pron</th>\n",
       "      <th>title_pos_verb</th>\n",
       "      <th>text_pos_adj</th>\n",
       "      <th>text_pos_adv</th>\n",
       "      <th>text_pos_noun</th>\n",
       "      <th>text_pos_num</th>\n",
       "      <th>text_pos_pron</th>\n",
       "      <th>text_pos_verb</th>\n",
       "    </tr>\n",
       "  </thead>\n",
       "  <tbody>\n",
       "    <tr>\n",
       "      <th>0</th>\n",
       "      <td>Pennsylvania Church Demonstrates How To Deal ...</td>\n",
       "      <td>While many churches defend pastors who have ra...</td>\n",
       "      <td>News</td>\n",
       "      <td>October 13, 2016</td>\n",
       "      <td>0</td>\n",
       "      <td>False</td>\n",
       "      <td>['church', 'demonstrate', 'deal', 'pastor']</td>\n",
       "      <td>['many', 'church', 'defend', 'pastor', 'rap', ...</td>\n",
       "      <td>0.000</td>\n",
       "      <td>0.137722</td>\n",
       "      <td>...</td>\n",
       "      <td>4</td>\n",
       "      <td>0</td>\n",
       "      <td>0</td>\n",
       "      <td>0</td>\n",
       "      <td>31</td>\n",
       "      <td>11</td>\n",
       "      <td>106</td>\n",
       "      <td>3</td>\n",
       "      <td>0</td>\n",
       "      <td>20</td>\n",
       "    </tr>\n",
       "    <tr>\n",
       "      <th>1</th>\n",
       "      <td>Trump to keep Obama rule curbing corporate tax...</td>\n",
       "      <td>(This October 4 story fixes comment by Organi...</td>\n",
       "      <td>politicsNews</td>\n",
       "      <td>October 4, 2017</td>\n",
       "      <td>1</td>\n",
       "      <td>True</td>\n",
       "      <td>['trump', 'keep', 'rule', 'curb', 'corporate',...</td>\n",
       "      <td>['story', 'fix', 'comment', 'organization', 'i...</td>\n",
       "      <td>0.000</td>\n",
       "      <td>-0.083772</td>\n",
       "      <td>...</td>\n",
       "      <td>6</td>\n",
       "      <td>0</td>\n",
       "      <td>0</td>\n",
       "      <td>1</td>\n",
       "      <td>37</td>\n",
       "      <td>11</td>\n",
       "      <td>147</td>\n",
       "      <td>2</td>\n",
       "      <td>0</td>\n",
       "      <td>34</td>\n",
       "    </tr>\n",
       "    <tr>\n",
       "      <th>2</th>\n",
       "      <td>Trump says he's considering keeping parts of O...</td>\n",
       "      <td>(Reuters) - President-elect Donald Trump told ...</td>\n",
       "      <td>politicsNews</td>\n",
       "      <td>November 11, 2016</td>\n",
       "      <td>1</td>\n",
       "      <td>True</td>\n",
       "      <td>['trump', 'say', 'consider', 'keep', 'part']</td>\n",
       "      <td>['trump', 'tell', 'wall', 'street', 'journal',...</td>\n",
       "      <td>0.000</td>\n",
       "      <td>0.142177</td>\n",
       "      <td>...</td>\n",
       "      <td>2</td>\n",
       "      <td>0</td>\n",
       "      <td>0</td>\n",
       "      <td>2</td>\n",
       "      <td>32</td>\n",
       "      <td>7</td>\n",
       "      <td>94</td>\n",
       "      <td>2</td>\n",
       "      <td>0</td>\n",
       "      <td>33</td>\n",
       "    </tr>\n",
       "    <tr>\n",
       "      <th>3</th>\n",
       "      <td>CalPERS chief sees volatility until Trump impl...</td>\n",
       "      <td>SAN FRANCISCO (Reuters) - The California Publi...</td>\n",
       "      <td>politicsNews</td>\n",
       "      <td>November 14, 2016</td>\n",
       "      <td>1</td>\n",
       "      <td>True</td>\n",
       "      <td>['chief', 'see', 'volatility', 'trump', 'imple...</td>\n",
       "      <td>['san', 'public', 'employee', 'retirement', 's...</td>\n",
       "      <td>0.000</td>\n",
       "      <td>0.085190</td>\n",
       "      <td>...</td>\n",
       "      <td>4</td>\n",
       "      <td>0</td>\n",
       "      <td>0</td>\n",
       "      <td>1</td>\n",
       "      <td>32</td>\n",
       "      <td>7</td>\n",
       "      <td>58</td>\n",
       "      <td>1</td>\n",
       "      <td>0</td>\n",
       "      <td>15</td>\n",
       "    </tr>\n",
       "    <tr>\n",
       "      <th>4</th>\n",
       "      <td>House votes to protect 'dark money' political ...</td>\n",
       "      <td>WASHINGTON (Reuters) - The Republican-controll...</td>\n",
       "      <td>politicsNews</td>\n",
       "      <td>June 14, 2016</td>\n",
       "      <td>1</td>\n",
       "      <td>True</td>\n",
       "      <td>['house', 'vote', 'protect', 'dark', 'money', ...</td>\n",
       "      <td>['house', 'representative', 'vote', 'protect',...</td>\n",
       "      <td>-0.075</td>\n",
       "      <td>-0.002778</td>\n",
       "      <td>...</td>\n",
       "      <td>4</td>\n",
       "      <td>0</td>\n",
       "      <td>0</td>\n",
       "      <td>1</td>\n",
       "      <td>59</td>\n",
       "      <td>8</td>\n",
       "      <td>118</td>\n",
       "      <td>2</td>\n",
       "      <td>0</td>\n",
       "      <td>41</td>\n",
       "    </tr>\n",
       "  </tbody>\n",
       "</table>\n",
       "<p>5 rows × 26 columns</p>\n",
       "</div>"
      ],
      "text/plain": [
       "                                               title  \\\n",
       "0   Pennsylvania Church Demonstrates How To Deal ...   \n",
       "1  Trump to keep Obama rule curbing corporate tax...   \n",
       "2  Trump says he's considering keeping parts of O...   \n",
       "3  CalPERS chief sees volatility until Trump impl...   \n",
       "4  House votes to protect 'dark money' political ...   \n",
       "\n",
       "                                                text       subject  \\\n",
       "0  While many churches defend pastors who have ra...          News   \n",
       "1   (This October 4 story fixes comment by Organi...  politicsNews   \n",
       "2  (Reuters) - President-elect Donald Trump told ...  politicsNews   \n",
       "3  SAN FRANCISCO (Reuters) - The California Publi...  politicsNews   \n",
       "4  WASHINGTON (Reuters) - The Republican-controll...  politicsNews   \n",
       "\n",
       "                 date  label  label_meaning  \\\n",
       "0    October 13, 2016      0          False   \n",
       "1    October 4, 2017       1           True   \n",
       "2  November 11, 2016       1           True   \n",
       "3  November 14, 2016       1           True   \n",
       "4      June 14, 2016       1           True   \n",
       "\n",
       "                                     processed_title  \\\n",
       "0        ['church', 'demonstrate', 'deal', 'pastor']   \n",
       "1  ['trump', 'keep', 'rule', 'curb', 'corporate',...   \n",
       "2       ['trump', 'say', 'consider', 'keep', 'part']   \n",
       "3  ['chief', 'see', 'volatility', 'trump', 'imple...   \n",
       "4  ['house', 'vote', 'protect', 'dark', 'money', ...   \n",
       "\n",
       "                                      processed_text  title_polarity_score  \\\n",
       "0  ['many', 'church', 'defend', 'pastor', 'rap', ...                 0.000   \n",
       "1  ['story', 'fix', 'comment', 'organization', 'i...                 0.000   \n",
       "2  ['trump', 'tell', 'wall', 'street', 'journal',...                 0.000   \n",
       "3  ['san', 'public', 'employee', 'retirement', 's...                 0.000   \n",
       "4  ['house', 'representative', 'vote', 'protect',...                -0.075   \n",
       "\n",
       "   text_polarity_score  ...  title_pos_noun  title_pos_num  title_pos_pron  \\\n",
       "0             0.137722  ...               4              0               0   \n",
       "1            -0.083772  ...               6              0               0   \n",
       "2             0.142177  ...               2              0               0   \n",
       "3             0.085190  ...               4              0               0   \n",
       "4            -0.002778  ...               4              0               0   \n",
       "\n",
       "   title_pos_verb  text_pos_adj  text_pos_adv  text_pos_noun  text_pos_num  \\\n",
       "0               0            31            11            106             3   \n",
       "1               1            37            11            147             2   \n",
       "2               2            32             7             94             2   \n",
       "3               1            32             7             58             1   \n",
       "4               1            59             8            118             2   \n",
       "\n",
       "   text_pos_pron  text_pos_verb  \n",
       "0              0             20  \n",
       "1              0             34  \n",
       "2              0             33  \n",
       "3              0             15  \n",
       "4              0             41  \n",
       "\n",
       "[5 rows x 26 columns]"
      ]
     },
     "execution_count": 4,
     "metadata": {},
     "output_type": "execute_result"
    }
   ],
   "source": [
    "# view the dataframe \n",
    "news_data.head()"
   ]
  },
  {
   "cell_type": "code",
   "execution_count": null,
   "id": "9742b1a3",
   "metadata": {
    "papermill": {
     "duration": 0.005704,
     "end_time": "2024-04-23T04:22:12.010101",
     "exception": false,
     "start_time": "2024-04-23T04:22:12.004397",
     "status": "completed"
    },
    "tags": []
   },
   "outputs": [],
   "source": []
  },
  {
   "cell_type": "code",
   "execution_count": 5,
   "id": "44619387",
   "metadata": {
    "execution": {
     "iopub.execute_input": "2024-04-23T04:22:12.023308Z",
     "iopub.status.busy": "2024-04-23T04:22:12.022886Z",
     "iopub.status.idle": "2024-04-23T04:22:12.107646Z",
     "shell.execute_reply": "2024-04-23T04:22:12.106548Z"
    },
    "papermill": {
     "duration": 0.094265,
     "end_time": "2024-04-23T04:22:12.110224",
     "exception": false,
     "start_time": "2024-04-23T04:22:12.015959",
     "status": "completed"
    },
    "tags": []
   },
   "outputs": [],
   "source": [
    "#use only title and label\n",
    "X_train, X_test, y_train, y_test = train_test_split(news_data['processed_title']+news_data['processed_text'], news_data['label'], test_size=0.3, random_state=2024)"
   ]
  },
  {
   "cell_type": "code",
   "execution_count": 6,
   "id": "0f0a62e1",
   "metadata": {
    "execution": {
     "iopub.execute_input": "2024-04-23T04:22:12.123766Z",
     "iopub.status.busy": "2024-04-23T04:22:12.123362Z",
     "iopub.status.idle": "2024-04-23T04:22:12.131487Z",
     "shell.execute_reply": "2024-04-23T04:22:12.130219Z"
    },
    "papermill": {
     "duration": 0.017349,
     "end_time": "2024-04-23T04:22:12.133547",
     "exception": false,
     "start_time": "2024-04-23T04:22:12.116198",
     "status": "completed"
    },
    "tags": []
   },
   "outputs": [
    {
     "data": {
      "text/plain": [
       "21598    ['really', 'mean', 'supporter', 'video']['shar...\n",
       "30107    ['never', 'forget', 'trump', 'brag', 'tall', '...\n",
       "37591    ['break', 'phony', 'southern', 'accent', 'rall...\n",
       "39717    ['call', 'eu', 'court', 'refugee', 'rule']['sa...\n",
       "31982    ['angry', 'patriot', 'assault', 'black', 'woma...\n",
       "                               ...                        \n",
       "7977     ['former', 'leader', 'see', 'regain', 'regiona...\n",
       "2494     ['say', 'hope', 'continued', 'support', 'russi...\n",
       "30244    ['without', 'democratic', 'director', 'consume...\n",
       "35456    ['prime', 'minister', 'tell', 'trump', 'man', ...\n",
       "7816     ['trump', 'hater', 'say', 'president', 'trump'...\n",
       "Length: 31428, dtype: object"
      ]
     },
     "execution_count": 6,
     "metadata": {},
     "output_type": "execute_result"
    }
   ],
   "source": [
    "X_train"
   ]
  },
  {
   "cell_type": "code",
   "execution_count": 7,
   "id": "68d16b15",
   "metadata": {
    "cell_id": "d6fbeeb8a2d941cf80d53b4f3f8a61c6",
    "deepnote_cell_type": "code",
    "deepnote_to_be_reexecuted": false,
    "execution": {
     "iopub.execute_input": "2024-04-23T04:22:12.147162Z",
     "iopub.status.busy": "2024-04-23T04:22:12.146750Z",
     "iopub.status.idle": "2024-04-23T04:22:12.151757Z",
     "shell.execute_reply": "2024-04-23T04:22:12.150811Z"
    },
    "execution_millis": 103,
    "execution_start": 1713592875520,
    "papermill": {
     "duration": 0.014617,
     "end_time": "2024-04-23T04:22:12.154044",
     "exception": false,
     "start_time": "2024-04-23T04:22:12.139427",
     "status": "completed"
    },
    "source_hash": "48d9783c",
    "tags": []
   },
   "outputs": [],
   "source": [
    "# Init tfidvectorizer\n",
    "tfidf = TfidfVectorizer(stop_words='english',\n",
    "                        strip_accents=None,\n",
    "                        lowercase=True,\n",
    "                        preprocessor=None,\n",
    "                        use_idf=True,\n",
    "                        norm='l2',\n",
    "                        smooth_idf=False, max_features=15000)"
   ]
  },
  {
   "cell_type": "code",
   "execution_count": 8,
   "id": "8b049836",
   "metadata": {
    "cell_id": "dd940ee696b645c9b199b8eaf17432b3",
    "deepnote_cell_type": "code",
    "deepnote_to_be_reexecuted": false,
    "execution": {
     "iopub.execute_input": "2024-04-23T04:22:12.167863Z",
     "iopub.status.busy": "2024-04-23T04:22:12.167492Z",
     "iopub.status.idle": "2024-04-23T04:22:12.174563Z",
     "shell.execute_reply": "2024-04-23T04:22:12.173409Z"
    },
    "execution_millis": 96,
    "execution_start": 1713592877599,
    "papermill": {
     "duration": 0.017034,
     "end_time": "2024-04-23T04:22:12.177023",
     "exception": false,
     "start_time": "2024-04-23T04:22:12.159989",
     "status": "completed"
    },
    "source_hash": "22730e49",
    "tags": []
   },
   "outputs": [],
   "source": [
    "# TF-IDF extraction of top n features\n",
    "def tfidf_top_n_features(tfidf_data, features, n):\n",
    "    # TFIDF data is the term document matrix without the names, and features are the term names\n",
    "    # Convert np.array into dataframe (Currently, headers are the features and rows are the score per document)\n",
    "    tfidf_df = pd.DataFrame(tfidf_data.toarray(), columns = features)\n",
    "    # Transpose dataframe so that the headers are the documents and the x axis is the feature name\n",
    "    tfidf_df = tfidf_df.transpose()\n",
    "    # Average all document tfidf scores into 1 column\n",
    "    tfidf_means = np.mean(tfidf_df, axis=1)\n",
    "    # Previous code output is series data, convert back into df with headers\n",
    "    tfidf_df_summed = pd.DataFrame({'feature':tfidf_means.index, 'avg_tfidf':tfidf_means.values})\n",
    "    # Sort to top N features\n",
    "    tfidf_df_summed = tfidf_df_summed.sort_values(by='avg_tfidf', ascending=False)[:n]\n",
    "    \n",
    "    return tfidf_df_summed"
   ]
  },
  {
   "cell_type": "code",
   "execution_count": 9,
   "id": "da86002b",
   "metadata": {
    "cell_id": "58a522c0ec6d47358c21c20309742081",
    "deepnote_cell_type": "code",
    "deepnote_to_be_reexecuted": false,
    "execution": {
     "iopub.execute_input": "2024-04-23T04:22:12.190608Z",
     "iopub.status.busy": "2024-04-23T04:22:12.190216Z",
     "iopub.status.idle": "2024-04-23T04:22:20.192781Z",
     "shell.execute_reply": "2024-04-23T04:22:20.191548Z"
    },
    "execution_millis": 458,
    "execution_start": 1713592901742,
    "papermill": {
     "duration": 8.012339,
     "end_time": "2024-04-23T04:22:20.195474",
     "exception": false,
     "start_time": "2024-04-23T04:22:12.183135",
     "status": "completed"
    },
    "source_hash": "92c90ab9",
    "tags": []
   },
   "outputs": [],
   "source": [
    "# Init tfidvectorizer again for training with different parameters\n",
    "tfidf = TfidfVectorizer(strip_accents=None,\n",
    "                        lowercase=False,\n",
    "                        preprocessor=None,\n",
    "                        use_idf=True,\n",
    "                        norm='l2',\n",
    "                        smooth_idf=True)\n",
    "\n",
    "# Send all docs to fit\n",
    "tfidf_train = tfidf.fit_transform(X_train)\n",
    "tfidf_test = tfidf.transform(X_test)"
   ]
  },
  {
   "cell_type": "code",
   "execution_count": 10,
   "id": "709857f0",
   "metadata": {
    "cell_id": "99558780c0dc476498465ebe83dc98e4",
    "deepnote_cell_type": "code",
    "deepnote_to_be_reexecuted": false,
    "execution": {
     "iopub.execute_input": "2024-04-23T04:22:20.211646Z",
     "iopub.status.busy": "2024-04-23T04:22:20.211004Z",
     "iopub.status.idle": "2024-04-23T04:22:20.215402Z",
     "shell.execute_reply": "2024-04-23T04:22:20.214340Z"
    },
    "execution_millis": 179,
    "execution_start": 1713592991613,
    "papermill": {
     "duration": 0.016214,
     "end_time": "2024-04-23T04:22:20.217653",
     "exception": false,
     "start_time": "2024-04-23T04:22:20.201439",
     "status": "completed"
    },
    "source_hash": "f5baba00",
    "tags": []
   },
   "outputs": [],
   "source": [
    "lr = LogisticRegressionCV(solver='liblinear', random_state=0, max_iter=300)\n"
   ]
  },
  {
   "cell_type": "code",
   "execution_count": 11,
   "id": "efe1e463",
   "metadata": {
    "cell_id": "622dd2a09872475297395a2ef0b8e78a",
    "deepnote_cell_type": "code",
    "deepnote_to_be_reexecuted": false,
    "execution": {
     "iopub.execute_input": "2024-04-23T04:22:20.231097Z",
     "iopub.status.busy": "2024-04-23T04:22:20.230728Z",
     "iopub.status.idle": "2024-04-23T04:30:02.717088Z",
     "shell.execute_reply": "2024-04-23T04:30:02.715771Z"
    },
    "execution_millis": 142318,
    "execution_start": 1713593162350,
    "papermill": {
     "duration": 462.497112,
     "end_time": "2024-04-23T04:30:02.720733",
     "exception": false,
     "start_time": "2024-04-23T04:22:20.223621",
     "status": "completed"
    },
    "source_hash": "2a24ebdd",
    "tags": []
   },
   "outputs": [],
   "source": [
    "# Init Stratified K fold cross validation object\n",
    "sf = StratifiedKFold(n_splits=5, shuffle=True, random_state=2)\n",
    "\n",
    "# Run k-fold using logistic regression\n",
    "cv_results = cross_val_score(lr, tfidf_train, y_train, cv=sf)"
   ]
  },
  {
   "cell_type": "code",
   "execution_count": 12,
   "id": "7b407af3",
   "metadata": {
    "cell_id": "5e74d94448264c0a9f1ac0ce45a9c252",
    "deepnote_cell_type": "code",
    "deepnote_to_be_reexecuted": false,
    "execution": {
     "iopub.execute_input": "2024-04-23T04:30:02.743712Z",
     "iopub.status.busy": "2024-04-23T04:30:02.743148Z",
     "iopub.status.idle": "2024-04-23T04:30:02.756381Z",
     "shell.execute_reply": "2024-04-23T04:30:02.755015Z"
    },
    "execution_millis": 116,
    "execution_start": 1713593694839,
    "papermill": {
     "duration": 0.028863,
     "end_time": "2024-04-23T04:30:02.760302",
     "exception": false,
     "start_time": "2024-04-23T04:30:02.731439",
     "status": "completed"
    },
    "source_hash": "679d16c8",
    "tags": []
   },
   "outputs": [
    {
     "name": "stdout",
     "output_type": "stream",
     "text": [
      "Score: 0.97852\n",
      "Score: 0.97614\n",
      "Score: 0.97980\n",
      "Score: 0.98218\n",
      "Score: 0.97804\n",
      "Mean score: 0.97894\n"
     ]
    }
   ],
   "source": [
    "# Print performance of each training and the average training score\n",
    "for score in cv_results:\n",
    "    print(f\"Score: {score :.5f}\")\n",
    "\n",
    "print(f\"Mean score: {cv_results.mean() :.5f}\")"
   ]
  },
  {
   "cell_type": "code",
   "execution_count": 13,
   "id": "a7b56990",
   "metadata": {
    "cell_id": "3520d1e400814446bcbf1a6fbf0cbd7d",
    "deepnote_cell_type": "code",
    "deepnote_to_be_reexecuted": false,
    "execution": {
     "iopub.execute_input": "2024-04-23T04:30:02.781425Z",
     "iopub.status.busy": "2024-04-23T04:30:02.781009Z",
     "iopub.status.idle": "2024-04-23T04:32:05.678031Z",
     "shell.execute_reply": "2024-04-23T04:32:05.676760Z"
    },
    "execution_millis": 47605,
    "execution_start": 1713593699169,
    "papermill": {
     "duration": 122.921241,
     "end_time": "2024-04-23T04:32:05.691589",
     "exception": false,
     "start_time": "2024-04-23T04:30:02.770348",
     "status": "completed"
    },
    "source_hash": "f527ed33",
    "tags": []
   },
   "outputs": [
    {
     "data": {
      "text/html": [
       "<style>#sk-container-id-1 {color: black;background-color: white;}#sk-container-id-1 pre{padding: 0;}#sk-container-id-1 div.sk-toggleable {background-color: white;}#sk-container-id-1 label.sk-toggleable__label {cursor: pointer;display: block;width: 100%;margin-bottom: 0;padding: 0.3em;box-sizing: border-box;text-align: center;}#sk-container-id-1 label.sk-toggleable__label-arrow:before {content: \"▸\";float: left;margin-right: 0.25em;color: #696969;}#sk-container-id-1 label.sk-toggleable__label-arrow:hover:before {color: black;}#sk-container-id-1 div.sk-estimator:hover label.sk-toggleable__label-arrow:before {color: black;}#sk-container-id-1 div.sk-toggleable__content {max-height: 0;max-width: 0;overflow: hidden;text-align: left;background-color: #f0f8ff;}#sk-container-id-1 div.sk-toggleable__content pre {margin: 0.2em;color: black;border-radius: 0.25em;background-color: #f0f8ff;}#sk-container-id-1 input.sk-toggleable__control:checked~div.sk-toggleable__content {max-height: 200px;max-width: 100%;overflow: auto;}#sk-container-id-1 input.sk-toggleable__control:checked~label.sk-toggleable__label-arrow:before {content: \"▾\";}#sk-container-id-1 div.sk-estimator input.sk-toggleable__control:checked~label.sk-toggleable__label {background-color: #d4ebff;}#sk-container-id-1 div.sk-label input.sk-toggleable__control:checked~label.sk-toggleable__label {background-color: #d4ebff;}#sk-container-id-1 input.sk-hidden--visually {border: 0;clip: rect(1px 1px 1px 1px);clip: rect(1px, 1px, 1px, 1px);height: 1px;margin: -1px;overflow: hidden;padding: 0;position: absolute;width: 1px;}#sk-container-id-1 div.sk-estimator {font-family: monospace;background-color: #f0f8ff;border: 1px dotted black;border-radius: 0.25em;box-sizing: border-box;margin-bottom: 0.5em;}#sk-container-id-1 div.sk-estimator:hover {background-color: #d4ebff;}#sk-container-id-1 div.sk-parallel-item::after {content: \"\";width: 100%;border-bottom: 1px solid gray;flex-grow: 1;}#sk-container-id-1 div.sk-label:hover label.sk-toggleable__label {background-color: #d4ebff;}#sk-container-id-1 div.sk-serial::before {content: \"\";position: absolute;border-left: 1px solid gray;box-sizing: border-box;top: 0;bottom: 0;left: 50%;z-index: 0;}#sk-container-id-1 div.sk-serial {display: flex;flex-direction: column;align-items: center;background-color: white;padding-right: 0.2em;padding-left: 0.2em;position: relative;}#sk-container-id-1 div.sk-item {position: relative;z-index: 1;}#sk-container-id-1 div.sk-parallel {display: flex;align-items: stretch;justify-content: center;background-color: white;position: relative;}#sk-container-id-1 div.sk-item::before, #sk-container-id-1 div.sk-parallel-item::before {content: \"\";position: absolute;border-left: 1px solid gray;box-sizing: border-box;top: 0;bottom: 0;left: 50%;z-index: -1;}#sk-container-id-1 div.sk-parallel-item {display: flex;flex-direction: column;z-index: 1;position: relative;background-color: white;}#sk-container-id-1 div.sk-parallel-item:first-child::after {align-self: flex-end;width: 50%;}#sk-container-id-1 div.sk-parallel-item:last-child::after {align-self: flex-start;width: 50%;}#sk-container-id-1 div.sk-parallel-item:only-child::after {width: 0;}#sk-container-id-1 div.sk-dashed-wrapped {border: 1px dashed gray;margin: 0 0.4em 0.5em 0.4em;box-sizing: border-box;padding-bottom: 0.4em;background-color: white;}#sk-container-id-1 div.sk-label label {font-family: monospace;font-weight: bold;display: inline-block;line-height: 1.2em;}#sk-container-id-1 div.sk-label-container {text-align: center;}#sk-container-id-1 div.sk-container {/* jupyter's `normalize.less` sets `[hidden] { display: none; }` but bootstrap.min.css set `[hidden] { display: none !important; }` so we also need the `!important` here to be able to override the default hidden behavior on the sphinx rendered scikit-learn.org. See: https://github.com/scikit-learn/scikit-learn/issues/21755 */display: inline-block !important;position: relative;}#sk-container-id-1 div.sk-text-repr-fallback {display: none;}</style><div id=\"sk-container-id-1\" class=\"sk-top-container\"><div class=\"sk-text-repr-fallback\"><pre>LogisticRegressionCV(max_iter=300, random_state=0, solver=&#x27;liblinear&#x27;)</pre><b>In a Jupyter environment, please rerun this cell to show the HTML representation or trust the notebook. <br />On GitHub, the HTML representation is unable to render, please try loading this page with nbviewer.org.</b></div><div class=\"sk-container\" hidden><div class=\"sk-item\"><div class=\"sk-estimator sk-toggleable\"><input class=\"sk-toggleable__control sk-hidden--visually\" id=\"sk-estimator-id-1\" type=\"checkbox\" checked><label for=\"sk-estimator-id-1\" class=\"sk-toggleable__label sk-toggleable__label-arrow\">LogisticRegressionCV</label><div class=\"sk-toggleable__content\"><pre>LogisticRegressionCV(max_iter=300, random_state=0, solver=&#x27;liblinear&#x27;)</pre></div></div></div></div></div>"
      ],
      "text/plain": [
       "LogisticRegressionCV(max_iter=300, random_state=0, solver='liblinear')"
      ]
     },
     "execution_count": 13,
     "metadata": {},
     "output_type": "execute_result"
    }
   ],
   "source": [
    "# Train\n",
    "lr.fit(tfidf_train, y_train)"
   ]
  },
  {
   "cell_type": "code",
   "execution_count": 14,
   "id": "93d004a5",
   "metadata": {
    "cell_id": "e419e5ac2a9e4b97b4ec5b3a14511a01",
    "deepnote_cell_type": "code",
    "deepnote_to_be_reexecuted": false,
    "execution": {
     "iopub.execute_input": "2024-04-23T04:32:05.715262Z",
     "iopub.status.busy": "2024-04-23T04:32:05.714690Z",
     "iopub.status.idle": "2024-04-23T04:32:06.055086Z",
     "shell.execute_reply": "2024-04-23T04:32:06.053896Z"
    },
    "execution_millis": 190,
    "execution_start": 1713593773170,
    "papermill": {
     "duration": 0.354829,
     "end_time": "2024-04-23T04:32:06.057521",
     "exception": false,
     "start_time": "2024-04-23T04:32:05.702692",
     "status": "completed"
    },
    "source_hash": "ba63f06a",
    "tags": []
   },
   "outputs": [
    {
     "data": {
      "text/plain": [
       "<Axes: >"
      ]
     },
     "execution_count": 14,
     "metadata": {},
     "output_type": "execute_result"
    },
    {
     "data": {
      "image/png": "[encoded data removed]",
      "text/plain": [
       "<Figure size 600x400 with 2 Axes>"
      ]
     },
     "metadata": {},
     "output_type": "display_data"
    }
   ],
   "source": [
    "# Predict test dataset\n",
    "y_test_pred = lr.predict(tfidf_test)\n",
    "\n",
    "# Print confusion matrix\n",
    "f = plt.figure(figsize=(6,4))\n",
    "sb.heatmap(cm:=confusion_matrix(y_test, y_test_pred), annot = True, fmt=\".0f\", annot_kws={\"size\": 32})"
   ]
  },
  {
   "cell_type": "code",
   "execution_count": 15,
   "id": "29f61351",
   "metadata": {
    "cell_id": "80892772d838418793d7d4886affb356",
    "deepnote_cell_type": "code",
    "deepnote_to_be_reexecuted": false,
    "execution": {
     "iopub.execute_input": "2024-04-23T04:32:06.074419Z",
     "iopub.status.busy": "2024-04-23T04:32:06.072561Z",
     "iopub.status.idle": "2024-04-23T04:32:06.089409Z",
     "shell.execute_reply": "2024-04-23T04:32:06.087991Z"
    },
    "execution_millis": 41,
    "execution_start": 1713593780450,
    "papermill": {
     "duration": 0.027444,
     "end_time": "2024-04-23T04:32:06.091906",
     "exception": false,
     "start_time": "2024-04-23T04:32:06.064462",
     "status": "completed"
    },
    "source_hash": "b725868",
    "tags": []
   },
   "outputs": [
    {
     "name": "stdout",
     "output_type": "stream",
     "text": [
      "Test Data\n",
      "Accuracy  :\t 0.9832219747587231\n",
      "\n",
      "TPR Test :\t 0.9809345210189092\n",
      "TNR Test :\t 0.9852920379012869\n",
      "\n",
      "FPR Test :\t 0.014707962098713053\n",
      "FNR Test :\t 0.019065478981090796\n"
     ]
    }
   ],
   "source": [
    "# Get overall accuracy\n",
    "print(\"Test Data\")\n",
    "print(\"Accuracy  :\\t\", lr.score(tfidf_test, y_test))\n",
    "print(\"\")\n",
    "\n",
    "# Get individual accuracy\n",
    "tpTest = cm[1][1] # True Positives : Good (1) predicted Good (1)\n",
    "fpTest = cm[0][1] # False Positives : Bad (0) predicted Good (1)\n",
    "tnTest = cm[0][0] # True Negatives : Bad (0) predicted Bad (0)\n",
    "fnTest = cm[1][0] # False Negatives : Good (1) predicted Bad (0)\n",
    "\n",
    "print(\"TPR Test :\\t\", (tpTest/(tpTest + fnTest)))\n",
    "print(\"TNR Test :\\t\", (tnTest/(tnTest + fpTest)))\n",
    "\n",
    "print(\"\\nFPR Test :\\t\", (fpTest/(fpTest + tnTest)))\n",
    "print(\"FNR Test :\\t\", (fnTest/(fnTest + tpTest)))"
   ]
  },
  {
   "cell_type": "code",
   "execution_count": 16,
   "id": "bb371643",
   "metadata": {
    "cell_id": "d2bb5602bafc4a38b5812a5f47dfb345",
    "deepnote_cell_type": "code",
    "deepnote_to_be_reexecuted": false,
    "execution": {
     "iopub.execute_input": "2024-04-23T04:32:06.107720Z",
     "iopub.status.busy": "2024-04-23T04:32:06.107328Z",
     "iopub.status.idle": "2024-04-23T04:32:06.545255Z",
     "shell.execute_reply": "2024-04-23T04:32:06.544144Z"
    },
    "execution_millis": 83,
    "execution_start": 1713593784921,
    "papermill": {
     "duration": 0.448502,
     "end_time": "2024-04-23T04:32:06.547536",
     "exception": false,
     "start_time": "2024-04-23T04:32:06.099034",
     "status": "completed"
    },
    "source_hash": "d2d7a6fa",
    "tags": []
   },
   "outputs": [
    {
     "data": {
      "text/plain": [
       "<Axes: >"
      ]
     },
     "execution_count": 16,
     "metadata": {},
     "output_type": "execute_result"
    },
    {
     "data": {
      "image/png": "[encoded data removed]",
      "text/plain": [
       "<Figure size 640x480 with 2 Axes>"
      ]
     },
     "metadata": {},
     "output_type": "display_data"
    }
   ],
   "source": [
    "# Print classification report\n",
    "cr = classification_report(y_test, y_test_pred,output_dict=True)\n",
    "sb.heatmap(pd.DataFrame(cr).iloc[:-1, :].T, annot=True)"
   ]
  },
  {
   "cell_type": "code",
   "execution_count": null,
   "id": "bc03b1d0",
   "metadata": {
    "cell_id": "ad8b7a7f857a41e7a5d07067cde36dce",
    "deepnote_cell_type": "code",
    "papermill": {
     "duration": 0.007873,
     "end_time": "2024-04-23T04:32:06.564028",
     "exception": false,
     "start_time": "2024-04-23T04:32:06.556155",
     "status": "completed"
    },
    "tags": []
   },
   "outputs": [],
   "source": []
  },
  {
   "cell_type": "markdown",
   "id": "a21cabe2",
   "metadata": {
    "created_in_deepnote_cell": true,
    "deepnote_cell_type": "markdown",
    "papermill": {
     "duration": 0.00791,
     "end_time": "2024-04-23T04:32:06.580097",
     "exception": false,
     "start_time": "2024-04-23T04:32:06.572187",
     "status": "completed"
    },
    "tags": []
   },
   "source": [
    "<a style='text-decoration:none;line-height:16px;display:flex;color:#5B5B62;padding:10px;justify-content:end;' href='https://deepnote.com?utm_source=created-in-deepnote-cell&projectId=9f23536d-6e62-418a-b94b-ca9356b2599b' target=\"_blank\">\n",
    "<img alt='Created in deepnote.com' style='display:inline;max-height:16px;margin:0px;margin-right:7.5px;' src='data:image/svg+xml;base64,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' > </img>\n",
    "Created in <span style='font-weight:600;margin-left:4px;'>Deepnote</span></a>"
   ]
  }
 ],
 "metadata": {
  "deepnote_execution_queue": [],
  "deepnote_notebook_id": "5f7778a8faed41d1987867a137cc3079",
  "kaggle": {
   "accelerator": "none",
   "dataSources": [
    {
     "datasetId": 4837866,
     "sourceId": 8173634,
     "sourceType": "datasetVersion"
    }
   ],
   "dockerImageVersionId": 30702,
   "isGpuEnabled": false,
   "isInternetEnabled": true,
   "language": "python",
   "sourceType": "notebook"
  },
  "kernelspec": {
   "display_name": "Python 3",
   "language": "python",
   "name": "python3"
  },
  "language_info": {
   "codemirror_mode": {
    "name": "ipython",
    "version": 3
   },
   "file_extension": ".py",
   "mimetype": "text/x-python",
   "name": "python",
   "nbconvert_exporter": "python",
   "pygments_lexer": "ipython3",
   "version": "3.11.5"
  },
  "papermill": {
   "default_parameters": {},
   "duration": 605.971854,
   "end_time": "2024-04-23T04:32:07.312686",
   "environment_variables": {},
   "exception": null,
   "input_path": "__notebook__.ipynb",
   "output_path": "__notebook__.ipynb",
   "parameters": {},
   "start_time": "2024-04-23T04:22:01.340832",
   "version": "2.5.0"
  }
 },
 "nbformat": 4,
 "nbformat_minor": 5
}
