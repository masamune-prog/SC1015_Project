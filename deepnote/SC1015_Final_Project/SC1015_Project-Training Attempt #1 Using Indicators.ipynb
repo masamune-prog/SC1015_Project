{
  "cells": [
    {
      "cell_type": "markdown",
      "source": "# Import libraries",
      "metadata": {
        "formattedRanges": [],
        "cell_id": "96598d9bae454543b862274a2bcb22f1",
        "deepnote_cell_type": "text-cell-h1"
      },
      "block_group": "79422e74ca1f4850b0b33699bb853c4b"
    },
    {
      "cell_type": "code",
      "source": "import numpy as np\nimport pandas as pd# Import cleaned dataset\n\nimport seaborn as sb\nsb.set(font_scale=2) # set the default Seaborn style for graphics\nimport matplotlib.pyplot as plt # we only need pyplot\n\n# For model training\nfrom sklearn.preprocessing import OneHotEncoder\nfrom sklearn.tree import DecisionTreeClassifier, plot_tree\nfrom sklearn.ensemble import RandomForestClassifier\nfrom sklearn.model_selection import GridSearchCV, train_test_split, StratifiedKFold, cross_val_score\n\n# For model evaluation\nfrom sklearn.metrics import accuracy_score, confusion_matrix, classification_report",
      "metadata": {
        "source_hash": null,
        "execution_start": 1713318290029,
        "execution_millis": 1324,
        "deepnote_to_be_reexecuted": false,
        "cell_id": "b5c5244ad4f44f52944c383836d46076",
        "deepnote_cell_type": "code"
      },
      "outputs": [],
      "outputs_reference": null,
      "execution_count": null,
      "block_group": "a2b5e9ce7edb434e83a1f61287d3797a",
      "content_dependencies": null
    },
    {
      "cell_type": "markdown",
      "source": "do confusion matrix for classification (calculate accuracy ",
      "metadata": {
        "formattedRanges": [],
        "cell_id": "c723e1b1b63a403a8049f59ee7cb3f1f",
        "deepnote_cell_type": "text-cell-p"
      },
      "block_group": "ee1ce683cbb74c57805737f2fa96d459"
    },
    {
      "cell_type": "markdown",
      "source": "# Import cleaned dataset'",
      "metadata": {
        "formattedRanges": [],
        "cell_id": "c91ae4ef8e2b48dda245e6da21fe23ec",
        "deepnote_cell_type": "text-cell-h1"
      },
      "block_group": "3417343b576c43a0ba0109a249c3b98e"
    },
    {
      "cell_type": "code",
      "source": "# Load data back for EDA\n#rename unamed: 0 into id\nnews_data = pd.read_csv(\"cleaned_news.csv\")",
      "metadata": {
        "source_hash": null,
        "execution_start": 1713318295678,
        "execution_millis": 2341,
        "deepnote_to_be_reexecuted": false,
        "cell_id": "72b609d1258241fb9ec1451b6d6c8600",
        "deepnote_cell_type": "code"
      },
      "outputs": [],
      "outputs_reference": null,
      "execution_count": null,
      "block_group": "a937faeb6fd846509abbed72ab95677c",
      "content_dependencies": null
    },
    {
      "cell_type": "code",
      "source": "# View data\nnews_data.head()",
      "metadata": {
        "source_hash": null,
        "execution_start": 1713318299927,
        "execution_millis": 222,
        "deepnote_to_be_reexecuted": false,
        "cell_id": "afdf680401bc470a828331f8e6f7cc3b",
        "deepnote_cell_type": "code"
      },
      "outputs": [
        {
          "output_type": "execute_result",
          "execution_count": 3,
          "data": {
            "application/vnd.deepnote.dataframe.v3+json": {
              "column_count": 24,
              "row_count": 5,
              "columns": [
                {
                  "name": "title",
                  "dtype": "object",
                  "stats": {
                    "unique_count": 5,
                    "nan_count": 0,
                    "categories": [
                      {
                        "name": "['trump', 'right', 'fund', 'hundred', 'billion']",
                        "count": 1
                      },
                      {
                        "name": "['hard', 'knock', 'life', 'rough', 'sleeper']",
                        "count": 1
                      },
                      {
                        "name": "3 others",
                        "count": 3
                      }
                    ]
                  }
                },
                {
                  "name": "text",
                  "dtype": "object",
                  "stats": {
                    "unique_count": 5,
                    "nan_count": 0,
                    "categories": [
                      {
                        "name": "['senator', 'cotton', 'come', 'agreement', 'trump', 'last', 'week', 'role', 'disagree', 'solution', 'great', 'idea', 'time', 'bring', 'forefront', 'senator', 'cotton', 'role', 'sen', 'cotton', 'discuss', 'participation', 'meeting', 'trump', 'week', 'remark', 'republican', 'presidential', 'similar', 'concern', 'come', 'united', 'state', 'role', 'north', 'atlantic', 'treaty', 'organization', 'know', 'speak', 'day', 'post', 'editorial', 'board', 'raise', 'serious', 'question', 'share', 'question', 'cotton', 'say', 'interview', 'morning', 'joe', 'use', 'split', 'cost', 'today', 'read', 'interview', 'post', 'editorial', 'board', 'trump', 'make', 'accurate', 'statement', 'subsidization', 'fellow', 'look', 'see', 'good', 'thing', 'look', 'situation', 'say', 'country', 'affect', 'us', 'far', 'less', 'affect', 'country', 'yet', 'lifting', 'anything', 'say', 'deal', 'country', 'vicinity', 'deal', 'always', 'one', 'lead', 'potentially', 'third', 'world', 'war', 'russia', 'always', 'one', 'think', 'concept', 'good', 'think', 'united', 'state', 'help', 'help', 'give', 'good', 'example', 'mean', 'pay', 'billion', 'hundred', 'billion', 'dollar', 'support', 'country', 'theory', 'wealthy', 'hundred', 'opponent', 'jump', 'comment', 'accuse', 'suggest', 'leave', 'least', 'cut', 'back', 'support', 'fact', 'trump', 'correct', 'pay', 'hundred', 'billion', 'dollar', 'support', 'country', 'via', 'year', 'never', 'mind', 'additional', 'military', 'subsidy', 'collective', 'member', 'trillion', 'year', 'alliance', 'spend', 'total', 'billion', 'military', 'expenditure', 'spend', 'majority', 'billion', 'accord', 'military', 'expenditure', 'alliance', 'collectively', 'spend', 'defense', 'member', 'value', 'come', 'word', 'subsidize', 'every', 'member', 'lead', 'us', 'following', 'chart', 'show', 'individual', 'defense', 'spending', 'deficit', 'toward', 'common', 'defense', 'member', 'note', 'surplus', 'billion', 'equal', 'sum', 'member', 'billion', 'per', 'year', 'canada', 'billion', 'per', 'year', 'big', 'laggard', 'follow', 'closely', 'billion', 'per', 'year', 'four', 'country', 'constitute', 'almost', 'two', 'third', 'total', 'deficit', 'cover', 'united', 'good', 'instinct', 'thinker']",
                        "count": 1
                      },
                      {
                        "name": "['outside', 'piccadilly', 'theater', 'ticket', 'cost', 'pound', 'banner', 'advertise', 'musical', 'read', 'hard', 'knock', 'life', 'sleep', 'small', 'tent', 'street', 'among', 'almost', 'people', 'sleep', 'rough', 'capital', 'accord', 'official', 'figure', 'street', 'across', 'country', 'every', 'night', 'last', 'year', 'nearly', 'die', 'pneumonia', 'become', 'homeless', 'personal', 'problem', 'lead', 'drink', 'drug', 'bad', 'use', 'right', 'think', 'lot', 'thing', 'say', 'way', 'people', 'everything', 'go', 'cost', 'stuff', 'service', 'care', 'humanity', 'go', 'wide', 'agreement', 'problem', 'become', 'worse', 'last', 'seven', 'year', 'lead', 'criticism', 'conservative', 'government', 'approach', 'accusation', 'austerity', 'policy', 'include', 'change', 'welfare', 'payment', 'housing', 'partly', 'blame', 'report', 'week', 'parliament', 'public', 'account', 'committee', 'pac', 'call', 'extent', 'homelessness', 'across', 'national', 'crisis', 'late', 'official', 'figure', 'hammer', 'home', 'shameful', 'state', 'homelessness', 'abject', 'failure', 'government', 'approach', 'address', 'misery', 'suffer', 'many', 'thousand', 'family', 'individual', 'pac', 'chairman', 'say', 'charity', 'shelter', 'estimate', 'people', 'homeless', 'figure', 'rise', 'year', 'say', 'one', 'every', 'people', 'homeless', 'child', 'without', 'home', 'official', 'figure', 'show', 'rough', 'sleeper', 'count', 'single', 'night', 'autumn', 'increase', 'percent', 'since', 'really', 'want', 'gaff', 'place', 'say', 'jimmy', 'bed', 'subway', 'near', 'station', 'people', 'come', 'town', 'city', 'make', 'money', 'hard', 'us', 'time', 'say', 'jimmy', 'originally', 'hail', 'human', 'financial', 'cost', 'problem', 'average', 'age', 'death', 'someone', 'people', 'live', 'street', 'time', 'likely', 'victim', 'violence', 'settled', 'accommodation', 'get', 'point', 'try', 'save', 'money', 'hard', 'say', 'one', 'small', 'group', 'men', 'live', 'bridge', 'place', 'live', 'return', 'homeless', 'friend', 'bridge', 'recall', 'offer', 'drug', 'first', 'night', 'street', 'say', 'mate', 'say', 'free', 'trial', 'string', 'escape', 'street', 'pessimistic', 'future', 'win', 'get', 'street', 'almost', 'impossible', 'without', 'help', 'say', 'financial', 'impact', 'national', 'audit', 'office', 'parliament', 'spending', 'watchdog', 'say', 'local', 'authority', 'spend', 'billion', 'pound', 'billion', 'homelessness', 'service', 'head', 'morse', 'say', 'government', 'recent', 'performance', 'reduce', 'homelessness', 'therefore', 'cannot', 'consider', 'value', 'money', 'government', 'set', 'target', 'halve', 'rough', 'sleeping', 'abolish', 'last', 'week', 'prime', 'minister', 'may', 'tell', 'lawmaker', 'government', 'would', 'spend', 'million', 'pound', 'tackle', 'homelessness', 'put', 'project', 'tackle', 'rough', 'sleeping', 'want', 'see', 'anybody', 'homeless', 'anybody', 'sleep', 'rough', 'street', 'may', 'say', 'critic', 'say', 'conservative', 'power', 'since', 'little', 'find', 'solution', 'warn', 'problem', 'could', 'get', 'even', 'bad', 'hear', 'next', 'year', 'current', 'trajectory', 'stay', 'people', 'homeless', 'year', 'could', 'increase', 'percent', 'people', 'sleep', 'rough', 'could', 'rise', 'percent', 'pac', 'report', 'say', 'meanwhile', 'homeless', 'number', 'year', 'get', 'street', 'difficult', 'especially', 'drug', 'addition', 'one', 'outside', 'piccadilly', 'despite', 'problem', 'say', 'refuse', 'take', 'money', 'child', 'recall', 'one', 'girl', 'recently', 'try', 'give', 'pocket', 'money', 'afterwards', 'sit', 'cry', 'say']",
                        "count": 1
                      },
                      {
                        "name": "3 others",
                        "count": 3
                      }
                    ]
                  }
                },
                {
                  "name": "subject",
                  "dtype": "object",
                  "stats": {
                    "unique_count": 3,
                    "nan_count": 0,
                    "categories": [
                      {
                        "name": "politics",
                        "count": 2
                      },
                      {
                        "name": "worldnews",
                        "count": 2
                      },
                      {
                        "name": "News",
                        "count": 1
                      }
                    ]
                  }
                },
                {
                  "name": "date",
                  "dtype": "object",
                  "stats": {
                    "unique_count": 5,
                    "nan_count": 0,
                    "categories": [
                      {
                        "name": "Mar 26, 2016",
                        "count": 1
                      },
                      {
                        "name": "December 21, 2017 ",
                        "count": 1
                      },
                      {
                        "name": "3 others",
                        "count": 3
                      }
                    ]
                  }
                },
                {
                  "name": "label",
                  "dtype": "int64",
                  "stats": {
                    "unique_count": 2,
                    "nan_count": 0,
                    "min": "0",
                    "max": "1",
                    "histogram": [
                      {
                        "bin_start": 0,
                        "bin_end": 0.1,
                        "count": 3
                      },
                      {
                        "bin_start": 0.1,
                        "bin_end": 0.2,
                        "count": 0
                      },
                      {
                        "bin_start": 0.2,
                        "bin_end": 0.30000000000000004,
                        "count": 0
                      },
                      {
                        "bin_start": 0.30000000000000004,
                        "bin_end": 0.4,
                        "count": 0
                      },
                      {
                        "bin_start": 0.4,
                        "bin_end": 0.5,
                        "count": 0
                      },
                      {
                        "bin_start": 0.5,
                        "bin_end": 0.6000000000000001,
                        "count": 0
                      },
                      {
                        "bin_start": 0.6000000000000001,
                        "bin_end": 0.7000000000000001,
                        "count": 0
                      },
                      {
                        "bin_start": 0.7000000000000001,
                        "bin_end": 0.8,
                        "count": 0
                      },
                      {
                        "bin_start": 0.8,
                        "bin_end": 0.9,
                        "count": 0
                      },
                      {
                        "bin_start": 0.9,
                        "bin_end": 1,
                        "count": 2
                      }
                    ]
                  }
                },
                {
                  "name": "label_meaning",
                  "dtype": "bool",
                  "stats": {
                    "unique_count": 2,
                    "nan_count": 0,
                    "categories": [
                      {
                        "name": "False",
                        "count": 3
                      },
                      {
                        "name": "True",
                        "count": 2
                      }
                    ]
                  }
                },
                {
                  "name": "title_polarity_score",
                  "dtype": "float64",
                  "stats": {
                    "unique_count": 4,
                    "nan_count": 0,
                    "min": "-0.1958333333333333",
                    "max": "0.2857142857142857",
                    "histogram": [
                      {
                        "bin_start": -0.1958333333333333,
                        "bin_end": -0.1476785714285714,
                        "count": 2
                      },
                      {
                        "bin_start": -0.1476785714285714,
                        "bin_end": -0.0995238095238095,
                        "count": 0
                      },
                      {
                        "bin_start": -0.0995238095238095,
                        "bin_end": -0.05136904761904759,
                        "count": 0
                      },
                      {
                        "bin_start": -0.05136904761904759,
                        "bin_end": -0.0032142857142856973,
                        "count": 0
                      },
                      {
                        "bin_start": -0.0032142857142856973,
                        "bin_end": 0.0449404761904762,
                        "count": 2
                      },
                      {
                        "bin_start": 0.0449404761904762,
                        "bin_end": 0.09309523809523812,
                        "count": 0
                      },
                      {
                        "bin_start": 0.09309523809523812,
                        "bin_end": 0.14125,
                        "count": 0
                      },
                      {
                        "bin_start": 0.14125,
                        "bin_end": 0.1894047619047619,
                        "count": 0
                      },
                      {
                        "bin_start": 0.1894047619047619,
                        "bin_end": 0.23755952380952383,
                        "count": 0
                      },
                      {
                        "bin_start": 0.23755952380952383,
                        "bin_end": 0.2857142857142857,
                        "count": 1
                      }
                    ]
                  }
                },
                {
                  "name": "text_polarity_score",
                  "dtype": "float64",
                  "stats": {
                    "unique_count": 5,
                    "nan_count": 0,
                    "min": "-0.0494992129083038",
                    "max": "0.1069444444444444",
                    "histogram": [
                      {
                        "bin_start": -0.0494992129083038,
                        "bin_end": -0.03385484717302898,
                        "count": 1
                      },
                      {
                        "bin_start": -0.03385484717302898,
                        "bin_end": -0.01821048143775416,
                        "count": 0
                      },
                      {
                        "bin_start": -0.01821048143775416,
                        "bin_end": -0.0025661157024793393,
                        "count": 0
                      },
                      {
                        "bin_start": -0.0025661157024793393,
                        "bin_end": 0.013078250032795481,
                        "count": 1
                      },
                      {
                        "bin_start": 0.013078250032795481,
                        "bin_end": 0.028722615768070302,
                        "count": 0
                      },
                      {
                        "bin_start": 0.028722615768070302,
                        "bin_end": 0.04436698150334512,
                        "count": 0
                      },
                      {
                        "bin_start": 0.04436698150334512,
                        "bin_end": 0.06001134723861994,
                        "count": 2
                      },
                      {
                        "bin_start": 0.06001134723861994,
                        "bin_end": 0.07565571297389476,
                        "count": 0
                      },
                      {
                        "bin_start": 0.07565571297389476,
                        "bin_end": 0.09130007870916959,
                        "count": 0
                      },
                      {
                        "bin_start": 0.09130007870916959,
                        "bin_end": 0.1069444444444444,
                        "count": 1
                      }
                    ]
                  }
                },
                {
                  "name": "title_char_len",
                  "dtype": "int64",
                  "stats": {
                    "unique_count": 5,
                    "nan_count": 0,
                    "min": "45",
                    "max": "99",
                    "histogram": [
                      {
                        "bin_start": 45,
                        "bin_end": 50.4,
                        "count": 2
                      },
                      {
                        "bin_start": 50.4,
                        "bin_end": 55.8,
                        "count": 0
                      },
                      {
                        "bin_start": 55.8,
                        "bin_end": 61.2,
                        "count": 1
                      },
                      {
                        "bin_start": 61.2,
                        "bin_end": 66.6,
                        "count": 0
                      },
                      {
                        "bin_start": 66.6,
                        "bin_end": 72,
                        "count": 0
                      },
                      {
                        "bin_start": 72,
                        "bin_end": 77.4,
                        "count": 0
                      },
                      {
                        "bin_start": 77.4,
                        "bin_end": 82.80000000000001,
                        "count": 0
                      },
                      {
                        "bin_start": 82.80000000000001,
                        "bin_end": 88.2,
                        "count": 0
                      },
                      {
                        "bin_start": 88.2,
                        "bin_end": 93.6,
                        "count": 1
                      },
                      {
                        "bin_start": 93.6,
                        "bin_end": 99,
                        "count": 1
                      }
                    ]
                  }
                },
                {
                  "name": "title_word_len",
                  "dtype": "int64",
                  "stats": {
                    "unique_count": 3,
                    "nan_count": 0,
                    "min": "5",
                    "max": "11",
                    "histogram": [
                      {
                        "bin_start": 5,
                        "bin_end": 5.6,
                        "count": 3
                      },
                      {
                        "bin_start": 5.6,
                        "bin_end": 6.2,
                        "count": 0
                      },
                      {
                        "bin_start": 6.2,
                        "bin_end": 6.8,
                        "count": 0
                      },
                      {
                        "bin_start": 6.8,
                        "bin_end": 7.4,
                        "count": 0
                      },
                      {
                        "bin_start": 7.4,
                        "bin_end": 8,
                        "count": 0
                      },
                      {
                        "bin_start": 8,
                        "bin_end": 8.6,
                        "count": 0
                      },
                      {
                        "bin_start": 8.6,
                        "bin_end": 9.2,
                        "count": 0
                      },
                      {
                        "bin_start": 9.2,
                        "bin_end": 9.8,
                        "count": 0
                      },
                      {
                        "bin_start": 9.8,
                        "bin_end": 10.399999999999999,
                        "count": 1
                      },
                      {
                        "bin_start": 10.399999999999999,
                        "bin_end": 11,
                        "count": 1
                      }
                    ]
                  }
                },
                {
                  "name": "text_char_len",
                  "dtype": "int64",
                  "stats": {
                    "unique_count": 5,
                    "nan_count": 0,
                    "min": "1069",
                    "max": "3547",
                    "histogram": [
                      {
                        "bin_start": 1069,
                        "bin_end": 1316.8,
                        "count": 1
                      },
                      {
                        "bin_start": 1316.8,
                        "bin_end": 1564.6,
                        "count": 2
                      },
                      {
                        "bin_start": 1564.6,
                        "bin_end": 1812.4,
                        "count": 0
                      },
                      {
                        "bin_start": 1812.4,
                        "bin_end": 2060.2,
                        "count": 0
                      },
                      {
                        "bin_start": 2060.2,
                        "bin_end": 2308,
                        "count": 1
                      },
                      {
                        "bin_start": 2308,
                        "bin_end": 2555.8,
                        "count": 0
                      },
                      {
                        "bin_start": 2555.8,
                        "bin_end": 2803.6000000000004,
                        "count": 0
                      },
                      {
                        "bin_start": 2803.6000000000004,
                        "bin_end": 3051.4,
                        "count": 0
                      },
                      {
                        "bin_start": 3051.4,
                        "bin_end": 3299.2000000000003,
                        "count": 0
                      },
                      {
                        "bin_start": 3299.2000000000003,
                        "bin_end": 3547,
                        "count": 1
                      }
                    ]
                  }
                },
                {
                  "name": "text_word_len",
                  "dtype": "int64",
                  "stats": {
                    "unique_count": 5,
                    "nan_count": 0,
                    "min": "113",
                    "max": "362",
                    "histogram": [
                      {
                        "bin_start": 113,
                        "bin_end": 137.9,
                        "count": 2
                      },
                      {
                        "bin_start": 137.9,
                        "bin_end": 162.8,
                        "count": 1
                      },
                      {
                        "bin_start": 162.8,
                        "bin_end": 187.7,
                        "count": 0
                      },
                      {
                        "bin_start": 187.7,
                        "bin_end": 212.6,
                        "count": 0
                      },
                      {
                        "bin_start": 212.6,
                        "bin_end": 237.5,
                        "count": 1
                      },
                      {
                        "bin_start": 237.5,
                        "bin_end": 262.4,
                        "count": 0
                      },
                      {
                        "bin_start": 262.4,
                        "bin_end": 287.29999999999995,
                        "count": 0
                      },
                      {
                        "bin_start": 287.29999999999995,
                        "bin_end": 312.2,
                        "count": 0
                      },
                      {
                        "bin_start": 312.2,
                        "bin_end": 337.1,
                        "count": 0
                      },
                      {
                        "bin_start": 337.1,
                        "bin_end": 362,
                        "count": 1
                      }
                    ]
                  }
                },
                {
                  "name": "title_pos_adj",
                  "dtype": "int64",
                  "stats": {
                    "unique_count": 3,
                    "nan_count": 0,
                    "min": "0",
                    "max": "4",
                    "histogram": [
                      {
                        "bin_start": 0,
                        "bin_end": 0.4,
                        "count": 1
                      },
                      {
                        "bin_start": 0.4,
                        "bin_end": 0.8,
                        "count": 0
                      },
                      {
                        "bin_start": 0.8,
                        "bin_end": 1.2000000000000002,
                        "count": 3
                      },
                      {
                        "bin_start": 1.2000000000000002,
                        "bin_end": 1.6,
                        "count": 0
                      },
                      {
                        "bin_start": 1.6,
                        "bin_end": 2,
                        "count": 0
                      },
                      {
                        "bin_start": 2,
                        "bin_end": 2.4000000000000004,
                        "count": 0
                      },
                      {
                        "bin_start": 2.4000000000000004,
                        "bin_end": 2.8000000000000003,
                        "count": 0
                      },
                      {
                        "bin_start": 2.8000000000000003,
                        "bin_end": 3.2,
                        "count": 0
                      },
                      {
                        "bin_start": 3.2,
                        "bin_end": 3.6,
                        "count": 0
                      },
                      {
                        "bin_start": 3.6,
                        "bin_end": 4,
                        "count": 1
                      }
                    ]
                  }
                },
                {
                  "name": "title_pos_adv",
                  "dtype": "int64",
                  "stats": {
                    "unique_count": 2,
                    "nan_count": 0,
                    "min": "0",
                    "max": "1",
                    "histogram": [
                      {
                        "bin_start": 0,
                        "bin_end": 0.1,
                        "count": 4
                      },
                      {
                        "bin_start": 0.1,
                        "bin_end": 0.2,
                        "count": 0
                      },
                      {
                        "bin_start": 0.2,
                        "bin_end": 0.30000000000000004,
                        "count": 0
                      },
                      {
                        "bin_start": 0.30000000000000004,
                        "bin_end": 0.4,
                        "count": 0
                      },
                      {
                        "bin_start": 0.4,
                        "bin_end": 0.5,
                        "count": 0
                      },
                      {
                        "bin_start": 0.5,
                        "bin_end": 0.6000000000000001,
                        "count": 0
                      },
                      {
                        "bin_start": 0.6000000000000001,
                        "bin_end": 0.7000000000000001,
                        "count": 0
                      },
                      {
                        "bin_start": 0.7000000000000001,
                        "bin_end": 0.8,
                        "count": 0
                      },
                      {
                        "bin_start": 0.8,
                        "bin_end": 0.9,
                        "count": 0
                      },
                      {
                        "bin_start": 0.9,
                        "bin_end": 1,
                        "count": 1
                      }
                    ]
                  }
                },
                {
                  "name": "title_pos_noun",
                  "dtype": "int64",
                  "stats": {
                    "unique_count": 4,
                    "nan_count": 0,
                    "min": "2",
                    "max": "8",
                    "histogram": [
                      {
                        "bin_start": 2,
                        "bin_end": 2.6,
                        "count": 1
                      },
                      {
                        "bin_start": 2.6,
                        "bin_end": 3.2,
                        "count": 1
                      },
                      {
                        "bin_start": 3.2,
                        "bin_end": 3.8,
                        "count": 0
                      },
                      {
                        "bin_start": 3.8,
                        "bin_end": 4.4,
                        "count": 2
                      },
                      {
                        "bin_start": 4.4,
                        "bin_end": 5,
                        "count": 0
                      },
                      {
                        "bin_start": 5,
                        "bin_end": 5.6,
                        "count": 0
                      },
                      {
                        "bin_start": 5.6,
                        "bin_end": 6.2,
                        "count": 0
                      },
                      {
                        "bin_start": 6.2,
                        "bin_end": 6.8,
                        "count": 0
                      },
                      {
                        "bin_start": 6.8,
                        "bin_end": 7.3999999999999995,
                        "count": 0
                      },
                      {
                        "bin_start": 7.3999999999999995,
                        "bin_end": 8,
                        "count": 1
                      }
                    ]
                  }
                },
                {
                  "name": "title_pos_num",
                  "dtype": "int64",
                  "stats": {
                    "unique_count": 2,
                    "nan_count": 0,
                    "min": "0",
                    "max": "1",
                    "histogram": [
                      {
                        "bin_start": 0,
                        "bin_end": 0.1,
                        "count": 4
                      },
                      {
                        "bin_start": 0.1,
                        "bin_end": 0.2,
                        "count": 0
                      },
                      {
                        "bin_start": 0.2,
                        "bin_end": 0.30000000000000004,
                        "count": 0
                      },
                      {
                        "bin_start": 0.30000000000000004,
                        "bin_end": 0.4,
                        "count": 0
                      },
                      {
                        "bin_start": 0.4,
                        "bin_end": 0.5,
                        "count": 0
                      },
                      {
                        "bin_start": 0.5,
                        "bin_end": 0.6000000000000001,
                        "count": 0
                      },
                      {
                        "bin_start": 0.6000000000000001,
                        "bin_end": 0.7000000000000001,
                        "count": 0
                      },
                      {
                        "bin_start": 0.7000000000000001,
                        "bin_end": 0.8,
                        "count": 0
                      },
                      {
                        "bin_start": 0.8,
                        "bin_end": 0.9,
                        "count": 0
                      },
                      {
                        "bin_start": 0.9,
                        "bin_end": 1,
                        "count": 1
                      }
                    ]
                  }
                },
                {
                  "name": "title_pos_pron",
                  "dtype": "int64",
                  "stats": {
                    "unique_count": 1,
                    "nan_count": 0,
                    "min": "0",
                    "max": "0",
                    "histogram": [
                      {
                        "bin_start": -0.5,
                        "bin_end": -0.4,
                        "count": 0
                      },
                      {
                        "bin_start": -0.4,
                        "bin_end": -0.3,
                        "count": 0
                      },
                      {
                        "bin_start": -0.3,
                        "bin_end": -0.19999999999999996,
                        "count": 0
                      },
                      {
                        "bin_start": -0.19999999999999996,
                        "bin_end": -0.09999999999999998,
                        "count": 0
                      },
                      {
                        "bin_start": -0.09999999999999998,
                        "bin_end": 0,
                        "count": 0
                      },
                      {
                        "bin_start": 0,
                        "bin_end": 0.10000000000000009,
                        "count": 5
                      },
                      {
                        "bin_start": 0.10000000000000009,
                        "bin_end": 0.20000000000000007,
                        "count": 0
                      },
                      {
                        "bin_start": 0.20000000000000007,
                        "bin_end": 0.30000000000000004,
                        "count": 0
                      },
                      {
                        "bin_start": 0.30000000000000004,
                        "bin_end": 0.4,
                        "count": 0
                      },
                      {
                        "bin_start": 0.4,
                        "bin_end": 0.5,
                        "count": 0
                      }
                    ]
                  }
                },
                {
                  "name": "title_pos_verb",
                  "dtype": "int64",
                  "stats": {
                    "unique_count": 3,
                    "nan_count": 0,
                    "min": "0",
                    "max": "3",
                    "histogram": [
                      {
                        "bin_start": 0,
                        "bin_end": 0.3,
                        "count": 2
                      },
                      {
                        "bin_start": 0.3,
                        "bin_end": 0.6,
                        "count": 0
                      },
                      {
                        "bin_start": 0.6,
                        "bin_end": 0.8999999999999999,
                        "count": 0
                      },
                      {
                        "bin_start": 0.8999999999999999,
                        "bin_end": 1.2,
                        "count": 2
                      },
                      {
                        "bin_start": 1.2,
                        "bin_end": 1.5,
                        "count": 0
                      },
                      {
                        "bin_start": 1.5,
                        "bin_end": 1.7999999999999998,
                        "count": 0
                      },
                      {
                        "bin_start": 1.7999999999999998,
                        "bin_end": 2.1,
                        "count": 0
                      },
                      {
                        "bin_start": 2.1,
                        "bin_end": 2.4,
                        "count": 0
                      },
                      {
                        "bin_start": 2.4,
                        "bin_end": 2.6999999999999997,
                        "count": 0
                      },
                      {
                        "bin_start": 2.6999999999999997,
                        "bin_end": 3,
                        "count": 1
                      }
                    ]
                  }
                },
                {
                  "name": "text_pos_adj",
                  "dtype": "int64",
                  "stats": {
                    "unique_count": 5,
                    "nan_count": 0,
                    "min": "24",
                    "max": "69",
                    "histogram": [
                      {
                        "bin_start": 24,
                        "bin_end": 28.5,
                        "count": 2
                      },
                      {
                        "bin_start": 28.5,
                        "bin_end": 33,
                        "count": 1
                      },
                      {
                        "bin_start": 33,
                        "bin_end": 37.5,
                        "count": 1
                      },
                      {
                        "bin_start": 37.5,
                        "bin_end": 42,
                        "count": 0
                      },
                      {
                        "bin_start": 42,
                        "bin_end": 46.5,
                        "count": 0
                      },
                      {
                        "bin_start": 46.5,
                        "bin_end": 51,
                        "count": 0
                      },
                      {
                        "bin_start": 51,
                        "bin_end": 55.5,
                        "count": 0
                      },
                      {
                        "bin_start": 55.5,
                        "bin_end": 60,
                        "count": 0
                      },
                      {
                        "bin_start": 60,
                        "bin_end": 64.5,
                        "count": 0
                      },
                      {
                        "bin_start": 64.5,
                        "bin_end": 69,
                        "count": 1
                      }
                    ]
                  }
                },
                {
                  "name": "text_pos_adv",
                  "dtype": "int64",
                  "stats": {
                    "unique_count": 5,
                    "nan_count": 0,
                    "min": "2",
                    "max": "15",
                    "histogram": [
                      {
                        "bin_start": 2,
                        "bin_end": 3.3,
                        "count": 1
                      },
                      {
                        "bin_start": 3.3,
                        "bin_end": 4.6,
                        "count": 0
                      },
                      {
                        "bin_start": 4.6,
                        "bin_end": 5.9,
                        "count": 0
                      },
                      {
                        "bin_start": 5.9,
                        "bin_end": 7.2,
                        "count": 0
                      },
                      {
                        "bin_start": 7.2,
                        "bin_end": 8.5,
                        "count": 0
                      },
                      {
                        "bin_start": 8.5,
                        "bin_end": 9.8,
                        "count": 0
                      },
                      {
                        "bin_start": 9.8,
                        "bin_end": 11.1,
                        "count": 2
                      },
                      {
                        "bin_start": 11.1,
                        "bin_end": 12.4,
                        "count": 1
                      },
                      {
                        "bin_start": 12.4,
                        "bin_end": 13.700000000000001,
                        "count": 0
                      },
                      {
                        "bin_start": 13.700000000000001,
                        "bin_end": 15,
                        "count": 1
                      }
                    ]
                  }
                },
                {
                  "name": "text_pos_noun",
                  "dtype": "int64",
                  "stats": {
                    "unique_count": 5,
                    "nan_count": 0,
                    "min": "48",
                    "max": "186",
                    "histogram": [
                      {
                        "bin_start": 48,
                        "bin_end": 61.8,
                        "count": 1
                      },
                      {
                        "bin_start": 61.8,
                        "bin_end": 75.6,
                        "count": 0
                      },
                      {
                        "bin_start": 75.6,
                        "bin_end": 89.4,
                        "count": 1
                      },
                      {
                        "bin_start": 89.4,
                        "bin_end": 103.2,
                        "count": 1
                      },
                      {
                        "bin_start": 103.2,
                        "bin_end": 117,
                        "count": 0
                      },
                      {
                        "bin_start": 117,
                        "bin_end": 130.8,
                        "count": 1
                      },
                      {
                        "bin_start": 130.8,
                        "bin_end": 144.60000000000002,
                        "count": 0
                      },
                      {
                        "bin_start": 144.60000000000002,
                        "bin_end": 158.4,
                        "count": 0
                      },
                      {
                        "bin_start": 158.4,
                        "bin_end": 172.2,
                        "count": 0
                      },
                      {
                        "bin_start": 172.2,
                        "bin_end": 186,
                        "count": 1
                      }
                    ]
                  }
                },
                {
                  "name": "text_pos_num",
                  "dtype": "int64",
                  "stats": {
                    "unique_count": 4,
                    "nan_count": 0,
                    "min": "0",
                    "max": "15",
                    "histogram": [
                      {
                        "bin_start": 0,
                        "bin_end": 1.5,
                        "count": 3
                      },
                      {
                        "bin_start": 1.5,
                        "bin_end": 3,
                        "count": 0
                      },
                      {
                        "bin_start": 3,
                        "bin_end": 4.5,
                        "count": 0
                      },
                      {
                        "bin_start": 4.5,
                        "bin_end": 6,
                        "count": 0
                      },
                      {
                        "bin_start": 6,
                        "bin_end": 7.5,
                        "count": 0
                      },
                      {
                        "bin_start": 7.5,
                        "bin_end": 9,
                        "count": 0
                      },
                      {
                        "bin_start": 9,
                        "bin_end": 10.5,
                        "count": 1
                      },
                      {
                        "bin_start": 10.5,
                        "bin_end": 12,
                        "count": 0
                      },
                      {
                        "bin_start": 12,
                        "bin_end": 13.5,
                        "count": 0
                      },
                      {
                        "bin_start": 13.5,
                        "bin_end": 15,
                        "count": 1
                      }
                    ]
                  }
                },
                {
                  "name": "text_pos_pron",
                  "dtype": "int64",
                  "stats": {
                    "unique_count": 3,
                    "nan_count": 0,
                    "min": "0",
                    "max": "2",
                    "histogram": [
                      {
                        "bin_start": 0,
                        "bin_end": 0.2,
                        "count": 1
                      },
                      {
                        "bin_start": 0.2,
                        "bin_end": 0.4,
                        "count": 0
                      },
                      {
                        "bin_start": 0.4,
                        "bin_end": 0.6000000000000001,
                        "count": 0
                      },
                      {
                        "bin_start": 0.6000000000000001,
                        "bin_end": 0.8,
                        "count": 0
                      },
                      {
                        "bin_start": 0.8,
                        "bin_end": 1,
                        "count": 0
                      },
                      {
                        "bin_start": 1,
                        "bin_end": 1.2000000000000002,
                        "count": 3
                      },
                      {
                        "bin_start": 1.2000000000000002,
                        "bin_end": 1.4000000000000001,
                        "count": 0
                      },
                      {
                        "bin_start": 1.4000000000000001,
                        "bin_end": 1.6,
                        "count": 0
                      },
                      {
                        "bin_start": 1.6,
                        "bin_end": 1.8,
                        "count": 0
                      },
                      {
                        "bin_start": 1.8,
                        "bin_end": 2,
                        "count": 1
                      }
                    ]
                  }
                },
                {
                  "name": "text_pos_verb",
                  "dtype": "int64",
                  "stats": {
                    "unique_count": 5,
                    "nan_count": 0,
                    "min": "12",
                    "max": "65",
                    "histogram": [
                      {
                        "bin_start": 12,
                        "bin_end": 17.3,
                        "count": 2
                      },
                      {
                        "bin_start": 17.3,
                        "bin_end": 22.6,
                        "count": 0
                      },
                      {
                        "bin_start": 22.6,
                        "bin_end": 27.9,
                        "count": 1
                      },
                      {
                        "bin_start": 27.9,
                        "bin_end": 33.2,
                        "count": 1
                      },
                      {
                        "bin_start": 33.2,
                        "bin_end": 38.5,
                        "count": 0
                      },
                      {
                        "bin_start": 38.5,
                        "bin_end": 43.8,
                        "count": 0
                      },
                      {
                        "bin_start": 43.8,
                        "bin_end": 49.1,
                        "count": 0
                      },
                      {
                        "bin_start": 49.1,
                        "bin_end": 54.4,
                        "count": 0
                      },
                      {
                        "bin_start": 54.4,
                        "bin_end": 59.699999999999996,
                        "count": 0
                      },
                      {
                        "bin_start": 59.699999999999996,
                        "bin_end": 65,
                        "count": 1
                      }
                    ]
                  }
                },
                {
                  "name": "_deepnote_index_column",
                  "dtype": "int64"
                }
              ],
              "rows": [
                {
                  "title": "['trump', 'right', 'fund', 'hundred', 'billion']",
                  "text": "['senator', 'cotton', 'come', 'agreement', 'trump', 'last', 'week', 'role', 'disagree', 'solution', 'great', 'idea', 'time', 'bring', 'forefront', 'senator', 'cotton', 'role', 'sen', 'cotton', 'discuss', 'participation', 'meeting', 'trump', 'week', 'remark', 'republican', 'presidential', 'similar', 'concern', 'come', 'united', 'state', 'role', 'north', 'atlantic', 'treaty', 'organization', 'know', 'speak', 'day', 'post', 'editorial', 'board', 'raise', 'serious', 'question', 'share', 'question', 'cotton', 'say', 'interview', 'morning', 'joe', 'use', 'split', 'cost', 'today', 'read', 'interview', 'post', 'editorial', 'board', 'trump', 'make', 'accurate', 'statement', 'subsidization', 'fellow', 'look', 'see', 'good', 'thing', 'look', 'situation', 'say', 'country', 'affect', 'us', 'far', 'less', 'affect', 'country', 'yet', 'lifting', 'anything', 'say', 'deal', 'country', 'vicinity', 'deal', 'always', 'one', 'lead', 'potentially', 'third', 'world', 'war', 'russia', 'always', 'one', 'think'…",
                  "subject": "politics",
                  "date": "Mar 26, 2016",
                  "label": 0,
                  "label_meaning": "False",
                  "title_polarity_score": 0.2857142857142857,
                  "text_polarity_score": 0.1069444444444444,
                  "title_char_len": 48,
                  "title_word_len": 5,
                  "text_char_len": 2197,
                  "text_word_len": 222,
                  "title_pos_adj": 0,
                  "title_pos_adv": 1,
                  "title_pos_noun": 2,
                  "title_pos_num": 1,
                  "title_pos_pron": 0,
                  "title_pos_verb": 1,
                  "text_pos_adj": 37,
                  "text_pos_adv": 10,
                  "text_pos_noun": 117,
                  "text_pos_num": 15,
                  "text_pos_pron": 2,
                  "text_pos_verb": 33,
                  "_deepnote_index_column": 0
                },
                {
                  "title": "['hard', 'knock', 'life', 'rough', 'sleeper']",
                  "text": "['outside', 'piccadilly', 'theater', 'ticket', 'cost', 'pound', 'banner', 'advertise', 'musical', 'read', 'hard', 'knock', 'life', 'sleep', 'small', 'tent', 'street', 'among', 'almost', 'people', 'sleep', 'rough', 'capital', 'accord', 'official', 'figure', 'street', 'across', 'country', 'every', 'night', 'last', 'year', 'nearly', 'die', 'pneumonia', 'become', 'homeless', 'personal', 'problem', 'lead', 'drink', 'drug', 'bad', 'use', 'right', 'think', 'lot', 'thing', 'say', 'way', 'people', 'everything', 'go', 'cost', 'stuff', 'service', 'care', 'humanity', 'go', 'wide', 'agreement', 'problem', 'become', 'worse', 'last', 'seven', 'year', 'lead', 'criticism', 'conservative', 'government', 'approach', 'accusation', 'austerity', 'policy', 'include', 'change', 'welfare', 'payment', 'housing', 'partly', 'blame', 'report', 'week', 'parliament', 'public', 'account', 'committee', 'pac', 'call', 'extent', 'homelessness', 'across', 'national', 'crisis', 'late', 'official', 'figure', 'hammer', 'ho…",
                  "subject": "worldnews",
                  "date": "December 21, 2017 ",
                  "label": 1,
                  "label_meaning": "True",
                  "title_polarity_score": -0.1958333333333333,
                  "text_polarity_score": -0.0494992129083038,
                  "title_char_len": 45,
                  "title_word_len": 5,
                  "text_char_len": 3547,
                  "text_word_len": 362,
                  "title_pos_adj": 1,
                  "title_pos_adv": 0,
                  "title_pos_noun": 3,
                  "title_pos_num": 0,
                  "title_pos_pron": 0,
                  "title_pos_verb": 0,
                  "text_pos_adj": 69,
                  "text_pos_adv": 15,
                  "text_pos_noun": 186,
                  "text_pos_num": 9,
                  "text_pos_pron": 1,
                  "text_pos_verb": 65,
                  "_deepnote_index_column": 1
                },
                {
                  "title": "['powerful', 'men', 'read', 'hate', 'tweet', 'female', 'sport', 'writer', 'say', 'sicken', 'video']",
                  "text": "['powerful', 'new', 'web', 'video', 'female', 'sport', 'writer', 'hateful', 'tweet', 'direct', 'way', 'read', 'male', 'sport', 'fan', 'ad', 'design', 'highlight', 'line', 'harassment', 'become', 'woman', 'often', 'video', 'feature', 'sport', 'writer', 'columnist', 'appear', 'radio', 'network', 'premiere', 'program', 'write', 'length', 'sexual', 'assault', 'allegation', 'peyton', 'man', 'point', 'year', 'story', 'treat', 'glove', 'anchor', 'sport', 'talk', 'station', 'write', 'rape', 'allegation', 'player', 'work', 'simply', 'woman', 'sport', 'medium', 'regularly', 'face', 'dehumanize', 'threaten', 'comment', 'men', 'sport', 'work', 'writer', 'produce', 'video', 'highlight', 'problem', 'often', 'dismiss', 'casual', 'criticism', 'video', 'show', 'actually', 'much', 'sick', 'hope', 'open', 'guy', 'eye', 'open', 'mouth', 'video', 'show', 'happen', 'real', 'sport', 'fan', 'read', 'real', 'comment', 'make', 'woman', 'sport', 'reporter', 'right', 'read', 'statement', 'loud', 'woman', 'journa…",
                  "subject": "News",
                  "date": "April 26, 2016",
                  "label": 0,
                  "label_meaning": "False",
                  "title_polarity_score": -0.1666666666666666,
                  "text_polarity_score": 0.0591012162440733,
                  "title_char_len": 99,
                  "title_word_len": 11,
                  "text_char_len": 1452,
                  "text_word_len": 154,
                  "title_pos_adj": 4,
                  "title_pos_adv": 0,
                  "title_pos_noun": 4,
                  "title_pos_num": 0,
                  "title_pos_pron": 0,
                  "title_pos_verb": 3,
                  "text_pos_adj": 28,
                  "text_pos_adv": 11,
                  "text_pos_noun": 96,
                  "text_pos_num": 0,
                  "text_pos_pron": 0,
                  "text_pos_verb": 17,
                  "_deepnote_index_column": 2
                },
                {
                  "title": "['stand', 'cheer', 'party', 'leader', 'slam', 'eu', 'invasion', 'phony', 'refugee', 'video']",
                  "text": "['version', 'outspoken', 'ted', 'time', 'leader', 'independence', 'party', 'may', 'member', 'plow', 'ahead', 'open', 'sneer', 'insult', 'fellow', 'member', 'eu', 'must', 'count', 'perhaps', 'bad', 'piece', 'public', 'policy', 'see', 'modern', 'half', 'century', 'compound', 'already', 'failing', 'flaw', 'eu', 'common', 'asylum', 'policy', 'say', 'whole', 'world', 'please', 'come', 'saw', 'frankly', 'virtually', 'stampede', 'learn', 'come', 'refugee', 'fact', 'open', 'door', 'young', 'male', 'economic', 'migrant', 'many', 'say', 'behave', 'quite', 'rather', 'aggressive', 'manner', 'quite', 'opposite', 'would', 'expect', 'see', 'refugee', 'yet', 'failure', 'meet', 'objection', 'country', 'like', 'opinion', 'crush', 'peace', 'division', 'disharmony', 'recipe', 'resentment', 'yet', 'face', 'failure', 'say', 'thing', 'today', 'say', 'work', 'let', 'failing', 'well', 'think', 'bright', 'star', 'horizon', 'call', 'referendum', 'give', 'none', 'want', 'concede', 'ability', 'take', 'back', 'con…",
                  "subject": "politics",
                  "date": "Mar 8, 2016",
                  "label": 0,
                  "label_meaning": "False",
                  "title_polarity_score": 0,
                  "text_polarity_score": 0.0055555555555555,
                  "title_char_len": 92,
                  "title_word_len": 10,
                  "text_char_len": 1069,
                  "text_word_len": 113,
                  "title_pos_adj": 1,
                  "title_pos_adv": 0,
                  "title_pos_noun": 8,
                  "title_pos_num": 0,
                  "title_pos_pron": 0,
                  "title_pos_verb": 1,
                  "text_pos_adj": 24,
                  "text_pos_adv": 12,
                  "text_pos_noun": 48,
                  "text_pos_num": 0,
                  "text_pos_pron": 1,
                  "text_pos_verb": 26,
                  "_deepnote_index_column": 3
                },
                {
                  "title": "['observatory', 'state', 'capture', 'town', 'government']",
                  "text": "['observatory', 'human', 'right', 'report', 'state', 'fighter', 'capture', 'town', 'province', 'government', 'force', 'part', 'counterattack', 'come', 'intense', 'pressure', 'eastern', 'comment', 'army', 'report', 'town', 'fall', 'town', 'locate', 'mile', 'city', 'current', 'focus', 'government', 'campaign', 'state', 'government', 'force', 'allied', 'militia', 'recover', 'state', 'six', 'month', 'ago', 'observatory', 'say', 'capture', 'surprise', 'attack', 'launch', 'fighter', 'infiltrate', 'town', 'state', 'lose', 'swathe', 'territory', 'government', 'militia', 'wag', 'separate', 'campaign', 'group', 'last', 'major', 'stronghold', 'province', 'eastern', 'state', 'fighter', 'last', 'week', 'counterattack', 'government', 'force', 'ally', 'militia', 'along', 'highway', 'connect', 'city', 'palmyra', 'central', 'temporarily', 'render', 'road', 'impassable', 'leader', 'whose', 'group', 'fight', 'support', 'government', 'say', 'state', 'counterattack', 'expect', 'besiege', 'incapable', 'rec…",
                  "subject": "worldnews",
                  "date": "October 1, 2017 ",
                  "label": 1,
                  "label_meaning": "True",
                  "title_polarity_score": 0,
                  "text_polarity_score": 0.0558982683982684,
                  "title_char_len": 57,
                  "title_word_len": 5,
                  "text_char_len": 1347,
                  "text_word_len": 131,
                  "title_pos_adj": 1,
                  "title_pos_adv": 0,
                  "title_pos_noun": 4,
                  "title_pos_num": 0,
                  "title_pos_pron": 0,
                  "title_pos_verb": 0,
                  "text_pos_adj": 30,
                  "text_pos_adv": 2,
                  "text_pos_noun": 82,
                  "text_pos_num": 1,
                  "text_pos_pron": 1,
                  "text_pos_verb": 12,
                  "_deepnote_index_column": 4
                }
              ]
            },
            "text/plain": "                                               title  \\\n0   ['trump', 'right', 'fund', 'hundred', 'billion']   \n1      ['hard', 'knock', 'life', 'rough', 'sleeper']   \n2  ['powerful', 'men', 'read', 'hate', 'tweet', '...   \n3  ['stand', 'cheer', 'party', 'leader', 'slam', ...   \n4  ['observatory', 'state', 'capture', 'town', 'g...   \n\n                                                text    subject  \\\n0  ['senator', 'cotton', 'come', 'agreement', 'tr...   politics   \n1  ['outside', 'piccadilly', 'theater', 'ticket',...  worldnews   \n2  ['powerful', 'new', 'web', 'video', 'female', ...       News   \n3  ['version', 'outspoken', 'ted', 'time', 'leade...   politics   \n4  ['observatory', 'human', 'right', 'report', 's...  worldnews   \n\n                 date  label  label_meaning  title_polarity_score  \\\n0        Mar 26, 2016      0          False              0.285714   \n1  December 21, 2017       1           True             -0.195833   \n2      April 26, 2016      0          False             -0.166667   \n3         Mar 8, 2016      0          False              0.000000   \n4    October 1, 2017       1           True              0.000000   \n\n   text_polarity_score  title_char_len  title_word_len  ...  title_pos_noun  \\\n0             0.106944              48               5  ...               2   \n1            -0.049499              45               5  ...               3   \n2             0.059101              99              11  ...               4   \n3             0.005556              92              10  ...               8   \n4             0.055898              57               5  ...               4   \n\n   title_pos_num  title_pos_pron  title_pos_verb  text_pos_adj  text_pos_adv  \\\n0              1               0               1            37            10   \n1              0               0               0            69            15   \n2              0               0               3            28            11   \n3              0               0               1            24            12   \n4              0               0               0            30             2   \n\n   text_pos_noun  text_pos_num  text_pos_pron  text_pos_verb  \n0            117            15              2             33  \n1            186             9              1             65  \n2             96             0              0             17  \n3             48             0              1             26  \n4             82             1              1             12  \n\n[5 rows x 24 columns]",
            "text/html": "<div>\n<style scoped>\n    .dataframe tbody tr th:only-of-type {\n        vertical-align: middle;\n    }\n\n    .dataframe tbody tr th {\n        vertical-align: top;\n    }\n\n    .dataframe thead th {\n        text-align: right;\n    }\n</style>\n<table border=\"1\" class=\"dataframe\">\n  <thead>\n    <tr style=\"text-align: right;\">\n      <th></th>\n      <th>title</th>\n      <th>text</th>\n      <th>subject</th>\n      <th>date</th>\n      <th>label</th>\n      <th>label_meaning</th>\n      <th>title_polarity_score</th>\n      <th>text_polarity_score</th>\n      <th>title_char_len</th>\n      <th>title_word_len</th>\n      <th>...</th>\n      <th>title_pos_noun</th>\n      <th>title_pos_num</th>\n      <th>title_pos_pron</th>\n      <th>title_pos_verb</th>\n      <th>text_pos_adj</th>\n      <th>text_pos_adv</th>\n      <th>text_pos_noun</th>\n      <th>text_pos_num</th>\n      <th>text_pos_pron</th>\n      <th>text_pos_verb</th>\n    </tr>\n  </thead>\n  <tbody>\n    <tr>\n      <th>0</th>\n      <td>['trump', 'right', 'fund', 'hundred', 'billion']</td>\n      <td>['senator', 'cotton', 'come', 'agreement', 'tr...</td>\n      <td>politics</td>\n      <td>Mar 26, 2016</td>\n      <td>0</td>\n      <td>False</td>\n      <td>0.285714</td>\n      <td>0.106944</td>\n      <td>48</td>\n      <td>5</td>\n      <td>...</td>\n      <td>2</td>\n      <td>1</td>\n      <td>0</td>\n      <td>1</td>\n      <td>37</td>\n      <td>10</td>\n      <td>117</td>\n      <td>15</td>\n      <td>2</td>\n      <td>33</td>\n    </tr>\n    <tr>\n      <th>1</th>\n      <td>['hard', 'knock', 'life', 'rough', 'sleeper']</td>\n      <td>['outside', 'piccadilly', 'theater', 'ticket',...</td>\n      <td>worldnews</td>\n      <td>December 21, 2017</td>\n      <td>1</td>\n      <td>True</td>\n      <td>-0.195833</td>\n      <td>-0.049499</td>\n      <td>45</td>\n      <td>5</td>\n      <td>...</td>\n      <td>3</td>\n      <td>0</td>\n      <td>0</td>\n      <td>0</td>\n      <td>69</td>\n      <td>15</td>\n      <td>186</td>\n      <td>9</td>\n      <td>1</td>\n      <td>65</td>\n    </tr>\n    <tr>\n      <th>2</th>\n      <td>['powerful', 'men', 'read', 'hate', 'tweet', '...</td>\n      <td>['powerful', 'new', 'web', 'video', 'female', ...</td>\n      <td>News</td>\n      <td>April 26, 2016</td>\n      <td>0</td>\n      <td>False</td>\n      <td>-0.166667</td>\n      <td>0.059101</td>\n      <td>99</td>\n      <td>11</td>\n      <td>...</td>\n      <td>4</td>\n      <td>0</td>\n      <td>0</td>\n      <td>3</td>\n      <td>28</td>\n      <td>11</td>\n      <td>96</td>\n      <td>0</td>\n      <td>0</td>\n      <td>17</td>\n    </tr>\n    <tr>\n      <th>3</th>\n      <td>['stand', 'cheer', 'party', 'leader', 'slam', ...</td>\n      <td>['version', 'outspoken', 'ted', 'time', 'leade...</td>\n      <td>politics</td>\n      <td>Mar 8, 2016</td>\n      <td>0</td>\n      <td>False</td>\n      <td>0.000000</td>\n      <td>0.005556</td>\n      <td>92</td>\n      <td>10</td>\n      <td>...</td>\n      <td>8</td>\n      <td>0</td>\n      <td>0</td>\n      <td>1</td>\n      <td>24</td>\n      <td>12</td>\n      <td>48</td>\n      <td>0</td>\n      <td>1</td>\n      <td>26</td>\n    </tr>\n    <tr>\n      <th>4</th>\n      <td>['observatory', 'state', 'capture', 'town', 'g...</td>\n      <td>['observatory', 'human', 'right', 'report', 's...</td>\n      <td>worldnews</td>\n      <td>October 1, 2017</td>\n      <td>1</td>\n      <td>True</td>\n      <td>0.000000</td>\n      <td>0.055898</td>\n      <td>57</td>\n      <td>5</td>\n      <td>...</td>\n      <td>4</td>\n      <td>0</td>\n      <td>0</td>\n      <td>0</td>\n      <td>30</td>\n      <td>2</td>\n      <td>82</td>\n      <td>1</td>\n      <td>1</td>\n      <td>12</td>\n    </tr>\n  </tbody>\n</table>\n<p>5 rows × 24 columns</p>\n</div>"
          },
          "metadata": {}
        }
      ],
      "outputs_reference": null,
      "execution_count": null,
      "block_group": "2fbd5a1b163b4be28b2addb6345515b3",
      "content_dependencies": null
    },
    {
      "cell_type": "markdown",
      "source": "# Model training\nModel 1: Decision Tree using K-Fold cross-validation",
      "metadata": {
        "formattedRanges": [],
        "cell_id": "dcd88883ceb347d09401ed1150a906eb",
        "deepnote_cell_type": "text-cell-h1"
      },
      "block_group": "c50a26cdf48c4c21a71d3dd17f1eaf16"
    },
    {
      "cell_type": "markdown",
      "source": ">  K-fold cross-validation is a specific type of cross-validation where the data is divided into k subsets of equal size. In k-fold cross-validation, the dataset is first divided into k equally sized subsets. Then, we repeat the train-test method k times so each time one of the k subsets is used as a test set and the rest k-1 subsets are used together as a training set.  The performance metrics are then averaged over the k iterations.",
      "metadata": {
        "formattedRanges": [],
        "cell_id": "b9a3210ac50c46ecb77fd2a8f1c2dc85",
        "deepnote_cell_type": "text-cell-callout"
      },
      "block_group": "f8a0ab857b334ba19dfc7354ed096e34"
    },
    {
      "cell_type": "markdown",
      "source": "There is another method of cross-validation known as leave-one-out cross-validation, which only uses one data point in the subset as the test set and the other data points as the training set. However, it is more computationally expensive due to using more training samples in each iteration. Moreover, it is more suitable for smaller datasets. So we used K-Fold.",
      "metadata": {
        "formattedRanges": [],
        "cell_id": "3a7f6117d6324878966a0a9c887be65c",
        "deepnote_cell_type": "text-cell-p"
      },
      "block_group": "5127a6425faf41908b8519196e8debbf"
    },
    {
      "cell_type": "markdown",
      "source": "## Finding out what variables are the most impactful",
      "metadata": {
        "formattedRanges": [],
        "cell_id": "63a504fe7f044ae0827e801d11df9724",
        "deepnote_cell_type": "text-cell-h2"
      },
      "block_group": "0c90a9b61e4a4376b9b113146b51bcda"
    },
    {
      "cell_type": "code",
      "source": "def auto_kfold_decision_tree(variables):\n    # Init list to record scores\n    scores = {}\n    \n    # Response\n    news_res = news_data['label_meaning']\n    \n    # Train for every variable\n    for variable in variables:\n        if variable.dtype == np.dtype('int64'):\n            # Numeric variable\n            news_cat = pd.DataFrame(variable)\n            newsdata_ohe = pd.concat([news_cat, news_res], sort = False, axis = 1).reindex(index=news_cat.index)\n        elif variable.dtype == np.dtype('object'):\n            # Categorical variables\n            # Import the encoder from sklearn\n            ohe = OneHotEncoder()\n            # OneHotEncoding of categorical predictors (not the response)\n            news_cat = pd.DataFrame(variable)\n\n            ohe.fit(news_cat)\n            news_cat_ohe = pd.DataFrame(ohe.transform(news_cat).toarray(), columns=ohe.get_feature_names(news_cat.columns))\n            \n            newsdata_ohe = pd.concat([news_cat_ohe, news_res], sort = False, axis = 1).reindex(index=news_cat_ohe.index)\n\n        # Extract Response and Predictors\n        y = pd.DataFrame(newsdata_ohe['label_meaning'])\n        X = pd.DataFrame(newsdata_ohe.drop('label_meaning', axis = 1))\n\n        # Split the Dataset into Train and Test\n        X_train, X_test, y_train, y_test = train_test_split(X, y, test_size = 0.3)\n\n        # Decision Tree using Train Data\n        dectree = DecisionTreeClassifier(max_depth = 4)  # change max_depth to experiment\n\n        skf = StratifiedKFold(n_splits=5, shuffle=True, random_state=17)\n        cv_results = cross_val_score(dectree, X_train, y_train['label_meaning'], cv=skf)\n\n        # Record score\n        scores[variable.name] = cv_results\n        \n    return scores",
      "metadata": {
        "source_hash": null,
        "execution_start": 1713318304103,
        "execution_millis": 79,
        "deepnote_to_be_reexecuted": false,
        "cell_id": "f09ea1d5e45a49acbbcd35c91dc0b4aa",
        "deepnote_cell_type": "code"
      },
      "outputs": [],
      "outputs_reference": null,
      "execution_count": null,
      "block_group": "bdd46f929433477ea83cc3e850f97e22",
      "content_dependencies": null
    },
    {
      "cell_type": "code",
      "source": "variables = [news_data['title_char_len'], \n             news_data['text_char_len'], \n             news_data['title_word_len'], \n             news_data['text_word_len'], \n             news_data['title_polarity_score'], \n             news_data['text_polarity_score'], \n             news_data['title_pos_adj'], \n             news_data['title_pos_adv'], \n             news_data['title_pos_noun'], \n             news_data['title_pos_num'], \n             news_data['title_pos_pron'], \n             news_data['title_pos_verb'], \n             news_data['text_pos_adj'], \n             news_data['text_pos_adv'], \n             news_data['text_pos_noun'], \n             news_data['text_pos_num'], \n             news_data['text_pos_pron'], \n             news_data['text_pos_verb']\n            ]\n\nscores = auto_kfold_decision_tree(variables)\n\n\nfor key, value in sorted(scores.items(), key=lambda x: x[1].mean(), reverse=True):\n    print(f\"Predictor: {key}, score: {value.mean():.2f}\")",
      "metadata": {
        "source_hash": null,
        "execution_start": 1713318308212,
        "execution_millis": 1113,
        "deepnote_to_be_reexecuted": false,
        "cell_id": "71e3f2485fc5421888b8907762bc61c7",
        "deepnote_cell_type": "code"
      },
      "outputs": [
        {
          "name": "stdout",
          "text": "Predictor: title_word_len, score: 0.69\nPredictor: title_char_len, score: 0.67\nPredictor: text_pos_noun, score: 0.64\nPredictor: title_polarity_score, score: 0.63\nPredictor: text_char_len, score: 0.63\nPredictor: title_pos_noun, score: 0.62\nPredictor: text_polarity_score, score: 0.62\nPredictor: text_pos_adj, score: 0.62\nPredictor: text_word_len, score: 0.62\nPredictor: text_pos_verb, score: 0.61\nPredictor: text_pos_adv, score: 0.60\nPredictor: title_pos_adj, score: 0.58\nPredictor: title_pos_verb, score: 0.57\nPredictor: text_pos_pron, score: 0.56\nPredictor: title_pos_adv, score: 0.55\nPredictor: text_pos_num, score: 0.54\nPredictor: title_pos_pron, score: 0.52\nPredictor: title_pos_num, score: 0.52\n",
          "output_type": "stream"
        }
      ],
      "outputs_reference": null,
      "execution_count": null,
      "block_group": "db9a7bbe089b46fcb443fcfa8a8a486f",
      "content_dependencies": null
    },
    {
      "cell_type": "markdown",
      "source": "Top predictors are  title_word_len , title_char_len ,  text_pos_noun , title_polarity_score ,  text_char_len",
      "metadata": {
        "formattedRanges": [],
        "cell_id": "4772ce36d9f140c9a6dd68c71a9b9401",
        "deepnote_cell_type": "text-cell-p"
      },
      "block_group": "7162425c9ace46d0a1938221dcec0427"
    },
    {
      "cell_type": "markdown",
      "source": "## Training with top predictors",
      "metadata": {
        "formattedRanges": [],
        "cell_id": "7a97fba27b294b228b9537123f506e67",
        "deepnote_cell_type": "text-cell-h2"
      },
      "block_group": "4c08284cb66443cca6266c300656f945"
    },
    {
      "cell_type": "code",
      "source": "news_num = news_data[['title_word_len','title_char_len','text_pos_noun','text_polarity_score','text_char_len', 'title_pos_noun', 'text_polarity_score', 'text_pos_adj', 'text_word_len', 'text_pos_verb']]\nnews_res = news_data['label_meaning']\nnews_final = pd.concat([news_num,news_res],sort=False,axis=1).reindex(index=news_num.index)\n# Check the final dataframe\nnews_final.info()",
      "metadata": {
        "source_hash": null,
        "execution_start": 1713319389550,
        "execution_millis": 18,
        "deepnote_to_be_reexecuted": false,
        "cell_id": "f03312d128044ed9b7d560af18da7c86",
        "deepnote_cell_type": "code"
      },
      "outputs": [
        {
          "name": "stdout",
          "text": "<class 'pandas.core.frame.DataFrame'>\nRangeIndex: 44898 entries, 0 to 44897\nData columns (total 11 columns):\n #   Column               Non-Null Count  Dtype  \n---  ------               --------------  -----  \n 0   title_word_len       44898 non-null  int64  \n 1   title_char_len       44898 non-null  int64  \n 2   text_pos_noun        44898 non-null  int64  \n 3   text_polarity_score  44898 non-null  float64\n 4   text_char_len        44898 non-null  int64  \n 5   title_pos_noun       44898 non-null  int64  \n 6   text_polarity_score  44898 non-null  float64\n 7   text_pos_adj         44898 non-null  int64  \n 8   text_word_len        44898 non-null  int64  \n 9   text_pos_verb        44898 non-null  int64  \n 10  label_meaning        44898 non-null  bool   \ndtypes: bool(1), float64(2), int64(8)\nmemory usage: 3.5 MB\n",
          "output_type": "stream"
        }
      ],
      "outputs_reference": null,
      "execution_count": null,
      "block_group": "c1e21b2fb15f4145be9f9ab0f9b00776",
      "content_dependencies": null
    },
    {
      "cell_type": "markdown",
      "source": "## Create and fit model using decision tree",
      "metadata": {
        "formattedRanges": [],
        "cell_id": "b567a31d10204efa9a7c3b5e0e2be52e",
        "deepnote_cell_type": "text-cell-h2"
      },
      "block_group": "c22adde4b5d6481db1cce7650fa08f07"
    },
    {
      "cell_type": "code",
      "source": "# Extract Response and Predictors\ny = pd.DataFrame(news_final['label_meaning'])\nX = pd.DataFrame(news_final.drop('label_meaning', axis = 1))\n\n# Split the Dataset into Train and Test\nX_train, X_test, y_train, y_test = train_test_split(X, y, test_size = 0.3, random_state=2824)\n\n# Decision Tree using Train Data\ndectree = DecisionTreeClassifier(max_depth = 4)  # change max_depth to experiment\n\nX_train.head()",
      "metadata": {
        "source_hash": null,
        "execution_start": 1713319395567,
        "execution_millis": 137,
        "deepnote_to_be_reexecuted": false,
        "cell_id": "5cdb42bcecee4a67883e8e6ea7782007",
        "deepnote_cell_type": "code"
      },
      "outputs": [
        {
          "output_type": "execute_result",
          "execution_count": 16,
          "data": {
            "application/vnd.deepnote.dataframe.v3+json": {
              "column_count": 10,
              "row_count": 5,
              "columns": [
                {
                  "name": "title_word_len",
                  "dtype": "int64",
                  "stats": {
                    "unique_count": 4,
                    "nan_count": 0,
                    "min": "5",
                    "max": "12",
                    "histogram": [
                      {
                        "bin_start": 5,
                        "bin_end": 5.7,
                        "count": 1
                      },
                      {
                        "bin_start": 5.7,
                        "bin_end": 6.4,
                        "count": 2
                      },
                      {
                        "bin_start": 6.4,
                        "bin_end": 7.1,
                        "count": 1
                      },
                      {
                        "bin_start": 7.1,
                        "bin_end": 7.8,
                        "count": 0
                      },
                      {
                        "bin_start": 7.8,
                        "bin_end": 8.5,
                        "count": 0
                      },
                      {
                        "bin_start": 8.5,
                        "bin_end": 9.2,
                        "count": 0
                      },
                      {
                        "bin_start": 9.2,
                        "bin_end": 9.899999999999999,
                        "count": 0
                      },
                      {
                        "bin_start": 9.899999999999999,
                        "bin_end": 10.6,
                        "count": 0
                      },
                      {
                        "bin_start": 10.6,
                        "bin_end": 11.3,
                        "count": 0
                      },
                      {
                        "bin_start": 11.3,
                        "bin_end": 12,
                        "count": 1
                      }
                    ]
                  }
                },
                {
                  "name": "title_char_len",
                  "dtype": "int64",
                  "stats": {
                    "unique_count": 5,
                    "nan_count": 0,
                    "min": "49",
                    "max": "111",
                    "histogram": [
                      {
                        "bin_start": 49,
                        "bin_end": 55.2,
                        "count": 2
                      },
                      {
                        "bin_start": 55.2,
                        "bin_end": 61.4,
                        "count": 1
                      },
                      {
                        "bin_start": 61.4,
                        "bin_end": 67.6,
                        "count": 1
                      },
                      {
                        "bin_start": 67.6,
                        "bin_end": 73.8,
                        "count": 0
                      },
                      {
                        "bin_start": 73.8,
                        "bin_end": 80,
                        "count": 0
                      },
                      {
                        "bin_start": 80,
                        "bin_end": 86.2,
                        "count": 0
                      },
                      {
                        "bin_start": 86.2,
                        "bin_end": 92.4,
                        "count": 0
                      },
                      {
                        "bin_start": 92.4,
                        "bin_end": 98.6,
                        "count": 0
                      },
                      {
                        "bin_start": 98.6,
                        "bin_end": 104.80000000000001,
                        "count": 0
                      },
                      {
                        "bin_start": 104.80000000000001,
                        "bin_end": 111,
                        "count": 1
                      }
                    ]
                  }
                },
                {
                  "name": "text_pos_noun",
                  "dtype": "int64",
                  "stats": {
                    "unique_count": 5,
                    "nan_count": 0,
                    "min": "16",
                    "max": "129",
                    "histogram": [
                      {
                        "bin_start": 16,
                        "bin_end": 27.3,
                        "count": 1
                      },
                      {
                        "bin_start": 27.3,
                        "bin_end": 38.6,
                        "count": 0
                      },
                      {
                        "bin_start": 38.6,
                        "bin_end": 49.900000000000006,
                        "count": 0
                      },
                      {
                        "bin_start": 49.900000000000006,
                        "bin_end": 61.2,
                        "count": 0
                      },
                      {
                        "bin_start": 61.2,
                        "bin_end": 72.5,
                        "count": 0
                      },
                      {
                        "bin_start": 72.5,
                        "bin_end": 83.80000000000001,
                        "count": 0
                      },
                      {
                        "bin_start": 83.80000000000001,
                        "bin_end": 95.10000000000001,
                        "count": 1
                      },
                      {
                        "bin_start": 95.10000000000001,
                        "bin_end": 106.4,
                        "count": 1
                      },
                      {
                        "bin_start": 106.4,
                        "bin_end": 117.7,
                        "count": 1
                      },
                      {
                        "bin_start": 117.7,
                        "bin_end": 129,
                        "count": 1
                      }
                    ]
                  }
                },
                {
                  "name": "text_polarity_score",
                  "dtype": "float64",
                  "stats": {
                    "unique_count": 5,
                    "nan_count": 0,
                    "min": "-0.0688545688545688",
                    "max": "0.1631944444444444",
                    "histogram": [
                      {
                        "bin_start": -0.0688545688545688,
                        "bin_end": -0.04564966752466748,
                        "count": 1
                      },
                      {
                        "bin_start": -0.04564966752466748,
                        "bin_end": -0.02244476619476616,
                        "count": 0
                      },
                      {
                        "bin_start": -0.02244476619476616,
                        "bin_end": 0.0007601351351351621,
                        "count": 0
                      },
                      {
                        "bin_start": 0.0007601351351351621,
                        "bin_end": 0.023965036465036477,
                        "count": 1
                      },
                      {
                        "bin_start": 0.023965036465036477,
                        "bin_end": 0.04716993779493779,
                        "count": 0
                      },
                      {
                        "bin_start": 0.04716993779493779,
                        "bin_end": 0.07037483912483912,
                        "count": 0
                      },
                      {
                        "bin_start": 0.07037483912483912,
                        "bin_end": 0.09357974045474042,
                        "count": 0
                      },
                      {
                        "bin_start": 0.09357974045474042,
                        "bin_end": 0.11678464178464175,
                        "count": 0
                      },
                      {
                        "bin_start": 0.11678464178464175,
                        "bin_end": 0.1399895431145431,
                        "count": 2
                      },
                      {
                        "bin_start": 0.1399895431145431,
                        "bin_end": 0.1631944444444444,
                        "count": 1
                      }
                    ]
                  }
                },
                {
                  "name": "text_char_len",
                  "dtype": "int64",
                  "stats": {
                    "unique_count": 5,
                    "nan_count": 0,
                    "min": "368",
                    "max": "2296",
                    "histogram": [
                      {
                        "bin_start": 368,
                        "bin_end": 560.8,
                        "count": 1
                      },
                      {
                        "bin_start": 560.8,
                        "bin_end": 753.6,
                        "count": 0
                      },
                      {
                        "bin_start": 753.6,
                        "bin_end": 946.4000000000001,
                        "count": 0
                      },
                      {
                        "bin_start": 946.4000000000001,
                        "bin_end": 1139.2,
                        "count": 0
                      },
                      {
                        "bin_start": 1139.2,
                        "bin_end": 1332,
                        "count": 0
                      },
                      {
                        "bin_start": 1332,
                        "bin_end": 1524.8000000000002,
                        "count": 0
                      },
                      {
                        "bin_start": 1524.8000000000002,
                        "bin_end": 1717.6000000000001,
                        "count": 0
                      },
                      {
                        "bin_start": 1717.6000000000001,
                        "bin_end": 1910.4,
                        "count": 2
                      },
                      {
                        "bin_start": 1910.4,
                        "bin_end": 2103.2,
                        "count": 1
                      },
                      {
                        "bin_start": 2103.2,
                        "bin_end": 2296,
                        "count": 1
                      }
                    ]
                  }
                },
                {
                  "name": "title_pos_noun",
                  "dtype": "int64",
                  "stats": {
                    "unique_count": 3,
                    "nan_count": 0,
                    "min": "3",
                    "max": "5",
                    "histogram": [
                      {
                        "bin_start": 3,
                        "bin_end": 3.2,
                        "count": 1
                      },
                      {
                        "bin_start": 3.2,
                        "bin_end": 3.4,
                        "count": 0
                      },
                      {
                        "bin_start": 3.4,
                        "bin_end": 3.6,
                        "count": 0
                      },
                      {
                        "bin_start": 3.6,
                        "bin_end": 3.8,
                        "count": 0
                      },
                      {
                        "bin_start": 3.8,
                        "bin_end": 4,
                        "count": 0
                      },
                      {
                        "bin_start": 4,
                        "bin_end": 4.2,
                        "count": 1
                      },
                      {
                        "bin_start": 4.2,
                        "bin_end": 4.4,
                        "count": 0
                      },
                      {
                        "bin_start": 4.4,
                        "bin_end": 4.6,
                        "count": 0
                      },
                      {
                        "bin_start": 4.6,
                        "bin_end": 4.8,
                        "count": 0
                      },
                      {
                        "bin_start": 4.8,
                        "bin_end": 5,
                        "count": 3
                      }
                    ]
                  }
                },
                {
                  "name": "text_polarity_score.1",
                  "dtype": "float64",
                  "stats": {
                    "unique_count": 5,
                    "nan_count": 0,
                    "min": "-0.0688545688545688",
                    "max": "0.1631944444444444",
                    "histogram": [
                      {
                        "bin_start": -0.0688545688545688,
                        "bin_end": -0.04564966752466748,
                        "count": 1
                      },
                      {
                        "bin_start": -0.04564966752466748,
                        "bin_end": -0.02244476619476616,
                        "count": 0
                      },
                      {
                        "bin_start": -0.02244476619476616,
                        "bin_end": 0.0007601351351351621,
                        "count": 0
                      },
                      {
                        "bin_start": 0.0007601351351351621,
                        "bin_end": 0.023965036465036477,
                        "count": 1
                      },
                      {
                        "bin_start": 0.023965036465036477,
                        "bin_end": 0.04716993779493779,
                        "count": 0
                      },
                      {
                        "bin_start": 0.04716993779493779,
                        "bin_end": 0.07037483912483912,
                        "count": 0
                      },
                      {
                        "bin_start": 0.07037483912483912,
                        "bin_end": 0.09357974045474042,
                        "count": 0
                      },
                      {
                        "bin_start": 0.09357974045474042,
                        "bin_end": 0.11678464178464175,
                        "count": 0
                      },
                      {
                        "bin_start": 0.11678464178464175,
                        "bin_end": 0.1399895431145431,
                        "count": 2
                      },
                      {
                        "bin_start": 0.1399895431145431,
                        "bin_end": 0.1631944444444444,
                        "count": 1
                      }
                    ]
                  }
                },
                {
                  "name": "text_pos_adj",
                  "dtype": "int64",
                  "stats": {
                    "unique_count": 4,
                    "nan_count": 0,
                    "min": "9",
                    "max": "43",
                    "histogram": [
                      {
                        "bin_start": 9,
                        "bin_end": 12.4,
                        "count": 1
                      },
                      {
                        "bin_start": 12.4,
                        "bin_end": 15.8,
                        "count": 0
                      },
                      {
                        "bin_start": 15.8,
                        "bin_end": 19.2,
                        "count": 0
                      },
                      {
                        "bin_start": 19.2,
                        "bin_end": 22.6,
                        "count": 0
                      },
                      {
                        "bin_start": 22.6,
                        "bin_end": 26,
                        "count": 0
                      },
                      {
                        "bin_start": 26,
                        "bin_end": 29.4,
                        "count": 0
                      },
                      {
                        "bin_start": 29.4,
                        "bin_end": 32.8,
                        "count": 0
                      },
                      {
                        "bin_start": 32.8,
                        "bin_end": 36.2,
                        "count": 1
                      },
                      {
                        "bin_start": 36.2,
                        "bin_end": 39.599999999999994,
                        "count": 0
                      },
                      {
                        "bin_start": 39.599999999999994,
                        "bin_end": 43,
                        "count": 3
                      }
                    ]
                  }
                },
                {
                  "name": "text_word_len",
                  "dtype": "int64",
                  "stats": {
                    "unique_count": 5,
                    "nan_count": 0,
                    "min": "37",
                    "max": "215",
                    "histogram": [
                      {
                        "bin_start": 37,
                        "bin_end": 54.8,
                        "count": 1
                      },
                      {
                        "bin_start": 54.8,
                        "bin_end": 72.6,
                        "count": 0
                      },
                      {
                        "bin_start": 72.6,
                        "bin_end": 90.4,
                        "count": 0
                      },
                      {
                        "bin_start": 90.4,
                        "bin_end": 108.2,
                        "count": 0
                      },
                      {
                        "bin_start": 108.2,
                        "bin_end": 126,
                        "count": 0
                      },
                      {
                        "bin_start": 126,
                        "bin_end": 143.8,
                        "count": 0
                      },
                      {
                        "bin_start": 143.8,
                        "bin_end": 161.60000000000002,
                        "count": 0
                      },
                      {
                        "bin_start": 161.60000000000002,
                        "bin_end": 179.4,
                        "count": 1
                      },
                      {
                        "bin_start": 179.4,
                        "bin_end": 197.20000000000002,
                        "count": 0
                      },
                      {
                        "bin_start": 197.20000000000002,
                        "bin_end": 215,
                        "count": 3
                      }
                    ]
                  }
                },
                {
                  "name": "text_pos_verb",
                  "dtype": "int64",
                  "stats": {
                    "unique_count": 5,
                    "nan_count": 0,
                    "min": "8",
                    "max": "38",
                    "histogram": [
                      {
                        "bin_start": 8,
                        "bin_end": 11,
                        "count": 1
                      },
                      {
                        "bin_start": 11,
                        "bin_end": 14,
                        "count": 0
                      },
                      {
                        "bin_start": 14,
                        "bin_end": 17,
                        "count": 0
                      },
                      {
                        "bin_start": 17,
                        "bin_end": 20,
                        "count": 0
                      },
                      {
                        "bin_start": 20,
                        "bin_end": 23,
                        "count": 0
                      },
                      {
                        "bin_start": 23,
                        "bin_end": 26,
                        "count": 1
                      },
                      {
                        "bin_start": 26,
                        "bin_end": 29,
                        "count": 0
                      },
                      {
                        "bin_start": 29,
                        "bin_end": 32,
                        "count": 2
                      },
                      {
                        "bin_start": 32,
                        "bin_end": 35,
                        "count": 0
                      },
                      {
                        "bin_start": 35,
                        "bin_end": 38,
                        "count": 1
                      }
                    ]
                  }
                },
                {
                  "name": "_deepnote_index_column",
                  "dtype": "int64"
                }
              ],
              "rows": [
                {
                  "title_word_len": 12,
                  "title_char_len": 111,
                  "text_pos_noun": 110,
                  "text_polarity_score": 0.1228633271490414,
                  "text_char_len": 2006,
                  "title_pos_noun": 5,
                  "text_polarity_score.1": 0.1228633271490414,
                  "text_pos_adj": 43,
                  "text_word_len": 204,
                  "text_pos_verb": 25,
                  "_deepnote_index_column": 34016
                },
                {
                  "title_word_len": 5,
                  "title_char_len": 55,
                  "text_pos_noun": 16,
                  "text_polarity_score": 0.1187499999999999,
                  "text_char_len": 368,
                  "title_pos_noun": 4,
                  "text_polarity_score.1": 0.1187499999999999,
                  "text_pos_adj": 9,
                  "text_word_len": 37,
                  "text_pos_verb": 8,
                  "_deepnote_index_column": 2493
                },
                {
                  "title_word_len": 6,
                  "title_char_len": 49,
                  "text_pos_noun": 92,
                  "text_polarity_score": 0.1631944444444444,
                  "text_char_len": 1749,
                  "title_pos_noun": 3,
                  "text_polarity_score.1": 0.1631944444444444,
                  "text_pos_adj": 35,
                  "text_word_len": 178,
                  "text_pos_verb": 30,
                  "_deepnote_index_column": 38418
                },
                {
                  "title_word_len": 6,
                  "title_char_len": 58,
                  "text_pos_noun": 129,
                  "text_polarity_score": 0.0232438016528925,
                  "text_char_len": 2296,
                  "title_pos_noun": 5,
                  "text_polarity_score.1": 0.0232438016528925,
                  "text_pos_adj": 40,
                  "text_word_len": 215,
                  "text_pos_verb": 31,
                  "_deepnote_index_column": 8333
                },
                {
                  "title_word_len": 7,
                  "title_char_len": 66,
                  "text_pos_noun": 99,
                  "text_polarity_score": -0.0688545688545688,
                  "text_char_len": 1886,
                  "title_pos_noun": 5,
                  "text_polarity_score.1": -0.0688545688545688,
                  "text_pos_adj": 40,
                  "text_word_len": 198,
                  "text_pos_verb": 38,
                  "_deepnote_index_column": 11110
                }
              ]
            },
            "text/plain": "       title_word_len  title_char_len  text_pos_noun  text_polarity_score  \\\n34016              12             111            110             0.122863   \n2493                5              55             16             0.118750   \n38418               6              49             92             0.163194   \n8333                6              58            129             0.023244   \n11110               7              66             99            -0.068855   \n\n       text_char_len  title_pos_noun  text_polarity_score  text_pos_adj  \\\n34016           2006               5             0.122863            43   \n2493             368               4             0.118750             9   \n38418           1749               3             0.163194            35   \n8333            2296               5             0.023244            40   \n11110           1886               5            -0.068855            40   \n\n       text_word_len  text_pos_verb  \n34016            204             25  \n2493              37              8  \n38418            178             30  \n8333             215             31  \n11110            198             38  ",
            "text/html": "<div>\n<style scoped>\n    .dataframe tbody tr th:only-of-type {\n        vertical-align: middle;\n    }\n\n    .dataframe tbody tr th {\n        vertical-align: top;\n    }\n\n    .dataframe thead th {\n        text-align: right;\n    }\n</style>\n<table border=\"1\" class=\"dataframe\">\n  <thead>\n    <tr style=\"text-align: right;\">\n      <th></th>\n      <th>title_word_len</th>\n      <th>title_char_len</th>\n      <th>text_pos_noun</th>\n      <th>text_polarity_score</th>\n      <th>text_char_len</th>\n      <th>title_pos_noun</th>\n      <th>text_polarity_score</th>\n      <th>text_pos_adj</th>\n      <th>text_word_len</th>\n      <th>text_pos_verb</th>\n    </tr>\n  </thead>\n  <tbody>\n    <tr>\n      <th>34016</th>\n      <td>12</td>\n      <td>111</td>\n      <td>110</td>\n      <td>0.122863</td>\n      <td>2006</td>\n      <td>5</td>\n      <td>0.122863</td>\n      <td>43</td>\n      <td>204</td>\n      <td>25</td>\n    </tr>\n    <tr>\n      <th>2493</th>\n      <td>5</td>\n      <td>55</td>\n      <td>16</td>\n      <td>0.118750</td>\n      <td>368</td>\n      <td>4</td>\n      <td>0.118750</td>\n      <td>9</td>\n      <td>37</td>\n      <td>8</td>\n    </tr>\n    <tr>\n      <th>38418</th>\n      <td>6</td>\n      <td>49</td>\n      <td>92</td>\n      <td>0.163194</td>\n      <td>1749</td>\n      <td>3</td>\n      <td>0.163194</td>\n      <td>35</td>\n      <td>178</td>\n      <td>30</td>\n    </tr>\n    <tr>\n      <th>8333</th>\n      <td>6</td>\n      <td>58</td>\n      <td>129</td>\n      <td>0.023244</td>\n      <td>2296</td>\n      <td>5</td>\n      <td>0.023244</td>\n      <td>40</td>\n      <td>215</td>\n      <td>31</td>\n    </tr>\n    <tr>\n      <th>11110</th>\n      <td>7</td>\n      <td>66</td>\n      <td>99</td>\n      <td>-0.068855</td>\n      <td>1886</td>\n      <td>5</td>\n      <td>-0.068855</td>\n      <td>40</td>\n      <td>198</td>\n      <td>38</td>\n    </tr>\n  </tbody>\n</table>\n</div>"
          },
          "metadata": {}
        }
      ],
      "outputs_reference": null,
      "execution_count": null,
      "block_group": "dee889b312d047ffbbd16059fa61ef59",
      "content_dependencies": null
    },
    {
      "cell_type": "markdown",
      "source": "## Stratified k- fold for decision tree",
      "metadata": {
        "formattedRanges": [],
        "cell_id": "f090a2744c0b4270be97a4e16cb5a434",
        "deepnote_cell_type": "text-cell-h2"
      },
      "block_group": "99b55108b7e84b139f349703bedf1e7a"
    },
    {
      "cell_type": "code",
      "source": "skf = StratifiedKFold(n_splits=5, shuffle=True, random_state=17)\ncv_results = cross_val_score(dectree, X_train, y_train['label_meaning'], cv=skf)\ncv_results, cv_results.mean()",
      "metadata": {
        "source_hash": null,
        "execution_start": 1713319401059,
        "execution_millis": 393,
        "deepnote_to_be_reexecuted": false,
        "cell_id": "9685fdeb01d54e91abe465fad1d72262",
        "deepnote_cell_type": "code"
      },
      "outputs": [
        {
          "output_type": "execute_result",
          "execution_count": 17,
          "data": {
            "text/plain": "(array([0.70728603, 0.70092269, 0.7056952 , 0.69944312, 0.70676213]),\n 0.7040218328110276)"
          },
          "metadata": {}
        }
      ],
      "outputs_reference": null,
      "execution_count": null,
      "block_group": "e202041acc5e4f1cb4f0c6285d132e6c",
      "content_dependencies": null
    },
    {
      "cell_type": "markdown",
      "source": "## Fitting data into decision tree",
      "metadata": {
        "formattedRanges": [],
        "cell_id": "75f2ba111ed2499da7e7cffb27fe42f7",
        "deepnote_cell_type": "text-cell-h2"
      },
      "block_group": "8ce13749613548acb291a182ac5ae058"
    },
    {
      "cell_type": "code",
      "source": "dectree.fit(X_train, y_train)                    # train the decision tree model",
      "metadata": {
        "source_hash": null,
        "execution_start": 1713319404176,
        "execution_millis": 195,
        "deepnote_to_be_reexecuted": false,
        "cell_id": "d0660a6cd3804464b30756263aab8a74",
        "deepnote_cell_type": "code"
      },
      "outputs": [
        {
          "output_type": "execute_result",
          "execution_count": 18,
          "data": {
            "text/plain": "DecisionTreeClassifier(max_depth=4)",
            "text/html": "<style>#sk-container-id-2 {color: black;}#sk-container-id-2 pre{padding: 0;}#sk-container-id-2 div.sk-toggleable {background-color: white;}#sk-container-id-2 label.sk-toggleable__label {cursor: pointer;display: block;width: 100%;margin-bottom: 0;padding: 0.3em;box-sizing: border-box;text-align: center;}#sk-container-id-2 label.sk-toggleable__label-arrow:before {content: \"▸\";float: left;margin-right: 0.25em;color: #696969;}#sk-container-id-2 label.sk-toggleable__label-arrow:hover:before {color: black;}#sk-container-id-2 div.sk-estimator:hover label.sk-toggleable__label-arrow:before {color: black;}#sk-container-id-2 div.sk-toggleable__content {max-height: 0;max-width: 0;overflow: hidden;text-align: left;background-color: #f0f8ff;}#sk-container-id-2 div.sk-toggleable__content pre {margin: 0.2em;color: black;border-radius: 0.25em;background-color: #f0f8ff;}#sk-container-id-2 input.sk-toggleable__control:checked~div.sk-toggleable__content {max-height: 200px;max-width: 100%;overflow: auto;}#sk-container-id-2 input.sk-toggleable__control:checked~label.sk-toggleable__label-arrow:before {content: \"▾\";}#sk-container-id-2 div.sk-estimator input.sk-toggleable__control:checked~label.sk-toggleable__label {background-color: #d4ebff;}#sk-container-id-2 div.sk-label input.sk-toggleable__control:checked~label.sk-toggleable__label {background-color: #d4ebff;}#sk-container-id-2 input.sk-hidden--visually {border: 0;clip: rect(1px 1px 1px 1px);clip: rect(1px, 1px, 1px, 1px);height: 1px;margin: -1px;overflow: hidden;padding: 0;position: absolute;width: 1px;}#sk-container-id-2 div.sk-estimator {font-family: monospace;background-color: #f0f8ff;border: 1px dotted black;border-radius: 0.25em;box-sizing: border-box;margin-bottom: 0.5em;}#sk-container-id-2 div.sk-estimator:hover {background-color: #d4ebff;}#sk-container-id-2 div.sk-parallel-item::after {content: \"\";width: 100%;border-bottom: 1px solid gray;flex-grow: 1;}#sk-container-id-2 div.sk-label:hover label.sk-toggleable__label {background-color: #d4ebff;}#sk-container-id-2 div.sk-serial::before {content: \"\";position: absolute;border-left: 1px solid gray;box-sizing: border-box;top: 0;bottom: 0;left: 50%;z-index: 0;}#sk-container-id-2 div.sk-serial {display: flex;flex-direction: column;align-items: center;background-color: white;padding-right: 0.2em;padding-left: 0.2em;position: relative;}#sk-container-id-2 div.sk-item {position: relative;z-index: 1;}#sk-container-id-2 div.sk-parallel {display: flex;align-items: stretch;justify-content: center;background-color: white;position: relative;}#sk-container-id-2 div.sk-item::before, #sk-container-id-2 div.sk-parallel-item::before {content: \"\";position: absolute;border-left: 1px solid gray;box-sizing: border-box;top: 0;bottom: 0;left: 50%;z-index: -1;}#sk-container-id-2 div.sk-parallel-item {display: flex;flex-direction: column;z-index: 1;position: relative;background-color: white;}#sk-container-id-2 div.sk-parallel-item:first-child::after {align-self: flex-end;width: 50%;}#sk-container-id-2 div.sk-parallel-item:last-child::after {align-self: flex-start;width: 50%;}#sk-container-id-2 div.sk-parallel-item:only-child::after {width: 0;}#sk-container-id-2 div.sk-dashed-wrapped {border: 1px dashed gray;margin: 0 0.4em 0.5em 0.4em;box-sizing: border-box;padding-bottom: 0.4em;background-color: white;}#sk-container-id-2 div.sk-label label {font-family: monospace;font-weight: bold;display: inline-block;line-height: 1.2em;}#sk-container-id-2 div.sk-label-container {text-align: center;}#sk-container-id-2 div.sk-container {/* jupyter's `normalize.less` sets `[hidden] { display: none; }` but bootstrap.min.css set `[hidden] { display: none !important; }` so we also need the `!important` here to be able to override the default hidden behavior on the sphinx rendered scikit-learn.org. See: https://github.com/scikit-learn/scikit-learn/issues/21755 */display: inline-block !important;position: relative;}#sk-container-id-2 div.sk-text-repr-fallback {display: none;}</style><div id=\"sk-container-id-2\" class=\"sk-top-container\"><div class=\"sk-text-repr-fallback\"><pre>DecisionTreeClassifier(max_depth=4)</pre><b>In a Jupyter environment, please rerun this cell to show the HTML representation or trust the notebook. <br />On GitHub, the HTML representation is unable to render, please try loading this page with nbviewer.org.</b></div><div class=\"sk-container\" hidden><div class=\"sk-item\"><div class=\"sk-estimator sk-toggleable\"><input class=\"sk-toggleable__control sk-hidden--visually\" id=\"sk-estimator-id-2\" type=\"checkbox\" checked><label for=\"sk-estimator-id-2\" class=\"sk-toggleable__label sk-toggleable__label-arrow\">DecisionTreeClassifier</label><div class=\"sk-toggleable__content\"><pre>DecisionTreeClassifier(max_depth=4)</pre></div></div></div></div></div>"
          },
          "metadata": {}
        }
      ],
      "outputs_reference": null,
      "execution_count": null,
      "block_group": "55686df21c8d4f80b3b7ff0f32b39f01",
      "content_dependencies": null
    },
    {
      "cell_type": "markdown",
      "source": "# Decision tree evaluation\n",
      "metadata": {
        "formattedRanges": [],
        "cell_id": "742ceb8fb1f24e0b8825ddf06e6a6c30",
        "deepnote_cell_type": "text-cell-h1"
      },
      "block_group": "9b8ca98a805b4757b1bc725db73715bc"
    },
    {
      "cell_type": "markdown",
      "source": "## Plotting decision tree",
      "metadata": {
        "formattedRanges": [],
        "cell_id": "a9b60d380cd4450bae389160615ed793",
        "deepnote_cell_type": "text-cell-h2"
      },
      "block_group": "5a2da989369a4a7cbfdb72b28127d300"
    },
    {
      "cell_type": "code",
      "source": "# Plot the trained Decision Tree\nf = plt.figure(figsize=(24,24))\nplot_tree(dectree, filled=True, rounded=True, max_depth=2,\n          feature_names=X_train.columns, \n          class_names=[\"Fake\",\"Not Fake\"])",
      "metadata": {
        "source_hash": null,
        "execution_start": 1713319409459,
        "execution_millis": 263,
        "deepnote_to_be_reexecuted": false,
        "cell_id": "114f8e060c1c4ef29cbbf7282e55a0f7",
        "deepnote_cell_type": "code"
      },
      "outputs": [
        {
          "output_type": "execute_result",
          "execution_count": 19,
          "data": {
            "text/plain": "[Text(0.5, 0.875, 'title_word_len <= 8.5\\ngini = 0.499\\nsamples = 31428\\nvalue = [16374, 15054]\\nclass = Fake'),\n Text(0.25, 0.625, 'title_word_len <= 6.5\\ngini = 0.483\\nsamples = 23965\\nvalue = [9802, 14163]\\nclass = Not Fake'),\n Text(0.125, 0.375, 'text_char_len <= 126.5\\ngini = 0.439\\nsamples = 13628\\nvalue = [4426, 9202]\\nclass = Not Fake'),\n Text(0.0625, 0.125, '\\n  (...)  \\n'),\n Text(0.1875, 0.125, '\\n  (...)  \\n'),\n Text(0.375, 0.375, 'text_pos_noun <= 157.5\\ngini = 0.499\\nsamples = 10337\\nvalue = [5376, 4961]\\nclass = Fake'),\n Text(0.3125, 0.125, '\\n  (...)  \\n'),\n Text(0.4375, 0.125, '\\n  (...)  \\n'),\n Text(0.75, 0.625, 'title_word_len <= 9.5\\ngini = 0.21\\nsamples = 7463\\nvalue = [6572, 891]\\nclass = Fake'),\n Text(0.625, 0.375, 'text_pos_noun <= 161.5\\ngini = 0.361\\nsamples = 2901\\nvalue = [2214, 687]\\nclass = Fake'),\n Text(0.5625, 0.125, '\\n  (...)  \\n'),\n Text(0.6875, 0.125, '\\n  (...)  \\n'),\n Text(0.875, 0.375, 'title_word_len <= 10.5\\ngini = 0.085\\nsamples = 4562\\nvalue = [4358, 204]\\nclass = Fake'),\n Text(0.8125, 0.125, '\\n  (...)  \\n'),\n Text(0.9375, 0.125, '\\n  (...)  \\n')]"
          },
          "metadata": {}
        },
        {
          "data": {
            "text/plain": "<Figure size 2400x2400 with 1 Axes>",
            "image/png": "[encoded data removed]"
          },
          "metadata": {
            "image/png": {
              "width": 1880,
              "height": 1868
            }
          },
          "output_type": "display_data"
        }
      ],
      "outputs_reference": null,
      "execution_count": null,
      "block_group": "114d8ada08fd45ffbe5709958a0c0c78",
      "content_dependencies": null
    },
    {
      "cell_type": "markdown",
      "source": " The lower the Gini Index, the lower the likelihood of misclassification. ",
      "metadata": {
        "formattedRanges": [],
        "cell_id": "1ad7cbdcea1549b3800e323543a598c9",
        "deepnote_cell_type": "text-cell-p"
      },
      "block_group": "5bc673b1dcc84af09086e77deb5ce4fd"
    },
    {
      "cell_type": "markdown",
      "source": "",
      "metadata": {
        "formattedRanges": [],
        "cell_id": "e3e11f14467a4116b898dd277981ab88",
        "deepnote_cell_type": "text-cell-p"
      },
      "block_group": "635c5ef2bd2748dba1fa7040961d28fe"
    },
    {
      "cell_type": "markdown",
      "source": "## Confusion matrix",
      "metadata": {
        "formattedRanges": [],
        "cell_id": "4aefa84516b34b298e71fb9e43ad4a9a",
        "deepnote_cell_type": "text-cell-h2"
      },
      "block_group": "993653ee40664a60a3c8ae41874818c9"
    },
    {
      "cell_type": "code",
      "source": "# Predict the Response corresponding to Predictors\ny_train_pred = dectree.predict(X_train)\n\n# Print the Classification Accuracy\nprint(\"Train Data\")\nprint(\"Accuracy  :\\t\", dectree.score(X_train, y_train))\nprint()\n\n# Print the Accuracy Measures from the Confusion Matrix\ncmTrain = confusion_matrix(y_train, y_train_pred)\ntpTrain = cmTrain[1][1] # True Positives : Good (1) predicted Good (1)\nfpTrain = cmTrain[0][1] # False Positives : Bad (0) predicted Good (1)\ntnTrain = cmTrain[0][0] # True Negatives : Bad (0) predicted Bad (0)\nfnTrain = cmTrain[1][0] # False Negatives : Good (1) predicted Bad (0)\n\nprint(\"TPR Train :\\t\", (tpTrain/(tpTrain + fnTrain)))\nprint(\"TNR Train :\\t\", (tnTrain/(tnTrain + fpTrain)))\nprint()\n\nprint(\"FPR Train :\\t\", (fpTrain/(tnTrain + fpTrain)))\nprint(\"FNR Train :\\t\", (fnTrain/(tpTrain + fnTrain)))\n\n# Plot the two-way Confusion Matrix\nsb.heatmap(confusion_matrix(y_train, y_train_pred), \n           annot = True, fmt=\".0f\", annot_kws={\"size\": 18})",
      "metadata": {
        "source_hash": null,
        "execution_start": 1713319415131,
        "execution_millis": 197,
        "deepnote_to_be_reexecuted": false,
        "cell_id": "580571d5def44f01aca17d65ff8abefa",
        "deepnote_cell_type": "code"
      },
      "outputs": [
        {
          "name": "stdout",
          "text": "Train Data\nAccuracy  :\t 0.7057082856051928\n\nTPR Train :\t 0.686462069881759\nTNR Train :\t 0.7234029559057041\n\nFPR Train :\t 0.2765970440942958\nFNR Train :\t 0.313537930118241\n",
          "output_type": "stream"
        },
        {
          "output_type": "execute_result",
          "execution_count": 20,
          "data": {
            "text/plain": "<Axes: >"
          },
          "metadata": {}
        },
        {
          "data": {
            "text/plain": "<Figure size 640x480 with 2 Axes>",
            "image/png": "[encoded data removed]"
          },
          "metadata": {
            "image/png": {
              "width": 612,
              "height": 431
            }
          },
          "output_type": "display_data"
        }
      ],
      "outputs_reference": null,
      "execution_count": null,
      "block_group": "e12be41f5b9c4281b55616829ac8044a",
      "content_dependencies": null
    },
    {
      "cell_type": "code",
      "source": "# Predict the Response corresponding to Predictors\ny_test_pred = dectree.predict(X_test)\n\n# Print the Classification Accuracy\nprint(\"Test Data\")\nprint(\"Accuracy  :\\t\", dectree.score(X_test, y_test))\nprint()\n\n# Print the Accuracy Measures from the Confusion Matrix\ncmTest = confusion_matrix(y_test, y_test_pred)\ntpTest = cmTest[1][1] # True Positives : Good (1) predicted Good (1)\nfpTest = cmTest[0][1] # False Positives : Bad (0) predicted Good (1)\ntnTest = cmTest[0][0] # True Negatives : Bad (0) predicted Bad (0)\nfnTest = cmTest[1][0] # False Negatives : Good (1) predicted Bad (0)\n\nprint(\"TPR Test :\\t\", (tpTest/(tpTest + fnTest)))\nprint(\"TNR Test :\\t\", (tnTest/(tnTest + fpTest)))\nprint()\n\nprint(\"FPR Test :\\t\", (fpTest/(fpTest + tnTest)))\nprint(\"FNR Test :\\t\", (fnTest/(fnTest + tpTest)))\n\n# Plot the two-way Confusion Matrix\nsb.heatmap(confusion_matrix(y_test, y_test_pred), \n           annot = True, fmt=\".0f\", annot_kws={\"size\": 18})",
      "metadata": {
        "source_hash": null,
        "execution_start": 1713319352559,
        "execution_millis": 222,
        "deepnote_to_be_reexecuted": false,
        "cell_id": "4fb9bfd166ab4f8bbe45b8e3357b2ea2",
        "deepnote_cell_type": "code"
      },
      "outputs": [
        {
          "name": "stdout",
          "text": "Test Data\nAccuracy  :\t 0.707275426874536\n\nTPR Test :\t 0.6709099481376709\nTNR Test :\t 0.7398339665118897\n\nFPR Test :\t 0.2601660334881103\nFNR Test :\t 0.3290900518623291\n",
          "output_type": "stream"
        },
        {
          "output_type": "execute_result",
          "execution_count": 14,
          "data": {
            "text/plain": "<Axes: >"
          },
          "metadata": {}
        },
        {
          "data": {
            "text/plain": "<Figure size 640x480 with 2 Axes>",
            "image/png": "[encoded data removed]"
          },
          "metadata": {
            "image/png": {
              "width": 593,
              "height": 431
            }
          },
          "output_type": "display_data"
        }
      ],
      "outputs_reference": null,
      "execution_count": null,
      "block_group": "588a7195807f417db7821a77cc3244fa",
      "content_dependencies": null
    },
    {
      "cell_type": "markdown",
      "source": "",
      "metadata": {
        "formattedRanges": [],
        "cell_id": "7058c94eb29e4877a51d5e4eb58e23ec",
        "deepnote_cell_type": "text-cell-p"
      },
      "block_group": "2c06e1356acc4efe9c1e491cc4941259"
    },
    {
      "cell_type": "markdown",
      "source": "# Model 2: Random Forest Classifier",
      "metadata": {
        "formattedRanges": [],
        "cell_id": "dc0792e18abf4d88ac51511017c59cd1",
        "deepnote_cell_type": "text-cell-h1"
      },
      "block_group": "147002dbb34f4ce2b7f9acc09893ecfe"
    },
    {
      "cell_type": "code",
      "source": "# Extract Response and Predictors\ny = pd.DataFrame(news_final['label_meaning'])\nX = pd.DataFrame(news_final.drop('label_meaning', axis = 1))\n\n# Split the Dataset into Train and Test\nX_train, X_test, y_train, y_test = train_test_split(X, y, test_size = 0.3, random_state=2824)",
      "metadata": {
        "source_hash": null,
        "execution_start": 1713273547621,
        "execution_millis": 249,
        "deepnote_to_be_reexecuted": false,
        "cell_id": "6ee51895ed2645b18a33c551c9900adc",
        "deepnote_cell_type": "code"
      },
      "outputs": [],
      "outputs_reference": null,
      "execution_count": null,
      "block_group": "726a46c29f7140909412c19da19d8672",
      "content_dependencies": null
    },
    {
      "cell_type": "code",
      "source": "# Create the Random Forest object\nrforest = RandomForestClassifier(n_estimators = 100,  # n_estimators denote number of trees\n                                 max_depth = 4)       # set the maximum depth of each tree",
      "metadata": {
        "source_hash": null,
        "execution_start": 1713273555307,
        "execution_millis": 86,
        "deepnote_to_be_reexecuted": false,
        "cell_id": "15838d477bb74161a49c26c1a494b955",
        "deepnote_cell_type": "code"
      },
      "outputs": [],
      "outputs_reference": null,
      "execution_count": null,
      "block_group": "cee43ebe7b314df08674f9e34893bbe1",
      "content_dependencies": null
    },
    {
      "cell_type": "markdown",
      "source": "## Stratified k-fold verification for random forest classifier ",
      "metadata": {
        "formattedRanges": [],
        "cell_id": "cd1aad3826d44abb8b95805af13ec935",
        "deepnote_cell_type": "text-cell-h2"
      },
      "block_group": "ad8de0c395bb44ea9b25675e8de16cab"
    },
    {
      "cell_type": "code",
      "source": "skf = StratifiedKFold(n_splits=5, shuffle=True, random_state=17)\ncv_results = cross_val_score(rforest, X_train, y_train['label_meaning'], cv=skf)",
      "metadata": {
        "source_hash": null,
        "execution_start": 1713273573124,
        "execution_millis": 7982,
        "deepnote_to_be_reexecuted": false,
        "cell_id": "5afb1c8d732645e3ba2658b3298b578b",
        "deepnote_cell_type": "code"
      },
      "outputs": [],
      "outputs_reference": null,
      "execution_count": null,
      "block_group": "1af53e895b664d7292e3640d47bbef5b",
      "content_dependencies": null
    },
    {
      "cell_type": "code",
      "source": "cv_results, cv_results.mean()",
      "metadata": {
        "source_hash": null,
        "execution_start": 1713273583560,
        "execution_millis": 95,
        "deepnote_to_be_reexecuted": false,
        "cell_id": "c8c2fc550e99462d9c7f8532f4d299a2",
        "deepnote_cell_type": "code"
      },
      "outputs": [
        {
          "output_type": "execute_result",
          "execution_count": 11,
          "data": {
            "text/plain": "(array([0.71953548, 0.71317213, 0.72939866, 0.71758154, 0.72171838]),\n 0.7202812376684837)"
          },
          "metadata": {}
        }
      ],
      "outputs_reference": null,
      "execution_count": null,
      "block_group": "7151b22873a54e37a95ca6fbbec6a108",
      "content_dependencies": null
    },
    {
      "cell_type": "markdown",
      "source": "## Fitting data into forest ",
      "metadata": {
        "formattedRanges": [],
        "cell_id": "97aea88a60b14abd9fa89e9276812169",
        "deepnote_cell_type": "text-cell-h2"
      },
      "block_group": "a6cfe82b374c48bdbaf6d131259289fc"
    },
    {
      "cell_type": "code",
      "source": "# Fit Random Forest on Train Data\nrforest.fit(X_train, y_train.label_meaning.ravel())",
      "metadata": {
        "source_hash": null,
        "execution_start": 1713273601852,
        "execution_millis": 1936,
        "deepnote_to_be_reexecuted": false,
        "cell_id": "f2284ae99244493a8af10c3e2ff90f94",
        "deepnote_cell_type": "code"
      },
      "outputs": [
        {
          "output_type": "execute_result",
          "execution_count": 12,
          "data": {
            "text/plain": "RandomForestClassifier(max_depth=4)",
            "text/html": "<style>#sk-container-id-1 {color: black;}#sk-container-id-1 pre{padding: 0;}#sk-container-id-1 div.sk-toggleable {background-color: white;}#sk-container-id-1 label.sk-toggleable__label {cursor: pointer;display: block;width: 100%;margin-bottom: 0;padding: 0.3em;box-sizing: border-box;text-align: center;}#sk-container-id-1 label.sk-toggleable__label-arrow:before {content: \"▸\";float: left;margin-right: 0.25em;color: #696969;}#sk-container-id-1 label.sk-toggleable__label-arrow:hover:before {color: black;}#sk-container-id-1 div.sk-estimator:hover label.sk-toggleable__label-arrow:before {color: black;}#sk-container-id-1 div.sk-toggleable__content {max-height: 0;max-width: 0;overflow: hidden;text-align: left;background-color: #f0f8ff;}#sk-container-id-1 div.sk-toggleable__content pre {margin: 0.2em;color: black;border-radius: 0.25em;background-color: #f0f8ff;}#sk-container-id-1 input.sk-toggleable__control:checked~div.sk-toggleable__content {max-height: 200px;max-width: 100%;overflow: auto;}#sk-container-id-1 input.sk-toggleable__control:checked~label.sk-toggleable__label-arrow:before {content: \"▾\";}#sk-container-id-1 div.sk-estimator input.sk-toggleable__control:checked~label.sk-toggleable__label {background-color: #d4ebff;}#sk-container-id-1 div.sk-label input.sk-toggleable__control:checked~label.sk-toggleable__label {background-color: #d4ebff;}#sk-container-id-1 input.sk-hidden--visually {border: 0;clip: rect(1px 1px 1px 1px);clip: rect(1px, 1px, 1px, 1px);height: 1px;margin: -1px;overflow: hidden;padding: 0;position: absolute;width: 1px;}#sk-container-id-1 div.sk-estimator {font-family: monospace;background-color: #f0f8ff;border: 1px dotted black;border-radius: 0.25em;box-sizing: border-box;margin-bottom: 0.5em;}#sk-container-id-1 div.sk-estimator:hover {background-color: #d4ebff;}#sk-container-id-1 div.sk-parallel-item::after {content: \"\";width: 100%;border-bottom: 1px solid gray;flex-grow: 1;}#sk-container-id-1 div.sk-label:hover label.sk-toggleable__label {background-color: #d4ebff;}#sk-container-id-1 div.sk-serial::before {content: \"\";position: absolute;border-left: 1px solid gray;box-sizing: border-box;top: 0;bottom: 0;left: 50%;z-index: 0;}#sk-container-id-1 div.sk-serial {display: flex;flex-direction: column;align-items: center;background-color: white;padding-right: 0.2em;padding-left: 0.2em;position: relative;}#sk-container-id-1 div.sk-item {position: relative;z-index: 1;}#sk-container-id-1 div.sk-parallel {display: flex;align-items: stretch;justify-content: center;background-color: white;position: relative;}#sk-container-id-1 div.sk-item::before, #sk-container-id-1 div.sk-parallel-item::before {content: \"\";position: absolute;border-left: 1px solid gray;box-sizing: border-box;top: 0;bottom: 0;left: 50%;z-index: -1;}#sk-container-id-1 div.sk-parallel-item {display: flex;flex-direction: column;z-index: 1;position: relative;background-color: white;}#sk-container-id-1 div.sk-parallel-item:first-child::after {align-self: flex-end;width: 50%;}#sk-container-id-1 div.sk-parallel-item:last-child::after {align-self: flex-start;width: 50%;}#sk-container-id-1 div.sk-parallel-item:only-child::after {width: 0;}#sk-container-id-1 div.sk-dashed-wrapped {border: 1px dashed gray;margin: 0 0.4em 0.5em 0.4em;box-sizing: border-box;padding-bottom: 0.4em;background-color: white;}#sk-container-id-1 div.sk-label label {font-family: monospace;font-weight: bold;display: inline-block;line-height: 1.2em;}#sk-container-id-1 div.sk-label-container {text-align: center;}#sk-container-id-1 div.sk-container {/* jupyter's `normalize.less` sets `[hidden] { display: none; }` but bootstrap.min.css set `[hidden] { display: none !important; }` so we also need the `!important` here to be able to override the default hidden behavior on the sphinx rendered scikit-learn.org. See: https://github.com/scikit-learn/scikit-learn/issues/21755 */display: inline-block !important;position: relative;}#sk-container-id-1 div.sk-text-repr-fallback {display: none;}</style><div id=\"sk-container-id-1\" class=\"sk-top-container\"><div class=\"sk-text-repr-fallback\"><pre>RandomForestClassifier(max_depth=4)</pre><b>In a Jupyter environment, please rerun this cell to show the HTML representation or trust the notebook. <br />On GitHub, the HTML representation is unable to render, please try loading this page with nbviewer.org.</b></div><div class=\"sk-container\" hidden><div class=\"sk-item\"><div class=\"sk-estimator sk-toggleable\"><input class=\"sk-toggleable__control sk-hidden--visually\" id=\"sk-estimator-id-1\" type=\"checkbox\" checked><label for=\"sk-estimator-id-1\" class=\"sk-toggleable__label sk-toggleable__label-arrow\">RandomForestClassifier</label><div class=\"sk-toggleable__content\"><pre>RandomForestClassifier(max_depth=4)</pre></div></div></div></div></div>"
          },
          "metadata": {}
        }
      ],
      "outputs_reference": null,
      "execution_count": null,
      "block_group": "13e3e99ae328417381437e6671b461da",
      "content_dependencies": null
    },
    {
      "cell_type": "markdown",
      "source": "## Random Forest Model Evaluation ",
      "metadata": {
        "formattedRanges": [],
        "cell_id": "60dff5752ade47cab0a6acb2ece33398",
        "deepnote_cell_type": "text-cell-h2"
      },
      "block_group": "1ca48027d7b14356bd2f3705ee19510b"
    },
    {
      "cell_type": "markdown",
      "source": "### Confusion Matrix ",
      "metadata": {
        "formattedRanges": [],
        "cell_id": "27a69bf8d24f4ea9b4331a20e5b52e8b",
        "deepnote_cell_type": "text-cell-h3"
      },
      "block_group": "581fdee1b9bc499fb94f61cc2c66586d"
    },
    {
      "cell_type": "code",
      "source": "# Predict the Response corresponding to Predictors\ny_train_pred = rforest.predict(X_train)\n\n# Print the Classification Accuracy\nprint(\"Train Data\")\nprint(\"Accuracy  :\\t\", rforest.score(X_train, y_train))\nprint()\n\n# Print the Accuracy Measures from the Confusion Matrix\ncmTrain = confusion_matrix(y_train, y_train_pred)\ntpTrain = cmTrain[1][1] # True Positives : Good (1) predicted Good (1)\nfpTrain = cmTrain[0][1] # False Positives : Bad (0) predicted Good (1)\ntnTrain = cmTrain[0][0] # True Negatives : Bad (0) predicted Bad (0)\nfnTrain = cmTrain[1][0] # False Negatives : Good (1) predicted Bad (0)\n\nprint(\"TPR Train :\\t\", (tpTrain/(tpTrain + fnTrain)))\nprint(\"TNR Train :\\t\", (tnTrain/(tnTrain + fpTrain)))\nprint()\n\nprint(\"FPR Train :\\t\", (fpTrain/(tnTrain + fpTrain)))\nprint(\"FNR Train :\\t\", (fnTrain/(tpTrain + fnTrain)))\n\n# Plot the two-way Confusion Matrix\nsb.heatmap(confusion_matrix(y_train, y_train_pred), \n           annot = True, fmt=\".0f\", annot_kws={\"size\": 18})",
      "metadata": {
        "source_hash": null,
        "execution_start": 1713273630676,
        "execution_millis": 654,
        "deepnote_to_be_reexecuted": false,
        "cell_id": "7cde714c1fff4a08a77a67bf8062d07d",
        "deepnote_cell_type": "code"
      },
      "outputs": [
        {
          "name": "stdout",
          "text": "Train Data\nAccuracy  :\t 0.7207903780068728\n\nTPR Train :\t 0.85693391836192\nTNR Train :\t 0.5958134993286952\n\nFPR Train :\t 0.4041865006713048\nFNR Train :\t 0.14306608163808004\n",
          "output_type": "stream"
        },
        {
          "output_type": "execute_result",
          "execution_count": 13,
          "data": {
            "text/plain": "<Axes: >"
          },
          "metadata": {}
        },
        {
          "data": {
            "text/plain": "<Figure size 640x480 with 2 Axes>",
            "image/png": "[encoded data removed]"
          },
          "metadata": {
            "image/png": {
              "width": 612,
              "height": 431
            }
          },
          "output_type": "display_data"
        }
      ],
      "outputs_reference": null,
      "execution_count": null,
      "block_group": "0ee1cec278124cb4b273239452aebf54",
      "content_dependencies": null
    },
    {
      "cell_type": "code",
      "source": "# Predict the Response corresponding to Predictors\ny_test_pred = rforest.predict(X_test)\n\n# Print the Classification Accuracy\nprint(\"Test Data\")\nprint(\"Accuracy  :\\t\", rforest.score(X_test, y_test))\nprint()\n\n# Print the Accuracy Measures from the Confusion Matrix\ncmTest = confusion_matrix(y_test, y_test_pred)\ntpTest = cmTest[1][1] # True Positives : Good (1) predicted Good (1)\nfpTest = cmTest[0][1] # False Positives : Bad (0) predicted Good (1)\ntnTest = cmTest[0][0] # True Negatives : Bad (0) predicted Bad (0)\nfnTest = cmTest[1][0] # False Negatives : Good (1) predicted Bad (0)\n\nprint(\"TPR Test :\\t\", (tpTest/(tpTest + fnTest)))\nprint(\"TNR Test :\\t\", (tnTest/(tnTest + fpTest)))\nprint()\n\nprint(\"FPR Test :\\t\", (fpTest/(fpTest + tnTest)))\nprint(\"FNR Test :\\t\", (fnTest/(fnTest + tpTest)))\n\n# Plot the two-way Confusion Matrix\nsb.heatmap(confusion_matrix(y_test, y_test_pred), \n           annot = True, fmt=\".0f\", annot_kws={\"size\": 18})",
      "metadata": {
        "source_hash": null,
        "execution_start": 1713273637516,
        "execution_millis": 402,
        "deepnote_to_be_reexecuted": false,
        "cell_id": "e07aa68e3be44ea691995835402207a8",
        "deepnote_cell_type": "code"
      },
      "outputs": [
        {
          "name": "stdout",
          "text": "Test Data\nAccuracy  :\t 0.7115812917594655\n\nTPR Test :\t 0.8516078431372549\nTNR Test :\t 0.5857646229739253\n\nFPR Test :\t 0.4142353770260747\nFNR Test :\t 0.1483921568627451\n",
          "output_type": "stream"
        },
        {
          "output_type": "execute_result",
          "execution_count": 14,
          "data": {
            "text/plain": "<Axes: >"
          },
          "metadata": {}
        },
        {
          "data": {
            "text/plain": "<Figure size 640x480 with 2 Axes>",
            "image/png": "[encoded data removed]"
          },
          "metadata": {
            "image/png": {
              "width": 593,
              "height": 431
            }
          },
          "output_type": "display_data"
        }
      ],
      "outputs_reference": null,
      "execution_count": null,
      "block_group": "3fbfc2dd71ed47bda4f6fe55e6598545",
      "content_dependencies": null
    },
    {
      "cell_type": "markdown",
      "source": "## Trying to improve accuracy by hyperparameter tuning using Cross-Validation (CV) ",
      "metadata": {
        "formattedRanges": [],
        "cell_id": "7caf99d66dd94b1f999dd692b1d79c8e",
        "deepnote_cell_type": "text-cell-h2"
      },
      "block_group": "d05a7505c02749849a06bb720d707e6c"
    },
    {
      "cell_type": "code",
      "source": "# Extract Response and Predictors\ny = pd.DataFrame(news_final['label_meaning'])\nX = pd.DataFrame(news_final.drop('label_meaning', axis = 1))\n\n# Split the Dataset into Train and Test\nX_train, X_test, y_train, y_test = train_test_split(X, y, test_size = 0.3)",
      "metadata": {
        "source_hash": null,
        "execution_start": 1713273663365,
        "execution_millis": 30,
        "deepnote_to_be_reexecuted": false,
        "cell_id": "e44fc69502644473bc125540a57e11fb",
        "deepnote_cell_type": "code"
      },
      "outputs": [],
      "outputs_reference": null,
      "execution_count": null,
      "block_group": "0b8de5f5bceb4fa8ab1b05a56275dd12",
      "content_dependencies": null
    },
    {
      "cell_type": "code",
      "source": "# Define the Hyper-parameter Grid to search on, in case of Random Forest\nparam_grid = {'n_estimators': np.arange(100,1001,100),   # number of trees 100, 200, ..., 1000\n              'max_depth': np.arange(2, 11)}             # depth of trees 2, 3, 4, 5, ..., 10\n\n# Create the Hyper-parameter Grid\nhpGrid = GridSearchCV(RandomForestClassifier(),   # the model family\n                      param_grid,                 # the search grid\n                      cv = 5,                     # 5-fold cross-validation\n                      scoring = 'accuracy')       # score to evaluate\n\n# Train the models using Cross-Validation\nhpGrid.fit(X_train, y_train.label_meaning.ravel())",
      "metadata": {
        "source_hash": null,
        "execution_start": 1713273668165,
        "execution_millis": 5237520,
        "deepnote_to_be_reexecuted": false,
        "cell_id": "a8060cddcba744a8b46318ce6d3a00b7",
        "deepnote_cell_type": "code"
      },
      "outputs": [
        {
          "output_type": "execute_result",
          "execution_count": 16,
          "data": {
            "text/plain": "GridSearchCV(cv=5, estimator=RandomForestClassifier(),\n             param_grid={'max_depth': array([ 2,  3,  4,  5,  6,  7,  8,  9, 10]),\n                         'n_estimators': array([ 100,  200,  300,  400,  500,  600,  700,  800,  900, 1000])},\n             scoring='accuracy')",
            "text/html": "<style>#sk-container-id-2 {color: black;}#sk-container-id-2 pre{padding: 0;}#sk-container-id-2 div.sk-toggleable {background-color: white;}#sk-container-id-2 label.sk-toggleable__label {cursor: pointer;display: block;width: 100%;margin-bottom: 0;padding: 0.3em;box-sizing: border-box;text-align: center;}#sk-container-id-2 label.sk-toggleable__label-arrow:before {content: \"▸\";float: left;margin-right: 0.25em;color: #696969;}#sk-container-id-2 label.sk-toggleable__label-arrow:hover:before {color: black;}#sk-container-id-2 div.sk-estimator:hover label.sk-toggleable__label-arrow:before {color: black;}#sk-container-id-2 div.sk-toggleable__content {max-height: 0;max-width: 0;overflow: hidden;text-align: left;background-color: #f0f8ff;}#sk-container-id-2 div.sk-toggleable__content pre {margin: 0.2em;color: black;border-radius: 0.25em;background-color: #f0f8ff;}#sk-container-id-2 input.sk-toggleable__control:checked~div.sk-toggleable__content {max-height: 200px;max-width: 100%;overflow: auto;}#sk-container-id-2 input.sk-toggleable__control:checked~label.sk-toggleable__label-arrow:before {content: \"▾\";}#sk-container-id-2 div.sk-estimator input.sk-toggleable__control:checked~label.sk-toggleable__label {background-color: #d4ebff;}#sk-container-id-2 div.sk-label input.sk-toggleable__control:checked~label.sk-toggleable__label {background-color: #d4ebff;}#sk-container-id-2 input.sk-hidden--visually {border: 0;clip: rect(1px 1px 1px 1px);clip: rect(1px, 1px, 1px, 1px);height: 1px;margin: -1px;overflow: hidden;padding: 0;position: absolute;width: 1px;}#sk-container-id-2 div.sk-estimator {font-family: monospace;background-color: #f0f8ff;border: 1px dotted black;border-radius: 0.25em;box-sizing: border-box;margin-bottom: 0.5em;}#sk-container-id-2 div.sk-estimator:hover {background-color: #d4ebff;}#sk-container-id-2 div.sk-parallel-item::after {content: \"\";width: 100%;border-bottom: 1px solid gray;flex-grow: 1;}#sk-container-id-2 div.sk-label:hover label.sk-toggleable__label {background-color: #d4ebff;}#sk-container-id-2 div.sk-serial::before {content: \"\";position: absolute;border-left: 1px solid gray;box-sizing: border-box;top: 0;bottom: 0;left: 50%;z-index: 0;}#sk-container-id-2 div.sk-serial {display: flex;flex-direction: column;align-items: center;background-color: white;padding-right: 0.2em;padding-left: 0.2em;position: relative;}#sk-container-id-2 div.sk-item {position: relative;z-index: 1;}#sk-container-id-2 div.sk-parallel {display: flex;align-items: stretch;justify-content: center;background-color: white;position: relative;}#sk-container-id-2 div.sk-item::before, #sk-container-id-2 div.sk-parallel-item::before {content: \"\";position: absolute;border-left: 1px solid gray;box-sizing: border-box;top: 0;bottom: 0;left: 50%;z-index: -1;}#sk-container-id-2 div.sk-parallel-item {display: flex;flex-direction: column;z-index: 1;position: relative;background-color: white;}#sk-container-id-2 div.sk-parallel-item:first-child::after {align-self: flex-end;width: 50%;}#sk-container-id-2 div.sk-parallel-item:last-child::after {align-self: flex-start;width: 50%;}#sk-container-id-2 div.sk-parallel-item:only-child::after {width: 0;}#sk-container-id-2 div.sk-dashed-wrapped {border: 1px dashed gray;margin: 0 0.4em 0.5em 0.4em;box-sizing: border-box;padding-bottom: 0.4em;background-color: white;}#sk-container-id-2 div.sk-label label {font-family: monospace;font-weight: bold;display: inline-block;line-height: 1.2em;}#sk-container-id-2 div.sk-label-container {text-align: center;}#sk-container-id-2 div.sk-container {/* jupyter's `normalize.less` sets `[hidden] { display: none; }` but bootstrap.min.css set `[hidden] { display: none !important; }` so we also need the `!important` here to be able to override the default hidden behavior on the sphinx rendered scikit-learn.org. See: https://github.com/scikit-learn/scikit-learn/issues/21755 */display: inline-block !important;position: relative;}#sk-container-id-2 div.sk-text-repr-fallback {display: none;}</style><div id=\"sk-container-id-2\" class=\"sk-top-container\"><div class=\"sk-text-repr-fallback\"><pre>GridSearchCV(cv=5, estimator=RandomForestClassifier(),\n             param_grid={&#x27;max_depth&#x27;: array([ 2,  3,  4,  5,  6,  7,  8,  9, 10]),\n                         &#x27;n_estimators&#x27;: array([ 100,  200,  300,  400,  500,  600,  700,  800,  900, 1000])},\n             scoring=&#x27;accuracy&#x27;)</pre><b>In a Jupyter environment, please rerun this cell to show the HTML representation or trust the notebook. <br />On GitHub, the HTML representation is unable to render, please try loading this page with nbviewer.org.</b></div><div class=\"sk-container\" hidden><div class=\"sk-item sk-dashed-wrapped\"><div class=\"sk-label-container\"><div class=\"sk-label sk-toggleable\"><input class=\"sk-toggleable__control sk-hidden--visually\" id=\"sk-estimator-id-2\" type=\"checkbox\" ><label for=\"sk-estimator-id-2\" class=\"sk-toggleable__label sk-toggleable__label-arrow\">GridSearchCV</label><div class=\"sk-toggleable__content\"><pre>GridSearchCV(cv=5, estimator=RandomForestClassifier(),\n             param_grid={&#x27;max_depth&#x27;: array([ 2,  3,  4,  5,  6,  7,  8,  9, 10]),\n                         &#x27;n_estimators&#x27;: array([ 100,  200,  300,  400,  500,  600,  700,  800,  900, 1000])},\n             scoring=&#x27;accuracy&#x27;)</pre></div></div></div><div class=\"sk-parallel\"><div class=\"sk-parallel-item\"><div class=\"sk-item\"><div class=\"sk-label-container\"><div class=\"sk-label sk-toggleable\"><input class=\"sk-toggleable__control sk-hidden--visually\" id=\"sk-estimator-id-3\" type=\"checkbox\" ><label for=\"sk-estimator-id-3\" class=\"sk-toggleable__label sk-toggleable__label-arrow\">estimator: RandomForestClassifier</label><div class=\"sk-toggleable__content\"><pre>RandomForestClassifier()</pre></div></div></div><div class=\"sk-serial\"><div class=\"sk-item\"><div class=\"sk-estimator sk-toggleable\"><input class=\"sk-toggleable__control sk-hidden--visually\" id=\"sk-estimator-id-4\" type=\"checkbox\" ><label for=\"sk-estimator-id-4\" class=\"sk-toggleable__label sk-toggleable__label-arrow\">RandomForestClassifier</label><div class=\"sk-toggleable__content\"><pre>RandomForestClassifier()</pre></div></div></div></div></div></div></div></div></div></div>"
          },
          "metadata": {}
        }
      ],
      "outputs_reference": null,
      "execution_count": null,
      "block_group": "bed667bf4fb644a4ad8dd287c4139fa3",
      "content_dependencies": null
    },
    {
      "cell_type": "code",
      "source": "# Fetch the best Model or the best set of Hyper-parameters\nprint(hpGrid.best_estimator_)\n\n# Print the score (accuracy) of the best Model after CV\nprint(np.abs(hpGrid.best_score_))",
      "metadata": {
        "source_hash": null,
        "execution_start": 1713278905724,
        "execution_millis": 112,
        "deepnote_to_be_reexecuted": false,
        "cell_id": "8e34809a1ba6430bb0779d68063b1db8",
        "deepnote_cell_type": "code"
      },
      "outputs": [
        {
          "name": "stdout",
          "text": "RandomForestClassifier(max_depth=10, n_estimators=800)\n0.7534684316981759\n",
          "output_type": "stream"
        }
      ],
      "outputs_reference": null,
      "execution_count": null,
      "block_group": "1b19242b89454cec8caef055c39673f3",
      "content_dependencies": null
    },
    {
      "cell_type": "code",
      "source": "",
      "metadata": {
        "cell_id": "f9738104ddc741d0a9d7ad0b789647d8",
        "deepnote_cell_type": "code"
      },
      "outputs": [],
      "outputs_reference": null,
      "execution_count": null,
      "block_group": "eb6e333556cf469cb0f3b817f7b149d5",
      "content_dependencies": null
    },
    {
      "cell_type": "markdown",
      "source": "<a style='text-decoration:none;line-height:16px;display:flex;color:#5B5B62;padding:10px;justify-content:end;' href='https://deepnote.com?utm_source=created-in-deepnote-cell&projectId=9215cc77-d380-4a1c-84d3-404198f889a3' target=\"_blank\">\n<img alt='Created in deepnote.com' style='display:inline;max-height:16px;margin:0px;margin-right:7.5px;' src='data:image/svg+xml;base64,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' > </img>\nCreated in <span style='font-weight:600;margin-left:4px;'>Deepnote</span></a>",
      "metadata": {
        "created_in_deepnote_cell": true,
        "deepnote_cell_type": "markdown"
      }
    }
  ],
  "nbformat": 4,
  "nbformat_minor": 0,
  "metadata": {
    "deepnote_notebook_id": "a9db32f2d54646cea399020475b8f790",
    "deepnote_execution_queue": []
  }
}