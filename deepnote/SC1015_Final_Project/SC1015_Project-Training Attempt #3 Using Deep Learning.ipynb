{
  "cells": [
    {
      "cell_type": "markdown",
      "source": "In real life, humans use information from text and title to determine if a piece of news is fake or not\n\n\n\n\nIn the previous models, we mostly depended on the word type and frequency, but did not use the meaning and order of words to determine the veracity of the news\n\n\n\n\nUsing Deep Learning, We can perform this, with the use of Attention Mechanisms and word embeddings\n\n\n\n\nWhat is BERT?\n\n\n![Alt text](https://www.researchgate.net/publication/358239462/figure/fig2/AS:1120931644747777@1644262338087/The-DistilBERT-model-architecture-and-components.png \"BERT Architecture\")\n\n\n\n\nBERT (Bidirectional Encoder Representations from Transformers) is a method of pretraining language representations that was used to create models that NLP practitioners can then download and use for free. We use these models to extract high quality language features from your text data, and fine-tune these models on our classification problem with our data to produce state of the art predictions.\n\n\n\n\nWe decided to use DistillBERT, as BERT architecture allows for Bidirectional Encoding of the text, which should improve classification compared to other forms of Encoding like TD-IDF or other Neural Net based Unidirectional Encodings like Word2Vec or Glove. \n\n\n\n\nFor example, given two sentences: \"The man was accused of robbing a bank.\" \"The man went fishing by the bank of the river.\"  Embeddings like Word2Vec and TDIDF would produce the same word embedding for the word \"bank\" in both sentences, while under BERT the word embedding for \"bank\" would be different for each sentence which is more in line with the meaning of the sentence.\n\n\n\n\nAs BERT also comes with a variety of versions, we decided to use DistillBERT, a smaller model with similar accuracy , given the relatively smaller size of the dataset to prevent excessive overfitting and the computational time limit of 12hours on Kaggle\n\n\n\n\nIn this project, we applied Transfer Learning, using a Encoder and Model Trained on Wikipedia pages. We hypothesize that such a approach should be the most effective, given that detection of fake news require a deep existing knowledge base, which the pretrained model weights should reflect\n\n\n\n\nWe Freeze the weights and add a SoftMax layer to obtain a classifier which outputs 0 and 1 (Not done yet) \n\n\n\n\nDue to lack of computational time, we are unable to do automated hyperparameter tuning experiments, but found that the default hyperparameters was able to produce state of the art results on both the testing and validation results, with the model slightly underfitting which means that the model was effective in producing a generalization of the data.\n\n\n\n\n",
      "metadata": {
        "tags": [],
        "papermill": {
          "status": "completed",
          "duration": 0.008473,
          "end_time": "2024-04-19T17:43:20.195377",
          "exception": false,
          "start_time": "2024-04-19T17:43:20.186904"
        },
        "cell_id": "99cce4cbef3943899730802afce58401",
        "deepnote_cell_type": "markdown"
      },
      "block_group": "d625038b56034763944ef3448b00daee"
    },
    {
      "cell_type": "code",
      "source": "# This Python 3 environment comes with many helpful analytics libraries installed\n# It is defined by the kaggle/python Docker image: https://github.com/kaggle/docker-python\n# For example, here's several helpful packages to load\n\nimport numpy as np # linear algebra\nimport pandas as pd # data processing, CSV file I/O (e.g. pd.read_csv)\nimport seaborn as sb\nimport torch\nimport os\nfrom transformers import BertTokenizer, TFBertModel,BertForSequenceClassification,DistilBertTokenizerFast,DistilBertModel, Trainer, TrainingArguments,DistilBertForSequenceClassification\nfrom sklearn.model_selection import train_test_split\nfrom sklearn.utils import shuffle\nfrom sklearn.metrics import accuracy_score, precision_recall_fscore_support, confusion_matrix, classification_report\n# Input data files are available in the read-only \"../input/\" directory\n# For example, running this (by clicking run or pressing Shift+Enter) will list all files under the input directory\n\nimport os\nfor dirname, _, filenames in os.walk('/kaggle/input'):\n    for filename in filenames:\n        print(os.path.join(dirname, filename))\n\n# You can write up to 20GB to the current directory (/kaggle/working/) that gets preserved as output when you create a version using \"Save & Run All\" \n# You can also write temporary files to /kaggle/temp/, but they won't be saved outside of the current session",
      "metadata": {
        "tags": [],
        "_uuid": "8f2839f25d086af736a60e9eeb907d3b93b6e0e5",
        "execution": {
          "iopub.status.busy": "2024-04-19T17:43:20.212985Z",
          "iopub.status.idle": "2024-04-19T17:43:40.699147Z",
          "iopub.execute_input": "2024-04-19T17:43:20.213837Z",
          "shell.execute_reply": "2024-04-19T17:43:40.697917Z"
        },
        "papermill": {
          "status": "completed",
          "duration": 20.497606,
          "end_time": "2024-04-19T17:43:40.701287",
          "exception": false,
          "start_time": "2024-04-19T17:43:20.203681"
        },
        "_cell_guid": "b1076dfc-b9ad-4769-8c92-a6c4dae69d19",
        "cell_id": "dc2de8df624f4bc18055a3875ce13142",
        "deepnote_cell_type": "code"
      },
      "outputs": [
        {
          "name": "stderr",
          "output_type": "stream",
          "text": "2024-04-19 17:43:30.057401: E external/local_xla/xla/stream_executor/cuda/cuda_dnn.cc:9261] Unable to register cuDNN factory: Attempting to register factory for plugin cuDNN when one has already been registered\n2024-04-19 17:43:30.057507: E external/local_xla/xla/stream_executor/cuda/cuda_fft.cc:607] Unable to register cuFFT factory: Attempting to register factory for plugin cuFFT when one has already been registered\n2024-04-19 17:43:30.190531: E external/local_xla/xla/stream_executor/cuda/cuda_blas.cc:1515] Unable to register cuBLAS factory: Attempting to register factory for plugin cuBLAS when one has already been registered\n"
        },
        {
          "name": "stdout",
          "output_type": "stream",
          "text": "/kaggle/input/bert-trained/transformers/news_complete/1/config.json\n/kaggle/input/bert-trained/transformers/news_complete/1/trainer_state.json\n/kaggle/input/bert-trained/transformers/news_complete/1/training_args.bin\n/kaggle/input/bert-trained/transformers/news_complete/1/scheduler.pt\n/kaggle/input/bert-trained/transformers/news_complete/1/model.safetensors\n/kaggle/input/bert-trained/transformers/news_complete/1/optimizer.pt\n/kaggle/input/bert-trained/transformers/news_complete/1/rng_state.pth\n/kaggle/input/sc1005-news/True.csv\n/kaggle/input/sc1005-news/Fake.csv\n"
        }
      ],
      "outputs_reference": null,
      "execution_count": 1,
      "block_group": "d83ae72c358e4568a959e9d31ee1c3e7",
      "content_dependencies": null
    },
    {
      "cell_type": "code",
      "source": "true = pd.read_csv('/kaggle/input/sc1005-news/True.csv')\nfalse = pd.read_csv('/kaggle/input/sc1005-news/Fake.csv')",
      "metadata": {
        "tags": [],
        "execution": {
          "iopub.status.busy": "2024-04-19T17:43:40.718413Z",
          "iopub.status.idle": "2024-04-19T17:43:43.135241Z",
          "iopub.execute_input": "2024-04-19T17:43:40.719366Z",
          "shell.execute_reply": "2024-04-19T17:43:43.134428Z"
        },
        "papermill": {
          "status": "completed",
          "duration": 2.428476,
          "end_time": "2024-04-19T17:43:43.137800",
          "exception": false,
          "start_time": "2024-04-19T17:43:40.709324"
        },
        "cell_id": "af8bd0d46b174434a644b1630ca7ae71",
        "deepnote_cell_type": "code"
      },
      "outputs": [],
      "outputs_reference": null,
      "execution_count": 2,
      "block_group": "edefa83417e04c4e80347654c2164440",
      "content_dependencies": null
    },
    {
      "cell_type": "code",
      "source": "# Add a 'truth' column to each dataframe with the appropriate values\ntrue['label'] = 1\nfalse['label'] = 0\n\n# for presentation \ntrue['label_meaning'] = True \nfalse['label_meaning'] = False\n\n# Concatenate the two dataframes into a single dataframe\ncombined_news = pd.concat([true, false], ignore_index=True)\n\n# shuffle the rows\nnews = combined_news.sample(frac=1).reset_index(drop=True)\nnews.head()",
      "metadata": {
        "tags": [],
        "execution": {
          "iopub.status.busy": "2024-04-19T17:43:43.154693Z",
          "iopub.status.idle": "2024-04-19T17:43:43.196168Z",
          "iopub.execute_input": "2024-04-19T17:43:43.155417Z",
          "shell.execute_reply": "2024-04-19T17:43:43.195175Z"
        },
        "papermill": {
          "status": "completed",
          "duration": 0.052368,
          "end_time": "2024-04-19T17:43:43.198334",
          "exception": false,
          "start_time": "2024-04-19T17:43:43.145966"
        },
        "cell_id": "d1f30f49386e4324bae3a9bcf6b963a9",
        "deepnote_cell_type": "code"
      },
      "outputs": [
        {
          "data": {
            "text/html": "<div>\n<style scoped>\n    .dataframe tbody tr th:only-of-type {\n        vertical-align: middle;\n    }\n\n    .dataframe tbody tr th {\n        vertical-align: top;\n    }\n\n    .dataframe thead th {\n        text-align: right;\n    }\n</style>\n<table border=\"1\" class=\"dataframe\">\n  <thead>\n    <tr style=\"text-align: right;\">\n      <th></th>\n      <th>title</th>\n      <th>text</th>\n      <th>subject</th>\n      <th>date</th>\n      <th>label</th>\n      <th>label_meaning</th>\n    </tr>\n  </thead>\n  <tbody>\n    <tr>\n      <th>0</th>\n      <td>Pakistan's top diplomat pushes back on U.S. cl...</td>\n      <td>WASHINGTON (Reuters) - Pakistan s foreign mini...</td>\n      <td>worldnews</td>\n      <td>October 5, 2017</td>\n      <td>1</td>\n      <td>True</td>\n    </tr>\n    <tr>\n      <th>1</th>\n      <td>Merkel: Strong result for Austria's FPO 'big c...</td>\n      <td>BERLIN (Reuters) - German Chancellor Angela Me...</td>\n      <td>worldnews</td>\n      <td>October 16, 2017</td>\n      <td>1</td>\n      <td>True</td>\n    </tr>\n    <tr>\n      <th>2</th>\n      <td>Stock Market Literally SHUTS DOWN And Dollar ...</td>\n      <td>The prospect of Donald Trump winning the presi...</td>\n      <td>News</td>\n      <td>November 8, 2016</td>\n      <td>0</td>\n      <td>False</td>\n    </tr>\n    <tr>\n      <th>3</th>\n      <td>Trump order to ease ban on political activity ...</td>\n      <td>WASHINGTON (Reuters) - President Donald Trump ...</td>\n      <td>politicsNews</td>\n      <td>May 3, 2017</td>\n      <td>1</td>\n      <td>True</td>\n    </tr>\n    <tr>\n      <th>4</th>\n      <td>NEWT GINGRICH Slams DOJ’s Sessions: “It’s time...</td>\n      <td>A cesspool of corruption    Newt Gingrich cal...</td>\n      <td>politics</td>\n      <td>Dec 15, 2017</td>\n      <td>0</td>\n      <td>False</td>\n    </tr>\n  </tbody>\n</table>\n</div>",
            "text/plain": "                                               title  \\\n0  Pakistan's top diplomat pushes back on U.S. cl...   \n1  Merkel: Strong result for Austria's FPO 'big c...   \n2   Stock Market Literally SHUTS DOWN And Dollar ...   \n3  Trump order to ease ban on political activity ...   \n4  NEWT GINGRICH Slams DOJ’s Sessions: “It’s time...   \n\n                                                text       subject  \\\n0  WASHINGTON (Reuters) - Pakistan s foreign mini...     worldnews   \n1  BERLIN (Reuters) - German Chancellor Angela Me...     worldnews   \n2  The prospect of Donald Trump winning the presi...          News   \n3  WASHINGTON (Reuters) - President Donald Trump ...  politicsNews   \n4   A cesspool of corruption    Newt Gingrich cal...      politics   \n\n                date  label  label_meaning  \n0   October 5, 2017       1           True  \n1  October 16, 2017       1           True  \n2   November 8, 2016      0          False  \n3       May 3, 2017       1           True  \n4       Dec 15, 2017      0          False  "
          },
          "execution_count": 3,
          "metadata": {},
          "output_type": "execute_result"
        }
      ],
      "outputs_reference": null,
      "execution_count": 3,
      "block_group": "04cc0742430e44e3a5466da9c01c8493",
      "content_dependencies": null
    },
    {
      "cell_type": "code",
      "source": "#create new dataframe with title,text,label\nnews_cleaned = news[['title','text','label']]",
      "metadata": {
        "tags": [],
        "execution": {
          "iopub.status.busy": "2024-04-19T17:43:43.216336Z",
          "iopub.status.idle": "2024-04-19T17:43:43.226524Z",
          "iopub.execute_input": "2024-04-19T17:43:43.217137Z",
          "shell.execute_reply": "2024-04-19T17:43:43.225658Z"
        },
        "papermill": {
          "status": "completed",
          "duration": 0.021502,
          "end_time": "2024-04-19T17:43:43.228390",
          "exception": false,
          "start_time": "2024-04-19T17:43:43.206888"
        },
        "cell_id": "522fafc9a7d2457db08ddd67e214ddf3",
        "deepnote_cell_type": "code"
      },
      "outputs": [],
      "outputs_reference": null,
      "execution_count": 4,
      "block_group": "3aa7da1ac17d4f05b641290c3c7e24a9",
      "content_dependencies": null
    },
    {
      "cell_type": "markdown",
      "source": "Combining the title and the text together in a column 'comb_text'",
      "metadata": {
        "tags": [],
        "papermill": {
          "status": "completed",
          "duration": 0.007981,
          "end_time": "2024-04-19T17:43:43.244545",
          "exception": false,
          "start_time": "2024-04-19T17:43:43.236564"
        },
        "formattedRanges": [],
        "cell_id": "c2c2a96ade234750a94869b198736247",
        "deepnote_cell_type": "text-cell-p"
      },
      "block_group": "254946d1a3fa4447ac012f37415ebd6b"
    },
    {
      "cell_type": "code",
      "source": "\n\n# Purify by merging the title and text\nnews_cleaned['comb_text'] = news_cleaned[['title', 'text']].agg(''.join, axis=1)\ndisplay(news_cleaned)\n# Shuffle to check veracity of cleaning\nnews_cleaned = shuffle(news_cleaned).reset_index(drop=True)\n",
      "metadata": {
        "tags": [],
        "execution": {
          "iopub.status.busy": "2024-04-19T17:43:43.262508Z",
          "iopub.status.idle": "2024-04-19T17:43:43.839474Z",
          "iopub.execute_input": "2024-04-19T17:43:43.262886Z",
          "shell.execute_reply": "2024-04-19T17:43:43.838634Z"
        },
        "papermill": {
          "status": "completed",
          "duration": 0.588728,
          "end_time": "2024-04-19T17:43:43.841733",
          "exception": false,
          "start_time": "2024-04-19T17:43:43.253005"
        },
        "cell_id": "9860630e28f048b5bf138a608a4b5080",
        "deepnote_cell_type": "code"
      },
      "outputs": [
        {
          "name": "stderr",
          "output_type": "stream",
          "text": "/tmp/ipykernel_24/1138330582.py:2: SettingWithCopyWarning: \nA value is trying to be set on a copy of a slice from a DataFrame.\nTry using .loc[row_indexer,col_indexer] = value instead\n\nSee the caveats in the documentation: https://pandas.pydata.org/pandas-docs/stable/user_guide/indexing.html#returning-a-view-versus-a-copy\n  news_cleaned['comb_text'] = news_cleaned[['title', 'text']].agg(''.join, axis=1)\n"
        },
        {
          "data": {
            "text/html": "<div>\n<style scoped>\n    .dataframe tbody tr th:only-of-type {\n        vertical-align: middle;\n    }\n\n    .dataframe tbody tr th {\n        vertical-align: top;\n    }\n\n    .dataframe thead th {\n        text-align: right;\n    }\n</style>\n<table border=\"1\" class=\"dataframe\">\n  <thead>\n    <tr style=\"text-align: right;\">\n      <th></th>\n      <th>title</th>\n      <th>text</th>\n      <th>label</th>\n      <th>comb_text</th>\n    </tr>\n  </thead>\n  <tbody>\n    <tr>\n      <th>0</th>\n      <td>Pakistan's top diplomat pushes back on U.S. cl...</td>\n      <td>WASHINGTON (Reuters) - Pakistan s foreign mini...</td>\n      <td>1</td>\n      <td>Pakistan's top diplomat pushes back on U.S. cl...</td>\n    </tr>\n    <tr>\n      <th>1</th>\n      <td>Merkel: Strong result for Austria's FPO 'big c...</td>\n      <td>BERLIN (Reuters) - German Chancellor Angela Me...</td>\n      <td>1</td>\n      <td>Merkel: Strong result for Austria's FPO 'big c...</td>\n    </tr>\n    <tr>\n      <th>2</th>\n      <td>Stock Market Literally SHUTS DOWN And Dollar ...</td>\n      <td>The prospect of Donald Trump winning the presi...</td>\n      <td>0</td>\n      <td>Stock Market Literally SHUTS DOWN And Dollar ...</td>\n    </tr>\n    <tr>\n      <th>3</th>\n      <td>Trump order to ease ban on political activity ...</td>\n      <td>WASHINGTON (Reuters) - President Donald Trump ...</td>\n      <td>1</td>\n      <td>Trump order to ease ban on political activity ...</td>\n    </tr>\n    <tr>\n      <th>4</th>\n      <td>NEWT GINGRICH Slams DOJ’s Sessions: “It’s time...</td>\n      <td>A cesspool of corruption    Newt Gingrich cal...</td>\n      <td>0</td>\n      <td>NEWT GINGRICH Slams DOJ’s Sessions: “It’s time...</td>\n    </tr>\n    <tr>\n      <th>...</th>\n      <td>...</td>\n      <td>...</td>\n      <td>...</td>\n      <td>...</td>\n    </tr>\n    <tr>\n      <th>44893</th>\n      <td>SOMEONE CALL THE Waaambulance! Glenn Beck Warn...</td>\n      <td>Hey Glenn, suicide is no laughing matter, and ...</td>\n      <td>0</td>\n      <td>SOMEONE CALL THE Waaambulance! Glenn Beck Warn...</td>\n    </tr>\n    <tr>\n      <th>44894</th>\n      <td>U.S. military unfunded requirement list at $33...</td>\n      <td>WASHINGTON (Reuters) - U.S. Defense Secretary ...</td>\n      <td>1</td>\n      <td>U.S. military unfunded requirement list at $33...</td>\n    </tr>\n    <tr>\n      <th>44895</th>\n      <td>Bill O’Reilly Appears ‘Stumble Drunk’ As He T...</td>\n      <td>Fox News veteran Bill O Reilly is being slaugh...</td>\n      <td>0</td>\n      <td>Bill O’Reilly Appears ‘Stumble Drunk’ As He T...</td>\n    </tr>\n    <tr>\n      <th>44896</th>\n      <td>Congressional Black Caucus Cries Foul Over Su...</td>\n      <td>Earlier this week, following Hillary Clinton s...</td>\n      <td>0</td>\n      <td>Congressional Black Caucus Cries Foul Over Su...</td>\n    </tr>\n    <tr>\n      <th>44897</th>\n      <td>Republican Christie assesses future of White H...</td>\n      <td>WASHINGTON (Reuters) - Republican Chris Christ...</td>\n      <td>1</td>\n      <td>Republican Christie assesses future of White H...</td>\n    </tr>\n  </tbody>\n</table>\n<p>44898 rows × 4 columns</p>\n</div>",
            "text/plain": "                                                   title  \\\n0      Pakistan's top diplomat pushes back on U.S. cl...   \n1      Merkel: Strong result for Austria's FPO 'big c...   \n2       Stock Market Literally SHUTS DOWN And Dollar ...   \n3      Trump order to ease ban on political activity ...   \n4      NEWT GINGRICH Slams DOJ’s Sessions: “It’s time...   \n...                                                  ...   \n44893  SOMEONE CALL THE Waaambulance! Glenn Beck Warn...   \n44894  U.S. military unfunded requirement list at $33...   \n44895   Bill O’Reilly Appears ‘Stumble Drunk’ As He T...   \n44896   Congressional Black Caucus Cries Foul Over Su...   \n44897  Republican Christie assesses future of White H...   \n\n                                                    text  label  \\\n0      WASHINGTON (Reuters) - Pakistan s foreign mini...      1   \n1      BERLIN (Reuters) - German Chancellor Angela Me...      1   \n2      The prospect of Donald Trump winning the presi...      0   \n3      WASHINGTON (Reuters) - President Donald Trump ...      1   \n4       A cesspool of corruption    Newt Gingrich cal...      0   \n...                                                  ...    ...   \n44893  Hey Glenn, suicide is no laughing matter, and ...      0   \n44894  WASHINGTON (Reuters) - U.S. Defense Secretary ...      1   \n44895  Fox News veteran Bill O Reilly is being slaugh...      0   \n44896  Earlier this week, following Hillary Clinton s...      0   \n44897  WASHINGTON (Reuters) - Republican Chris Christ...      1   \n\n                                               comb_text  \n0      Pakistan's top diplomat pushes back on U.S. cl...  \n1      Merkel: Strong result for Austria's FPO 'big c...  \n2       Stock Market Literally SHUTS DOWN And Dollar ...  \n3      Trump order to ease ban on political activity ...  \n4      NEWT GINGRICH Slams DOJ’s Sessions: “It’s time...  \n...                                                  ...  \n44893  SOMEONE CALL THE Waaambulance! Glenn Beck Warn...  \n44894  U.S. military unfunded requirement list at $33...  \n44895   Bill O’Reilly Appears ‘Stumble Drunk’ As He T...  \n44896   Congressional Black Caucus Cries Foul Over Su...  \n44897  Republican Christie assesses future of White H...  \n\n[44898 rows x 4 columns]"
          },
          "metadata": {},
          "output_type": "display_data"
        }
      ],
      "outputs_reference": null,
      "execution_count": 5,
      "block_group": "8b683db284f645dcb9be2748d5f69f9a",
      "content_dependencies": null
    },
    {
      "cell_type": "code",
      "source": "news_cleaned = news_cleaned[['comb_text','label']]",
      "metadata": {
        "tags": [],
        "execution": {
          "iopub.status.busy": "2024-04-19T17:43:43.861969Z",
          "iopub.status.idle": "2024-04-19T17:43:43.871834Z",
          "iopub.execute_input": "2024-04-19T17:43:43.862315Z",
          "shell.execute_reply": "2024-04-19T17:43:43.870860Z"
        },
        "papermill": {
          "status": "completed",
          "duration": 0.02174,
          "end_time": "2024-04-19T17:43:43.873863",
          "exception": false,
          "start_time": "2024-04-19T17:43:43.852123"
        },
        "cell_id": "a601b766ba454e618b8ece080fd5ec74",
        "deepnote_cell_type": "code"
      },
      "outputs": [],
      "outputs_reference": null,
      "execution_count": 6,
      "block_group": "db2e583f45af45c4ab8a13d072d14812",
      "content_dependencies": null
    },
    {
      "cell_type": "code",
      "source": "df_texts, df_labels = news_cleaned[\"comb_text\"].to_list(),news_cleaned[\"label\"].to_list()",
      "metadata": {
        "tags": [],
        "execution": {
          "iopub.status.busy": "2024-04-19T17:43:43.892627Z",
          "iopub.status.idle": "2024-04-19T17:43:43.900942Z",
          "iopub.execute_input": "2024-04-19T17:43:43.893459Z",
          "shell.execute_reply": "2024-04-19T17:43:43.899997Z"
        },
        "papermill": {
          "status": "completed",
          "duration": 0.020105,
          "end_time": "2024-04-19T17:43:43.902880",
          "exception": false,
          "start_time": "2024-04-19T17:43:43.882775"
        },
        "cell_id": "c71006f866094b6195aa096e1a3f22bc",
        "deepnote_cell_type": "code"
      },
      "outputs": [],
      "outputs_reference": null,
      "execution_count": 7,
      "block_group": "0e73b1f3558b47328deb968db503ca83",
      "content_dependencies": null
    },
    {
      "cell_type": "code",
      "source": "train_texts, val_texts, train_labels, val_labels = train_test_split(df_texts, df_labels, test_size=.3)",
      "metadata": {
        "tags": [],
        "execution": {
          "iopub.status.busy": "2024-04-19T17:43:43.921557Z",
          "iopub.status.idle": "2024-04-19T17:43:43.949053Z",
          "iopub.execute_input": "2024-04-19T17:43:43.922246Z",
          "shell.execute_reply": "2024-04-19T17:43:43.947984Z"
        },
        "papermill": {
          "status": "completed",
          "duration": 0.039437,
          "end_time": "2024-04-19T17:43:43.951018",
          "exception": false,
          "start_time": "2024-04-19T17:43:43.911581"
        },
        "cell_id": "50fb6b34a325498ca8dace0333840266",
        "deepnote_cell_type": "code"
      },
      "outputs": [],
      "outputs_reference": null,
      "execution_count": 8,
      "block_group": "39cec61d69994469926451a978aaffba",
      "content_dependencies": null
    },
    {
      "cell_type": "code",
      "source": "model_name = DistilBertModel.from_pretrained(\"distilbert-base-uncased\")\ntokenizer = DistilBertTokenizerFast.from_pretrained(\"distilbert-base-uncased\")",
      "metadata": {
        "tags": [],
        "execution": {
          "iopub.status.busy": "2024-04-19T17:43:43.970123Z",
          "iopub.status.idle": "2024-04-19T17:43:47.002386Z",
          "iopub.execute_input": "2024-04-19T17:43:43.970479Z",
          "shell.execute_reply": "2024-04-19T17:43:47.001378Z"
        },
        "papermill": {
          "status": "completed",
          "duration": 3.044715,
          "end_time": "2024-04-19T17:43:47.004880",
          "exception": false,
          "start_time": "2024-04-19T17:43:43.960165"
        },
        "cell_id": "a6da4cb1e89d41b5a31eeeddd7612744",
        "deepnote_cell_type": "code"
      },
      "outputs": [
        {
          "data": {
            "application/vnd.jupyter.widget-view+json": {
              "model_id": "ce88a1796cc3404586d341e9dd6f621e",
              "version_major": 2,
              "version_minor": 0
            },
            "text/plain": "config.json:   0%|          | 0.00/483 [00:00<?, ?B/s]"
          },
          "metadata": {},
          "output_type": "display_data"
        },
        {
          "data": {
            "application/vnd.jupyter.widget-view+json": {
              "model_id": "1508dcb6553e4dea989032ed88cbf8f2",
              "version_major": 2,
              "version_minor": 0
            },
            "text/plain": "model.safetensors:   0%|          | 0.00/268M [00:00<?, ?B/s]"
          },
          "metadata": {},
          "output_type": "display_data"
        },
        {
          "data": {
            "application/vnd.jupyter.widget-view+json": {
              "model_id": "9893f8388041449cac07f22549d54641",
              "version_major": 2,
              "version_minor": 0
            },
            "text/plain": "tokenizer_config.json:   0%|          | 0.00/28.0 [00:00<?, ?B/s]"
          },
          "metadata": {},
          "output_type": "display_data"
        },
        {
          "data": {
            "application/vnd.jupyter.widget-view+json": {
              "model_id": "8342b672aaf34f53a01b6940f8a95972",
              "version_major": 2,
              "version_minor": 0
            },
            "text/plain": "vocab.txt:   0%|          | 0.00/232k [00:00<?, ?B/s]"
          },
          "metadata": {},
          "output_type": "display_data"
        },
        {
          "data": {
            "application/vnd.jupyter.widget-view+json": {
              "model_id": "15a51963b7ac41f4946485095875b421",
              "version_major": 2,
              "version_minor": 0
            },
            "text/plain": "tokenizer.json:   0%|          | 0.00/466k [00:00<?, ?B/s]"
          },
          "metadata": {},
          "output_type": "display_data"
        }
      ],
      "outputs_reference": null,
      "execution_count": 9,
      "block_group": "c1873b52abeb49f199389d20c342be7d",
      "content_dependencies": null
    },
    {
      "cell_type": "code",
      "source": "#obtain DistillBERT word encodings, and generate key, query, value tensors for training\n#Pad to the longest sequence in the batch \n#Truncate to a maximum length specified with the argument max_length or to the maximum acceptable input length for the model. This will truncate token by token, removing a token from the longest sequence in the pair if a pair of sequences (or a batch of pairs) is provided.\ntrain_encodings = tokenizer(train_texts, truncation=True, padding=True)\nval_encodings = tokenizer(val_texts, truncation=True, padding=True)",
      "metadata": {
        "tags": [],
        "execution": {
          "iopub.status.busy": "2024-04-19T17:43:47.025560Z",
          "iopub.status.idle": "2024-04-19T17:44:21.417571Z",
          "iopub.execute_input": "2024-04-19T17:43:47.025911Z",
          "shell.execute_reply": "2024-04-19T17:44:21.416743Z"
        },
        "papermill": {
          "status": "completed",
          "duration": 34.405318,
          "end_time": "2024-04-19T17:44:21.420009",
          "exception": false,
          "start_time": "2024-04-19T17:43:47.014691"
        },
        "cell_id": "854c094865ee42c5be4c923de52e4df0",
        "deepnote_cell_type": "code"
      },
      "outputs": [],
      "outputs_reference": null,
      "execution_count": 10,
      "block_group": "83f033287ed14cf0b020fce71ac6acc6",
      "content_dependencies": null
    },
    {
      "cell_type": "code",
      "source": "#class to return encodings and labels for training\nclass NewsDataset(torch.utils.data.Dataset):\n    def __init__(self, encodings, labels):\n        self.encodings = encodings\n        self.labels = labels\n\n    def __getitem__(self, idx):\n        item = {key: torch.tensor(val[idx]) for key, val in self.encodings.items()}\n        item['labels'] = torch.tensor(self.labels[idx])\n        return item\n\n    def __len__(self):\n        return len(self.labels)\n\ntrain_dataset = NewsDataset(train_encodings, train_labels)\nval_dataset = NewsDataset(val_encodings, val_labels)",
      "metadata": {
        "tags": [],
        "execution": {
          "iopub.status.busy": "2024-04-19T17:44:21.440491Z",
          "iopub.status.idle": "2024-04-19T17:44:21.447219Z",
          "iopub.execute_input": "2024-04-19T17:44:21.440840Z",
          "shell.execute_reply": "2024-04-19T17:44:21.446313Z"
        },
        "papermill": {
          "status": "completed",
          "duration": 0.018997,
          "end_time": "2024-04-19T17:44:21.449054",
          "exception": false,
          "start_time": "2024-04-19T17:44:21.430057"
        },
        "cell_id": "e0e42a8e1dba428884536f5cdbb28868",
        "deepnote_cell_type": "code"
      },
      "outputs": [],
      "outputs_reference": null,
      "execution_count": 11,
      "block_group": "e776751df1664dc9ae945ebfa2fbb54c",
      "content_dependencies": null
    },
    {
      "cell_type": "code",
      "source": "def training_compute_metrics(pred):\n    labels = pred.label_ids\n    preds = pred.predictions.argmax(-1)\n \n    \n    precision, recall, f1, _ = precision_recall_fscore_support(labels, preds, average='binary')\n    acc = accuracy_score(labels, preds)\n    \n    return {\n        'accuracy': acc,\n        'f1': f1,\n        'precision': precision,\n        'recall': recall\n    }",
      "metadata": {
        "tags": [],
        "execution": {
          "iopub.status.busy": "2024-04-19T17:44:21.468323Z",
          "iopub.status.idle": "2024-04-19T17:44:21.473757Z",
          "iopub.execute_input": "2024-04-19T17:44:21.468618Z",
          "shell.execute_reply": "2024-04-19T17:44:21.472891Z"
        },
        "papermill": {
          "status": "completed",
          "duration": 0.017609,
          "end_time": "2024-04-19T17:44:21.475926",
          "exception": false,
          "start_time": "2024-04-19T17:44:21.458317"
        },
        "cell_id": "8d4e46e748ee430fbf579e2ff35e44d3",
        "deepnote_cell_type": "code"
      },
      "outputs": [],
      "outputs_reference": null,
      "execution_count": 12,
      "block_group": "831fe18ef1c04573815905b49a7aafd9",
      "content_dependencies": null
    },
    {
      "cell_type": "code",
      "source": "#function to evaluate test data\ndef compute_metrics(pred):\n    labels = pred.label_ids\n    preds = pred.predictions.argmax(-1)\n \n    \n    precision, recall, f1, _ = precision_recall_fscore_support(labels, preds, average='binary')\n    acc = accuracy_score(labels, preds)\n    # Print the Accuracy Measures from the Confusion Matrix\n    cmTest = confusion_matrix(labels.tolist(), preds.tolist())\n    tpTest = cmTest[1][1] # True Positives : Good (1) predicted Good (1)\n    fpTest = cmTest[0][1] # False Positives : Bad (0) predicted Good (1)\n    tnTest = cmTest[0][0] # True Negatives : Bad (0) predicted Bad (0)\n    fnTest = cmTest[1][0] # False Negatives : Good (1) predicted Bad (0)\n\n    print(\"TPR Test :\\t\", (tpTest/(tpTest + fnTest)))\n    print(\"TNR Test :\\t\", (tnTest/(tnTest + fpTest)))\n    print()\n\n    print(\"FPR Test :\\t\", (fpTest/(tnTest + fpTest)))\n    print(\"FNR Test :\\t\", (fnTest/(tpTest + fnTest)))\n\n    # Plot the two-way Confusion Matrix\n    sb.heatmap(cmTest, \n               annot = True, fmt=\".0f\", annot_kws={\"size\": 18})\n    return {\n        'accuracy': acc,\n        'f1': f1,\n        'precision': precision,\n        'recall': recall\n    }",
      "metadata": {
        "tags": [],
        "execution": {
          "iopub.status.busy": "2024-04-19T17:44:21.496227Z",
          "iopub.status.idle": "2024-04-19T17:44:21.504963Z",
          "iopub.execute_input": "2024-04-19T17:44:21.496844Z",
          "shell.execute_reply": "2024-04-19T17:44:21.504013Z"
        },
        "papermill": {
          "status": "completed",
          "duration": 0.021201,
          "end_time": "2024-04-19T17:44:21.506848",
          "exception": false,
          "start_time": "2024-04-19T17:44:21.485647"
        },
        "cell_id": "e6e71bc7e0884f499f57b8cd16c6de25",
        "deepnote_cell_type": "code"
      },
      "outputs": [],
      "outputs_reference": null,
      "execution_count": 13,
      "block_group": "469526369ac74857948b0f59c50b3fc7",
      "content_dependencies": null
    },
    {
      "cell_type": "code",
      "source": "#function to evaluate test data\ndef compute_train_metrics(pred):\n    labels = pred.label_ids\n    preds = pred.predictions.argmax(-1)\n    precision, recall, f1, _ = precision_recall_fscore_support(labels, preds, average='binary')\n    acc = accuracy_score(labels, preds)\n    # Print the Accuracy Measures from the Confusion Matrix\n    cmTrain = confusion_matrix(labels, preds)\n    tpTrain = cmTrain[1][1] # True Positives : Good (1) predicted Good (1)\n    fpTrain = cmTrain[0][1] # False Positives : Bad (0) predicted Good (1)\n    tnTrain = cmTrain[0][0] # True Negatives : Bad (0) predicted Bad (0)\n    fnTrain = cmTrain[1][0] # False Negatives : Good (1) predicted Bad (0)\n\n    print(\"TPR Train :\\t\", (tpTrain/(tpTrain + fnTrain)))\n    print(\"TNR Train :\\t\", (tnTrain/(tnTrain + fpTrain)))\n    print()\n\n    print(\"FPR Train :\\t\", (fpTrain/(tnTrain + fpTrain)))\n    print(\"FNR Train :\\t\", (fnTrain/(tpTrain + fnTrain)))\n\n    # Plot the two-way Confusion Matrix\n    sb.heatmap(cmTrain, \n               annot = True, fmt=\".0f\", annot_kws={\"size\": 18})\n    return {\n        'accuracy': acc,\n        'f1': f1,\n        'precision': precision,\n        'recall': recall\n    }",
      "metadata": {
        "tags": [],
        "execution": {
          "iopub.status.busy": "2024-04-19T17:44:21.526947Z",
          "iopub.status.idle": "2024-04-19T17:44:21.535478Z",
          "iopub.execute_input": "2024-04-19T17:44:21.527560Z",
          "shell.execute_reply": "2024-04-19T17:44:21.534568Z"
        },
        "papermill": {
          "status": "completed",
          "duration": 0.021242,
          "end_time": "2024-04-19T17:44:21.537488",
          "exception": false,
          "start_time": "2024-04-19T17:44:21.516246"
        },
        "source_hash": "684633b5",
        "execution_start": 1713457067849,
        "execution_millis": 336,
        "deepnote_to_be_reexecuted": false,
        "cell_id": "2acbf78062dd4826b9e141b4c9646b78",
        "deepnote_cell_type": "code"
      },
      "outputs": [],
      "outputs_reference": null,
      "execution_count": 14,
      "block_group": "4b7275236c714920bd41c454a6412575",
      "content_dependencies": null
    },
    {
      "cell_type": "code",
      "source": "\nos.environ[\"WANDB_DISABLED\"] = \"true\"\n\ntraining_args = TrainingArguments(\n    output_dir='./results',          # output directory\n    num_train_epochs=3,              # total number of training epochs\n    per_device_train_batch_size=16,  # batch size per device during training\n    per_device_eval_batch_size=64,   # batch size for evaluation\n    warmup_steps=500,                # number of warmup steps for learning rate scheduler\n    weight_decay=0.01,               # strength of weight decay\n    logging_dir='./logs',            # directory for storing logs\n    logging_steps=10,\n    load_best_model_at_end=True,\n    evaluation_strategy =\"epoch\",\n    save_strategy = 'epoch'\n)\nmodel = DistilBertForSequenceClassification.from_pretrained(\"distilbert-base-uncased\")\n'''\nfor name, param in list(model.named_parameters())[:-3]:  \n    print(name)\n    param.requires_grad = False\n'''\nprint(f\"num params:\", model.num_parameters())\nprint(f\"num trainable params:\", model.num_parameters(only_trainable=True))\nprint(model)\n\ntrainer = Trainer(\n    model=model,                         # the instantiated 🤗 Transformers model to be trained\n    args=training_args,                  # training arguments, defined above\n    compute_metrics=training_compute_metrics,\n    train_dataset=train_dataset,         # training dataset\n    eval_dataset=train_dataset,             # evaluation dataset\n)\n\n",
      "metadata": {
        "tags": [],
        "execution": {
          "iopub.status.busy": "2024-04-19T17:44:21.557652Z",
          "iopub.status.idle": "2024-04-19T17:44:22.261401Z",
          "iopub.execute_input": "2024-04-19T17:44:21.558422Z",
          "shell.execute_reply": "2024-04-19T17:44:22.260581Z"
        },
        "papermill": {
          "status": "completed",
          "duration": 0.716669,
          "end_time": "2024-04-19T17:44:22.263783",
          "exception": false,
          "start_time": "2024-04-19T17:44:21.547114"
        },
        "cell_id": "f2c4906561d748b59d9637d13a30553a",
        "deepnote_cell_type": "code"
      },
      "outputs": [
        {
          "name": "stderr",
          "output_type": "stream",
          "text": "Using the `WANDB_DISABLED` environment variable is deprecated and will be removed in v5. Use the --report_to flag to control the integrations used for logging result (for instance --report_to none).\nSome weights of DistilBertForSequenceClassification were not initialized from the model checkpoint at distilbert-base-uncased and are newly initialized: ['classifier.bias', 'classifier.weight', 'pre_classifier.bias', 'pre_classifier.weight']\nYou should probably TRAIN this model on a down-stream task to be able to use it for predictions and inference.\n/opt/conda/lib/python3.10/site-packages/accelerate/accelerator.py:432: FutureWarning: Passing the following arguments to `Accelerator` is deprecated and will be removed in version 1.0 of Accelerate: dict_keys(['dispatch_batches', 'split_batches', 'even_batches', 'use_seedable_sampler']). Please pass an `accelerate.DataLoaderConfiguration` instead: \ndataloader_config = DataLoaderConfiguration(dispatch_batches=None, split_batches=False, even_batches=True, use_seedable_sampler=True)\n  warnings.warn(\n"
        },
        {
          "name": "stdout",
          "output_type": "stream",
          "text": "num params: 66955010\nnum trainable params: 66955010\nDistilBertForSequenceClassification(\n  (distilbert): DistilBertModel(\n    (embeddings): Embeddings(\n      (word_embeddings): Embedding(30522, 768, padding_idx=0)\n      (position_embeddings): Embedding(512, 768)\n      (LayerNorm): LayerNorm((768,), eps=1e-12, elementwise_affine=True)\n      (dropout): Dropout(p=0.1, inplace=False)\n    )\n    (transformer): Transformer(\n      (layer): ModuleList(\n        (0-5): 6 x TransformerBlock(\n          (attention): MultiHeadSelfAttention(\n            (dropout): Dropout(p=0.1, inplace=False)\n            (q_lin): Linear(in_features=768, out_features=768, bias=True)\n            (k_lin): Linear(in_features=768, out_features=768, bias=True)\n            (v_lin): Linear(in_features=768, out_features=768, bias=True)\n            (out_lin): Linear(in_features=768, out_features=768, bias=True)\n          )\n          (sa_layer_norm): LayerNorm((768,), eps=1e-12, elementwise_affine=True)\n          (ffn): FFN(\n            (dropout): Dropout(p=0.1, inplace=False)\n            (lin1): Linear(in_features=768, out_features=3072, bias=True)\n            (lin2): Linear(in_features=3072, out_features=768, bias=True)\n            (activation): GELUActivation()\n          )\n          (output_layer_norm): LayerNorm((768,), eps=1e-12, elementwise_affine=True)\n        )\n      )\n    )\n  )\n  (pre_classifier): Linear(in_features=768, out_features=768, bias=True)\n  (classifier): Linear(in_features=768, out_features=2, bias=True)\n  (dropout): Dropout(p=0.2, inplace=False)\n)\n"
        }
      ],
      "outputs_reference": null,
      "execution_count": 15,
      "block_group": "d9ccd6eaac4b4911829ed153104c3d18",
      "content_dependencies": null
    },
    {
      "cell_type": "code",
      "source": "trainer.train()",
      "metadata": {
        "tags": [],
        "execution": {
          "iopub.status.busy": "2024-04-19T17:44:22.284901Z",
          "iopub.status.idle": "2024-04-19T18:41:35.961395Z",
          "iopub.execute_input": "2024-04-19T17:44:22.285588Z",
          "shell.execute_reply": "2024-04-19T18:41:35.960406Z"
        },
        "papermill": {
          "status": "completed",
          "duration": 3433.689594,
          "end_time": "2024-04-19T18:41:35.963416",
          "exception": false,
          "start_time": "2024-04-19T17:44:22.273822"
        },
        "cell_id": "98704da8d288403eac9c9931029b0758",
        "deepnote_cell_type": "code"
      },
      "outputs": [
        {
          "data": {
            "text/html": "\n    <div>\n      \n      <progress value='5895' max='5895' style='width:300px; height:20px; vertical-align: middle;'></progress>\n      [5895/5895 57:11, Epoch 3/3]\n    </div>\n    <table border=\"1\" class=\"dataframe\">\n  <thead>\n <tr style=\"text-align: left;\">\n      <th>Epoch</th>\n      <th>Training Loss</th>\n      <th>Validation Loss</th>\n      <th>Accuracy</th>\n      <th>F1</th>\n      <th>Precision</th>\n      <th>Recall</th>\n    </tr>\n  </thead>\n  <tbody>\n    <tr>\n      <td>1</td>\n      <td>0.001300</td>\n      <td>0.002900</td>\n      <td>0.999205</td>\n      <td>0.999169</td>\n      <td>0.998405</td>\n      <td>0.999933</td>\n    </tr>\n    <tr>\n      <td>2</td>\n      <td>0.000000</td>\n      <td>0.000400</td>\n      <td>0.999936</td>\n      <td>0.999933</td>\n      <td>1.000000</td>\n      <td>0.999867</td>\n    </tr>\n    <tr>\n      <td>3</td>\n      <td>0.000000</td>\n      <td>0.000008</td>\n      <td>1.000000</td>\n      <td>1.000000</td>\n      <td>1.000000</td>\n      <td>1.000000</td>\n    </tr>\n  </tbody>\n</table><p>",
            "text/plain": "<IPython.core.display.HTML object>"
          },
          "metadata": {},
          "output_type": "display_data"
        },
        {
          "data": {
            "text/plain": "TrainOutput(global_step=5895, training_loss=0.012592639401061357, metrics={'train_runtime': 3433.0112, 'train_samples_per_second': 27.464, 'train_steps_per_second': 1.717, 'total_flos': 1.2489556214882304e+16, 'train_loss': 0.012592639401061357, 'epoch': 3.0})"
          },
          "execution_count": 16,
          "metadata": {},
          "output_type": "execute_result"
        }
      ],
      "outputs_reference": null,
      "execution_count": 16,
      "block_group": "0d724ebcc79f4e6ca0948dcd592e6d47",
      "content_dependencies": null
    },
    {
      "cell_type": "code",
      "source": "#load trained model\n#obtain saved model from training to evaluate trainset\nbest_ckpt_path = trainer.state.best_model_checkpoint\nprint(best_ckpt_path)\nself_train_model = DistilBertForSequenceClassification.from_pretrained(best_ckpt_path)",
      "metadata": {
        "tags": [],
        "execution": {
          "iopub.status.busy": "2024-04-19T18:41:35.985390Z",
          "iopub.status.idle": "2024-04-19T18:41:36.137837Z",
          "iopub.execute_input": "2024-04-19T18:41:35.985803Z",
          "shell.execute_reply": "2024-04-19T18:41:36.136862Z"
        },
        "papermill": {
          "status": "completed",
          "duration": 0.166185,
          "end_time": "2024-04-19T18:41:36.140021",
          "exception": false,
          "start_time": "2024-04-19T18:41:35.973836"
        },
        "cell_id": "acb2ab5259f142e5bb75c3b9d69cd8b5",
        "deepnote_cell_type": "code"
      },
      "outputs": [
        {
          "name": "stdout",
          "output_type": "stream",
          "text": "./results/checkpoint-5895\n"
        }
      ],
      "outputs_reference": null,
      "execution_count": 17,
      "block_group": "051ea0f579a84ac1aed44b5453b3409f",
      "content_dependencies": null
    },
    {
      "cell_type": "code",
      "source": "",
      "metadata": {
        "tags": [],
        "papermill": {
          "status": "completed",
          "duration": 0.010428,
          "end_time": "2024-04-19T18:41:36.161073",
          "exception": false,
          "start_time": "2024-04-19T18:41:36.150645"
        },
        "cell_id": "18b88bce66c2431f8108ab6447b3f3c3",
        "deepnote_cell_type": "code"
      },
      "outputs": [],
      "outputs_reference": null,
      "execution_count": null,
      "block_group": "dda900972dac4ab58f56048fa51fc70e",
      "content_dependencies": null
    },
    {
      "cell_type": "code",
      "source": "training_trainer = Trainer(\n    model=self_train_model,                         # the instantiated 🤗 Transformers model to be trained\n    args=training_args,                  # training arguments, defined above\n    compute_metrics=compute_train_metrics,\n    train_dataset=train_dataset,         # training dataset\n    eval_dataset=train_dataset,             # train dataset\n)\n",
      "metadata": {
        "tags": [],
        "execution": {
          "iopub.status.busy": "2024-04-19T18:41:36.184301Z",
          "iopub.status.idle": "2024-04-19T18:41:36.275197Z",
          "iopub.execute_input": "2024-04-19T18:41:36.185176Z",
          "shell.execute_reply": "2024-04-19T18:41:36.274200Z"
        },
        "papermill": {
          "status": "completed",
          "duration": 0.104915,
          "end_time": "2024-04-19T18:41:36.277577",
          "exception": false,
          "start_time": "2024-04-19T18:41:36.172662"
        },
        "cell_id": "c3856ba611a444dea40357975d6088a8",
        "deepnote_cell_type": "code"
      },
      "outputs": [
        {
          "name": "stderr",
          "output_type": "stream",
          "text": "/opt/conda/lib/python3.10/site-packages/accelerate/accelerator.py:432: FutureWarning: Passing the following arguments to `Accelerator` is deprecated and will be removed in version 1.0 of Accelerate: dict_keys(['dispatch_batches', 'split_batches', 'even_batches', 'use_seedable_sampler']). Please pass an `accelerate.DataLoaderConfiguration` instead: \ndataloader_config = DataLoaderConfiguration(dispatch_batches=None, split_batches=False, even_batches=True, use_seedable_sampler=True)\n  warnings.warn(\n"
        }
      ],
      "outputs_reference": null,
      "execution_count": 18,
      "block_group": "5d5461c8826344adbdc98a3a90bf422a",
      "content_dependencies": null
    },
    {
      "cell_type": "code",
      "source": "#evaluate on train data\ntraining_trainer.evaluate()",
      "metadata": {
        "tags": [],
        "execution": {
          "iopub.status.busy": "2024-04-19T18:41:36.299506Z",
          "iopub.status.idle": "2024-04-19T18:46:23.894883Z",
          "iopub.execute_input": "2024-04-19T18:41:36.300167Z",
          "shell.execute_reply": "2024-04-19T18:46:23.893925Z"
        },
        "papermill": {
          "status": "completed",
          "duration": 287.609098,
          "end_time": "2024-04-19T18:46:23.897136",
          "exception": false,
          "start_time": "2024-04-19T18:41:36.288038"
        },
        "cell_id": "fb0ca64d3500428a8c78faa243b31894",
        "deepnote_cell_type": "code"
      },
      "outputs": [
        {
          "data": {
            "text/html": "\n    <div>\n      \n      <progress value='492' max='492' style='width:300px; height:20px; vertical-align: middle;'></progress>\n      [492/492 04:46]\n    </div>\n    ",
            "text/plain": "<IPython.core.display.HTML object>"
          },
          "metadata": {},
          "output_type": "display_data"
        },
        {
          "name": "stdout",
          "output_type": "stream",
          "text": "TPR Train :\t 1.0\nTNR Train :\t 1.0\n\nFPR Train :\t 0.0\nFNR Train :\t 0.0\n"
        },
        {
          "data": {
            "text/plain": "{'eval_loss': 7.603600352013018e-06,\n 'eval_accuracy': 1.0,\n 'eval_f1': 1.0,\n 'eval_precision': 1.0,\n 'eval_recall': 1.0,\n 'eval_runtime': 287.4203,\n 'eval_samples_per_second': 109.345,\n 'eval_steps_per_second': 1.712}"
          },
          "execution_count": 19,
          "metadata": {},
          "output_type": "execute_result"
        },
        {
          "data": {
            "image/png": "[encoded data removed]",
            "text/plain": "<Figure size 640x480 with 2 Axes>"
          },
          "metadata": {},
          "output_type": "display_data"
        }
      ],
      "outputs_reference": null,
      "execution_count": 19,
      "block_group": "3cd9dc657e5a4e979f667bd5763df777",
      "content_dependencies": null
    },
    {
      "cell_type": "code",
      "source": "trainer = Trainer(\n    model=self_train_model,                         # the instantiated 🤗 Transformers model to be trained\n    args=training_args,                  # training arguments, defined above\n    compute_metrics=compute_metrics,\n    train_dataset=train_dataset,         # training dataset\n    eval_dataset=val_dataset,             # train dataset\n)\n",
      "metadata": {
        "tags": [],
        "execution": {
          "iopub.status.busy": "2024-04-19T18:46:23.921097Z",
          "iopub.status.idle": "2024-04-19T18:46:23.932212Z",
          "iopub.execute_input": "2024-04-19T18:46:23.921481Z",
          "shell.execute_reply": "2024-04-19T18:46:23.931207Z"
        },
        "papermill": {
          "status": "completed",
          "duration": 0.025707,
          "end_time": "2024-04-19T18:46:23.934283",
          "exception": false,
          "start_time": "2024-04-19T18:46:23.908576"
        },
        "cell_id": "a09e09ad72fe477d8ef0528ab3e209eb",
        "deepnote_cell_type": "code"
      },
      "outputs": [
        {
          "name": "stderr",
          "output_type": "stream",
          "text": "/opt/conda/lib/python3.10/site-packages/accelerate/accelerator.py:432: FutureWarning: Passing the following arguments to `Accelerator` is deprecated and will be removed in version 1.0 of Accelerate: dict_keys(['dispatch_batches', 'split_batches', 'even_batches', 'use_seedable_sampler']). Please pass an `accelerate.DataLoaderConfiguration` instead: \ndataloader_config = DataLoaderConfiguration(dispatch_batches=None, split_batches=False, even_batches=True, use_seedable_sampler=True)\n  warnings.warn(\n"
        }
      ],
      "outputs_reference": null,
      "execution_count": 20,
      "block_group": "41758f4421d04147b76965b2443ba054",
      "content_dependencies": null
    },
    {
      "cell_type": "code",
      "source": "#evaluate on test data\ntrainer.evaluate()",
      "metadata": {
        "tags": [],
        "execution": {
          "iopub.status.busy": "2024-04-19T18:46:23.959014Z",
          "iopub.status.idle": "2024-04-19T18:48:27.372031Z",
          "iopub.execute_input": "2024-04-19T18:46:23.959869Z",
          "shell.execute_reply": "2024-04-19T18:48:27.371006Z"
        },
        "papermill": {
          "status": "completed",
          "duration": 123.428323,
          "end_time": "2024-04-19T18:48:27.374336",
          "exception": false,
          "start_time": "2024-04-19T18:46:23.946013"
        },
        "cell_id": "5378c9c95fe849a2a3ef267dbea6b0e4",
        "deepnote_cell_type": "code"
      },
      "outputs": [
        {
          "data": {
            "text/html": "\n    <div>\n      \n      <progress value='211' max='211' style='width:300px; height:20px; vertical-align: middle;'></progress>\n      [211/211 02:02]\n    </div>\n    ",
            "text/plain": "<IPython.core.display.HTML object>"
          },
          "metadata": {},
          "output_type": "display_data"
        },
        {
          "name": "stdout",
          "output_type": "stream",
          "text": "TPR Test :\t 0.9995308101345011\nTNR Test :\t 1.0\n\nFPR Test :\t 0.0\nFNR Test :\t 0.00046918986549890525\n"
        },
        {
          "data": {
            "text/plain": "{'eval_loss': 0.0013302309671416879,\n 'eval_accuracy': 0.9997772828507795,\n 'eval_f1': 0.9997653500195541,\n 'eval_precision': 1.0,\n 'eval_recall': 0.9995308101345011,\n 'eval_runtime': 123.2472,\n 'eval_samples_per_second': 109.293,\n 'eval_steps_per_second': 1.712}"
          },
          "execution_count": 21,
          "metadata": {},
          "output_type": "execute_result"
        },
        {
          "data": {
            "image/png": "[encoded data removed]",
            "text/plain": "<Figure size 640x480 with 2 Axes>"
          },
          "metadata": {},
          "output_type": "display_data"
        }
      ],
      "outputs_reference": null,
      "execution_count": 21,
      "block_group": "cdeb9029da8f4d528753d0c850526f30",
      "content_dependencies": null
    },
    {
      "cell_type": "code",
      "source": "",
      "metadata": {
        "tags": [],
        "papermill": {
          "status": "completed",
          "duration": 0.011835,
          "end_time": "2024-04-19T18:48:27.398368",
          "exception": false,
          "start_time": "2024-04-19T18:48:27.386533"
        },
        "cell_id": "852f4abf95774966a3aa0b6c7c183d4a",
        "deepnote_cell_type": "code"
      },
      "outputs": [],
      "outputs_reference": null,
      "execution_count": null,
      "block_group": "5cfdbcf53bfd4c4c95f7fb966ca32dee",
      "content_dependencies": null
    },
    {
      "cell_type": "code",
      "source": "",
      "metadata": {
        "tags": [],
        "papermill": {
          "status": "completed",
          "duration": 0.012365,
          "end_time": "2024-04-19T18:48:27.422950",
          "exception": false,
          "start_time": "2024-04-19T18:48:27.410585"
        },
        "cell_id": "3413f37fc8694318b75729417ff9d65b",
        "deepnote_cell_type": "code"
      },
      "outputs": [],
      "outputs_reference": null,
      "execution_count": null,
      "block_group": "9d1a84f7c55f469390e903335944ae27",
      "content_dependencies": null
    },
    {
      "cell_type": "markdown",
      "source": "<a style='text-decoration:none;line-height:16px;display:flex;color:#5B5B62;padding:10px;justify-content:end;' href='https://deepnote.com?utm_source=created-in-deepnote-cell&projectId=9215cc77-d380-4a1c-84d3-404198f889a3' target=\"_blank\">\n<img alt='Created in deepnote.com' style='display:inline;max-height:16px;margin:0px;margin-right:7.5px;' src='data:image/svg+xml;base64,PD94bWwgdmVyc2lvbj0iMS4wIiBlbmNvZGluZz0iVVRGLTgiPz4KPHN2ZyB3aWR0aD0iODBweCIgaGVpZ2h0PSI4MHB4IiB2aWV3Qm94PSIwIDAgODAgODAiIHZlcnNpb249IjEuMSIgeG1sbnM9Imh0dHA6Ly93d3cudzMub3JnLzIwMDAvc3ZnIiB4bWxuczp4bGluaz0iaHR0cDovL3d3dy53My5vcmcvMTk5OS94bGluayI+CiAgICA8IS0tIEdlbmVyYXRvcjogU2tldGNoIDU0LjEgKDc2NDkwKSAtIGh0dHBzOi8vc2tldGNoYXBwLmNvbSAtLT4KICAgIDx0aXRsZT5Hcm91cCAzPC90aXRsZT4KICAgIDxkZXNjPkNyZWF0ZWQgd2l0aCBTa2V0Y2guPC9kZXNjPgogICAgPGcgaWQ9IkxhbmRpbmciIHN0cm9rZT0ibm9uZSIgc3Ryb2tlLXdpZHRoPSIxIiBmaWxsPSJub25lIiBmaWxsLXJ1bGU9ImV2ZW5vZGQiPgogICAgICAgIDxnIGlkPSJBcnRib2FyZCIgdHJhbnNmb3JtPSJ0cmFuc2xhdGUoLTEyMzUuMDAwMDAwLCAtNzkuMDAwMDAwKSI+CiAgICAgICAgICAgIDxnIGlkPSJHcm91cC0zIiB0cmFuc2Zvcm09InRyYW5zbGF0ZSgxMjM1LjAwMDAwMCwgNzkuMDAwMDAwKSI+CiAgICAgICAgICAgICAgICA8cG9seWdvbiBpZD0iUGF0aC0yMCIgZmlsbD0iIzAyNjVCNCIgcG9pbnRzPSIyLjM3NjIzNzYyIDgwIDM4LjA0NzY2NjcgODAgNTcuODIxNzgyMiA3My44MDU3NTkyIDU3LjgyMTc4MjIgMzIuNzU5MjczOSAzOS4xNDAyMjc4IDMxLjY4MzE2ODMiPjwvcG9seWdvbj4KICAgICAgICAgICAgICAgIDxwYXRoIGQ9Ik0zNS4wMDc3MTgsODAgQzQyLjkwNjIwMDcsNzYuNDU0OTM1OCA0Ny41NjQ5MTY3LDcxLjU0MjI2NzEgNDguOTgzODY2LDY1LjI2MTk5MzkgQzUxLjExMjI4OTksNTUuODQxNTg0MiA0MS42NzcxNzk1LDQ5LjIxMjIyODQgMjUuNjIzOTg0Niw0OS4yMTIyMjg0IEMyNS40ODQ5Mjg5LDQ5LjEyNjg0NDggMjkuODI2MTI5Niw0My4yODM4MjQ4IDM4LjY0NzU4NjksMzEuNjgzMTY4MyBMNzIuODcxMjg3MSwzMi41NTQ0MjUgTDY1LjI4MDk3Myw2Ny42NzYzNDIxIEw1MS4xMTIyODk5LDc3LjM3NjE0NCBMMzUuMDA3NzE4LDgwIFoiIGlkPSJQYXRoLTIyIiBmaWxsPSIjMDAyODY4Ij48L3BhdGg+CiAgICAgICAgICAgICAgICA8cGF0aCBkPSJNMCwzNy43MzA0NDA1IEwyNy4xMTQ1MzcsMC4yNTcxMTE0MzYgQzYyLjM3MTUxMjMsLTEuOTkwNzE3MDEgODAsMTAuNTAwMzkyNyA4MCwzNy43MzA0NDA1IEM4MCw2NC45NjA0ODgyIDY0Ljc3NjUwMzgsNzkuMDUwMzQxNCAzNC4zMjk1MTEzLDgwIEM0Ny4wNTUzNDg5LDc3LjU2NzA4MDggNTMuNDE4MjY3Nyw3MC4zMTM2MTAzIDUzLjQxODI2NzcsNTguMjM5NTg4NSBDNTMuNDE4MjY3Nyw0MC4xMjg1NTU3IDM2LjMwMzk1NDQsMzcuNzMwNDQwNSAyNS4yMjc0MTcsMzcuNzMwNDQwNSBDMTcuODQzMDU4NiwzNy43MzA0NDA1IDkuNDMzOTE5NjYsMzcuNzMwNDQwNSAwLDM3LjczMDQ0MDUgWiIgaWQ9IlBhdGgtMTkiIGZpbGw9IiMzNzkzRUYiPjwvcGF0aD4KICAgICAgICAgICAgPC9nPgogICAgICAgIDwvZz4KICAgIDwvZz4KPC9zdmc+' > </img>\nCreated in <span style='font-weight:600;margin-left:4px;'>Deepnote</span></a>",
      "metadata": {
        "created_in_deepnote_cell": true,
        "deepnote_cell_type": "markdown"
      }
    }
  ],
  "nbformat": 4,
  "nbformat_minor": 0,
  "metadata": {
    "deepnote_notebook_id": "b75ebb755f9449c58c6fc73ac5f055f2",
    "deepnote_execution_queue": []
  }
}