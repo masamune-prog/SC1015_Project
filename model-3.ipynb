{
 "cells": [
  {
   "cell_type": "markdown",
   "id": "3c69bea3",
   "metadata": {
    "papermill": {
     "duration": 0.008889,
     "end_time": "2024-04-19T14:13:48.995967",
     "exception": false,
     "start_time": "2024-04-19T14:13:48.987078",
     "status": "completed"
    },
    "tags": []
   },
   "source": [
    "In real life, humans use information from text and title to determine if a piece of news is fake or not\n",
    "\n",
    "\n",
    "\n",
    "\n",
    "In the previous models, we mostly depended on the word type and frequency, but did not use the meaning and order of words to determine the veracity of the news\n",
    "\n",
    "\n",
    "\n",
    "\n",
    "Using Deep Learning, We can perform this, with the use of Attention Mechanisms and word embeddings\n",
    "\n",
    "\n",
    "\n",
    "\n",
    "What is BERT?\n",
    "\n",
    "\n",
    "\n",
    "\n",
    "\n",
    "BERT (Bidirectional Encoder Representations from Transformers) is a method of pretraining language representations that was used to create models that NLP practitioners can then download and use for free. We use these models to extract high quality language features from your text data, and fine-tune these models on our classification problem with our data to produce state of the art predictions.\n",
    "\n",
    "\n",
    "\n",
    "\n",
    "We decided to use DistillBERT, as BERT architecture allows for Bidirectional Encoding of the text, which should improve classification compared to other forms of Encoding like TD-IDF or other Neural Net based Unidirectional Encodings like Word2Vec or Glove. \n",
    "\n",
    "\n",
    "\n",
    "\n",
    "For example, given two sentences: \"The man was accused of robbing a bank.\" \"The man went fishing by the bank of the river.\"  Embeddings like Word2Vec and TDIDF would produce the same word embedding for the word \"bank\" in both sentences, while under BERT the word embedding for \"bank\" would be different for each sentence which is more in line with the meaning of the sentence.\n",
    "\n",
    "\n",
    "\n",
    "\n",
    "As BERT also comes with a variety of versions, we decided to use DistillBERT, a smaller model with similar accuracy , given the relatively smaller size of the dataset to prevent excessive overfitting and the computational time limit of 12hours on Kaggle\n",
    "\n",
    "\n",
    "\n",
    "\n",
    "In this project, we applied Transfer Learning, using a Encoder and Model Trained on Wikipedia pages. We hypothesize that such a approach should be the most effective, given that detection of fake news require a deep existing knowledge base, which the pretrained model weights should reflect\n",
    "\n",
    "\n",
    "\n",
    "\n",
    "We Freeze the weights and add a SoftMax layer to obtain a classifier which outputs 0 and 1 (Not done yet) \n",
    "\n",
    "\n",
    "\n",
    "\n",
    "Due to lack of computational time, we are unable to do automated hyperparameter tuning experiments, but found that the default hyperparameters was able to produce state of the art results on both the testing and validation results, with the model slightly underfitting which means that the model was effective in producing a generalization of the data.\n",
    "\n",
    "\n",
    "\n",
    "\n"
   ]
  },
  {
   "cell_type": "code",
   "execution_count": 1,
   "id": "4ef7c963",
   "metadata": {
    "_cell_guid": "b1076dfc-b9ad-4769-8c92-a6c4dae69d19",
    "_uuid": "8f2839f25d086af736a60e9eeb907d3b93b6e0e5",
    "cell_id": "d83ae72c358e4568a959e9d31ee1c3e7",
    "deepnote_cell_type": "code",
    "execution": {
     "iopub.execute_input": "2024-04-19T14:13:49.013812Z",
     "iopub.status.busy": "2024-04-19T14:13:49.013455Z",
     "iopub.status.idle": "2024-04-19T14:14:09.938425Z",
     "shell.execute_reply": "2024-04-19T14:14:09.937543Z"
    },
    "papermill": {
     "duration": 20.936411,
     "end_time": "2024-04-19T14:14:09.940718",
     "exception": false,
     "start_time": "2024-04-19T14:13:49.004307",
     "status": "completed"
    },
    "tags": []
   },
   "outputs": [
    {
     "name": "stderr",
     "output_type": "stream",
     "text": [
      "2024-04-19 14:13:58.955570: E external/local_xla/xla/stream_executor/cuda/cuda_dnn.cc:9261] Unable to register cuDNN factory: Attempting to register factory for plugin cuDNN when one has already been registered\n",
      "2024-04-19 14:13:58.955698: E external/local_xla/xla/stream_executor/cuda/cuda_fft.cc:607] Unable to register cuFFT factory: Attempting to register factory for plugin cuFFT when one has already been registered\n",
      "2024-04-19 14:13:59.101880: E external/local_xla/xla/stream_executor/cuda/cuda_blas.cc:1515] Unable to register cuBLAS factory: Attempting to register factory for plugin cuBLAS when one has already been registered\n"
     ]
    },
    {
     "name": "stdout",
     "output_type": "stream",
     "text": [
      "/kaggle/input/bert-trained/transformers/news_complete/1/config.json\n",
      "/kaggle/input/bert-trained/transformers/news_complete/1/trainer_state.json\n",
      "/kaggle/input/bert-trained/transformers/news_complete/1/training_args.bin\n",
      "/kaggle/input/bert-trained/transformers/news_complete/1/scheduler.pt\n",
      "/kaggle/input/bert-trained/transformers/news_complete/1/model.safetensors\n",
      "/kaggle/input/bert-trained/transformers/news_complete/1/optimizer.pt\n",
      "/kaggle/input/bert-trained/transformers/news_complete/1/rng_state.pth\n",
      "/kaggle/input/sc1005-news/True.csv\n",
      "/kaggle/input/sc1005-news/Fake.csv\n"
     ]
    }
   ],
   "source": [
    "# This Python 3 environment comes with many helpful analytics libraries installed\n",
    "# It is defined by the kaggle/python Docker image: https://github.com/kaggle/docker-python\n",
    "# For example, here's several helpful packages to load\n",
    "\n",
    "import numpy as np # linear algebra\n",
    "import pandas as pd # data processing, CSV file I/O (e.g. pd.read_csv)\n",
    "import seaborn as sb\n",
    "import torch\n",
    "import os\n",
    "from transformers import BertTokenizer, TFBertModel,BertForSequenceClassification,DistilBertTokenizerFast,DistilBertModel, Trainer, TrainingArguments,DistilBertForSequenceClassification\n",
    "from sklearn.model_selection import train_test_split\n",
    "from sklearn.utils import shuffle\n",
    "from sklearn.metrics import accuracy_score, precision_recall_fscore_support, confusion_matrix, classification_report\n",
    "# Input data files are available in the read-only \"../input/\" directory\n",
    "# For example, running this (by clicking run or pressing Shift+Enter) will list all files under the input directory\n",
    "\n",
    "import os\n",
    "for dirname, _, filenames in os.walk('/kaggle/input'):\n",
    "    for filename in filenames:\n",
    "        print(os.path.join(dirname, filename))\n",
    "\n",
    "# You can write up to 20GB to the current directory (/kaggle/working/) that gets preserved as output when you create a version using \"Save & Run All\" \n",
    "# You can also write temporary files to /kaggle/temp/, but they won't be saved outside of the current session"
   ]
  },
  {
   "cell_type": "code",
   "execution_count": 2,
   "id": "08af1fdc",
   "metadata": {
    "cell_id": "edefa83417e04c4e80347654c2164440",
    "deepnote_cell_type": "code",
    "execution": {
     "iopub.execute_input": "2024-04-19T14:14:09.957935Z",
     "iopub.status.busy": "2024-04-19T14:14:09.957277Z",
     "iopub.status.idle": "2024-04-19T14:14:12.490150Z",
     "shell.execute_reply": "2024-04-19T14:14:12.489104Z"
    },
    "papermill": {
     "duration": 2.544459,
     "end_time": "2024-04-19T14:14:12.492982",
     "exception": false,
     "start_time": "2024-04-19T14:14:09.948523",
     "status": "completed"
    },
    "tags": []
   },
   "outputs": [],
   "source": [
    "true = pd.read_csv('/kaggle/input/sc1005-news/True.csv')\n",
    "false = pd.read_csv('/kaggle/input/sc1005-news/Fake.csv')"
   ]
  },
  {
   "cell_type": "code",
   "execution_count": 3,
   "id": "ddc8268d",
   "metadata": {
    "cell_id": "04cc0742430e44e3a5466da9c01c8493",
    "deepnote_cell_type": "code",
    "execution": {
     "iopub.execute_input": "2024-04-19T14:14:12.514970Z",
     "iopub.status.busy": "2024-04-19T14:14:12.514251Z",
     "iopub.status.idle": "2024-04-19T14:14:12.561391Z",
     "shell.execute_reply": "2024-04-19T14:14:12.560351Z"
    },
    "papermill": {
     "duration": 0.05974,
     "end_time": "2024-04-19T14:14:12.563880",
     "exception": false,
     "start_time": "2024-04-19T14:14:12.504140",
     "status": "completed"
    },
    "tags": []
   },
   "outputs": [
    {
     "data": {
      "text/html": [
       "<div>\n",
       "<style scoped>\n",
       "    .dataframe tbody tr th:only-of-type {\n",
       "        vertical-align: middle;\n",
       "    }\n",
       "\n",
       "    .dataframe tbody tr th {\n",
       "        vertical-align: top;\n",
       "    }\n",
       "\n",
       "    .dataframe thead th {\n",
       "        text-align: right;\n",
       "    }\n",
       "</style>\n",
       "<table border=\"1\" class=\"dataframe\">\n",
       "  <thead>\n",
       "    <tr style=\"text-align: right;\">\n",
       "      <th></th>\n",
       "      <th>title</th>\n",
       "      <th>text</th>\n",
       "      <th>subject</th>\n",
       "      <th>date</th>\n",
       "      <th>label</th>\n",
       "      <th>label_meaning</th>\n",
       "    </tr>\n",
       "  </thead>\n",
       "  <tbody>\n",
       "    <tr>\n",
       "      <th>0</th>\n",
       "      <td>Fed chair choice down to Powell, Taylor, one s...</td>\n",
       "      <td>WASHINGTON (Reuters) - President Donald Trump’...</td>\n",
       "      <td>politicsNews</td>\n",
       "      <td>October 26, 2017</td>\n",
       "      <td>1</td>\n",
       "      <td>True</td>\n",
       "    </tr>\n",
       "    <tr>\n",
       "      <th>1</th>\n",
       "      <td>FORMER OBAMA SPOKESLIAR To Join NBC As Paid Fa...</td>\n",
       "      <td>President Obama s White House press secretary ...</td>\n",
       "      <td>politics</td>\n",
       "      <td>Mar 27, 2017</td>\n",
       "      <td>0</td>\n",
       "      <td>False</td>\n",
       "    </tr>\n",
       "    <tr>\n",
       "      <th>2</th>\n",
       "      <td>Britain becoming U.S. vassal state, says Frenc...</td>\n",
       "      <td>PARIS (Reuters) - Britain is becoming subservi...</td>\n",
       "      <td>politicsNews</td>\n",
       "      <td>January 27, 2017</td>\n",
       "      <td>1</td>\n",
       "      <td>True</td>\n",
       "    </tr>\n",
       "    <tr>\n",
       "      <th>3</th>\n",
       "      <td>Agencies dither over who leads A380 engine exp...</td>\n",
       "      <td>PARIS/TORONTO (Reuters) - Air accident investi...</td>\n",
       "      <td>worldnews</td>\n",
       "      <td>October 2, 2017</td>\n",
       "      <td>1</td>\n",
       "      <td>True</td>\n",
       "    </tr>\n",
       "    <tr>\n",
       "      <th>4</th>\n",
       "      <td>Trump victory not isolated phenomenon: Belgian...</td>\n",
       "      <td>BRUSSELS (Reuters) - Belgium’s anti-Muslim and...</td>\n",
       "      <td>politicsNews</td>\n",
       "      <td>November 9, 2016</td>\n",
       "      <td>1</td>\n",
       "      <td>True</td>\n",
       "    </tr>\n",
       "  </tbody>\n",
       "</table>\n",
       "</div>"
      ],
      "text/plain": [
       "                                               title  \\\n",
       "0  Fed chair choice down to Powell, Taylor, one s...   \n",
       "1  FORMER OBAMA SPOKESLIAR To Join NBC As Paid Fa...   \n",
       "2  Britain becoming U.S. vassal state, says Frenc...   \n",
       "3  Agencies dither over who leads A380 engine exp...   \n",
       "4  Trump victory not isolated phenomenon: Belgian...   \n",
       "\n",
       "                                                text       subject  \\\n",
       "0  WASHINGTON (Reuters) - President Donald Trump’...  politicsNews   \n",
       "1  President Obama s White House press secretary ...      politics   \n",
       "2  PARIS (Reuters) - Britain is becoming subservi...  politicsNews   \n",
       "3  PARIS/TORONTO (Reuters) - Air accident investi...     worldnews   \n",
       "4  BRUSSELS (Reuters) - Belgium’s anti-Muslim and...  politicsNews   \n",
       "\n",
       "                date  label  label_meaning  \n",
       "0  October 26, 2017       1           True  \n",
       "1       Mar 27, 2017      0          False  \n",
       "2  January 27, 2017       1           True  \n",
       "3   October 2, 2017       1           True  \n",
       "4  November 9, 2016       1           True  "
      ]
     },
     "execution_count": 3,
     "metadata": {},
     "output_type": "execute_result"
    }
   ],
   "source": [
    "# Add a 'truth' column to each dataframe with the appropriate values\n",
    "true['label'] = 1\n",
    "false['label'] = 0\n",
    "\n",
    "# for presentation \n",
    "true['label_meaning'] = True \n",
    "false['label_meaning'] = False\n",
    "\n",
    "# Concatenate the two dataframes into a single dataframe\n",
    "combined_news = pd.concat([true, false], ignore_index=True)\n",
    "\n",
    "# shuffle the rows\n",
    "news = combined_news.sample(frac=1).reset_index(drop=True)\n",
    "news.head()"
   ]
  },
  {
   "cell_type": "code",
   "execution_count": 4,
   "id": "70d9a06b",
   "metadata": {
    "cell_id": "3aa7da1ac17d4f05b641290c3c7e24a9",
    "deepnote_cell_type": "code",
    "execution": {
     "iopub.execute_input": "2024-04-19T14:14:12.582557Z",
     "iopub.status.busy": "2024-04-19T14:14:12.582149Z",
     "iopub.status.idle": "2024-04-19T14:14:12.594275Z",
     "shell.execute_reply": "2024-04-19T14:14:12.593387Z"
    },
    "papermill": {
     "duration": 0.023248,
     "end_time": "2024-04-19T14:14:12.596301",
     "exception": false,
     "start_time": "2024-04-19T14:14:12.573053",
     "status": "completed"
    },
    "tags": []
   },
   "outputs": [],
   "source": [
    "#create new dataframe with title,text,label\n",
    "news_cleaned = news[['title','text','label']]"
   ]
  },
  {
   "cell_type": "markdown",
   "id": "a6f1a250",
   "metadata": {
    "cell_id": "254946d1a3fa4447ac012f37415ebd6b",
    "deepnote_cell_type": "text-cell-p",
    "formattedRanges": [],
    "papermill": {
     "duration": 0.007723,
     "end_time": "2024-04-19T14:14:12.612076",
     "exception": false,
     "start_time": "2024-04-19T14:14:12.604353",
     "status": "completed"
    },
    "tags": []
   },
   "source": [
    "Combining the title and the text together in a column 'comb_text'"
   ]
  },
  {
   "cell_type": "code",
   "execution_count": 5,
   "id": "a62c1d27",
   "metadata": {
    "cell_id": "8b683db284f645dcb9be2748d5f69f9a",
    "deepnote_cell_type": "code",
    "execution": {
     "iopub.execute_input": "2024-04-19T14:14:12.629252Z",
     "iopub.status.busy": "2024-04-19T14:14:12.628921Z",
     "iopub.status.idle": "2024-04-19T14:14:13.221138Z",
     "shell.execute_reply": "2024-04-19T14:14:13.219710Z"
    },
    "papermill": {
     "duration": 0.603698,
     "end_time": "2024-04-19T14:14:13.223737",
     "exception": false,
     "start_time": "2024-04-19T14:14:12.620039",
     "status": "completed"
    },
    "tags": []
   },
   "outputs": [
    {
     "name": "stderr",
     "output_type": "stream",
     "text": [
      "/tmp/ipykernel_24/1138330582.py:2: SettingWithCopyWarning: \n",
      "A value is trying to be set on a copy of a slice from a DataFrame.\n",
      "Try using .loc[row_indexer,col_indexer] = value instead\n",
      "\n",
      "See the caveats in the documentation: https://pandas.pydata.org/pandas-docs/stable/user_guide/indexing.html#returning-a-view-versus-a-copy\n",
      "  news_cleaned['comb_text'] = news_cleaned[['title', 'text']].agg(''.join, axis=1)\n"
     ]
    },
    {
     "data": {
      "text/html": [
       "<div>\n",
       "<style scoped>\n",
       "    .dataframe tbody tr th:only-of-type {\n",
       "        vertical-align: middle;\n",
       "    }\n",
       "\n",
       "    .dataframe tbody tr th {\n",
       "        vertical-align: top;\n",
       "    }\n",
       "\n",
       "    .dataframe thead th {\n",
       "        text-align: right;\n",
       "    }\n",
       "</style>\n",
       "<table border=\"1\" class=\"dataframe\">\n",
       "  <thead>\n",
       "    <tr style=\"text-align: right;\">\n",
       "      <th></th>\n",
       "      <th>title</th>\n",
       "      <th>text</th>\n",
       "      <th>label</th>\n",
       "      <th>comb_text</th>\n",
       "    </tr>\n",
       "  </thead>\n",
       "  <tbody>\n",
       "    <tr>\n",
       "      <th>0</th>\n",
       "      <td>Fed chair choice down to Powell, Taylor, one s...</td>\n",
       "      <td>WASHINGTON (Reuters) - President Donald Trump’...</td>\n",
       "      <td>1</td>\n",
       "      <td>Fed chair choice down to Powell, Taylor, one s...</td>\n",
       "    </tr>\n",
       "    <tr>\n",
       "      <th>1</th>\n",
       "      <td>FORMER OBAMA SPOKESLIAR To Join NBC As Paid Fa...</td>\n",
       "      <td>President Obama s White House press secretary ...</td>\n",
       "      <td>0</td>\n",
       "      <td>FORMER OBAMA SPOKESLIAR To Join NBC As Paid Fa...</td>\n",
       "    </tr>\n",
       "    <tr>\n",
       "      <th>2</th>\n",
       "      <td>Britain becoming U.S. vassal state, says Frenc...</td>\n",
       "      <td>PARIS (Reuters) - Britain is becoming subservi...</td>\n",
       "      <td>1</td>\n",
       "      <td>Britain becoming U.S. vassal state, says Frenc...</td>\n",
       "    </tr>\n",
       "    <tr>\n",
       "      <th>3</th>\n",
       "      <td>Agencies dither over who leads A380 engine exp...</td>\n",
       "      <td>PARIS/TORONTO (Reuters) - Air accident investi...</td>\n",
       "      <td>1</td>\n",
       "      <td>Agencies dither over who leads A380 engine exp...</td>\n",
       "    </tr>\n",
       "    <tr>\n",
       "      <th>4</th>\n",
       "      <td>Trump victory not isolated phenomenon: Belgian...</td>\n",
       "      <td>BRUSSELS (Reuters) - Belgium’s anti-Muslim and...</td>\n",
       "      <td>1</td>\n",
       "      <td>Trump victory not isolated phenomenon: Belgian...</td>\n",
       "    </tr>\n",
       "    <tr>\n",
       "      <th>...</th>\n",
       "      <td>...</td>\n",
       "      <td>...</td>\n",
       "      <td>...</td>\n",
       "      <td>...</td>\n",
       "    </tr>\n",
       "    <tr>\n",
       "      <th>44893</th>\n",
       "      <td>Libyan sides call Boris Johnson's bodies remar...</td>\n",
       "      <td>BENGHAZI, Libya (Reuters) - Senior figures fro...</td>\n",
       "      <td>1</td>\n",
       "      <td>Libyan sides call Boris Johnson's bodies remar...</td>\n",
       "    </tr>\n",
       "    <tr>\n",
       "      <th>44894</th>\n",
       "      <td>U.S. military unfunded requirement list at $33...</td>\n",
       "      <td>WASHINGTON (Reuters) - U.S. Defense Secretary ...</td>\n",
       "      <td>1</td>\n",
       "      <td>U.S. military unfunded requirement list at $33...</td>\n",
       "    </tr>\n",
       "    <tr>\n",
       "      <th>44895</th>\n",
       "      <td>Iraq steps up retaliation against Kurdish inde...</td>\n",
       "      <td>BAGHDAD (Reuters) - Iraq stopped selling dolla...</td>\n",
       "      <td>1</td>\n",
       "      <td>Iraq steps up retaliation against Kurdish inde...</td>\n",
       "    </tr>\n",
       "    <tr>\n",
       "      <th>44896</th>\n",
       "      <td>CNN Commentator DEVASTATES Trump Supporter Wh...</td>\n",
       "      <td>This should come as no surprise to most of us,...</td>\n",
       "      <td>0</td>\n",
       "      <td>CNN Commentator DEVASTATES Trump Supporter Wh...</td>\n",
       "    </tr>\n",
       "    <tr>\n",
       "      <th>44897</th>\n",
       "      <td>THOUSANDS Of Containers ROTTING At San Juan Po...</td>\n",
       "      <td>San Juan s mayor railed against President Trum...</td>\n",
       "      <td>0</td>\n",
       "      <td>THOUSANDS Of Containers ROTTING At San Juan Po...</td>\n",
       "    </tr>\n",
       "  </tbody>\n",
       "</table>\n",
       "<p>44898 rows × 4 columns</p>\n",
       "</div>"
      ],
      "text/plain": [
       "                                                   title  \\\n",
       "0      Fed chair choice down to Powell, Taylor, one s...   \n",
       "1      FORMER OBAMA SPOKESLIAR To Join NBC As Paid Fa...   \n",
       "2      Britain becoming U.S. vassal state, says Frenc...   \n",
       "3      Agencies dither over who leads A380 engine exp...   \n",
       "4      Trump victory not isolated phenomenon: Belgian...   \n",
       "...                                                  ...   \n",
       "44893  Libyan sides call Boris Johnson's bodies remar...   \n",
       "44894  U.S. military unfunded requirement list at $33...   \n",
       "44895  Iraq steps up retaliation against Kurdish inde...   \n",
       "44896   CNN Commentator DEVASTATES Trump Supporter Wh...   \n",
       "44897  THOUSANDS Of Containers ROTTING At San Juan Po...   \n",
       "\n",
       "                                                    text  label  \\\n",
       "0      WASHINGTON (Reuters) - President Donald Trump’...      1   \n",
       "1      President Obama s White House press secretary ...      0   \n",
       "2      PARIS (Reuters) - Britain is becoming subservi...      1   \n",
       "3      PARIS/TORONTO (Reuters) - Air accident investi...      1   \n",
       "4      BRUSSELS (Reuters) - Belgium’s anti-Muslim and...      1   \n",
       "...                                                  ...    ...   \n",
       "44893  BENGHAZI, Libya (Reuters) - Senior figures fro...      1   \n",
       "44894  WASHINGTON (Reuters) - U.S. Defense Secretary ...      1   \n",
       "44895  BAGHDAD (Reuters) - Iraq stopped selling dolla...      1   \n",
       "44896  This should come as no surprise to most of us,...      0   \n",
       "44897  San Juan s mayor railed against President Trum...      0   \n",
       "\n",
       "                                               comb_text  \n",
       "0      Fed chair choice down to Powell, Taylor, one s...  \n",
       "1      FORMER OBAMA SPOKESLIAR To Join NBC As Paid Fa...  \n",
       "2      Britain becoming U.S. vassal state, says Frenc...  \n",
       "3      Agencies dither over who leads A380 engine exp...  \n",
       "4      Trump victory not isolated phenomenon: Belgian...  \n",
       "...                                                  ...  \n",
       "44893  Libyan sides call Boris Johnson's bodies remar...  \n",
       "44894  U.S. military unfunded requirement list at $33...  \n",
       "44895  Iraq steps up retaliation against Kurdish inde...  \n",
       "44896   CNN Commentator DEVASTATES Trump Supporter Wh...  \n",
       "44897  THOUSANDS Of Containers ROTTING At San Juan Po...  \n",
       "\n",
       "[44898 rows x 4 columns]"
      ]
     },
     "metadata": {},
     "output_type": "display_data"
    }
   ],
   "source": [
    "\n",
    "\n",
    "# Purify by merging the title and text\n",
    "news_cleaned['comb_text'] = news_cleaned[['title', 'text']].agg(''.join, axis=1)\n",
    "display(news_cleaned)\n",
    "# Shuffle to check veracity of cleaning\n",
    "news_cleaned = shuffle(news_cleaned).reset_index(drop=True)\n"
   ]
  },
  {
   "cell_type": "code",
   "execution_count": 6,
   "id": "5e7bd1c5",
   "metadata": {
    "cell_id": "db2e583f45af45c4ab8a13d072d14812",
    "deepnote_cell_type": "code",
    "execution": {
     "iopub.execute_input": "2024-04-19T14:14:13.246264Z",
     "iopub.status.busy": "2024-04-19T14:14:13.245885Z",
     "iopub.status.idle": "2024-04-19T14:14:13.257101Z",
     "shell.execute_reply": "2024-04-19T14:14:13.256110Z"
    },
    "papermill": {
     "duration": 0.024515,
     "end_time": "2024-04-19T14:14:13.259240",
     "exception": false,
     "start_time": "2024-04-19T14:14:13.234725",
     "status": "completed"
    },
    "tags": []
   },
   "outputs": [],
   "source": [
    "news_cleaned = news_cleaned[['comb_text','label']]"
   ]
  },
  {
   "cell_type": "code",
   "execution_count": 7,
   "id": "ff8cfeb3",
   "metadata": {
    "cell_id": "0e73b1f3558b47328deb968db503ca83",
    "deepnote_cell_type": "code",
    "execution": {
     "iopub.execute_input": "2024-04-19T14:14:13.279361Z",
     "iopub.status.busy": "2024-04-19T14:14:13.279069Z",
     "iopub.status.idle": "2024-04-19T14:14:13.286479Z",
     "shell.execute_reply": "2024-04-19T14:14:13.285602Z"
    },
    "papermill": {
     "duration": 0.020124,
     "end_time": "2024-04-19T14:14:13.288333",
     "exception": false,
     "start_time": "2024-04-19T14:14:13.268209",
     "status": "completed"
    },
    "tags": []
   },
   "outputs": [],
   "source": [
    "df_texts, df_labels = news_cleaned[\"comb_text\"].to_list(),news_cleaned[\"label\"].to_list()"
   ]
  },
  {
   "cell_type": "code",
   "execution_count": 8,
   "id": "c55443e2",
   "metadata": {
    "cell_id": "39cec61d69994469926451a978aaffba",
    "deepnote_cell_type": "code",
    "execution": {
     "iopub.execute_input": "2024-04-19T14:14:13.306235Z",
     "iopub.status.busy": "2024-04-19T14:14:13.305946Z",
     "iopub.status.idle": "2024-04-19T14:14:13.332139Z",
     "shell.execute_reply": "2024-04-19T14:14:13.331380Z"
    },
    "papermill": {
     "duration": 0.037616,
     "end_time": "2024-04-19T14:14:13.334188",
     "exception": false,
     "start_time": "2024-04-19T14:14:13.296572",
     "status": "completed"
    },
    "tags": []
   },
   "outputs": [],
   "source": [
    "train_texts, val_texts, train_labels, val_labels = train_test_split(df_texts, df_labels, test_size=.3)"
   ]
  },
  {
   "cell_type": "code",
   "execution_count": 9,
   "id": "b79a2107",
   "metadata": {
    "cell_id": "c1873b52abeb49f199389d20c342be7d",
    "deepnote_cell_type": "code",
    "execution": {
     "iopub.execute_input": "2024-04-19T14:14:13.352769Z",
     "iopub.status.busy": "2024-04-19T14:14:13.352459Z",
     "iopub.status.idle": "2024-04-19T14:14:16.967456Z",
     "shell.execute_reply": "2024-04-19T14:14:16.966451Z"
    },
    "papermill": {
     "duration": 3.626981,
     "end_time": "2024-04-19T14:14:16.969838",
     "exception": false,
     "start_time": "2024-04-19T14:14:13.342857",
     "status": "completed"
    },
    "tags": []
   },
   "outputs": [
    {
     "data": {
      "application/vnd.jupyter.widget-view+json": {
       "model_id": "3d7119222b944cfcbb70b392723cc3b3",
       "version_major": 2,
       "version_minor": 0
      },
      "text/plain": [
       "config.json:   0%|          | 0.00/483 [00:00<?, ?B/s]"
      ]
     },
     "metadata": {},
     "output_type": "display_data"
    },
    {
     "data": {
      "application/vnd.jupyter.widget-view+json": {
       "model_id": "83213b3dd80b4555bda2180c83d9e08e",
       "version_major": 2,
       "version_minor": 0
      },
      "text/plain": [
       "model.safetensors:   0%|          | 0.00/268M [00:00<?, ?B/s]"
      ]
     },
     "metadata": {},
     "output_type": "display_data"
    },
    {
     "data": {
      "application/vnd.jupyter.widget-view+json": {
       "model_id": "1639b929e0fc4eb0978fe95ab736477e",
       "version_major": 2,
       "version_minor": 0
      },
      "text/plain": [
       "tokenizer_config.json:   0%|          | 0.00/28.0 [00:00<?, ?B/s]"
      ]
     },
     "metadata": {},
     "output_type": "display_data"
    },
    {
     "data": {
      "application/vnd.jupyter.widget-view+json": {
       "model_id": "1a6231e362eb47f39ccb8eb80491ff90",
       "version_major": 2,
       "version_minor": 0
      },
      "text/plain": [
       "vocab.txt:   0%|          | 0.00/232k [00:00<?, ?B/s]"
      ]
     },
     "metadata": {},
     "output_type": "display_data"
    },
    {
     "data": {
      "application/vnd.jupyter.widget-view+json": {
       "model_id": "7829a17821b14e5b8721bba9bd261a76",
       "version_major": 2,
       "version_minor": 0
      },
      "text/plain": [
       "tokenizer.json:   0%|          | 0.00/466k [00:00<?, ?B/s]"
      ]
     },
     "metadata": {},
     "output_type": "display_data"
    }
   ],
   "source": [
    "model_name = DistilBertModel.from_pretrained(\"distilbert-base-uncased\")\n",
    "tokenizer = DistilBertTokenizerFast.from_pretrained(\"distilbert-base-uncased\")"
   ]
  },
  {
   "cell_type": "code",
   "execution_count": 10,
   "id": "e238e69c",
   "metadata": {
    "cell_id": "83f033287ed14cf0b020fce71ac6acc6",
    "deepnote_cell_type": "code",
    "execution": {
     "iopub.execute_input": "2024-04-19T14:14:16.989628Z",
     "iopub.status.busy": "2024-04-19T14:14:16.989319Z",
     "iopub.status.idle": "2024-04-19T14:14:51.124080Z",
     "shell.execute_reply": "2024-04-19T14:14:51.123106Z"
    },
    "papermill": {
     "duration": 34.147475,
     "end_time": "2024-04-19T14:14:51.126740",
     "exception": false,
     "start_time": "2024-04-19T14:14:16.979265",
     "status": "completed"
    },
    "tags": []
   },
   "outputs": [],
   "source": [
    "#obtain DistillBERT word encodings, and generate key, query, value tensors for training\n",
    "#Pad to the longest sequence in the batch \n",
    "#Truncate to a maximum length specified with the argument max_length or to the maximum acceptable input length for the model. This will truncate token by token, removing a token from the longest sequence in the pair if a pair of sequences (or a batch of pairs) is provided.\n",
    "train_encodings = tokenizer(train_texts, truncation=True, padding=True)\n",
    "val_encodings = tokenizer(val_texts, truncation=True, padding=True)"
   ]
  },
  {
   "cell_type": "code",
   "execution_count": 11,
   "id": "4b9a9a26",
   "metadata": {
    "cell_id": "e776751df1664dc9ae945ebfa2fbb54c",
    "deepnote_cell_type": "code",
    "execution": {
     "iopub.execute_input": "2024-04-19T14:14:51.147307Z",
     "iopub.status.busy": "2024-04-19T14:14:51.146994Z",
     "iopub.status.idle": "2024-04-19T14:14:51.153570Z",
     "shell.execute_reply": "2024-04-19T14:14:51.152768Z"
    },
    "papermill": {
     "duration": 0.019098,
     "end_time": "2024-04-19T14:14:51.155645",
     "exception": false,
     "start_time": "2024-04-19T14:14:51.136547",
     "status": "completed"
    },
    "tags": []
   },
   "outputs": [],
   "source": [
    "#class to return encodings and labels for training\n",
    "class NewsDataset(torch.utils.data.Dataset):\n",
    "    def __init__(self, encodings, labels):\n",
    "        self.encodings = encodings\n",
    "        self.labels = labels\n",
    "\n",
    "    def __getitem__(self, idx):\n",
    "        item = {key: torch.tensor(val[idx]) for key, val in self.encodings.items()}\n",
    "        item['labels'] = torch.tensor(self.labels[idx])\n",
    "        return item\n",
    "\n",
    "    def __len__(self):\n",
    "        return len(self.labels)\n",
    "\n",
    "train_dataset = NewsDataset(train_encodings, train_labels)\n",
    "val_dataset = NewsDataset(val_encodings, val_labels)"
   ]
  },
  {
   "cell_type": "code",
   "execution_count": 12,
   "id": "fc4af16b",
   "metadata": {
    "execution": {
     "iopub.execute_input": "2024-04-19T14:14:51.174968Z",
     "iopub.status.busy": "2024-04-19T14:14:51.174637Z",
     "iopub.status.idle": "2024-04-19T14:14:51.179944Z",
     "shell.execute_reply": "2024-04-19T14:14:51.179106Z"
    },
    "papermill": {
     "duration": 0.01721,
     "end_time": "2024-04-19T14:14:51.181974",
     "exception": false,
     "start_time": "2024-04-19T14:14:51.164764",
     "status": "completed"
    },
    "tags": []
   },
   "outputs": [],
   "source": [
    "def training_compute_metrics(pred):\n",
    "    labels = pred.label_ids\n",
    "    preds = pred.predictions.argmax(-1)\n",
    " \n",
    "    \n",
    "    precision, recall, f1, _ = precision_recall_fscore_support(labels, preds, average='binary')\n",
    "    acc = accuracy_score(labels, preds)\n",
    "    \n",
    "    return {\n",
    "        'accuracy': acc,\n",
    "        'f1': f1,\n",
    "        'precision': precision,\n",
    "        'recall': recall\n",
    "    }"
   ]
  },
  {
   "cell_type": "code",
   "execution_count": 13,
   "id": "185071c0",
   "metadata": {
    "cell_id": "469526369ac74857948b0f59c50b3fc7",
    "deepnote_cell_type": "code",
    "execution": {
     "iopub.execute_input": "2024-04-19T14:14:51.202214Z",
     "iopub.status.busy": "2024-04-19T14:14:51.201598Z",
     "iopub.status.idle": "2024-04-19T14:14:51.210416Z",
     "shell.execute_reply": "2024-04-19T14:14:51.209549Z"
    },
    "papermill": {
     "duration": 0.021167,
     "end_time": "2024-04-19T14:14:51.212411",
     "exception": false,
     "start_time": "2024-04-19T14:14:51.191244",
     "status": "completed"
    },
    "tags": []
   },
   "outputs": [],
   "source": [
    "#function to evaluate test data\n",
    "def compute_metrics(pred):\n",
    "    labels = pred.label_ids\n",
    "    preds = pred.predictions.argmax(-1)\n",
    " \n",
    "    \n",
    "    precision, recall, f1, _ = precision_recall_fscore_support(labels, preds, average='binary')\n",
    "    acc = accuracy_score(labels, preds)\n",
    "    # Print the Accuracy Measures from the Confusion Matrix\n",
    "    cmTest = confusion_matrix(labels.tolist(), preds.tolist())\n",
    "    tpTest = cmTest[1][1] # True Positives : Good (1) predicted Good (1)\n",
    "    fpTest = cmTest[0][1] # False Positives : Bad (0) predicted Good (1)\n",
    "    tnTest = cmTest[0][0] # True Negatives : Bad (0) predicted Bad (0)\n",
    "    fnTest = cmTest[1][0] # False Negatives : Good (1) predicted Bad (0)\n",
    "\n",
    "    print(\"TPR Test :\\t\", (tpTest/(tpTest + fnTest)))\n",
    "    print(\"TNR Test :\\t\", (tnTest/(tnTest + fpTest)))\n",
    "    print()\n",
    "\n",
    "    print(\"FPR Test :\\t\", (fpTest/(tnTest + fpTest)))\n",
    "    print(\"FNR Test :\\t\", (fnTest/(tpTest + fnTest)))\n",
    "\n",
    "    # Plot the two-way Confusion Matrix\n",
    "    sb.heatmap(cmTest, \n",
    "               annot = True, fmt=\".0f\", annot_kws={\"size\": 18})\n",
    "    return {\n",
    "        'accuracy': acc,\n",
    "        'f1': f1,\n",
    "        'precision': precision,\n",
    "        'recall': recall\n",
    "    }"
   ]
  },
  {
   "cell_type": "code",
   "execution_count": 14,
   "id": "c52989f2",
   "metadata": {
    "cell_id": "4b7275236c714920bd41c454a6412575",
    "deepnote_cell_type": "code",
    "deepnote_to_be_reexecuted": false,
    "execution": {
     "iopub.execute_input": "2024-04-19T14:14:51.233062Z",
     "iopub.status.busy": "2024-04-19T14:14:51.232427Z",
     "iopub.status.idle": "2024-04-19T14:14:51.241372Z",
     "shell.execute_reply": "2024-04-19T14:14:51.240315Z"
    },
    "execution_millis": 336,
    "execution_start": 1713457067849,
    "papermill": {
     "duration": 0.021877,
     "end_time": "2024-04-19T14:14:51.243578",
     "exception": false,
     "start_time": "2024-04-19T14:14:51.221701",
     "status": "completed"
    },
    "source_hash": "684633b5",
    "tags": []
   },
   "outputs": [],
   "source": [
    "#function to evaluate test data\n",
    "def compute_train_metrics(pred):\n",
    "    labels = pred.label_ids\n",
    "    preds = pred.predictions.argmax(-1)\n",
    "    precision, recall, f1, _ = precision_recall_fscore_support(labels, preds, average='binary')\n",
    "    acc = accuracy_score(labels, preds)\n",
    "    # Print the Accuracy Measures from the Confusion Matrix\n",
    "    cmTrain = confusion_matrix(labels, preds)\n",
    "    tpTrain = cmTrain[1][1] # True Positives : Good (1) predicted Good (1)\n",
    "    fpTrain = cmTrain[0][1] # False Positives : Bad (0) predicted Good (1)\n",
    "    tnTrain = cmTrain[0][0] # True Negatives : Bad (0) predicted Bad (0)\n",
    "    fnTrain = cmTrain[1][0] # False Negatives : Good (1) predicted Bad (0)\n",
    "\n",
    "    print(\"TPR Train :\\t\", (tpTrain/(tpTrain + fnTrain)))\n",
    "    print(\"TNR Train :\\t\", (tnTrain/(tnTrain + fpTrain)))\n",
    "    print()\n",
    "\n",
    "    print(\"FPR Train :\\t\", (fpTrain/(tnTrain + fpTrain)))\n",
    "    print(\"FNR Train :\\t\", (fnTrain/(tpTrain + fnTrain)))\n",
    "\n",
    "    # Plot the two-way Confusion Matrix\n",
    "    sb.heatmap(cmTrain, \n",
    "               annot = True, fmt=\".0f\", annot_kws={\"size\": 18})\n",
    "    return {\n",
    "        'accuracy': acc,\n",
    "        'f1': f1,\n",
    "        'precision': precision,\n",
    "        'recall': recall\n",
    "    }"
   ]
  },
  {
   "cell_type": "code",
   "execution_count": 15,
   "id": "b2cef9e9",
   "metadata": {
    "cell_id": "d9ccd6eaac4b4911829ed153104c3d18",
    "deepnote_cell_type": "code",
    "execution": {
     "iopub.execute_input": "2024-04-19T14:14:51.264547Z",
     "iopub.status.busy": "2024-04-19T14:14:51.263555Z",
     "iopub.status.idle": "2024-04-19T14:14:51.939225Z",
     "shell.execute_reply": "2024-04-19T14:14:51.938369Z"
    },
    "papermill": {
     "duration": 0.688652,
     "end_time": "2024-04-19T14:14:51.941656",
     "exception": false,
     "start_time": "2024-04-19T14:14:51.253004",
     "status": "completed"
    },
    "tags": []
   },
   "outputs": [
    {
     "name": "stderr",
     "output_type": "stream",
     "text": [
      "Using the `WANDB_DISABLED` environment variable is deprecated and will be removed in v5. Use the --report_to flag to control the integrations used for logging result (for instance --report_to none).\n",
      "Some weights of DistilBertForSequenceClassification were not initialized from the model checkpoint at distilbert-base-uncased and are newly initialized: ['classifier.bias', 'classifier.weight', 'pre_classifier.bias', 'pre_classifier.weight']\n",
      "You should probably TRAIN this model on a down-stream task to be able to use it for predictions and inference.\n",
      "/opt/conda/lib/python3.10/site-packages/accelerate/accelerator.py:432: FutureWarning: Passing the following arguments to `Accelerator` is deprecated and will be removed in version 1.0 of Accelerate: dict_keys(['dispatch_batches', 'split_batches', 'even_batches', 'use_seedable_sampler']). Please pass an `accelerate.DataLoaderConfiguration` instead: \n",
      "dataloader_config = DataLoaderConfiguration(dispatch_batches=None, split_batches=False, even_batches=True, use_seedable_sampler=True)\n",
      "  warnings.warn(\n"
     ]
    },
    {
     "name": "stdout",
     "output_type": "stream",
     "text": [
      "num params: 66955010\n",
      "num trainable params: 66955010\n",
      "DistilBertForSequenceClassification(\n",
      "  (distilbert): DistilBertModel(\n",
      "    (embeddings): Embeddings(\n",
      "      (word_embeddings): Embedding(30522, 768, padding_idx=0)\n",
      "      (position_embeddings): Embedding(512, 768)\n",
      "      (LayerNorm): LayerNorm((768,), eps=1e-12, elementwise_affine=True)\n",
      "      (dropout): Dropout(p=0.1, inplace=False)\n",
      "    )\n",
      "    (transformer): Transformer(\n",
      "      (layer): ModuleList(\n",
      "        (0-5): 6 x TransformerBlock(\n",
      "          (attention): MultiHeadSelfAttention(\n",
      "            (dropout): Dropout(p=0.1, inplace=False)\n",
      "            (q_lin): Linear(in_features=768, out_features=768, bias=True)\n",
      "            (k_lin): Linear(in_features=768, out_features=768, bias=True)\n",
      "            (v_lin): Linear(in_features=768, out_features=768, bias=True)\n",
      "            (out_lin): Linear(in_features=768, out_features=768, bias=True)\n",
      "          )\n",
      "          (sa_layer_norm): LayerNorm((768,), eps=1e-12, elementwise_affine=True)\n",
      "          (ffn): FFN(\n",
      "            (dropout): Dropout(p=0.1, inplace=False)\n",
      "            (lin1): Linear(in_features=768, out_features=3072, bias=True)\n",
      "            (lin2): Linear(in_features=3072, out_features=768, bias=True)\n",
      "            (activation): GELUActivation()\n",
      "          )\n",
      "          (output_layer_norm): LayerNorm((768,), eps=1e-12, elementwise_affine=True)\n",
      "        )\n",
      "      )\n",
      "    )\n",
      "  )\n",
      "  (pre_classifier): Linear(in_features=768, out_features=768, bias=True)\n",
      "  (classifier): Linear(in_features=768, out_features=2, bias=True)\n",
      "  (dropout): Dropout(p=0.2, inplace=False)\n",
      ")\n"
     ]
    }
   ],
   "source": [
    "\n",
    "os.environ[\"WANDB_DISABLED\"] = \"true\"\n",
    "\n",
    "training_args = TrainingArguments(\n",
    "    output_dir='./results',          # output directory\n",
    "    num_train_epochs=3,              # total number of training epochs\n",
    "    per_device_train_batch_size=16,  # batch size per device during training\n",
    "    per_device_eval_batch_size=64,   # batch size for evaluation\n",
    "    warmup_steps=500,                # number of warmup steps for learning rate scheduler\n",
    "    weight_decay=0.01,               # strength of weight decay\n",
    "    logging_dir='./logs',            # directory for storing logs\n",
    "    logging_steps=10,\n",
    "    load_best_model_at_end=True,\n",
    "    evaluation_strategy =\"epoch\",\n",
    "    save_strategy = 'epoch'\n",
    ")\n",
    "model = DistilBertForSequenceClassification.from_pretrained(\"distilbert-base-uncased\")\n",
    "'''\n",
    "for name, param in list(model.named_parameters())[:-3]:  \n",
    "    print(name)\n",
    "    param.requires_grad = False\n",
    "'''\n",
    "print(f\"num params:\", model.num_parameters())\n",
    "print(f\"num trainable params:\", model.num_parameters(only_trainable=True))\n",
    "print(model)\n",
    "\n",
    "trainer = Trainer(\n",
    "    model=model,                         # the instantiated 🤗 Transformers model to be trained\n",
    "    args=training_args,                  # training arguments, defined above\n",
    "    compute_metrics=training_compute_metrics,\n",
    "    train_dataset=train_dataset,         # training dataset\n",
    "    eval_dataset=val_dataset,             # evaluation dataset\n",
    ")\n",
    "\n"
   ]
  },
  {
   "cell_type": "code",
   "execution_count": 16,
   "id": "a0175985",
   "metadata": {
    "cell_id": "0d724ebcc79f4e6ca0948dcd592e6d47",
    "deepnote_cell_type": "code",
    "execution": {
     "iopub.execute_input": "2024-04-19T14:14:51.962366Z",
     "iopub.status.busy": "2024-04-19T14:14:51.962036Z",
     "iopub.status.idle": "2024-04-19T15:03:06.254691Z",
     "shell.execute_reply": "2024-04-19T15:03:06.253804Z"
    },
    "papermill": {
     "duration": 2894.305253,
     "end_time": "2024-04-19T15:03:06.256686",
     "exception": false,
     "start_time": "2024-04-19T14:14:51.951433",
     "status": "completed"
    },
    "tags": []
   },
   "outputs": [
    {
     "data": {
      "text/html": [
       "\n",
       "    <div>\n",
       "      \n",
       "      <progress value='5895' max='5895' style='width:300px; height:20px; vertical-align: middle;'></progress>\n",
       "      [5895/5895 48:12, Epoch 3/3]\n",
       "    </div>\n",
       "    <table border=\"1\" class=\"dataframe\">\n",
       "  <thead>\n",
       " <tr style=\"text-align: left;\">\n",
       "      <th>Epoch</th>\n",
       "      <th>Training Loss</th>\n",
       "      <th>Validation Loss</th>\n",
       "      <th>Accuracy</th>\n",
       "      <th>F1</th>\n",
       "      <th>Precision</th>\n",
       "      <th>Recall</th>\n",
       "    </tr>\n",
       "  </thead>\n",
       "  <tbody>\n",
       "    <tr>\n",
       "      <td>1</td>\n",
       "      <td>0.000200</td>\n",
       "      <td>0.002167</td>\n",
       "      <td>0.999629</td>\n",
       "      <td>0.999612</td>\n",
       "      <td>1.000000</td>\n",
       "      <td>0.999224</td>\n",
       "    </tr>\n",
       "    <tr>\n",
       "      <td>2</td>\n",
       "      <td>0.000300</td>\n",
       "      <td>0.000722</td>\n",
       "      <td>0.999926</td>\n",
       "      <td>0.999922</td>\n",
       "      <td>1.000000</td>\n",
       "      <td>0.999845</td>\n",
       "    </tr>\n",
       "    <tr>\n",
       "      <td>3</td>\n",
       "      <td>0.000000</td>\n",
       "      <td>0.000877</td>\n",
       "      <td>0.999926</td>\n",
       "      <td>0.999922</td>\n",
       "      <td>1.000000</td>\n",
       "      <td>0.999845</td>\n",
       "    </tr>\n",
       "  </tbody>\n",
       "</table><p>"
      ],
      "text/plain": [
       "<IPython.core.display.HTML object>"
      ]
     },
     "metadata": {},
     "output_type": "display_data"
    },
    {
     "data": {
      "text/plain": [
       "TrainOutput(global_step=5895, training_loss=0.012107431907461401, metrics={'train_runtime': 2893.6555, 'train_samples_per_second': 32.583, 'train_steps_per_second': 2.037, 'total_flos': 1.2489556214882304e+16, 'train_loss': 0.012107431907461401, 'epoch': 3.0})"
      ]
     },
     "execution_count": 16,
     "metadata": {},
     "output_type": "execute_result"
    }
   ],
   "source": [
    "trainer.train()"
   ]
  },
  {
   "cell_type": "code",
   "execution_count": 17,
   "id": "987e23ee",
   "metadata": {
    "cell_id": "051ea0f579a84ac1aed44b5453b3409f",
    "deepnote_cell_type": "code",
    "execution": {
     "iopub.execute_input": "2024-04-19T15:03:06.278363Z",
     "iopub.status.busy": "2024-04-19T15:03:06.277594Z",
     "iopub.status.idle": "2024-04-19T15:03:06.425776Z",
     "shell.execute_reply": "2024-04-19T15:03:06.424763Z"
    },
    "papermill": {
     "duration": 0.160952,
     "end_time": "2024-04-19T15:03:06.427746",
     "exception": false,
     "start_time": "2024-04-19T15:03:06.266794",
     "status": "completed"
    },
    "tags": []
   },
   "outputs": [
    {
     "name": "stdout",
     "output_type": "stream",
     "text": [
      "./results/checkpoint-3930\n"
     ]
    }
   ],
   "source": [
    "#load trained model\n",
    "#obtain saved model from training to evaluate trainset\n",
    "best_ckpt_path = trainer.state.best_model_checkpoint\n",
    "print(best_ckpt_path)\n",
    "self_train_model = DistilBertForSequenceClassification.from_pretrained(best_ckpt_path)"
   ]
  },
  {
   "cell_type": "code",
   "execution_count": null,
   "id": "542a81ab",
   "metadata": {
    "papermill": {
     "duration": 0.009732,
     "end_time": "2024-04-19T15:03:06.447505",
     "exception": false,
     "start_time": "2024-04-19T15:03:06.437773",
     "status": "completed"
    },
    "tags": []
   },
   "outputs": [],
   "source": []
  },
  {
   "cell_type": "code",
   "execution_count": 18,
   "id": "d3e4361e",
   "metadata": {
    "cell_id": "5d5461c8826344adbdc98a3a90bf422a",
    "deepnote_cell_type": "code",
    "execution": {
     "iopub.execute_input": "2024-04-19T15:03:06.468208Z",
     "iopub.status.busy": "2024-04-19T15:03:06.467930Z",
     "iopub.status.idle": "2024-04-19T15:03:06.544247Z",
     "shell.execute_reply": "2024-04-19T15:03:06.543352Z"
    },
    "papermill": {
     "duration": 0.088924,
     "end_time": "2024-04-19T15:03:06.546109",
     "exception": false,
     "start_time": "2024-04-19T15:03:06.457185",
     "status": "completed"
    },
    "tags": []
   },
   "outputs": [
    {
     "name": "stderr",
     "output_type": "stream",
     "text": [
      "/opt/conda/lib/python3.10/site-packages/accelerate/accelerator.py:432: FutureWarning: Passing the following arguments to `Accelerator` is deprecated and will be removed in version 1.0 of Accelerate: dict_keys(['dispatch_batches', 'split_batches', 'even_batches', 'use_seedable_sampler']). Please pass an `accelerate.DataLoaderConfiguration` instead: \n",
      "dataloader_config = DataLoaderConfiguration(dispatch_batches=None, split_batches=False, even_batches=True, use_seedable_sampler=True)\n",
      "  warnings.warn(\n"
     ]
    }
   ],
   "source": [
    "training_trainer = Trainer(\n",
    "    model=self_train_model,                         # the instantiated 🤗 Transformers model to be trained\n",
    "    args=training_args,                  # training arguments, defined above\n",
    "    compute_metrics=compute_train_metrics,\n",
    "    train_dataset=train_dataset,         # training dataset\n",
    "    eval_dataset=train_dataset,             # train dataset\n",
    ")\n"
   ]
  },
  {
   "cell_type": "code",
   "execution_count": 19,
   "id": "7040b29c",
   "metadata": {
    "cell_id": "3cd9dc657e5a4e979f667bd5763df777",
    "deepnote_cell_type": "code",
    "execution": {
     "iopub.execute_input": "2024-04-19T15:03:06.567309Z",
     "iopub.status.busy": "2024-04-19T15:03:06.567029Z",
     "iopub.status.idle": "2024-04-19T15:07:52.500644Z",
     "shell.execute_reply": "2024-04-19T15:07:52.499683Z"
    },
    "papermill": {
     "duration": 285.946456,
     "end_time": "2024-04-19T15:07:52.502668",
     "exception": false,
     "start_time": "2024-04-19T15:03:06.556212",
     "status": "completed"
    },
    "tags": []
   },
   "outputs": [
    {
     "data": {
      "text/html": [
       "\n",
       "    <div>\n",
       "      \n",
       "      <progress value='492' max='492' style='width:300px; height:20px; vertical-align: middle;'></progress>\n",
       "      [492/492 04:45]\n",
       "    </div>\n",
       "    "
      ],
      "text/plain": [
       "<IPython.core.display.HTML object>"
      ]
     },
     "metadata": {},
     "output_type": "display_data"
    },
    {
     "name": "stdout",
     "output_type": "stream",
     "text": [
      "TPR Train :\t 0.9998664173123163\n",
      "TNR Train :\t 1.0\n",
      "\n",
      "FPR Train :\t 0.0\n",
      "FNR Train :\t 0.0001335826876836762\n"
     ]
    },
    {
     "data": {
      "text/plain": [
       "{'eval_loss': 0.0002762996300589293,\n",
       " 'eval_accuracy': 0.9999363624793178,\n",
       " 'eval_f1': 0.9999332041947766,\n",
       " 'eval_precision': 1.0,\n",
       " 'eval_recall': 0.9998664173123163,\n",
       " 'eval_runtime': 285.7716,\n",
       " 'eval_samples_per_second': 109.976,\n",
       " 'eval_steps_per_second': 1.722}"
      ]
     },
     "execution_count": 19,
     "metadata": {},
     "output_type": "execute_result"
    },
    {
     "data": {
      "image/png": "[encoded data removed]",
      "text/plain": [
       "<Figure size 640x480 with 2 Axes>"
      ]
     },
     "metadata": {},
     "output_type": "display_data"
    }
   ],
   "source": [
    "#evaluate on train data\n",
    "training_trainer.evaluate()"
   ]
  },
  {
   "cell_type": "code",
   "execution_count": 20,
   "id": "72534cf3",
   "metadata": {
    "execution": {
     "iopub.execute_input": "2024-04-19T15:07:52.526241Z",
     "iopub.status.busy": "2024-04-19T15:07:52.525636Z",
     "iopub.status.idle": "2024-04-19T15:07:52.536181Z",
     "shell.execute_reply": "2024-04-19T15:07:52.535199Z"
    },
    "papermill": {
     "duration": 0.024412,
     "end_time": "2024-04-19T15:07:52.538096",
     "exception": false,
     "start_time": "2024-04-19T15:07:52.513684",
     "status": "completed"
    },
    "tags": []
   },
   "outputs": [
    {
     "name": "stderr",
     "output_type": "stream",
     "text": [
      "/opt/conda/lib/python3.10/site-packages/accelerate/accelerator.py:432: FutureWarning: Passing the following arguments to `Accelerator` is deprecated and will be removed in version 1.0 of Accelerate: dict_keys(['dispatch_batches', 'split_batches', 'even_batches', 'use_seedable_sampler']). Please pass an `accelerate.DataLoaderConfiguration` instead: \n",
      "dataloader_config = DataLoaderConfiguration(dispatch_batches=None, split_batches=False, even_batches=True, use_seedable_sampler=True)\n",
      "  warnings.warn(\n"
     ]
    }
   ],
   "source": [
    "trainer = Trainer(\n",
    "    model=self_train_model,                         # the instantiated 🤗 Transformers model to be trained\n",
    "    args=training_args,                  # training arguments, defined above\n",
    "    compute_metrics=compute_metrics,\n",
    "    train_dataset=train_dataset,         # training dataset\n",
    "    eval_dataset=val_dataset,             # train dataset\n",
    ")\n"
   ]
  },
  {
   "cell_type": "code",
   "execution_count": 21,
   "id": "cd7c281f",
   "metadata": {
    "cell_id": "cdeb9029da8f4d528753d0c850526f30",
    "deepnote_cell_type": "code",
    "execution": {
     "iopub.execute_input": "2024-04-19T15:07:52.561137Z",
     "iopub.status.busy": "2024-04-19T15:07:52.560846Z",
     "iopub.status.idle": "2024-04-19T15:09:55.207509Z",
     "shell.execute_reply": "2024-04-19T15:09:55.206578Z"
    },
    "papermill": {
     "duration": 122.660467,
     "end_time": "2024-04-19T15:09:55.209578",
     "exception": false,
     "start_time": "2024-04-19T15:07:52.549111",
     "status": "completed"
    },
    "tags": []
   },
   "outputs": [
    {
     "data": {
      "text/html": [
       "\n",
       "    <div>\n",
       "      \n",
       "      <progress value='211' max='211' style='width:300px; height:20px; vertical-align: middle;'></progress>\n",
       "      [211/211 02:01]\n",
       "    </div>\n",
       "    "
      ],
      "text/plain": [
       "<IPython.core.display.HTML object>"
      ]
     },
     "metadata": {},
     "output_type": "display_data"
    },
    {
     "name": "stdout",
     "output_type": "stream",
     "text": [
      "TPR Test :\t 0.999844840961986\n",
      "TNR Test :\t 1.0\n",
      "\n",
      "FPR Test :\t 0.0\n",
      "FNR Test :\t 0.0001551590380139643\n"
     ]
    },
    {
     "data": {
      "text/plain": [
       "{'eval_loss': 0.000722167023923248,\n",
       " 'eval_accuracy': 0.9999257609502599,\n",
       " 'eval_f1': 0.9999224144619443,\n",
       " 'eval_precision': 1.0,\n",
       " 'eval_recall': 0.999844840961986,\n",
       " 'eval_runtime': 122.4713,\n",
       " 'eval_samples_per_second': 109.985,\n",
       " 'eval_steps_per_second': 1.723}"
      ]
     },
     "execution_count": 21,
     "metadata": {},
     "output_type": "execute_result"
    },
    {
     "data": {
      "image/png": "[encoded data removed]",
      "text/plain": [
       "<Figure size 640x480 with 2 Axes>"
      ]
     },
     "metadata": {},
     "output_type": "display_data"
    }
   ],
   "source": [
    "#evaluate on test data\n",
    "trainer.evaluate()"
   ]
  },
  {
   "cell_type": "code",
   "execution_count": null,
   "id": "80db1dfb",
   "metadata": {
    "cell_id": "5cfdbcf53bfd4c4c95f7fb966ca32dee",
    "deepnote_cell_type": "code",
    "papermill": {
     "duration": 0.011633,
     "end_time": "2024-04-19T15:09:55.233109",
     "exception": false,
     "start_time": "2024-04-19T15:09:55.221476",
     "status": "completed"
    },
    "tags": []
   },
   "outputs": [],
   "source": []
  },
  {
   "cell_type": "code",
   "execution_count": null,
   "id": "f673d143",
   "metadata": {
    "cell_id": "9d1a84f7c55f469390e903335944ae27",
    "deepnote_cell_type": "code",
    "papermill": {
     "duration": 0.011209,
     "end_time": "2024-04-19T15:09:55.255848",
     "exception": false,
     "start_time": "2024-04-19T15:09:55.244639",
     "status": "completed"
    },
    "tags": []
   },
   "outputs": [],
   "source": []
  },
  {
   "cell_type": "markdown",
   "id": "4cd0ef4d",
   "metadata": {
    "created_in_deepnote_cell": true,
    "deepnote_cell_type": "markdown",
    "papermill": {
     "duration": 0.011388,
     "end_time": "2024-04-19T15:09:55.278650",
     "exception": false,
     "start_time": "2024-04-19T15:09:55.267262",
     "status": "completed"
    },
    "tags": []
   },
   "source": [
    "<a style='text-decoration:none;line-height:16px;display:flex;color:#5B5B62;padding:10px;justify-content:end;' href='https://deepnote.com?utm_source=created-in-deepnote-cell&projectId=9f23536d-6e62-418a-b94b-ca9356b2599b' target=\"_blank\">\n",
    "<img alt='Created in deepnote.com' style='display:inline;max-height:16px;margin:0px;margin-right:7.5px;' src='data:image/svg+xml;base64,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' > </img>\n",
    "Created in <span style='font-weight:600;margin-left:4px;'>Deepnote</span></a>"
   ]
  }
 ],
 "metadata": {
  "deepnote_execution_queue": [],
  "deepnote_notebook_id": "92ae66cc0eac40698457dc31e94e3846",
  "kaggle": {
   "accelerator": "gpu",
   "dataSources": [
    {
     "datasetId": 4802400,
     "sourceId": 8126092,
     "sourceType": "datasetVersion"
    },
    {
     "isSourceIdPinned": true,
     "modelInstanceId": 27442,
     "sourceId": 32783,
     "sourceType": "modelInstanceVersion"
    }
   ],
   "dockerImageVersionId": 30683,
   "isGpuEnabled": true,
   "isInternetEnabled": true,
   "language": "python",
   "sourceType": "notebook"
  },
  "kernelspec": {
   "display_name": "Python 3",
   "language": "python",
   "name": "python3"
  },
  "language_info": {
   "codemirror_mode": {
    "name": "ipython",
    "version": 3
   },
   "file_extension": ".py",
   "mimetype": "text/x-python",
   "name": "python",
   "nbconvert_exporter": "python",
   "pygments_lexer": "ipython3",
   "version": "3.10.13"
  },
  "papermill": {
   "default_parameters": {},
   "duration": 3372.721463,
   "end_time": "2024-04-19T15:09:58.825943",
   "environment_variables": {},
   "exception": null,
   "input_path": "__notebook__.ipynb",
   "output_path": "__notebook__.ipynb",
   "parameters": {},
   "start_time": "2024-04-19T14:13:46.104480",
   "version": "2.5.0"
  },
  "widgets": {
   "application/vnd.jupyter.widget-state+json": {
    "state": {
     "00366cc42d0d4f09a45fbb0254278fcc": {
      "model_module": "@jupyter-widgets/base",
      "model_module_version": "1.2.0",
      "model_name": "LayoutModel",
      "state": {
       "_model_module": "@jupyter-widgets/base",
       "_model_module_version": "1.2.0",
       "_model_name": "LayoutModel",
       "_view_count": null,
       "_view_module": "@jupyter-widgets/base",
       "_view_module_version": "1.2.0",
       "_view_name": "LayoutView",
       "align_content": null,
       "align_items": null,
       "align_self": null,
       "border": null,
       "bottom": null,
       "display": null,
       "flex": null,
       "flex_flow": null,
       "grid_area": null,
       "grid_auto_columns": null,
       "grid_auto_flow": null,
       "grid_auto_rows": null,
       "grid_column": null,
       "grid_gap": null,
       "grid_row": null,
       "grid_template_areas": null,
       "grid_template_columns": null,
       "grid_template_rows": null,
       "height": null,
       "justify_content": null,
       "justify_items": null,
       "left": null,
       "margin": null,
       "max_height": null,
       "max_width": null,
       "min_height": null,
       "min_width": null,
       "object_fit": null,
       "object_position": null,
       "order": null,
       "overflow": null,
       "overflow_x": null,
       "overflow_y": null,
       "padding": null,
       "right": null,
       "top": null,
       "visibility": null,
       "width": null
      }
     },
     "05217bdb730343f18805c6cdbb5ae128": {
      "model_module": "@jupyter-widgets/controls",
      "model_module_version": "1.5.0",
      "model_name": "HTMLModel",
      "state": {
       "_dom_classes": [],
       "_model_module": "@jupyter-widgets/controls",
       "_model_module_version": "1.5.0",
       "_model_name": "HTMLModel",
       "_view_count": null,
       "_view_module": "@jupyter-widgets/controls",
       "_view_module_version": "1.5.0",
       "_view_name": "HTMLView",
       "description": "",
       "description_tooltip": null,
       "layout": "IPY_MODEL_6ed7b87b0f9f44efbd8afb4d5afb2c0a",
       "placeholder": "​",
       "style": "IPY_MODEL_736fcb41f86c48248f8babb5c53c34ea",
       "value": "tokenizer.json: 100%"
      }
     },
     "05e888dc07724646b06b00d9cf9cd13d": {
      "model_module": "@jupyter-widgets/base",
      "model_module_version": "1.2.0",
      "model_name": "LayoutModel",
      "state": {
       "_model_module": "@jupyter-widgets/base",
       "_model_module_version": "1.2.0",
       "_model_name": "LayoutModel",
       "_view_count": null,
       "_view_module": "@jupyter-widgets/base",
       "_view_module_version": "1.2.0",
       "_view_name": "LayoutView",
       "align_content": null,
       "align_items": null,
       "align_self": null,
       "border": null,
       "bottom": null,
       "display": null,
       "flex": null,
       "flex_flow": null,
       "grid_area": null,
       "grid_auto_columns": null,
       "grid_auto_flow": null,
       "grid_auto_rows": null,
       "grid_column": null,
       "grid_gap": null,
       "grid_row": null,
       "grid_template_areas": null,
       "grid_template_columns": null,
       "grid_template_rows": null,
       "height": null,
       "justify_content": null,
       "justify_items": null,
       "left": null,
       "margin": null,
       "max_height": null,
       "max_width": null,
       "min_height": null,
       "min_width": null,
       "object_fit": null,
       "object_position": null,
       "order": null,
       "overflow": null,
       "overflow_x": null,
       "overflow_y": null,
       "padding": null,
       "right": null,
       "top": null,
       "visibility": null,
       "width": null
      }
     },
     "0718a08ed81d46dd94f2d9e4817f25f6": {
      "model_module": "@jupyter-widgets/controls",
      "model_module_version": "1.5.0",
      "model_name": "DescriptionStyleModel",
      "state": {
       "_model_module": "@jupyter-widgets/controls",
       "_model_module_version": "1.5.0",
       "_model_name": "DescriptionStyleModel",
       "_view_count": null,
       "_view_module": "@jupyter-widgets/base",
       "_view_module_version": "1.2.0",
       "_view_name": "StyleView",
       "description_width": ""
      }
     },
     "0bffc3fe2ca2420c9292ea12289b5d7e": {
      "model_module": "@jupyter-widgets/controls",
      "model_module_version": "1.5.0",
      "model_name": "DescriptionStyleModel",
      "state": {
       "_model_module": "@jupyter-widgets/controls",
       "_model_module_version": "1.5.0",
       "_model_name": "DescriptionStyleModel",
       "_view_count": null,
       "_view_module": "@jupyter-widgets/base",
       "_view_module_version": "1.2.0",
       "_view_name": "StyleView",
       "description_width": ""
      }
     },
     "0c55f4d94c5743c88c8c716bae011bcf": {
      "model_module": "@jupyter-widgets/base",
      "model_module_version": "1.2.0",
      "model_name": "LayoutModel",
      "state": {
       "_model_module": "@jupyter-widgets/base",
       "_model_module_version": "1.2.0",
       "_model_name": "LayoutModel",
       "_view_count": null,
       "_view_module": "@jupyter-widgets/base",
       "_view_module_version": "1.2.0",
       "_view_name": "LayoutView",
       "align_content": null,
       "align_items": null,
       "align_self": null,
       "border": null,
       "bottom": null,
       "display": null,
       "flex": null,
       "flex_flow": null,
       "grid_area": null,
       "grid_auto_columns": null,
       "grid_auto_flow": null,
       "grid_auto_rows": null,
       "grid_column": null,
       "grid_gap": null,
       "grid_row": null,
       "grid_template_areas": null,
       "grid_template_columns": null,
       "grid_template_rows": null,
       "height": null,
       "justify_content": null,
       "justify_items": null,
       "left": null,
       "margin": null,
       "max_height": null,
       "max_width": null,
       "min_height": null,
       "min_width": null,
       "object_fit": null,
       "object_position": null,
       "order": null,
       "overflow": null,
       "overflow_x": null,
       "overflow_y": null,
       "padding": null,
       "right": null,
       "top": null,
       "visibility": null,
       "width": null
      }
     },
     "110d444da2e24675b0c1217cf71fdc95": {
      "model_module": "@jupyter-widgets/base",
      "model_module_version": "1.2.0",
      "model_name": "LayoutModel",
      "state": {
       "_model_module": "@jupyter-widgets/base",
       "_model_module_version": "1.2.0",
       "_model_name": "LayoutModel",
       "_view_count": null,
       "_view_module": "@jupyter-widgets/base",
       "_view_module_version": "1.2.0",
       "_view_name": "LayoutView",
       "align_content": null,
       "align_items": null,
       "align_self": null,
       "border": null,
       "bottom": null,
       "display": null,
       "flex": null,
       "flex_flow": null,
       "grid_area": null,
       "grid_auto_columns": null,
       "grid_auto_flow": null,
       "grid_auto_rows": null,
       "grid_column": null,
       "grid_gap": null,
       "grid_row": null,
       "grid_template_areas": null,
       "grid_template_columns": null,
       "grid_template_rows": null,
       "height": null,
       "justify_content": null,
       "justify_items": null,
       "left": null,
       "margin": null,
       "max_height": null,
       "max_width": null,
       "min_height": null,
       "min_width": null,
       "object_fit": null,
       "object_position": null,
       "order": null,
       "overflow": null,
       "overflow_x": null,
       "overflow_y": null,
       "padding": null,
       "right": null,
       "top": null,
       "visibility": null,
       "width": null
      }
     },
     "130b9276a5df4f43930317db0aa18831": {
      "model_module": "@jupyter-widgets/base",
      "model_module_version": "1.2.0",
      "model_name": "LayoutModel",
      "state": {
       "_model_module": "@jupyter-widgets/base",
       "_model_module_version": "1.2.0",
       "_model_name": "LayoutModel",
       "_view_count": null,
       "_view_module": "@jupyter-widgets/base",
       "_view_module_version": "1.2.0",
       "_view_name": "LayoutView",
       "align_content": null,
       "align_items": null,
       "align_self": null,
       "border": null,
       "bottom": null,
       "display": null,
       "flex": null,
       "flex_flow": null,
       "grid_area": null,
       "grid_auto_columns": null,
       "grid_auto_flow": null,
       "grid_auto_rows": null,
       "grid_column": null,
       "grid_gap": null,
       "grid_row": null,
       "grid_template_areas": null,
       "grid_template_columns": null,
       "grid_template_rows": null,
       "height": null,
       "justify_content": null,
       "justify_items": null,
       "left": null,
       "margin": null,
       "max_height": null,
       "max_width": null,
       "min_height": null,
       "min_width": null,
       "object_fit": null,
       "object_position": null,
       "order": null,
       "overflow": null,
       "overflow_x": null,
       "overflow_y": null,
       "padding": null,
       "right": null,
       "top": null,
       "visibility": null,
       "width": null
      }
     },
     "131768fde9714f26ba1c24114010e100": {
      "model_module": "@jupyter-widgets/controls",
      "model_module_version": "1.5.0",
      "model_name": "ProgressStyleModel",
      "state": {
       "_model_module": "@jupyter-widgets/controls",
       "_model_module_version": "1.5.0",
       "_model_name": "ProgressStyleModel",
       "_view_count": null,
       "_view_module": "@jupyter-widgets/base",
       "_view_module_version": "1.2.0",
       "_view_name": "StyleView",
       "bar_color": null,
       "description_width": ""
      }
     },
     "1639b929e0fc4eb0978fe95ab736477e": {
      "model_module": "@jupyter-widgets/controls",
      "model_module_version": "1.5.0",
      "model_name": "HBoxModel",
      "state": {
       "_dom_classes": [],
       "_model_module": "@jupyter-widgets/controls",
       "_model_module_version": "1.5.0",
       "_model_name": "HBoxModel",
       "_view_count": null,
       "_view_module": "@jupyter-widgets/controls",
       "_view_module_version": "1.5.0",
       "_view_name": "HBoxView",
       "box_style": "",
       "children": [
        "IPY_MODEL_4339f8ef522b4f2b9edb1b9afc12b82e",
        "IPY_MODEL_52c3d3914c9b4b868d4115a434b7ce5e",
        "IPY_MODEL_ed0a72bdd37c467a85f7b29fb574425c"
       ],
       "layout": "IPY_MODEL_1e8a3206acf34ca2a309375215747c20"
      }
     },
     "18394a785c784afea9211215e14c2b94": {
      "model_module": "@jupyter-widgets/controls",
      "model_module_version": "1.5.0",
      "model_name": "ProgressStyleModel",
      "state": {
       "_model_module": "@jupyter-widgets/controls",
       "_model_module_version": "1.5.0",
       "_model_name": "ProgressStyleModel",
       "_view_count": null,
       "_view_module": "@jupyter-widgets/base",
       "_view_module_version": "1.2.0",
       "_view_name": "StyleView",
       "bar_color": null,
       "description_width": ""
      }
     },
     "1a6231e362eb47f39ccb8eb80491ff90": {
      "model_module": "@jupyter-widgets/controls",
      "model_module_version": "1.5.0",
      "model_name": "HBoxModel",
      "state": {
       "_dom_classes": [],
       "_model_module": "@jupyter-widgets/controls",
       "_model_module_version": "1.5.0",
       "_model_name": "HBoxModel",
       "_view_count": null,
       "_view_module": "@jupyter-widgets/controls",
       "_view_module_version": "1.5.0",
       "_view_name": "HBoxView",
       "box_style": "",
       "children": [
        "IPY_MODEL_e6418791c51347df817473d43e01acd4",
        "IPY_MODEL_9362ed8cd4c04358b8155cbe773328ac",
        "IPY_MODEL_3e2eaac55a84487b91128b5969fb0dda"
       ],
       "layout": "IPY_MODEL_4ce9d5291942463c9b65a8020c98f182"
      }
     },
     "1e8a3206acf34ca2a309375215747c20": {
      "model_module": "@jupyter-widgets/base",
      "model_module_version": "1.2.0",
      "model_name": "LayoutModel",
      "state": {
       "_model_module": "@jupyter-widgets/base",
       "_model_module_version": "1.2.0",
       "_model_name": "LayoutModel",
       "_view_count": null,
       "_view_module": "@jupyter-widgets/base",
       "_view_module_version": "1.2.0",
       "_view_name": "LayoutView",
       "align_content": null,
       "align_items": null,
       "align_self": null,
       "border": null,
       "bottom": null,
       "display": null,
       "flex": null,
       "flex_flow": null,
       "grid_area": null,
       "grid_auto_columns": null,
       "grid_auto_flow": null,
       "grid_auto_rows": null,
       "grid_column": null,
       "grid_gap": null,
       "grid_row": null,
       "grid_template_areas": null,
       "grid_template_columns": null,
       "grid_template_rows": null,
       "height": null,
       "justify_content": null,
       "justify_items": null,
       "left": null,
       "margin": null,
       "max_height": null,
       "max_width": null,
       "min_height": null,
       "min_width": null,
       "object_fit": null,
       "object_position": null,
       "order": null,
       "overflow": null,
       "overflow_x": null,
       "overflow_y": null,
       "padding": null,
       "right": null,
       "top": null,
       "visibility": null,
       "width": null
      }
     },
     "1f920ac7f1344ad0a3442a4e30cf2709": {
      "model_module": "@jupyter-widgets/controls",
      "model_module_version": "1.5.0",
      "model_name": "HTMLModel",
      "state": {
       "_dom_classes": [],
       "_model_module": "@jupyter-widgets/controls",
       "_model_module_version": "1.5.0",
       "_model_name": "HTMLModel",
       "_view_count": null,
       "_view_module": "@jupyter-widgets/controls",
       "_view_module_version": "1.5.0",
       "_view_name": "HTMLView",
       "description": "",
       "description_tooltip": null,
       "layout": "IPY_MODEL_0c55f4d94c5743c88c8c716bae011bcf",
       "placeholder": "​",
       "style": "IPY_MODEL_0bffc3fe2ca2420c9292ea12289b5d7e",
       "value": " 268M/268M [00:01&lt;00:00, 282MB/s]"
      }
     },
     "2fe0068d3f084e29a74196ba3ccbce6a": {
      "model_module": "@jupyter-widgets/controls",
      "model_module_version": "1.5.0",
      "model_name": "ProgressStyleModel",
      "state": {
       "_model_module": "@jupyter-widgets/controls",
       "_model_module_version": "1.5.0",
       "_model_name": "ProgressStyleModel",
       "_view_count": null,
       "_view_module": "@jupyter-widgets/base",
       "_view_module_version": "1.2.0",
       "_view_name": "StyleView",
       "bar_color": null,
       "description_width": ""
      }
     },
     "36f70f256f614b1e8d910452230ff285": {
      "model_module": "@jupyter-widgets/controls",
      "model_module_version": "1.5.0",
      "model_name": "DescriptionStyleModel",
      "state": {
       "_model_module": "@jupyter-widgets/controls",
       "_model_module_version": "1.5.0",
       "_model_name": "DescriptionStyleModel",
       "_view_count": null,
       "_view_module": "@jupyter-widgets/base",
       "_view_module_version": "1.2.0",
       "_view_name": "StyleView",
       "description_width": ""
      }
     },
     "388a87088b90462c880350315f06a53c": {
      "model_module": "@jupyter-widgets/controls",
      "model_module_version": "1.5.0",
      "model_name": "DescriptionStyleModel",
      "state": {
       "_model_module": "@jupyter-widgets/controls",
       "_model_module_version": "1.5.0",
       "_model_name": "DescriptionStyleModel",
       "_view_count": null,
       "_view_module": "@jupyter-widgets/base",
       "_view_module_version": "1.2.0",
       "_view_name": "StyleView",
       "description_width": ""
      }
     },
     "3a9d14daca46473882c74ef532329ddd": {
      "model_module": "@jupyter-widgets/base",
      "model_module_version": "1.2.0",
      "model_name": "LayoutModel",
      "state": {
       "_model_module": "@jupyter-widgets/base",
       "_model_module_version": "1.2.0",
       "_model_name": "LayoutModel",
       "_view_count": null,
       "_view_module": "@jupyter-widgets/base",
       "_view_module_version": "1.2.0",
       "_view_name": "LayoutView",
       "align_content": null,
       "align_items": null,
       "align_self": null,
       "border": null,
       "bottom": null,
       "display": null,
       "flex": null,
       "flex_flow": null,
       "grid_area": null,
       "grid_auto_columns": null,
       "grid_auto_flow": null,
       "grid_auto_rows": null,
       "grid_column": null,
       "grid_gap": null,
       "grid_row": null,
       "grid_template_areas": null,
       "grid_template_columns": null,
       "grid_template_rows": null,
       "height": null,
       "justify_content": null,
       "justify_items": null,
       "left": null,
       "margin": null,
       "max_height": null,
       "max_width": null,
       "min_height": null,
       "min_width": null,
       "object_fit": null,
       "object_position": null,
       "order": null,
       "overflow": null,
       "overflow_x": null,
       "overflow_y": null,
       "padding": null,
       "right": null,
       "top": null,
       "visibility": null,
       "width": null
      }
     },
     "3d7119222b944cfcbb70b392723cc3b3": {
      "model_module": "@jupyter-widgets/controls",
      "model_module_version": "1.5.0",
      "model_name": "HBoxModel",
      "state": {
       "_dom_classes": [],
       "_model_module": "@jupyter-widgets/controls",
       "_model_module_version": "1.5.0",
       "_model_name": "HBoxModel",
       "_view_count": null,
       "_view_module": "@jupyter-widgets/controls",
       "_view_module_version": "1.5.0",
       "_view_name": "HBoxView",
       "box_style": "",
       "children": [
        "IPY_MODEL_a0c441a726a24bbeb72171527db81d7a",
        "IPY_MODEL_47cfc04d0224482bb87eb616053148ae",
        "IPY_MODEL_53a24dab65d344fe92afe1e26f62b25d"
       ],
       "layout": "IPY_MODEL_110d444da2e24675b0c1217cf71fdc95"
      }
     },
     "3e2eaac55a84487b91128b5969fb0dda": {
      "model_module": "@jupyter-widgets/controls",
      "model_module_version": "1.5.0",
      "model_name": "HTMLModel",
      "state": {
       "_dom_classes": [],
       "_model_module": "@jupyter-widgets/controls",
       "_model_module_version": "1.5.0",
       "_model_name": "HTMLModel",
       "_view_count": null,
       "_view_module": "@jupyter-widgets/controls",
       "_view_module_version": "1.5.0",
       "_view_name": "HTMLView",
       "description": "",
       "description_tooltip": null,
       "layout": "IPY_MODEL_deae8e8a7149466b9de8219282ade677",
       "placeholder": "​",
       "style": "IPY_MODEL_8c803e99621c499fa24ab871797ee9f4",
       "value": " 232k/232k [00:00&lt;00:00, 3.49MB/s]"
      }
     },
     "4339f8ef522b4f2b9edb1b9afc12b82e": {
      "model_module": "@jupyter-widgets/controls",
      "model_module_version": "1.5.0",
      "model_name": "HTMLModel",
      "state": {
       "_dom_classes": [],
       "_model_module": "@jupyter-widgets/controls",
       "_model_module_version": "1.5.0",
       "_model_name": "HTMLModel",
       "_view_count": null,
       "_view_module": "@jupyter-widgets/controls",
       "_view_module_version": "1.5.0",
       "_view_name": "HTMLView",
       "description": "",
       "description_tooltip": null,
       "layout": "IPY_MODEL_fb51a34271f743369d2d5a325fc4a901",
       "placeholder": "​",
       "style": "IPY_MODEL_fc7d6d93f2ff4d16a455b6412f691e96",
       "value": "tokenizer_config.json: 100%"
      }
     },
     "455d58dcac0f4bdd9cb79d2cb8f5dbce": {
      "model_module": "@jupyter-widgets/base",
      "model_module_version": "1.2.0",
      "model_name": "LayoutModel",
      "state": {
       "_model_module": "@jupyter-widgets/base",
       "_model_module_version": "1.2.0",
       "_model_name": "LayoutModel",
       "_view_count": null,
       "_view_module": "@jupyter-widgets/base",
       "_view_module_version": "1.2.0",
       "_view_name": "LayoutView",
       "align_content": null,
       "align_items": null,
       "align_self": null,
       "border": null,
       "bottom": null,
       "display": null,
       "flex": null,
       "flex_flow": null,
       "grid_area": null,
       "grid_auto_columns": null,
       "grid_auto_flow": null,
       "grid_auto_rows": null,
       "grid_column": null,
       "grid_gap": null,
       "grid_row": null,
       "grid_template_areas": null,
       "grid_template_columns": null,
       "grid_template_rows": null,
       "height": null,
       "justify_content": null,
       "justify_items": null,
       "left": null,
       "margin": null,
       "max_height": null,
       "max_width": null,
       "min_height": null,
       "min_width": null,
       "object_fit": null,
       "object_position": null,
       "order": null,
       "overflow": null,
       "overflow_x": null,
       "overflow_y": null,
       "padding": null,
       "right": null,
       "top": null,
       "visibility": null,
       "width": null
      }
     },
     "47cfc04d0224482bb87eb616053148ae": {
      "model_module": "@jupyter-widgets/controls",
      "model_module_version": "1.5.0",
      "model_name": "FloatProgressModel",
      "state": {
       "_dom_classes": [],
       "_model_module": "@jupyter-widgets/controls",
       "_model_module_version": "1.5.0",
       "_model_name": "FloatProgressModel",
       "_view_count": null,
       "_view_module": "@jupyter-widgets/controls",
       "_view_module_version": "1.5.0",
       "_view_name": "ProgressView",
       "bar_style": "success",
       "description": "",
       "description_tooltip": null,
       "layout": "IPY_MODEL_8bd03bc898bf469c96876b66e2d4e562",
       "max": 483.0,
       "min": 0.0,
       "orientation": "horizontal",
       "style": "IPY_MODEL_d0d8fe8c9c2449d4906afcb9eaa93303",
       "value": 483.0
      }
     },
     "4ce9d5291942463c9b65a8020c98f182": {
      "model_module": "@jupyter-widgets/base",
      "model_module_version": "1.2.0",
      "model_name": "LayoutModel",
      "state": {
       "_model_module": "@jupyter-widgets/base",
       "_model_module_version": "1.2.0",
       "_model_name": "LayoutModel",
       "_view_count": null,
       "_view_module": "@jupyter-widgets/base",
       "_view_module_version": "1.2.0",
       "_view_name": "LayoutView",
       "align_content": null,
       "align_items": null,
       "align_self": null,
       "border": null,
       "bottom": null,
       "display": null,
       "flex": null,
       "flex_flow": null,
       "grid_area": null,
       "grid_auto_columns": null,
       "grid_auto_flow": null,
       "grid_auto_rows": null,
       "grid_column": null,
       "grid_gap": null,
       "grid_row": null,
       "grid_template_areas": null,
       "grid_template_columns": null,
       "grid_template_rows": null,
       "height": null,
       "justify_content": null,
       "justify_items": null,
       "left": null,
       "margin": null,
       "max_height": null,
       "max_width": null,
       "min_height": null,
       "min_width": null,
       "object_fit": null,
       "object_position": null,
       "order": null,
       "overflow": null,
       "overflow_x": null,
       "overflow_y": null,
       "padding": null,
       "right": null,
       "top": null,
       "visibility": null,
       "width": null
      }
     },
     "4d7a21c61d594322877376393f620cf8": {
      "model_module": "@jupyter-widgets/controls",
      "model_module_version": "1.5.0",
      "model_name": "DescriptionStyleModel",
      "state": {
       "_model_module": "@jupyter-widgets/controls",
       "_model_module_version": "1.5.0",
       "_model_name": "DescriptionStyleModel",
       "_view_count": null,
       "_view_module": "@jupyter-widgets/base",
       "_view_module_version": "1.2.0",
       "_view_name": "StyleView",
       "description_width": ""
      }
     },
     "52c3d3914c9b4b868d4115a434b7ce5e": {
      "model_module": "@jupyter-widgets/controls",
      "model_module_version": "1.5.0",
      "model_name": "FloatProgressModel",
      "state": {
       "_dom_classes": [],
       "_model_module": "@jupyter-widgets/controls",
       "_model_module_version": "1.5.0",
       "_model_name": "FloatProgressModel",
       "_view_count": null,
       "_view_module": "@jupyter-widgets/controls",
       "_view_module_version": "1.5.0",
       "_view_name": "ProgressView",
       "bar_style": "success",
       "description": "",
       "description_tooltip": null,
       "layout": "IPY_MODEL_ad6de754cbc44451b4aaa1bdef53049c",
       "max": 28.0,
       "min": 0.0,
       "orientation": "horizontal",
       "style": "IPY_MODEL_18394a785c784afea9211215e14c2b94",
       "value": 28.0
      }
     },
     "53a24dab65d344fe92afe1e26f62b25d": {
      "model_module": "@jupyter-widgets/controls",
      "model_module_version": "1.5.0",
      "model_name": "HTMLModel",
      "state": {
       "_dom_classes": [],
       "_model_module": "@jupyter-widgets/controls",
       "_model_module_version": "1.5.0",
       "_model_name": "HTMLModel",
       "_view_count": null,
       "_view_module": "@jupyter-widgets/controls",
       "_view_module_version": "1.5.0",
       "_view_name": "HTMLView",
       "description": "",
       "description_tooltip": null,
       "layout": "IPY_MODEL_6a8b73905a854bc8a13323509b8cf428",
       "placeholder": "​",
       "style": "IPY_MODEL_4d7a21c61d594322877376393f620cf8",
       "value": " 483/483 [00:00&lt;00:00, 41.3kB/s]"
      }
     },
     "61cccd71112048baad5d7af4f00546c5": {
      "model_module": "@jupyter-widgets/controls",
      "model_module_version": "1.5.0",
      "model_name": "FloatProgressModel",
      "state": {
       "_dom_classes": [],
       "_model_module": "@jupyter-widgets/controls",
       "_model_module_version": "1.5.0",
       "_model_name": "FloatProgressModel",
       "_view_count": null,
       "_view_module": "@jupyter-widgets/controls",
       "_view_module_version": "1.5.0",
       "_view_name": "ProgressView",
       "bar_style": "success",
       "description": "",
       "description_tooltip": null,
       "layout": "IPY_MODEL_a22d254d38c246dcaee8b6334ab5dbb6",
       "max": 267954768.0,
       "min": 0.0,
       "orientation": "horizontal",
       "style": "IPY_MODEL_bf3ac264fe0d452ba8718355c0a10796",
       "value": 267954768.0
      }
     },
     "6a8b73905a854bc8a13323509b8cf428": {
      "model_module": "@jupyter-widgets/base",
      "model_module_version": "1.2.0",
      "model_name": "LayoutModel",
      "state": {
       "_model_module": "@jupyter-widgets/base",
       "_model_module_version": "1.2.0",
       "_model_name": "LayoutModel",
       "_view_count": null,
       "_view_module": "@jupyter-widgets/base",
       "_view_module_version": "1.2.0",
       "_view_name": "LayoutView",
       "align_content": null,
       "align_items": null,
       "align_self": null,
       "border": null,
       "bottom": null,
       "display": null,
       "flex": null,
       "flex_flow": null,
       "grid_area": null,
       "grid_auto_columns": null,
       "grid_auto_flow": null,
       "grid_auto_rows": null,
       "grid_column": null,
       "grid_gap": null,
       "grid_row": null,
       "grid_template_areas": null,
       "grid_template_columns": null,
       "grid_template_rows": null,
       "height": null,
       "justify_content": null,
       "justify_items": null,
       "left": null,
       "margin": null,
       "max_height": null,
       "max_width": null,
       "min_height": null,
       "min_width": null,
       "object_fit": null,
       "object_position": null,
       "order": null,
       "overflow": null,
       "overflow_x": null,
       "overflow_y": null,
       "padding": null,
       "right": null,
       "top": null,
       "visibility": null,
       "width": null
      }
     },
     "6ed7b87b0f9f44efbd8afb4d5afb2c0a": {
      "model_module": "@jupyter-widgets/base",
      "model_module_version": "1.2.0",
      "model_name": "LayoutModel",
      "state": {
       "_model_module": "@jupyter-widgets/base",
       "_model_module_version": "1.2.0",
       "_model_name": "LayoutModel",
       "_view_count": null,
       "_view_module": "@jupyter-widgets/base",
       "_view_module_version": "1.2.0",
       "_view_name": "LayoutView",
       "align_content": null,
       "align_items": null,
       "align_self": null,
       "border": null,
       "bottom": null,
       "display": null,
       "flex": null,
       "flex_flow": null,
       "grid_area": null,
       "grid_auto_columns": null,
       "grid_auto_flow": null,
       "grid_auto_rows": null,
       "grid_column": null,
       "grid_gap": null,
       "grid_row": null,
       "grid_template_areas": null,
       "grid_template_columns": null,
       "grid_template_rows": null,
       "height": null,
       "justify_content": null,
       "justify_items": null,
       "left": null,
       "margin": null,
       "max_height": null,
       "max_width": null,
       "min_height": null,
       "min_width": null,
       "object_fit": null,
       "object_position": null,
       "order": null,
       "overflow": null,
       "overflow_x": null,
       "overflow_y": null,
       "padding": null,
       "right": null,
       "top": null,
       "visibility": null,
       "width": null
      }
     },
     "736fcb41f86c48248f8babb5c53c34ea": {
      "model_module": "@jupyter-widgets/controls",
      "model_module_version": "1.5.0",
      "model_name": "DescriptionStyleModel",
      "state": {
       "_model_module": "@jupyter-widgets/controls",
       "_model_module_version": "1.5.0",
       "_model_name": "DescriptionStyleModel",
       "_view_count": null,
       "_view_module": "@jupyter-widgets/base",
       "_view_module_version": "1.2.0",
       "_view_name": "StyleView",
       "description_width": ""
      }
     },
     "7829a17821b14e5b8721bba9bd261a76": {
      "model_module": "@jupyter-widgets/controls",
      "model_module_version": "1.5.0",
      "model_name": "HBoxModel",
      "state": {
       "_dom_classes": [],
       "_model_module": "@jupyter-widgets/controls",
       "_model_module_version": "1.5.0",
       "_model_name": "HBoxModel",
       "_view_count": null,
       "_view_module": "@jupyter-widgets/controls",
       "_view_module_version": "1.5.0",
       "_view_name": "HBoxView",
       "box_style": "",
       "children": [
        "IPY_MODEL_05217bdb730343f18805c6cdbb5ae128",
        "IPY_MODEL_a1cd7b5465ff4a6a87079451345ca84d",
        "IPY_MODEL_f3ad5d1827004131b4f154bca688dd50"
       ],
       "layout": "IPY_MODEL_00366cc42d0d4f09a45fbb0254278fcc"
      }
     },
     "7bf52a099dbc4cbf9af234fab0fbfda1": {
      "model_module": "@jupyter-widgets/controls",
      "model_module_version": "1.5.0",
      "model_name": "HTMLModel",
      "state": {
       "_dom_classes": [],
       "_model_module": "@jupyter-widgets/controls",
       "_model_module_version": "1.5.0",
       "_model_name": "HTMLModel",
       "_view_count": null,
       "_view_module": "@jupyter-widgets/controls",
       "_view_module_version": "1.5.0",
       "_view_name": "HTMLView",
       "description": "",
       "description_tooltip": null,
       "layout": "IPY_MODEL_99bd20bc9d274d93a36c95d25687c1c9",
       "placeholder": "​",
       "style": "IPY_MODEL_36f70f256f614b1e8d910452230ff285",
       "value": "model.safetensors: 100%"
      }
     },
     "7e89d75cf28946d9939b197b5065f577": {
      "model_module": "@jupyter-widgets/controls",
      "model_module_version": "1.5.0",
      "model_name": "DescriptionStyleModel",
      "state": {
       "_model_module": "@jupyter-widgets/controls",
       "_model_module_version": "1.5.0",
       "_model_name": "DescriptionStyleModel",
       "_view_count": null,
       "_view_module": "@jupyter-widgets/base",
       "_view_module_version": "1.2.0",
       "_view_name": "StyleView",
       "description_width": ""
      }
     },
     "83213b3dd80b4555bda2180c83d9e08e": {
      "model_module": "@jupyter-widgets/controls",
      "model_module_version": "1.5.0",
      "model_name": "HBoxModel",
      "state": {
       "_dom_classes": [],
       "_model_module": "@jupyter-widgets/controls",
       "_model_module_version": "1.5.0",
       "_model_name": "HBoxModel",
       "_view_count": null,
       "_view_module": "@jupyter-widgets/controls",
       "_view_module_version": "1.5.0",
       "_view_name": "HBoxView",
       "box_style": "",
       "children": [
        "IPY_MODEL_7bf52a099dbc4cbf9af234fab0fbfda1",
        "IPY_MODEL_61cccd71112048baad5d7af4f00546c5",
        "IPY_MODEL_1f920ac7f1344ad0a3442a4e30cf2709"
       ],
       "layout": "IPY_MODEL_130b9276a5df4f43930317db0aa18831"
      }
     },
     "8bd03bc898bf469c96876b66e2d4e562": {
      "model_module": "@jupyter-widgets/base",
      "model_module_version": "1.2.0",
      "model_name": "LayoutModel",
      "state": {
       "_model_module": "@jupyter-widgets/base",
       "_model_module_version": "1.2.0",
       "_model_name": "LayoutModel",
       "_view_count": null,
       "_view_module": "@jupyter-widgets/base",
       "_view_module_version": "1.2.0",
       "_view_name": "LayoutView",
       "align_content": null,
       "align_items": null,
       "align_self": null,
       "border": null,
       "bottom": null,
       "display": null,
       "flex": null,
       "flex_flow": null,
       "grid_area": null,
       "grid_auto_columns": null,
       "grid_auto_flow": null,
       "grid_auto_rows": null,
       "grid_column": null,
       "grid_gap": null,
       "grid_row": null,
       "grid_template_areas": null,
       "grid_template_columns": null,
       "grid_template_rows": null,
       "height": null,
       "justify_content": null,
       "justify_items": null,
       "left": null,
       "margin": null,
       "max_height": null,
       "max_width": null,
       "min_height": null,
       "min_width": null,
       "object_fit": null,
       "object_position": null,
       "order": null,
       "overflow": null,
       "overflow_x": null,
       "overflow_y": null,
       "padding": null,
       "right": null,
       "top": null,
       "visibility": null,
       "width": null
      }
     },
     "8c803e99621c499fa24ab871797ee9f4": {
      "model_module": "@jupyter-widgets/controls",
      "model_module_version": "1.5.0",
      "model_name": "DescriptionStyleModel",
      "state": {
       "_model_module": "@jupyter-widgets/controls",
       "_model_module_version": "1.5.0",
       "_model_name": "DescriptionStyleModel",
       "_view_count": null,
       "_view_module": "@jupyter-widgets/base",
       "_view_module_version": "1.2.0",
       "_view_name": "StyleView",
       "description_width": ""
      }
     },
     "9362ed8cd4c04358b8155cbe773328ac": {
      "model_module": "@jupyter-widgets/controls",
      "model_module_version": "1.5.0",
      "model_name": "FloatProgressModel",
      "state": {
       "_dom_classes": [],
       "_model_module": "@jupyter-widgets/controls",
       "_model_module_version": "1.5.0",
       "_model_name": "FloatProgressModel",
       "_view_count": null,
       "_view_module": "@jupyter-widgets/controls",
       "_view_module_version": "1.5.0",
       "_view_name": "ProgressView",
       "bar_style": "success",
       "description": "",
       "description_tooltip": null,
       "layout": "IPY_MODEL_9373ace4b32649c49f01bcbbd8047a8d",
       "max": 231508.0,
       "min": 0.0,
       "orientation": "horizontal",
       "style": "IPY_MODEL_2fe0068d3f084e29a74196ba3ccbce6a",
       "value": 231508.0
      }
     },
     "9373ace4b32649c49f01bcbbd8047a8d": {
      "model_module": "@jupyter-widgets/base",
      "model_module_version": "1.2.0",
      "model_name": "LayoutModel",
      "state": {
       "_model_module": "@jupyter-widgets/base",
       "_model_module_version": "1.2.0",
       "_model_name": "LayoutModel",
       "_view_count": null,
       "_view_module": "@jupyter-widgets/base",
       "_view_module_version": "1.2.0",
       "_view_name": "LayoutView",
       "align_content": null,
       "align_items": null,
       "align_self": null,
       "border": null,
       "bottom": null,
       "display": null,
       "flex": null,
       "flex_flow": null,
       "grid_area": null,
       "grid_auto_columns": null,
       "grid_auto_flow": null,
       "grid_auto_rows": null,
       "grid_column": null,
       "grid_gap": null,
       "grid_row": null,
       "grid_template_areas": null,
       "grid_template_columns": null,
       "grid_template_rows": null,
       "height": null,
       "justify_content": null,
       "justify_items": null,
       "left": null,
       "margin": null,
       "max_height": null,
       "max_width": null,
       "min_height": null,
       "min_width": null,
       "object_fit": null,
       "object_position": null,
       "order": null,
       "overflow": null,
       "overflow_x": null,
       "overflow_y": null,
       "padding": null,
       "right": null,
       "top": null,
       "visibility": null,
       "width": null
      }
     },
     "99bd20bc9d274d93a36c95d25687c1c9": {
      "model_module": "@jupyter-widgets/base",
      "model_module_version": "1.2.0",
      "model_name": "LayoutModel",
      "state": {
       "_model_module": "@jupyter-widgets/base",
       "_model_module_version": "1.2.0",
       "_model_name": "LayoutModel",
       "_view_count": null,
       "_view_module": "@jupyter-widgets/base",
       "_view_module_version": "1.2.0",
       "_view_name": "LayoutView",
       "align_content": null,
       "align_items": null,
       "align_self": null,
       "border": null,
       "bottom": null,
       "display": null,
       "flex": null,
       "flex_flow": null,
       "grid_area": null,
       "grid_auto_columns": null,
       "grid_auto_flow": null,
       "grid_auto_rows": null,
       "grid_column": null,
       "grid_gap": null,
       "grid_row": null,
       "grid_template_areas": null,
       "grid_template_columns": null,
       "grid_template_rows": null,
       "height": null,
       "justify_content": null,
       "justify_items": null,
       "left": null,
       "margin": null,
       "max_height": null,
       "max_width": null,
       "min_height": null,
       "min_width": null,
       "object_fit": null,
       "object_position": null,
       "order": null,
       "overflow": null,
       "overflow_x": null,
       "overflow_y": null,
       "padding": null,
       "right": null,
       "top": null,
       "visibility": null,
       "width": null
      }
     },
     "a0c441a726a24bbeb72171527db81d7a": {
      "model_module": "@jupyter-widgets/controls",
      "model_module_version": "1.5.0",
      "model_name": "HTMLModel",
      "state": {
       "_dom_classes": [],
       "_model_module": "@jupyter-widgets/controls",
       "_model_module_version": "1.5.0",
       "_model_name": "HTMLModel",
       "_view_count": null,
       "_view_module": "@jupyter-widgets/controls",
       "_view_module_version": "1.5.0",
       "_view_name": "HTMLView",
       "description": "",
       "description_tooltip": null,
       "layout": "IPY_MODEL_3a9d14daca46473882c74ef532329ddd",
       "placeholder": "​",
       "style": "IPY_MODEL_7e89d75cf28946d9939b197b5065f577",
       "value": "config.json: 100%"
      }
     },
     "a1cd7b5465ff4a6a87079451345ca84d": {
      "model_module": "@jupyter-widgets/controls",
      "model_module_version": "1.5.0",
      "model_name": "FloatProgressModel",
      "state": {
       "_dom_classes": [],
       "_model_module": "@jupyter-widgets/controls",
       "_model_module_version": "1.5.0",
       "_model_name": "FloatProgressModel",
       "_view_count": null,
       "_view_module": "@jupyter-widgets/controls",
       "_view_module_version": "1.5.0",
       "_view_name": "ProgressView",
       "bar_style": "success",
       "description": "",
       "description_tooltip": null,
       "layout": "IPY_MODEL_05e888dc07724646b06b00d9cf9cd13d",
       "max": 466062.0,
       "min": 0.0,
       "orientation": "horizontal",
       "style": "IPY_MODEL_131768fde9714f26ba1c24114010e100",
       "value": 466062.0
      }
     },
     "a22d254d38c246dcaee8b6334ab5dbb6": {
      "model_module": "@jupyter-widgets/base",
      "model_module_version": "1.2.0",
      "model_name": "LayoutModel",
      "state": {
       "_model_module": "@jupyter-widgets/base",
       "_model_module_version": "1.2.0",
       "_model_name": "LayoutModel",
       "_view_count": null,
       "_view_module": "@jupyter-widgets/base",
       "_view_module_version": "1.2.0",
       "_view_name": "LayoutView",
       "align_content": null,
       "align_items": null,
       "align_self": null,
       "border": null,
       "bottom": null,
       "display": null,
       "flex": null,
       "flex_flow": null,
       "grid_area": null,
       "grid_auto_columns": null,
       "grid_auto_flow": null,
       "grid_auto_rows": null,
       "grid_column": null,
       "grid_gap": null,
       "grid_row": null,
       "grid_template_areas": null,
       "grid_template_columns": null,
       "grid_template_rows": null,
       "height": null,
       "justify_content": null,
       "justify_items": null,
       "left": null,
       "margin": null,
       "max_height": null,
       "max_width": null,
       "min_height": null,
       "min_width": null,
       "object_fit": null,
       "object_position": null,
       "order": null,
       "overflow": null,
       "overflow_x": null,
       "overflow_y": null,
       "padding": null,
       "right": null,
       "top": null,
       "visibility": null,
       "width": null
      }
     },
     "ad6de754cbc44451b4aaa1bdef53049c": {
      "model_module": "@jupyter-widgets/base",
      "model_module_version": "1.2.0",
      "model_name": "LayoutModel",
      "state": {
       "_model_module": "@jupyter-widgets/base",
       "_model_module_version": "1.2.0",
       "_model_name": "LayoutModel",
       "_view_count": null,
       "_view_module": "@jupyter-widgets/base",
       "_view_module_version": "1.2.0",
       "_view_name": "LayoutView",
       "align_content": null,
       "align_items": null,
       "align_self": null,
       "border": null,
       "bottom": null,
       "display": null,
       "flex": null,
       "flex_flow": null,
       "grid_area": null,
       "grid_auto_columns": null,
       "grid_auto_flow": null,
       "grid_auto_rows": null,
       "grid_column": null,
       "grid_gap": null,
       "grid_row": null,
       "grid_template_areas": null,
       "grid_template_columns": null,
       "grid_template_rows": null,
       "height": null,
       "justify_content": null,
       "justify_items": null,
       "left": null,
       "margin": null,
       "max_height": null,
       "max_width": null,
       "min_height": null,
       "min_width": null,
       "object_fit": null,
       "object_position": null,
       "order": null,
       "overflow": null,
       "overflow_x": null,
       "overflow_y": null,
       "padding": null,
       "right": null,
       "top": null,
       "visibility": null,
       "width": null
      }
     },
     "bf3ac264fe0d452ba8718355c0a10796": {
      "model_module": "@jupyter-widgets/controls",
      "model_module_version": "1.5.0",
      "model_name": "ProgressStyleModel",
      "state": {
       "_model_module": "@jupyter-widgets/controls",
       "_model_module_version": "1.5.0",
       "_model_name": "ProgressStyleModel",
       "_view_count": null,
       "_view_module": "@jupyter-widgets/base",
       "_view_module_version": "1.2.0",
       "_view_name": "StyleView",
       "bar_color": null,
       "description_width": ""
      }
     },
     "cff7a5c1fc7b4329b689aabb517bda91": {
      "model_module": "@jupyter-widgets/base",
      "model_module_version": "1.2.0",
      "model_name": "LayoutModel",
      "state": {
       "_model_module": "@jupyter-widgets/base",
       "_model_module_version": "1.2.0",
       "_model_name": "LayoutModel",
       "_view_count": null,
       "_view_module": "@jupyter-widgets/base",
       "_view_module_version": "1.2.0",
       "_view_name": "LayoutView",
       "align_content": null,
       "align_items": null,
       "align_self": null,
       "border": null,
       "bottom": null,
       "display": null,
       "flex": null,
       "flex_flow": null,
       "grid_area": null,
       "grid_auto_columns": null,
       "grid_auto_flow": null,
       "grid_auto_rows": null,
       "grid_column": null,
       "grid_gap": null,
       "grid_row": null,
       "grid_template_areas": null,
       "grid_template_columns": null,
       "grid_template_rows": null,
       "height": null,
       "justify_content": null,
       "justify_items": null,
       "left": null,
       "margin": null,
       "max_height": null,
       "max_width": null,
       "min_height": null,
       "min_width": null,
       "object_fit": null,
       "object_position": null,
       "order": null,
       "overflow": null,
       "overflow_x": null,
       "overflow_y": null,
       "padding": null,
       "right": null,
       "top": null,
       "visibility": null,
       "width": null
      }
     },
     "d0d8fe8c9c2449d4906afcb9eaa93303": {
      "model_module": "@jupyter-widgets/controls",
      "model_module_version": "1.5.0",
      "model_name": "ProgressStyleModel",
      "state": {
       "_model_module": "@jupyter-widgets/controls",
       "_model_module_version": "1.5.0",
       "_model_name": "ProgressStyleModel",
       "_view_count": null,
       "_view_module": "@jupyter-widgets/base",
       "_view_module_version": "1.2.0",
       "_view_name": "StyleView",
       "bar_color": null,
       "description_width": ""
      }
     },
     "dcb63a80032f41bb8f137217a78cc0a1": {
      "model_module": "@jupyter-widgets/controls",
      "model_module_version": "1.5.0",
      "model_name": "DescriptionStyleModel",
      "state": {
       "_model_module": "@jupyter-widgets/controls",
       "_model_module_version": "1.5.0",
       "_model_name": "DescriptionStyleModel",
       "_view_count": null,
       "_view_module": "@jupyter-widgets/base",
       "_view_module_version": "1.2.0",
       "_view_name": "StyleView",
       "description_width": ""
      }
     },
     "deae8e8a7149466b9de8219282ade677": {
      "model_module": "@jupyter-widgets/base",
      "model_module_version": "1.2.0",
      "model_name": "LayoutModel",
      "state": {
       "_model_module": "@jupyter-widgets/base",
       "_model_module_version": "1.2.0",
       "_model_name": "LayoutModel",
       "_view_count": null,
       "_view_module": "@jupyter-widgets/base",
       "_view_module_version": "1.2.0",
       "_view_name": "LayoutView",
       "align_content": null,
       "align_items": null,
       "align_self": null,
       "border": null,
       "bottom": null,
       "display": null,
       "flex": null,
       "flex_flow": null,
       "grid_area": null,
       "grid_auto_columns": null,
       "grid_auto_flow": null,
       "grid_auto_rows": null,
       "grid_column": null,
       "grid_gap": null,
       "grid_row": null,
       "grid_template_areas": null,
       "grid_template_columns": null,
       "grid_template_rows": null,
       "height": null,
       "justify_content": null,
       "justify_items": null,
       "left": null,
       "margin": null,
       "max_height": null,
       "max_width": null,
       "min_height": null,
       "min_width": null,
       "object_fit": null,
       "object_position": null,
       "order": null,
       "overflow": null,
       "overflow_x": null,
       "overflow_y": null,
       "padding": null,
       "right": null,
       "top": null,
       "visibility": null,
       "width": null
      }
     },
     "e6418791c51347df817473d43e01acd4": {
      "model_module": "@jupyter-widgets/controls",
      "model_module_version": "1.5.0",
      "model_name": "HTMLModel",
      "state": {
       "_dom_classes": [],
       "_model_module": "@jupyter-widgets/controls",
       "_model_module_version": "1.5.0",
       "_model_name": "HTMLModel",
       "_view_count": null,
       "_view_module": "@jupyter-widgets/controls",
       "_view_module_version": "1.5.0",
       "_view_name": "HTMLView",
       "description": "",
       "description_tooltip": null,
       "layout": "IPY_MODEL_f08fd82491d0432497607f4a25361b6e",
       "placeholder": "​",
       "style": "IPY_MODEL_0718a08ed81d46dd94f2d9e4817f25f6",
       "value": "vocab.txt: 100%"
      }
     },
     "ed0a72bdd37c467a85f7b29fb574425c": {
      "model_module": "@jupyter-widgets/controls",
      "model_module_version": "1.5.0",
      "model_name": "HTMLModel",
      "state": {
       "_dom_classes": [],
       "_model_module": "@jupyter-widgets/controls",
       "_model_module_version": "1.5.0",
       "_model_name": "HTMLModel",
       "_view_count": null,
       "_view_module": "@jupyter-widgets/controls",
       "_view_module_version": "1.5.0",
       "_view_name": "HTMLView",
       "description": "",
       "description_tooltip": null,
       "layout": "IPY_MODEL_cff7a5c1fc7b4329b689aabb517bda91",
       "placeholder": "​",
       "style": "IPY_MODEL_dcb63a80032f41bb8f137217a78cc0a1",
       "value": " 28.0/28.0 [00:00&lt;00:00, 2.74kB/s]"
      }
     },
     "f08fd82491d0432497607f4a25361b6e": {
      "model_module": "@jupyter-widgets/base",
      "model_module_version": "1.2.0",
      "model_name": "LayoutModel",
      "state": {
       "_model_module": "@jupyter-widgets/base",
       "_model_module_version": "1.2.0",
       "_model_name": "LayoutModel",
       "_view_count": null,
       "_view_module": "@jupyter-widgets/base",
       "_view_module_version": "1.2.0",
       "_view_name": "LayoutView",
       "align_content": null,
       "align_items": null,
       "align_self": null,
       "border": null,
       "bottom": null,
       "display": null,
       "flex": null,
       "flex_flow": null,
       "grid_area": null,
       "grid_auto_columns": null,
       "grid_auto_flow": null,
       "grid_auto_rows": null,
       "grid_column": null,
       "grid_gap": null,
       "grid_row": null,
       "grid_template_areas": null,
       "grid_template_columns": null,
       "grid_template_rows": null,
       "height": null,
       "justify_content": null,
       "justify_items": null,
       "left": null,
       "margin": null,
       "max_height": null,
       "max_width": null,
       "min_height": null,
       "min_width": null,
       "object_fit": null,
       "object_position": null,
       "order": null,
       "overflow": null,
       "overflow_x": null,
       "overflow_y": null,
       "padding": null,
       "right": null,
       "top": null,
       "visibility": null,
       "width": null
      }
     },
     "f3ad5d1827004131b4f154bca688dd50": {
      "model_module": "@jupyter-widgets/controls",
      "model_module_version": "1.5.0",
      "model_name": "HTMLModel",
      "state": {
       "_dom_classes": [],
       "_model_module": "@jupyter-widgets/controls",
       "_model_module_version": "1.5.0",
       "_model_name": "HTMLModel",
       "_view_count": null,
       "_view_module": "@jupyter-widgets/controls",
       "_view_module_version": "1.5.0",
       "_view_name": "HTMLView",
       "description": "",
       "description_tooltip": null,
       "layout": "IPY_MODEL_455d58dcac0f4bdd9cb79d2cb8f5dbce",
       "placeholder": "​",
       "style": "IPY_MODEL_388a87088b90462c880350315f06a53c",
       "value": " 466k/466k [00:00&lt;00:00, 3.66MB/s]"
      }
     },
     "fb51a34271f743369d2d5a325fc4a901": {
      "model_module": "@jupyter-widgets/base",
      "model_module_version": "1.2.0",
      "model_name": "LayoutModel",
      "state": {
       "_model_module": "@jupyter-widgets/base",
       "_model_module_version": "1.2.0",
       "_model_name": "LayoutModel",
       "_view_count": null,
       "_view_module": "@jupyter-widgets/base",
       "_view_module_version": "1.2.0",
       "_view_name": "LayoutView",
       "align_content": null,
       "align_items": null,
       "align_self": null,
       "border": null,
       "bottom": null,
       "display": null,
       "flex": null,
       "flex_flow": null,
       "grid_area": null,
       "grid_auto_columns": null,
       "grid_auto_flow": null,
       "grid_auto_rows": null,
       "grid_column": null,
       "grid_gap": null,
       "grid_row": null,
       "grid_template_areas": null,
       "grid_template_columns": null,
       "grid_template_rows": null,
       "height": null,
       "justify_content": null,
       "justify_items": null,
       "left": null,
       "margin": null,
       "max_height": null,
       "max_width": null,
       "min_height": null,
       "min_width": null,
       "object_fit": null,
       "object_position": null,
       "order": null,
       "overflow": null,
       "overflow_x": null,
       "overflow_y": null,
       "padding": null,
       "right": null,
       "top": null,
       "visibility": null,
       "width": null
      }
     },
     "fc7d6d93f2ff4d16a455b6412f691e96": {
      "model_module": "@jupyter-widgets/controls",
      "model_module_version": "1.5.0",
      "model_name": "DescriptionStyleModel",
      "state": {
       "_model_module": "@jupyter-widgets/controls",
       "_model_module_version": "1.5.0",
       "_model_name": "DescriptionStyleModel",
       "_view_count": null,
       "_view_module": "@jupyter-widgets/base",
       "_view_module_version": "1.2.0",
       "_view_name": "StyleView",
       "description_width": ""
      }
     }
    },
    "version_major": 2,
    "version_minor": 0
   }
  }
 },
 "nbformat": 4,
 "nbformat_minor": 5
}
