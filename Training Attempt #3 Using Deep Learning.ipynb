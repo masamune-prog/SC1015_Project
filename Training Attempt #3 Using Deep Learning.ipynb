{
 "cells": [
  {
   "cell_type": "markdown",
   "id": "848ceceb",
   "metadata": {
    "papermill": {
     "duration": 0.019949,
     "end_time": "2024-04-20T09:39:10.252554",
     "exception": false,
     "start_time": "2024-04-20T09:39:10.232605",
     "status": "completed"
    },
    "tags": []
   },
   "source": [
    "In real life, humans use information from text and title to determine if a piece of news is fake or not\n",
    "\n",
    "\n",
    "\n",
    "\n",
    "In the previous models, we mostly depended on the word type and frequency, but did not use the meaning and order of words to determine the veracity of the news\n",
    "\n",
    "\n",
    "\n",
    "\n",
    "Using Deep Learning, We can perform this, with the use of Attention Mechanisms and word embeddings\n",
    "\n",
    "\n",
    "\n",
    "\n",
    "What is BERT?\n",
    "\n",
    "![Alt text](DistillBert.png \"DistillBERT Architecture\")\n",
    "\n",
    "\n",
    "\n",
    "BERT (Bidirectional Encoder Representations from Transformers) is a method of pretraining language representations that was used to create models that NLP practitioners can then download and use for free. We use these models to extract high quality language features from your text data, and fine-tune these models on our classification problem with our data to produce state of the art predictions.\n",
    "\n",
    "\n",
    "\n",
    "\n",
    "We decided to use DistillBERT, as BERT architecture allows for Bidirectional Encoding of the text, which should improve classification compared to other forms of Encoding like TD-IDF or other Neural Net based Unidirectional Encodings like Word2Vec or Glove. \n",
    "\n",
    "\n",
    "\n",
    "\n",
    "For example, given two sentences: \"The man was accused of robbing a bank.\" \"The man went fishing by the bank of the river.\"  Embeddings like Word2Vec and TDIDF would produce the same word embedding for the word \"bank\" in both sentences, while under BERT the word embedding for \"bank\" would be different for each sentence which is more in line with the meaning of the sentence.\n",
    "\n",
    "\n",
    "\n",
    "\n",
    "As BERT also comes with a variety of versions, we decided to use DistillBERT, a smaller model with similar accuracy , given the relatively smaller size of the dataset to prevent excessive overfitting and the computational time limit of 12hours on Kaggle\n",
    "\n",
    "\n",
    "\n",
    "\n",
    "In this project, we applied Transfer Learning, using a Encoder and Model Trained on Wikipedia pages. We hypothesize that such a approach should be the most effective, given that detection of fake news require a deep existing knowledge base, which the pretrained model weights should reflect\n",
    "\n",
    "\n",
    "\n",
    "\n",
    "We Freeze the weights and add a SoftMax layer to obtain a classifier which outputs 0 and 1 (Not done yet) \n",
    "\n",
    "\n",
    "\n",
    "\n",
    "Due to lack of computational time, we are unable to do automated hyperparameter tuning experiments, but found that the default hyperparameters was able to produce state of the art results on both the testing and validation results, with the model slightly underfitting which means that the model was effective in producing a generalization of the data.\n",
    "\n",
    "\n",
    "\n",
    "\n"
   ]
  },
  {
   "cell_type": "code",
   "execution_count": 1,
   "id": "df533131",
   "metadata": {
    "_cell_guid": "b1076dfc-b9ad-4769-8c92-a6c4dae69d19",
    "_uuid": "8f2839f25d086af736a60e9eeb907d3b93b6e0e5",
    "cell_id": "d83ae72c358e4568a959e9d31ee1c3e7",
    "deepnote_cell_type": "code",
    "execution": {
     "iopub.execute_input": "2024-04-20T09:39:10.292784Z",
     "iopub.status.busy": "2024-04-20T09:39:10.292412Z",
     "iopub.status.idle": "2024-04-20T09:39:30.519693Z",
     "shell.execute_reply": "2024-04-20T09:39:30.518520Z"
    },
    "papermill": {
     "duration": 20.250311,
     "end_time": "2024-04-20T09:39:30.521994",
     "exception": false,
     "start_time": "2024-04-20T09:39:10.271683",
     "status": "completed"
    },
    "tags": []
   },
   "outputs": [
    {
     "name": "stderr",
     "output_type": "stream",
     "text": [
      "2024-04-20 09:39:19.859201: E external/local_xla/xla/stream_executor/cuda/cuda_dnn.cc:9261] Unable to register cuDNN factory: Attempting to register factory for plugin cuDNN when one has already been registered\n",
      "2024-04-20 09:39:19.859307: E external/local_xla/xla/stream_executor/cuda/cuda_fft.cc:607] Unable to register cuFFT factory: Attempting to register factory for plugin cuFFT when one has already been registered\n",
      "2024-04-20 09:39:19.989667: E external/local_xla/xla/stream_executor/cuda/cuda_blas.cc:1515] Unable to register cuBLAS factory: Attempting to register factory for plugin cuBLAS when one has already been registered\n"
     ]
    },
    {
     "name": "stdout",
     "output_type": "stream",
     "text": [
      "/kaggle/input/cleaned-news/cleaned_news.csv\n"
     ]
    }
   ],
   "source": [
    "# This Python 3 environment comes with many helpful analytics libraries installed\n",
    "# It is defined by the kaggle/python Docker image: https://github.com/kaggle/docker-python\n",
    "# For example, here's several helpful packages to load\n",
    "\n",
    "import numpy as np # linear algebra\n",
    "import pandas as pd # data processing, CSV file I/O (e.g. pd.read_csv)\n",
    "import seaborn as sb\n",
    "import torch\n",
    "import os\n",
    "from transformers import BertTokenizer, TFBertModel,BertForSequenceClassification,DistilBertTokenizerFast,DistilBertModel, Trainer, TrainingArguments,DistilBertForSequenceClassification\n",
    "from sklearn.model_selection import train_test_split\n",
    "from sklearn.utils import shuffle\n",
    "from sklearn.metrics import accuracy_score, precision_recall_fscore_support, confusion_matrix, classification_report\n",
    "# Input data files are available in the read-only \"../input/\" directory\n",
    "# For example, running this (by clicking run or pressing Shift+Enter) will list all files under the input directory\n",
    "\n",
    "import os\n",
    "for dirname, _, filenames in os.walk('/kaggle/input'):\n",
    "    for filename in filenames:\n",
    "        print(os.path.join(dirname, filename))\n",
    "\n",
    "# You can write up to 20GB to the current directory (/kaggle/working/) that gets preserved as output when you create a version using \"Save & Run All\" \n",
    "# You can also write temporary files to /kaggle/temp/, but they won't be saved outside of the current session"
   ]
  },
  {
   "cell_type": "code",
   "execution_count": null,
   "id": "b2fbf23d",
   "metadata": {
    "cell_id": "edefa83417e04c4e80347654c2164440",
    "deepnote_cell_type": "code",
    "papermill": {
     "duration": 0.01983,
     "end_time": "2024-04-20T09:39:30.561886",
     "exception": false,
     "start_time": "2024-04-20T09:39:30.542056",
     "status": "completed"
    },
    "tags": []
   },
   "outputs": [],
   "source": []
  },
  {
   "cell_type": "code",
   "execution_count": 2,
   "id": "3e6e7b3f",
   "metadata": {
    "cell_id": "04cc0742430e44e3a5466da9c01c8493",
    "deepnote_cell_type": "code",
    "execution": {
     "iopub.execute_input": "2024-04-20T09:39:30.605713Z",
     "iopub.status.busy": "2024-04-20T09:39:30.605019Z",
     "iopub.status.idle": "2024-04-20T09:39:35.389434Z",
     "shell.execute_reply": "2024-04-20T09:39:35.388500Z"
    },
    "papermill": {
     "duration": 4.809722,
     "end_time": "2024-04-20T09:39:35.392075",
     "exception": false,
     "start_time": "2024-04-20T09:39:30.582353",
     "status": "completed"
    },
    "tags": []
   },
   "outputs": [],
   "source": [
    "news = pd.read_csv('/kaggle/input/cleaned-news/cleaned_news.csv')"
   ]
  },
  {
   "cell_type": "code",
   "execution_count": 3,
   "id": "e07bbe4b",
   "metadata": {
    "cell_id": "3aa7da1ac17d4f05b641290c3c7e24a9",
    "deepnote_cell_type": "code",
    "execution": {
     "iopub.execute_input": "2024-04-20T09:39:35.434693Z",
     "iopub.status.busy": "2024-04-20T09:39:35.433750Z",
     "iopub.status.idle": "2024-04-20T09:39:35.451868Z",
     "shell.execute_reply": "2024-04-20T09:39:35.450935Z"
    },
    "papermill": {
     "duration": 0.041397,
     "end_time": "2024-04-20T09:39:35.454082",
     "exception": false,
     "start_time": "2024-04-20T09:39:35.412685",
     "status": "completed"
    },
    "tags": []
   },
   "outputs": [],
   "source": [
    "#create new dataframe with title,text,label\n",
    "news_cleaned = news[['title','text','label']]"
   ]
  },
  {
   "cell_type": "markdown",
   "id": "ee00f8e5",
   "metadata": {
    "cell_id": "254946d1a3fa4447ac012f37415ebd6b",
    "deepnote_cell_type": "text-cell-p",
    "formattedRanges": [],
    "papermill": {
     "duration": 0.025899,
     "end_time": "2024-04-20T09:39:35.504154",
     "exception": false,
     "start_time": "2024-04-20T09:39:35.478255",
     "status": "completed"
    },
    "tags": []
   },
   "source": [
    "Combining the title and the text together in a column 'comb_text'"
   ]
  },
  {
   "cell_type": "code",
   "execution_count": 4,
   "id": "4bab4661",
   "metadata": {
    "cell_id": "8b683db284f645dcb9be2748d5f69f9a",
    "deepnote_cell_type": "code",
    "execution": {
     "iopub.execute_input": "2024-04-20T09:39:35.554650Z",
     "iopub.status.busy": "2024-04-20T09:39:35.554231Z",
     "iopub.status.idle": "2024-04-20T09:39:36.122187Z",
     "shell.execute_reply": "2024-04-20T09:39:36.121223Z"
    },
    "papermill": {
     "duration": 0.594924,
     "end_time": "2024-04-20T09:39:36.124665",
     "exception": false,
     "start_time": "2024-04-20T09:39:35.529741",
     "status": "completed"
    },
    "tags": []
   },
   "outputs": [
    {
     "name": "stderr",
     "output_type": "stream",
     "text": [
      "/tmp/ipykernel_23/2583779514.py:2: SettingWithCopyWarning: \n",
      "A value is trying to be set on a copy of a slice from a DataFrame.\n",
      "Try using .loc[row_indexer,col_indexer] = value instead\n",
      "\n",
      "See the caveats in the documentation: https://pandas.pydata.org/pandas-docs/stable/user_guide/indexing.html#returning-a-view-versus-a-copy\n",
      "  news_cleaned['comb_text'] = news_cleaned[['title', 'text']].agg(''.join, axis=1)\n"
     ]
    },
    {
     "data": {
      "text/html": [
       "<div>\n",
       "<style scoped>\n",
       "    .dataframe tbody tr th:only-of-type {\n",
       "        vertical-align: middle;\n",
       "    }\n",
       "\n",
       "    .dataframe tbody tr th {\n",
       "        vertical-align: top;\n",
       "    }\n",
       "\n",
       "    .dataframe thead th {\n",
       "        text-align: right;\n",
       "    }\n",
       "</style>\n",
       "<table border=\"1\" class=\"dataframe\">\n",
       "  <thead>\n",
       "    <tr style=\"text-align: right;\">\n",
       "      <th></th>\n",
       "      <th>title</th>\n",
       "      <th>text</th>\n",
       "      <th>label</th>\n",
       "      <th>comb_text</th>\n",
       "    </tr>\n",
       "  </thead>\n",
       "  <tbody>\n",
       "    <tr>\n",
       "      <th>0</th>\n",
       "      <td>Pennsylvania Church Demonstrates How To Deal ...</td>\n",
       "      <td>While many churches defend pastors who have ra...</td>\n",
       "      <td>0</td>\n",
       "      <td>Pennsylvania Church Demonstrates How To Deal ...</td>\n",
       "    </tr>\n",
       "    <tr>\n",
       "      <th>1</th>\n",
       "      <td>Trump to keep Obama rule curbing corporate tax...</td>\n",
       "      <td>(This October 4 story fixes comment by Organi...</td>\n",
       "      <td>1</td>\n",
       "      <td>Trump to keep Obama rule curbing corporate tax...</td>\n",
       "    </tr>\n",
       "    <tr>\n",
       "      <th>2</th>\n",
       "      <td>Trump says he's considering keeping parts of O...</td>\n",
       "      <td>(Reuters) - President-elect Donald Trump told ...</td>\n",
       "      <td>1</td>\n",
       "      <td>Trump says he's considering keeping parts of O...</td>\n",
       "    </tr>\n",
       "    <tr>\n",
       "      <th>3</th>\n",
       "      <td>CalPERS chief sees volatility until Trump impl...</td>\n",
       "      <td>SAN FRANCISCO (Reuters) - The California Publi...</td>\n",
       "      <td>1</td>\n",
       "      <td>CalPERS chief sees volatility until Trump impl...</td>\n",
       "    </tr>\n",
       "    <tr>\n",
       "      <th>4</th>\n",
       "      <td>House votes to protect 'dark money' political ...</td>\n",
       "      <td>WASHINGTON (Reuters) - The Republican-controll...</td>\n",
       "      <td>1</td>\n",
       "      <td>House votes to protect 'dark money' political ...</td>\n",
       "    </tr>\n",
       "    <tr>\n",
       "      <th>...</th>\n",
       "      <td>...</td>\n",
       "      <td>...</td>\n",
       "      <td>...</td>\n",
       "      <td>...</td>\n",
       "    </tr>\n",
       "    <tr>\n",
       "      <th>44893</th>\n",
       "      <td>Trump says he hopes North Korea understands gr...</td>\n",
       "      <td>BEDMINSTER, N.J. (Reuters) - President Donald ...</td>\n",
       "      <td>1</td>\n",
       "      <td>Trump says he hopes North Korea understands gr...</td>\n",
       "    </tr>\n",
       "    <tr>\n",
       "      <th>44894</th>\n",
       "      <td>UK MPs cast doubt on plan to avoid Ireland bor...</td>\n",
       "      <td>LONDON (Reuters) - Britain s intention to avoi...</td>\n",
       "      <td>1</td>\n",
       "      <td>UK MPs cast doubt on plan to avoid Ireland bor...</td>\n",
       "    </tr>\n",
       "    <tr>\n",
       "      <th>44895</th>\n",
       "      <td>A Former President Of Mexico Is THANKING Dona...</td>\n",
       "      <td>Vicente Fox, the former president of Mexico wh...</td>\n",
       "      <td>0</td>\n",
       "      <td>A Former President Of Mexico Is THANKING Dona...</td>\n",
       "    </tr>\n",
       "    <tr>\n",
       "      <th>44896</th>\n",
       "      <td>Even Trump Voters Think Obama’s Economy Is Do...</td>\n",
       "      <td>Democrats and a lot of Republicans are scratch...</td>\n",
       "      <td>0</td>\n",
       "      <td>Even Trump Voters Think Obama’s Economy Is Do...</td>\n",
       "    </tr>\n",
       "    <tr>\n",
       "      <th>44897</th>\n",
       "      <td>Mexico will 'immediately' respond to any U.S. ...</td>\n",
       "      <td>MEXICO CITY (Reuters) - Mexico must be ready t...</td>\n",
       "      <td>1</td>\n",
       "      <td>Mexico will 'immediately' respond to any U.S. ...</td>\n",
       "    </tr>\n",
       "  </tbody>\n",
       "</table>\n",
       "<p>44898 rows × 4 columns</p>\n",
       "</div>"
      ],
      "text/plain": [
       "                                                   title  \\\n",
       "0       Pennsylvania Church Demonstrates How To Deal ...   \n",
       "1      Trump to keep Obama rule curbing corporate tax...   \n",
       "2      Trump says he's considering keeping parts of O...   \n",
       "3      CalPERS chief sees volatility until Trump impl...   \n",
       "4      House votes to protect 'dark money' political ...   \n",
       "...                                                  ...   \n",
       "44893  Trump says he hopes North Korea understands gr...   \n",
       "44894  UK MPs cast doubt on plan to avoid Ireland bor...   \n",
       "44895   A Former President Of Mexico Is THANKING Dona...   \n",
       "44896   Even Trump Voters Think Obama’s Economy Is Do...   \n",
       "44897  Mexico will 'immediately' respond to any U.S. ...   \n",
       "\n",
       "                                                    text  label  \\\n",
       "0      While many churches defend pastors who have ra...      0   \n",
       "1       (This October 4 story fixes comment by Organi...      1   \n",
       "2      (Reuters) - President-elect Donald Trump told ...      1   \n",
       "3      SAN FRANCISCO (Reuters) - The California Publi...      1   \n",
       "4      WASHINGTON (Reuters) - The Republican-controll...      1   \n",
       "...                                                  ...    ...   \n",
       "44893  BEDMINSTER, N.J. (Reuters) - President Donald ...      1   \n",
       "44894  LONDON (Reuters) - Britain s intention to avoi...      1   \n",
       "44895  Vicente Fox, the former president of Mexico wh...      0   \n",
       "44896  Democrats and a lot of Republicans are scratch...      0   \n",
       "44897  MEXICO CITY (Reuters) - Mexico must be ready t...      1   \n",
       "\n",
       "                                               comb_text  \n",
       "0       Pennsylvania Church Demonstrates How To Deal ...  \n",
       "1      Trump to keep Obama rule curbing corporate tax...  \n",
       "2      Trump says he's considering keeping parts of O...  \n",
       "3      CalPERS chief sees volatility until Trump impl...  \n",
       "4      House votes to protect 'dark money' political ...  \n",
       "...                                                  ...  \n",
       "44893  Trump says he hopes North Korea understands gr...  \n",
       "44894  UK MPs cast doubt on plan to avoid Ireland bor...  \n",
       "44895   A Former President Of Mexico Is THANKING Dona...  \n",
       "44896   Even Trump Voters Think Obama’s Economy Is Do...  \n",
       "44897  Mexico will 'immediately' respond to any U.S. ...  \n",
       "\n",
       "[44898 rows x 4 columns]"
      ]
     },
     "metadata": {},
     "output_type": "display_data"
    }
   ],
   "source": [
    "\n",
    "\n",
    "# Purify by merging the title and text\n",
    "news_cleaned['comb_text'] = news_cleaned[['title', 'text']].agg(''.join, axis=1)\n",
    "display(news_cleaned)\n"
   ]
  },
  {
   "cell_type": "code",
   "execution_count": 5,
   "id": "f2cd5eb6",
   "metadata": {
    "cell_id": "db2e583f45af45c4ab8a13d072d14812",
    "deepnote_cell_type": "code",
    "execution": {
     "iopub.execute_input": "2024-04-20T09:39:36.166495Z",
     "iopub.status.busy": "2024-04-20T09:39:36.166105Z",
     "iopub.status.idle": "2024-04-20T09:39:36.177089Z",
     "shell.execute_reply": "2024-04-20T09:39:36.176203Z"
    },
    "papermill": {
     "duration": 0.034311,
     "end_time": "2024-04-20T09:39:36.179262",
     "exception": false,
     "start_time": "2024-04-20T09:39:36.144951",
     "status": "completed"
    },
    "tags": []
   },
   "outputs": [],
   "source": [
    "news_cleaned = news_cleaned[['comb_text','label']]"
   ]
  },
  {
   "cell_type": "code",
   "execution_count": 6,
   "id": "aba5ae6c",
   "metadata": {
    "cell_id": "0e73b1f3558b47328deb968db503ca83",
    "deepnote_cell_type": "code",
    "execution": {
     "iopub.execute_input": "2024-04-20T09:39:36.220586Z",
     "iopub.status.busy": "2024-04-20T09:39:36.220253Z",
     "iopub.status.idle": "2024-04-20T09:39:36.228023Z",
     "shell.execute_reply": "2024-04-20T09:39:36.227096Z"
    },
    "papermill": {
     "duration": 0.031559,
     "end_time": "2024-04-20T09:39:36.230476",
     "exception": false,
     "start_time": "2024-04-20T09:39:36.198917",
     "status": "completed"
    },
    "tags": []
   },
   "outputs": [],
   "source": [
    "df_texts, df_labels = news_cleaned[\"comb_text\"].to_list(),news_cleaned[\"label\"].to_list()"
   ]
  },
  {
   "cell_type": "code",
   "execution_count": 7,
   "id": "8376e61c",
   "metadata": {
    "cell_id": "39cec61d69994469926451a978aaffba",
    "deepnote_cell_type": "code",
    "execution": {
     "iopub.execute_input": "2024-04-20T09:39:36.272551Z",
     "iopub.status.busy": "2024-04-20T09:39:36.272207Z",
     "iopub.status.idle": "2024-04-20T09:39:36.302935Z",
     "shell.execute_reply": "2024-04-20T09:39:36.302212Z"
    },
    "papermill": {
     "duration": 0.05403,
     "end_time": "2024-04-20T09:39:36.305089",
     "exception": false,
     "start_time": "2024-04-20T09:39:36.251059",
     "status": "completed"
    },
    "tags": []
   },
   "outputs": [],
   "source": [
    "train_texts, test_texts, train_labels, test_labels = train_test_split(df_texts, df_labels, test_size=.3,random_state=2024)"
   ]
  },
  {
   "cell_type": "code",
   "execution_count": 8,
   "id": "4df3f60b",
   "metadata": {
    "cell_id": "c1873b52abeb49f199389d20c342be7d",
    "deepnote_cell_type": "code",
    "execution": {
     "iopub.execute_input": "2024-04-20T09:39:36.346386Z",
     "iopub.status.busy": "2024-04-20T09:39:36.345771Z",
     "iopub.status.idle": "2024-04-20T09:39:39.831461Z",
     "shell.execute_reply": "2024-04-20T09:39:39.830350Z"
    },
    "papermill": {
     "duration": 3.509317,
     "end_time": "2024-04-20T09:39:39.834535",
     "exception": false,
     "start_time": "2024-04-20T09:39:36.325218",
     "status": "completed"
    },
    "tags": []
   },
   "outputs": [
    {
     "data": {
      "application/vnd.jupyter.widget-view+json": {
       "model_id": "fc98de43c8f7479e904449bd682206d7",
       "version_major": 2,
       "version_minor": 0
      },
      "text/plain": [
       "config.json:   0%|          | 0.00/483 [00:00<?, ?B/s]"
      ]
     },
     "metadata": {},
     "output_type": "display_data"
    },
    {
     "data": {
      "application/vnd.jupyter.widget-view+json": {
       "model_id": "f3026007bbeb4e09a02408fac203ff64",
       "version_major": 2,
       "version_minor": 0
      },
      "text/plain": [
       "model.safetensors:   0%|          | 0.00/268M [00:00<?, ?B/s]"
      ]
     },
     "metadata": {},
     "output_type": "display_data"
    },
    {
     "data": {
      "application/vnd.jupyter.widget-view+json": {
       "model_id": "32a279488f8543c69e3619591771ca71",
       "version_major": 2,
       "version_minor": 0
      },
      "text/plain": [
       "tokenizer_config.json:   0%|          | 0.00/28.0 [00:00<?, ?B/s]"
      ]
     },
     "metadata": {},
     "output_type": "display_data"
    },
    {
     "data": {
      "application/vnd.jupyter.widget-view+json": {
       "model_id": "5718bd7ea43448f8b3f95baf3c0209c2",
       "version_major": 2,
       "version_minor": 0
      },
      "text/plain": [
       "vocab.txt:   0%|          | 0.00/232k [00:00<?, ?B/s]"
      ]
     },
     "metadata": {},
     "output_type": "display_data"
    },
    {
     "data": {
      "application/vnd.jupyter.widget-view+json": {
       "model_id": "610ad54dc740426fbe4e1c559c77c24f",
       "version_major": 2,
       "version_minor": 0
      },
      "text/plain": [
       "tokenizer.json:   0%|          | 0.00/466k [00:00<?, ?B/s]"
      ]
     },
     "metadata": {},
     "output_type": "display_data"
    }
   ],
   "source": [
    "model_name = DistilBertModel.from_pretrained(\"distilbert-base-uncased\")\n",
    "tokenizer = DistilBertTokenizerFast.from_pretrained(\"distilbert-base-uncased\")"
   ]
  },
  {
   "cell_type": "code",
   "execution_count": 9,
   "id": "aeb0fd5e",
   "metadata": {
    "cell_id": "83f033287ed14cf0b020fce71ac6acc6",
    "deepnote_cell_type": "code",
    "execution": {
     "iopub.execute_input": "2024-04-20T09:39:39.885309Z",
     "iopub.status.busy": "2024-04-20T09:39:39.884414Z",
     "iopub.status.idle": "2024-04-20T09:40:16.999186Z",
     "shell.execute_reply": "2024-04-20T09:40:16.998249Z"
    },
    "papermill": {
     "duration": 37.141194,
     "end_time": "2024-04-20T09:40:17.001706",
     "exception": false,
     "start_time": "2024-04-20T09:39:39.860512",
     "status": "completed"
    },
    "tags": []
   },
   "outputs": [],
   "source": [
    "#obtain DistillBERT word encodings, and generate key, query, value tensors for training\n",
    "#Pad to the longest sequence in the batch \n",
    "#Truncate to a maximum length specified with the argument max_length or to the maximum acceptable input length for the model. This will truncate token by token, removing a token from the longest sequence in the pair if a pair of sequences (or a batch of pairs) is provided.\n",
    "train_encodings = tokenizer(train_texts, truncation=True, padding=True)\n",
    "test_encodings = tokenizer(test_texts, truncation=True, padding=True)"
   ]
  },
  {
   "cell_type": "code",
   "execution_count": 10,
   "id": "71faccbd",
   "metadata": {
    "cell_id": "e776751df1664dc9ae945ebfa2fbb54c",
    "deepnote_cell_type": "code",
    "execution": {
     "iopub.execute_input": "2024-04-20T09:40:17.046233Z",
     "iopub.status.busy": "2024-04-20T09:40:17.045910Z",
     "iopub.status.idle": "2024-04-20T09:40:17.052965Z",
     "shell.execute_reply": "2024-04-20T09:40:17.052036Z"
    },
    "papermill": {
     "duration": 0.031063,
     "end_time": "2024-04-20T09:40:17.054953",
     "exception": false,
     "start_time": "2024-04-20T09:40:17.023890",
     "status": "completed"
    },
    "tags": []
   },
   "outputs": [],
   "source": [
    "#class to return encodings and labels for training\n",
    "class NewsDataset(torch.utils.data.Dataset):\n",
    "    def __init__(self, encodings, labels):\n",
    "        self.encodings = encodings\n",
    "        self.labels = labels\n",
    "\n",
    "    def __getitem__(self, idx):\n",
    "        item = {key: torch.tensor(val[idx]) for key, val in self.encodings.items()}\n",
    "        item['labels'] = torch.tensor(self.labels[idx])\n",
    "        return item\n",
    "\n",
    "    def __len__(self):\n",
    "        return len(self.labels)\n",
    "\n",
    "train_dataset = NewsDataset(train_encodings, train_labels)\n",
    "test_dataset = NewsDataset(test_encodings, test_labels)"
   ]
  },
  {
   "cell_type": "code",
   "execution_count": 11,
   "id": "6b97e78d",
   "metadata": {
    "execution": {
     "iopub.execute_input": "2024-04-20T09:40:17.096931Z",
     "iopub.status.busy": "2024-04-20T09:40:17.096588Z",
     "iopub.status.idle": "2024-04-20T09:40:17.102985Z",
     "shell.execute_reply": "2024-04-20T09:40:17.101726Z"
    },
    "papermill": {
     "duration": 0.029785,
     "end_time": "2024-04-20T09:40:17.105153",
     "exception": false,
     "start_time": "2024-04-20T09:40:17.075368",
     "status": "completed"
    },
    "tags": []
   },
   "outputs": [],
   "source": [
    "def training_compute_metrics(pred):\n",
    "    labels = pred.label_ids\n",
    "    preds = pred.predictions.argmax(-1)\n",
    " \n",
    "    \n",
    "    precision, recall, f1, _ = precision_recall_fscore_support(labels, preds, average='binary')\n",
    "    acc = accuracy_score(labels, preds)\n",
    "    \n",
    "    return {\n",
    "        'accuracy': acc,\n",
    "        'f1': f1,\n",
    "        'precision': precision,\n",
    "        'recall': recall\n",
    "    }"
   ]
  },
  {
   "cell_type": "code",
   "execution_count": 12,
   "id": "5546f2d4",
   "metadata": {
    "cell_id": "469526369ac74857948b0f59c50b3fc7",
    "deepnote_cell_type": "code",
    "execution": {
     "iopub.execute_input": "2024-04-20T09:40:17.149261Z",
     "iopub.status.busy": "2024-04-20T09:40:17.148661Z",
     "iopub.status.idle": "2024-04-20T09:40:17.157781Z",
     "shell.execute_reply": "2024-04-20T09:40:17.156825Z"
    },
    "papermill": {
     "duration": 0.033399,
     "end_time": "2024-04-20T09:40:17.159875",
     "exception": false,
     "start_time": "2024-04-20T09:40:17.126476",
     "status": "completed"
    },
    "tags": []
   },
   "outputs": [],
   "source": [
    "#function to evaluate test data\n",
    "def compute_metrics(pred):\n",
    "    labels = pred.label_ids\n",
    "    preds = pred.predictions.argmax(-1)\n",
    " \n",
    "    \n",
    "    precision, recall, f1, _ = precision_recall_fscore_support(labels, preds, average='binary')\n",
    "    acc = accuracy_score(labels, preds)\n",
    "    # Print the Accuracy Measures from the Confusion Matrix\n",
    "    cmTest = confusion_matrix(labels.tolist(), preds.tolist())\n",
    "    tpTest = cmTest[1][1] # True Positives : Good (1) predicted Good (1)\n",
    "    fpTest = cmTest[0][1] # False Positives : Bad (0) predicted Good (1)\n",
    "    tnTest = cmTest[0][0] # True Negatives : Bad (0) predicted Bad (0)\n",
    "    fnTest = cmTest[1][0] # False Negatives : Good (1) predicted Bad (0)\n",
    "\n",
    "    print(\"TPR Test :\\t\", (tpTest/(tpTest + fnTest)))\n",
    "    print(\"TNR Test :\\t\", (tnTest/(tnTest + fpTest)))\n",
    "    print()\n",
    "\n",
    "    print(\"FPR Test :\\t\", (fpTest/(tnTest + fpTest)))\n",
    "    print(\"FNR Test :\\t\", (fnTest/(tpTest + fnTest)))\n",
    "\n",
    "    # Plot the two-way Confusion Matrix\n",
    "    sb.heatmap(cmTest, \n",
    "               annot = True, fmt=\".0f\", annot_kws={\"size\": 18})\n",
    "    return {\n",
    "        'accuracy': acc,\n",
    "        'f1': f1,\n",
    "        'precision': precision,\n",
    "        'recall': recall\n",
    "    }"
   ]
  },
  {
   "cell_type": "code",
   "execution_count": 13,
   "id": "c02b843d",
   "metadata": {
    "cell_id": "4b7275236c714920bd41c454a6412575",
    "deepnote_cell_type": "code",
    "deepnote_to_be_reexecuted": false,
    "execution": {
     "iopub.execute_input": "2024-04-20T09:40:17.204128Z",
     "iopub.status.busy": "2024-04-20T09:40:17.203784Z",
     "iopub.status.idle": "2024-04-20T09:40:17.212778Z",
     "shell.execute_reply": "2024-04-20T09:40:17.211855Z"
    },
    "execution_millis": 336,
    "execution_start": 1713457067849,
    "papermill": {
     "duration": 0.033775,
     "end_time": "2024-04-20T09:40:17.214906",
     "exception": false,
     "start_time": "2024-04-20T09:40:17.181131",
     "status": "completed"
    },
    "source_hash": "684633b5",
    "tags": []
   },
   "outputs": [],
   "source": [
    "#function to evaluate test data\n",
    "def compute_train_metrics(pred):\n",
    "    labels = pred.label_ids\n",
    "    preds = pred.predictions.argmax(-1)\n",
    "    precision, recall, f1, _ = precision_recall_fscore_support(labels, preds, average='binary')\n",
    "    acc = accuracy_score(labels, preds)\n",
    "    # Print the Accuracy Measures from the Confusion Matrix\n",
    "    cmTrain = confusion_matrix(labels, preds)\n",
    "    tpTrain = cmTrain[1][1] # True Positives : Good (1) predicted Good (1)\n",
    "    fpTrain = cmTrain[0][1] # False Positives : Bad (0) predicted Good (1)\n",
    "    tnTrain = cmTrain[0][0] # True Negatives : Bad (0) predicted Bad (0)\n",
    "    fnTrain = cmTrain[1][0] # False Negatives : Good (1) predicted Bad (0)\n",
    "\n",
    "    print(\"TPR Train :\\t\", (tpTrain/(tpTrain + fnTrain)))\n",
    "    print(\"TNR Train :\\t\", (tnTrain/(tnTrain + fpTrain)))\n",
    "    print()\n",
    "\n",
    "    print(\"FPR Train :\\t\", (fpTrain/(tnTrain + fpTrain)))\n",
    "    print(\"FNR Train :\\t\", (fnTrain/(tpTrain + fnTrain)))\n",
    "\n",
    "    # Plot the two-way Confusion Matrix\n",
    "    sb.heatmap(cmTrain, \n",
    "               annot = True, fmt=\".0f\", annot_kws={\"size\": 18})\n",
    "    return {\n",
    "        'accuracy': acc,\n",
    "        'f1': f1,\n",
    "        'precision': precision,\n",
    "        'recall': recall\n",
    "    }"
   ]
  },
  {
   "cell_type": "code",
   "execution_count": 14,
   "id": "08ed45e2",
   "metadata": {
    "cell_id": "d9ccd6eaac4b4911829ed153104c3d18",
    "deepnote_cell_type": "code",
    "execution": {
     "iopub.execute_input": "2024-04-20T09:40:17.259533Z",
     "iopub.status.busy": "2024-04-20T09:40:17.259159Z",
     "iopub.status.idle": "2024-04-20T09:40:17.997708Z",
     "shell.execute_reply": "2024-04-20T09:40:17.996598Z"
    },
    "papermill": {
     "duration": 0.763475,
     "end_time": "2024-04-20T09:40:18.000218",
     "exception": false,
     "start_time": "2024-04-20T09:40:17.236743",
     "status": "completed"
    },
    "tags": []
   },
   "outputs": [
    {
     "name": "stderr",
     "output_type": "stream",
     "text": [
      "Using the `WANDB_DISABLED` environment variable is deprecated and will be removed in v5. Use the --report_to flag to control the integrations used for logging result (for instance --report_to none).\n",
      "Some weights of DistilBertForSequenceClassification were not initialized from the model checkpoint at distilbert-base-uncased and are newly initialized: ['classifier.bias', 'classifier.weight', 'pre_classifier.bias', 'pre_classifier.weight']\n",
      "You should probably TRAIN this model on a down-stream task to be able to use it for predictions and inference.\n",
      "/opt/conda/lib/python3.10/site-packages/accelerate/accelerator.py:436: FutureWarning: Passing the following arguments to `Accelerator` is deprecated and will be removed in version 1.0 of Accelerate: dict_keys(['dispatch_batches', 'split_batches', 'even_batches', 'use_seedable_sampler']). Please pass an `accelerate.DataLoaderConfiguration` instead: \n",
      "dataloader_config = DataLoaderConfiguration(dispatch_batches=None, split_batches=False, even_batches=True, use_seedable_sampler=True)\n",
      "  warnings.warn(\n"
     ]
    },
    {
     "name": "stdout",
     "output_type": "stream",
     "text": [
      "num params: 66955010\n",
      "num trainable params: 66955010\n",
      "DistilBertForSequenceClassification(\n",
      "  (distilbert): DistilBertModel(\n",
      "    (embeddings): Embeddings(\n",
      "      (word_embeddings): Embedding(30522, 768, padding_idx=0)\n",
      "      (position_embeddings): Embedding(512, 768)\n",
      "      (LayerNorm): LayerNorm((768,), eps=1e-12, elementwise_affine=True)\n",
      "      (dropout): Dropout(p=0.1, inplace=False)\n",
      "    )\n",
      "    (transformer): Transformer(\n",
      "      (layer): ModuleList(\n",
      "        (0-5): 6 x TransformerBlock(\n",
      "          (attention): MultiHeadSelfAttention(\n",
      "            (dropout): Dropout(p=0.1, inplace=False)\n",
      "            (q_lin): Linear(in_features=768, out_features=768, bias=True)\n",
      "            (k_lin): Linear(in_features=768, out_features=768, bias=True)\n",
      "            (v_lin): Linear(in_features=768, out_features=768, bias=True)\n",
      "            (out_lin): Linear(in_features=768, out_features=768, bias=True)\n",
      "          )\n",
      "          (sa_layer_norm): LayerNorm((768,), eps=1e-12, elementwise_affine=True)\n",
      "          (ffn): FFN(\n",
      "            (dropout): Dropout(p=0.1, inplace=False)\n",
      "            (lin1): Linear(in_features=768, out_features=3072, bias=True)\n",
      "            (lin2): Linear(in_features=3072, out_features=768, bias=True)\n",
      "            (activation): GELUActivation()\n",
      "          )\n",
      "          (output_layer_norm): LayerNorm((768,), eps=1e-12, elementwise_affine=True)\n",
      "        )\n",
      "      )\n",
      "    )\n",
      "  )\n",
      "  (pre_classifier): Linear(in_features=768, out_features=768, bias=True)\n",
      "  (classifier): Linear(in_features=768, out_features=2, bias=True)\n",
      "  (dropout): Dropout(p=0.2, inplace=False)\n",
      ")\n"
     ]
    }
   ],
   "source": [
    "\n",
    "os.environ[\"WANDB_DISABLED\"] = \"true\"\n",
    "\n",
    "training_args = TrainingArguments(\n",
    "    output_dir='./results',          # output directory\n",
    "    num_train_epochs=3,              # total number of training epochs\n",
    "    per_device_train_batch_size=16,  # batch size per device during training\n",
    "    per_device_eval_batch_size=64,   # batch size for evaluation\n",
    "    warmup_steps=500,                # number of warmup steps for learning rate scheduler\n",
    "    weight_decay=0.01,               # strength of weight decay\n",
    "    logging_dir='./logs',            # directory for storing logs\n",
    "    logging_steps=10,\n",
    "    load_best_model_at_end=True,\n",
    "    evaluation_strategy =\"epoch\",\n",
    "    save_strategy = 'epoch'\n",
    ")\n",
    "model = DistilBertForSequenceClassification.from_pretrained(\"distilbert-base-uncased\")\n",
    "'''\n",
    "for name, param in list(model.named_parameters())[:-3]:  \n",
    "    print(name)\n",
    "    param.requires_grad = False\n",
    "'''\n",
    "print(f\"num params:\", model.num_parameters())\n",
    "print(f\"num trainable params:\", model.num_parameters(only_trainable=True))\n",
    "print(model)\n",
    "\n",
    "trainer = Trainer(\n",
    "    model=model,                         # the instantiated 🤗 Transformers model to be trained\n",
    "    args=training_args,                  # training arguments, defined above\n",
    "    compute_metrics=training_compute_metrics,\n",
    "    train_dataset=train_dataset,         # training dataset\n",
    "    eval_dataset=train_dataset,             # evaluation dataset\n",
    ")\n",
    "\n"
   ]
  },
  {
   "cell_type": "code",
   "execution_count": 15,
   "id": "6a4f350b",
   "metadata": {
    "cell_id": "0d724ebcc79f4e6ca0948dcd592e6d47",
    "deepnote_cell_type": "code",
    "execution": {
     "iopub.execute_input": "2024-04-20T09:40:18.045585Z",
     "iopub.status.busy": "2024-04-20T09:40:18.045214Z",
     "iopub.status.idle": "2024-04-20T10:37:12.655103Z",
     "shell.execute_reply": "2024-04-20T10:37:12.654149Z"
    },
    "papermill": {
     "duration": 3414.634405,
     "end_time": "2024-04-20T10:37:12.657135",
     "exception": false,
     "start_time": "2024-04-20T09:40:18.022730",
     "status": "completed"
    },
    "tags": []
   },
   "outputs": [
    {
     "data": {
      "text/html": [
       "\n",
       "    <div>\n",
       "      \n",
       "      <progress value='5895' max='5895' style='width:300px; height:20px; vertical-align: middle;'></progress>\n",
       "      [5895/5895 56:52, Epoch 3/3]\n",
       "    </div>\n",
       "    <table border=\"1\" class=\"dataframe\">\n",
       "  <thead>\n",
       " <tr style=\"text-align: left;\">\n",
       "      <th>Epoch</th>\n",
       "      <th>Training Loss</th>\n",
       "      <th>Validation Loss</th>\n",
       "      <th>Accuracy</th>\n",
       "      <th>F1</th>\n",
       "      <th>Precision</th>\n",
       "      <th>Recall</th>\n",
       "    </tr>\n",
       "  </thead>\n",
       "  <tbody>\n",
       "    <tr>\n",
       "      <td>1</td>\n",
       "      <td>0.000000</td>\n",
       "      <td>0.002161</td>\n",
       "      <td>0.999650</td>\n",
       "      <td>0.999634</td>\n",
       "      <td>0.999734</td>\n",
       "      <td>0.999534</td>\n",
       "    </tr>\n",
       "    <tr>\n",
       "      <td>2</td>\n",
       "      <td>0.000200</td>\n",
       "      <td>0.000007</td>\n",
       "      <td>1.000000</td>\n",
       "      <td>1.000000</td>\n",
       "      <td>1.000000</td>\n",
       "      <td>1.000000</td>\n",
       "    </tr>\n",
       "    <tr>\n",
       "      <td>3</td>\n",
       "      <td>0.000000</td>\n",
       "      <td>0.000003</td>\n",
       "      <td>1.000000</td>\n",
       "      <td>1.000000</td>\n",
       "      <td>1.000000</td>\n",
       "      <td>1.000000</td>\n",
       "    </tr>\n",
       "  </tbody>\n",
       "</table><p>"
      ],
      "text/plain": [
       "<IPython.core.display.HTML object>"
      ]
     },
     "metadata": {},
     "output_type": "display_data"
    },
    {
     "data": {
      "text/plain": [
       "TrainOutput(global_step=5895, training_loss=0.011909960405784622, metrics={'train_runtime': 3413.9288, 'train_samples_per_second': 27.617, 'train_steps_per_second': 1.727, 'total_flos': 1.2489556214882304e+16, 'train_loss': 0.011909960405784622, 'epoch': 3.0})"
      ]
     },
     "execution_count": 15,
     "metadata": {},
     "output_type": "execute_result"
    }
   ],
   "source": [
    "trainer.train()"
   ]
  },
  {
   "cell_type": "code",
   "execution_count": 16,
   "id": "670ceb2d",
   "metadata": {
    "cell_id": "051ea0f579a84ac1aed44b5453b3409f",
    "deepnote_cell_type": "code",
    "execution": {
     "iopub.execute_input": "2024-04-20T10:37:12.702504Z",
     "iopub.status.busy": "2024-04-20T10:37:12.702131Z",
     "iopub.status.idle": "2024-04-20T10:37:12.856462Z",
     "shell.execute_reply": "2024-04-20T10:37:12.855495Z"
    },
    "papermill": {
     "duration": 0.179582,
     "end_time": "2024-04-20T10:37:12.858910",
     "exception": false,
     "start_time": "2024-04-20T10:37:12.679328",
     "status": "completed"
    },
    "tags": []
   },
   "outputs": [
    {
     "name": "stdout",
     "output_type": "stream",
     "text": [
      "./results/checkpoint-5895\n"
     ]
    }
   ],
   "source": [
    "#load trained model\n",
    "#obtain saved model from training to evaluate trainset\n",
    "best_ckpt_path = trainer.state.best_model_checkpoint\n",
    "print(best_ckpt_path)\n",
    "self_train_model = DistilBertForSequenceClassification.from_pretrained(best_ckpt_path)"
   ]
  },
  {
   "cell_type": "code",
   "execution_count": null,
   "id": "3f963a46",
   "metadata": {
    "papermill": {
     "duration": 0.022926,
     "end_time": "2024-04-20T10:37:12.904512",
     "exception": false,
     "start_time": "2024-04-20T10:37:12.881586",
     "status": "completed"
    },
    "tags": []
   },
   "outputs": [],
   "source": []
  },
  {
   "cell_type": "code",
   "execution_count": 17,
   "id": "a2d6cb06",
   "metadata": {
    "cell_id": "5d5461c8826344adbdc98a3a90bf422a",
    "deepnote_cell_type": "code",
    "execution": {
     "iopub.execute_input": "2024-04-20T10:37:12.952648Z",
     "iopub.status.busy": "2024-04-20T10:37:12.952020Z",
     "iopub.status.idle": "2024-04-20T10:37:13.032789Z",
     "shell.execute_reply": "2024-04-20T10:37:13.031778Z"
    },
    "papermill": {
     "duration": 0.107905,
     "end_time": "2024-04-20T10:37:13.034893",
     "exception": false,
     "start_time": "2024-04-20T10:37:12.926988",
     "status": "completed"
    },
    "tags": []
   },
   "outputs": [
    {
     "name": "stderr",
     "output_type": "stream",
     "text": [
      "/opt/conda/lib/python3.10/site-packages/accelerate/accelerator.py:436: FutureWarning: Passing the following arguments to `Accelerator` is deprecated and will be removed in version 1.0 of Accelerate: dict_keys(['dispatch_batches', 'split_batches', 'even_batches', 'use_seedable_sampler']). Please pass an `accelerate.DataLoaderConfiguration` instead: \n",
      "dataloader_config = DataLoaderConfiguration(dispatch_batches=None, split_batches=False, even_batches=True, use_seedable_sampler=True)\n",
      "  warnings.warn(\n"
     ]
    }
   ],
   "source": [
    "training_trainer = Trainer(\n",
    "    model=self_train_model,                         # the instantiated 🤗 Transformers model to be trained\n",
    "    args=training_args,                  # training arguments, defined above\n",
    "    compute_metrics=compute_train_metrics,\n",
    "    train_dataset=train_dataset,         # training dataset\n",
    "    eval_dataset=train_dataset,             # train dataset\n",
    ")\n"
   ]
  },
  {
   "cell_type": "code",
   "execution_count": 18,
   "id": "764a6766",
   "metadata": {
    "cell_id": "3cd9dc657e5a4e979f667bd5763df777",
    "deepnote_cell_type": "code",
    "execution": {
     "iopub.execute_input": "2024-04-20T10:37:13.080283Z",
     "iopub.status.busy": "2024-04-20T10:37:13.079962Z",
     "iopub.status.idle": "2024-04-20T10:42:02.776384Z",
     "shell.execute_reply": "2024-04-20T10:42:02.775370Z"
    },
    "papermill": {
     "duration": 289.721396,
     "end_time": "2024-04-20T10:42:02.778505",
     "exception": false,
     "start_time": "2024-04-20T10:37:13.057109",
     "status": "completed"
    },
    "tags": []
   },
   "outputs": [
    {
     "data": {
      "text/html": [
       "\n",
       "    <div>\n",
       "      \n",
       "      <progress value='492' max='492' style='width:300px; height:20px; vertical-align: middle;'></progress>\n",
       "      [492/492 04:48]\n",
       "    </div>\n",
       "    "
      ],
      "text/plain": [
       "<IPython.core.display.HTML object>"
      ]
     },
     "metadata": {},
     "output_type": "display_data"
    },
    {
     "name": "stdout",
     "output_type": "stream",
     "text": [
      "TPR Train :\t 1.0\n",
      "TNR Train :\t 1.0\n",
      "\n",
      "FPR Train :\t 0.0\n",
      "FNR Train :\t 0.0\n"
     ]
    },
    {
     "data": {
      "text/plain": [
       "{'eval_loss': 2.760486040642718e-06,\n",
       " 'eval_accuracy': 1.0,\n",
       " 'eval_f1': 1.0,\n",
       " 'eval_precision': 1.0,\n",
       " 'eval_recall': 1.0,\n",
       " 'eval_runtime': 289.5188,\n",
       " 'eval_samples_per_second': 108.553,\n",
       " 'eval_steps_per_second': 1.699}"
      ]
     },
     "execution_count": 18,
     "metadata": {},
     "output_type": "execute_result"
    },
    {
     "data": {
      "image/png": "[encoded data removed]",
      "text/plain": [
       "<Figure size 640x480 with 2 Axes>"
      ]
     },
     "metadata": {},
     "output_type": "display_data"
    }
   ],
   "source": [
    "#evaluate on train data\n",
    "training_trainer.evaluate()"
   ]
  },
  {
   "cell_type": "code",
   "execution_count": 19,
   "id": "c94c93be",
   "metadata": {
    "execution": {
     "iopub.execute_input": "2024-04-20T10:42:02.824558Z",
     "iopub.status.busy": "2024-04-20T10:42:02.824221Z",
     "iopub.status.idle": "2024-04-20T10:42:02.835335Z",
     "shell.execute_reply": "2024-04-20T10:42:02.834459Z"
    },
    "papermill": {
     "duration": 0.036552,
     "end_time": "2024-04-20T10:42:02.837699",
     "exception": false,
     "start_time": "2024-04-20T10:42:02.801147",
     "status": "completed"
    },
    "tags": []
   },
   "outputs": [
    {
     "name": "stderr",
     "output_type": "stream",
     "text": [
      "/opt/conda/lib/python3.10/site-packages/accelerate/accelerator.py:436: FutureWarning: Passing the following arguments to `Accelerator` is deprecated and will be removed in version 1.0 of Accelerate: dict_keys(['dispatch_batches', 'split_batches', 'even_batches', 'use_seedable_sampler']). Please pass an `accelerate.DataLoaderConfiguration` instead: \n",
      "dataloader_config = DataLoaderConfiguration(dispatch_batches=None, split_batches=False, even_batches=True, use_seedable_sampler=True)\n",
      "  warnings.warn(\n"
     ]
    }
   ],
   "source": [
    "trainer = Trainer(\n",
    "    model=self_train_model,                         # the instantiated 🤗 Transformers model to be trained\n",
    "    args=training_args,                  # training arguments, defined above\n",
    "    compute_metrics=compute_metrics,\n",
    "    train_dataset=train_dataset,         # training dataset\n",
    "    eval_dataset=test_dataset,             # train dataset\n",
    ")\n"
   ]
  },
  {
   "cell_type": "code",
   "execution_count": 20,
   "id": "2d7bc1e5",
   "metadata": {
    "cell_id": "cdeb9029da8f4d528753d0c850526f30",
    "deepnote_cell_type": "code",
    "execution": {
     "iopub.execute_input": "2024-04-20T10:42:02.884604Z",
     "iopub.status.busy": "2024-04-20T10:42:02.884295Z",
     "iopub.status.idle": "2024-04-20T10:44:07.219658Z",
     "shell.execute_reply": "2024-04-20T10:44:07.218666Z"
    },
    "papermill": {
     "duration": 124.361004,
     "end_time": "2024-04-20T10:44:07.221873",
     "exception": false,
     "start_time": "2024-04-20T10:42:02.860869",
     "status": "completed"
    },
    "tags": []
   },
   "outputs": [
    {
     "data": {
      "text/html": [
       "\n",
       "    <div>\n",
       "      \n",
       "      <progress value='211' max='211' style='width:300px; height:20px; vertical-align: middle;'></progress>\n",
       "      [211/211 02:03]\n",
       "    </div>\n",
       "    "
      ],
      "text/plain": [
       "<IPython.core.display.HTML object>"
      ]
     },
     "metadata": {},
     "output_type": "display_data"
    },
    {
     "name": "stdout",
     "output_type": "stream",
     "text": [
      "TPR Test :\t 0.9995311767463666\n",
      "TNR Test :\t 1.0\n",
      "\n",
      "FPR Test :\t 0.0\n",
      "FNR Test :\t 0.00046882325363338024\n"
     ]
    },
    {
     "data": {
      "text/plain": [
       "{'eval_loss': 0.0019390967208892107,\n",
       " 'eval_accuracy': 0.9997772828507795,\n",
       " 'eval_f1': 0.9997655334114889,\n",
       " 'eval_precision': 1.0,\n",
       " 'eval_recall': 0.9995311767463666,\n",
       " 'eval_runtime': 124.1633,\n",
       " 'eval_samples_per_second': 108.486,\n",
       " 'eval_steps_per_second': 1.699}"
      ]
     },
     "execution_count": 20,
     "metadata": {},
     "output_type": "execute_result"
    },
    {
     "data": {
      "image/png": "[encoded data removed]",
      "text/plain": [
       "<Figure size 640x480 with 2 Axes>"
      ]
     },
     "metadata": {},
     "output_type": "display_data"
    }
   ],
   "source": [
    "#evaluate on test data\n",
    "trainer.evaluate()"
   ]
  },
  {
   "cell_type": "code",
   "execution_count": null,
   "id": "3ab8e300",
   "metadata": {
    "cell_id": "5cfdbcf53bfd4c4c95f7fb966ca32dee",
    "deepnote_cell_type": "code",
    "papermill": {
     "duration": 0.022098,
     "end_time": "2024-04-20T10:44:07.268196",
     "exception": false,
     "start_time": "2024-04-20T10:44:07.246098",
     "status": "completed"
    },
    "tags": []
   },
   "outputs": [],
   "source": []
  },
  {
   "cell_type": "code",
   "execution_count": null,
   "id": "b770b7e7",
   "metadata": {
    "cell_id": "9d1a84f7c55f469390e903335944ae27",
    "deepnote_cell_type": "code",
    "papermill": {
     "duration": 0.022799,
     "end_time": "2024-04-20T10:44:07.314325",
     "exception": false,
     "start_time": "2024-04-20T10:44:07.291526",
     "status": "completed"
    },
    "tags": []
   },
   "outputs": [],
   "source": []
  },
  {
   "cell_type": "markdown",
   "id": "709c2568",
   "metadata": {
    "created_in_deepnote_cell": true,
    "deepnote_cell_type": "markdown",
    "papermill": {
     "duration": 0.022183,
     "end_time": "2024-04-20T10:44:07.360512",
     "exception": false,
     "start_time": "2024-04-20T10:44:07.338329",
     "status": "completed"
    },
    "tags": []
   },
   "source": [
    "<a style='text-decoration:none;line-height:16px;display:flex;color:#5B5B62;padding:10px;justify-content:end;' href='https://deepnote.com?utm_source=created-in-deepnote-cell&projectId=9f23536d-6e62-418a-b94b-ca9356b2599b' target=\"_blank\">\n",
    "<img alt='Created in deepnote.com' style='display:inline;max-height:16px;margin:0px;margin-right:7.5px;' src='data:image/svg+xml;base64,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' > </img>\n",
    "Created in <span style='font-weight:600;margin-left:4px;'>Deepnote</span></a>"
   ]
  }
 ],
 "metadata": {
  "deepnote_execution_queue": [],
  "deepnote_notebook_id": "92ae66cc0eac40698457dc31e94e3846",
  "kaggle": {
   "accelerator": "gpu",
   "dataSources": [
    {
     "datasetId": 4837866,
     "sourceId": 8173634,
     "sourceType": "datasetVersion"
    }
   ],
   "dockerImageVersionId": 30703,
   "isGpuEnabled": true,
   "isInternetEnabled": true,
   "language": "python",
   "sourceType": "notebook"
  },
  "kernelspec": {
   "display_name": "Python 3",
   "language": "python",
   "name": "python3"
  },
  "language_info": {
   "codemirror_mode": {
    "name": "ipython",
    "version": 3
   },
   "file_extension": ".py",
   "mimetype": "text/x-python",
   "name": "python",
   "nbconvert_exporter": "python",
   "pygments_lexer": "ipython3",
   "version": "3.10.13"
  },
  "papermill": {
   "default_parameters": {},
   "duration": 3904.078991,
   "end_time": "2024-04-20T10:44:11.315695",
   "environment_variables": {},
   "exception": null,
   "input_path": "__notebook__.ipynb",
   "output_path": "__notebook__.ipynb",
   "parameters": {},
   "start_time": "2024-04-20T09:39:07.236704",
   "version": "2.5.0"
  },
  "widgets": {
   "application/vnd.jupyter.widget-state+json": {
    "state": {
     "0274291698694790ad8e4865eefd7168": {
      "model_module": "@jupyter-widgets/controls",
      "model_module_version": "1.5.0",
      "model_name": "FloatProgressModel",
      "state": {
       "_dom_classes": [],
       "_model_module": "@jupyter-widgets/controls",
       "_model_module_version": "1.5.0",
       "_model_name": "FloatProgressModel",
       "_view_count": null,
       "_view_module": "@jupyter-widgets/controls",
       "_view_module_version": "1.5.0",
       "_view_name": "ProgressView",
       "bar_style": "success",
       "description": "",
       "description_tooltip": null,
       "layout": "IPY_MODEL_8d21ed4fa6b54b4ab74522fc164867d3",
       "max": 231508.0,
       "min": 0.0,
       "orientation": "horizontal",
       "style": "IPY_MODEL_287d96f91d7b43e897d3e726237a911d",
       "value": 231508.0
      }
     },
     "11fbc22bd17348dea926178b059db79d": {
      "model_module": "@jupyter-widgets/controls",
      "model_module_version": "1.5.0",
      "model_name": "FloatProgressModel",
      "state": {
       "_dom_classes": [],
       "_model_module": "@jupyter-widgets/controls",
       "_model_module_version": "1.5.0",
       "_model_name": "FloatProgressModel",
       "_view_count": null,
       "_view_module": "@jupyter-widgets/controls",
       "_view_module_version": "1.5.0",
       "_view_name": "ProgressView",
       "bar_style": "success",
       "description": "",
       "description_tooltip": null,
       "layout": "IPY_MODEL_9f707b42a9b94b18ab2433aaf731df1a",
       "max": 483.0,
       "min": 0.0,
       "orientation": "horizontal",
       "style": "IPY_MODEL_82746a06a3344fd39594e41ddb8aa315",
       "value": 483.0
      }
     },
     "202ef4c798a4435a8225c67f74e1ce80": {
      "model_module": "@jupyter-widgets/controls",
      "model_module_version": "1.5.0",
      "model_name": "DescriptionStyleModel",
      "state": {
       "_model_module": "@jupyter-widgets/controls",
       "_model_module_version": "1.5.0",
       "_model_name": "DescriptionStyleModel",
       "_view_count": null,
       "_view_module": "@jupyter-widgets/base",
       "_view_module_version": "1.2.0",
       "_view_name": "StyleView",
       "description_width": ""
      }
     },
     "2171e08ccb674f9a949d8e85c1cde377": {
      "model_module": "@jupyter-widgets/controls",
      "model_module_version": "1.5.0",
      "model_name": "DescriptionStyleModel",
      "state": {
       "_model_module": "@jupyter-widgets/controls",
       "_model_module_version": "1.5.0",
       "_model_name": "DescriptionStyleModel",
       "_view_count": null,
       "_view_module": "@jupyter-widgets/base",
       "_view_module_version": "1.2.0",
       "_view_name": "StyleView",
       "description_width": ""
      }
     },
     "26ec28e97b90456db2119470219ae130": {
      "model_module": "@jupyter-widgets/controls",
      "model_module_version": "1.5.0",
      "model_name": "HTMLModel",
      "state": {
       "_dom_classes": [],
       "_model_module": "@jupyter-widgets/controls",
       "_model_module_version": "1.5.0",
       "_model_name": "HTMLModel",
       "_view_count": null,
       "_view_module": "@jupyter-widgets/controls",
       "_view_module_version": "1.5.0",
       "_view_name": "HTMLView",
       "description": "",
       "description_tooltip": null,
       "layout": "IPY_MODEL_471f33c12fd24301bd0b4f80ed708958",
       "placeholder": "​",
       "style": "IPY_MODEL_d2df1279d7164f739fac720cd80abfcd",
       "value": " 232k/232k [00:00&lt;00:00, 1.42MB/s]"
      }
     },
     "2725241b465841aba1d1d3116e446db9": {
      "model_module": "@jupyter-widgets/base",
      "model_module_version": "1.2.0",
      "model_name": "LayoutModel",
      "state": {
       "_model_module": "@jupyter-widgets/base",
       "_model_module_version": "1.2.0",
       "_model_name": "LayoutModel",
       "_view_count": null,
       "_view_module": "@jupyter-widgets/base",
       "_view_module_version": "1.2.0",
       "_view_name": "LayoutView",
       "align_content": null,
       "align_items": null,
       "align_self": null,
       "border": null,
       "bottom": null,
       "display": null,
       "flex": null,
       "flex_flow": null,
       "grid_area": null,
       "grid_auto_columns": null,
       "grid_auto_flow": null,
       "grid_auto_rows": null,
       "grid_column": null,
       "grid_gap": null,
       "grid_row": null,
       "grid_template_areas": null,
       "grid_template_columns": null,
       "grid_template_rows": null,
       "height": null,
       "justify_content": null,
       "justify_items": null,
       "left": null,
       "margin": null,
       "max_height": null,
       "max_width": null,
       "min_height": null,
       "min_width": null,
       "object_fit": null,
       "object_position": null,
       "order": null,
       "overflow": null,
       "overflow_x": null,
       "overflow_y": null,
       "padding": null,
       "right": null,
       "top": null,
       "visibility": null,
       "width": null
      }
     },
     "287d96f91d7b43e897d3e726237a911d": {
      "model_module": "@jupyter-widgets/controls",
      "model_module_version": "1.5.0",
      "model_name": "ProgressStyleModel",
      "state": {
       "_model_module": "@jupyter-widgets/controls",
       "_model_module_version": "1.5.0",
       "_model_name": "ProgressStyleModel",
       "_view_count": null,
       "_view_module": "@jupyter-widgets/base",
       "_view_module_version": "1.2.0",
       "_view_name": "StyleView",
       "bar_color": null,
       "description_width": ""
      }
     },
     "2fadeb25a82f47179d7cefed07c346f2": {
      "model_module": "@jupyter-widgets/controls",
      "model_module_version": "1.5.0",
      "model_name": "DescriptionStyleModel",
      "state": {
       "_model_module": "@jupyter-widgets/controls",
       "_model_module_version": "1.5.0",
       "_model_name": "DescriptionStyleModel",
       "_view_count": null,
       "_view_module": "@jupyter-widgets/base",
       "_view_module_version": "1.2.0",
       "_view_name": "StyleView",
       "description_width": ""
      }
     },
     "31e434006a8c492584f8bdf64cda771c": {
      "model_module": "@jupyter-widgets/base",
      "model_module_version": "1.2.0",
      "model_name": "LayoutModel",
      "state": {
       "_model_module": "@jupyter-widgets/base",
       "_model_module_version": "1.2.0",
       "_model_name": "LayoutModel",
       "_view_count": null,
       "_view_module": "@jupyter-widgets/base",
       "_view_module_version": "1.2.0",
       "_view_name": "LayoutView",
       "align_content": null,
       "align_items": null,
       "align_self": null,
       "border": null,
       "bottom": null,
       "display": null,
       "flex": null,
       "flex_flow": null,
       "grid_area": null,
       "grid_auto_columns": null,
       "grid_auto_flow": null,
       "grid_auto_rows": null,
       "grid_column": null,
       "grid_gap": null,
       "grid_row": null,
       "grid_template_areas": null,
       "grid_template_columns": null,
       "grid_template_rows": null,
       "height": null,
       "justify_content": null,
       "justify_items": null,
       "left": null,
       "margin": null,
       "max_height": null,
       "max_width": null,
       "min_height": null,
       "min_width": null,
       "object_fit": null,
       "object_position": null,
       "order": null,
       "overflow": null,
       "overflow_x": null,
       "overflow_y": null,
       "padding": null,
       "right": null,
       "top": null,
       "visibility": null,
       "width": null
      }
     },
     "32a279488f8543c69e3619591771ca71": {
      "model_module": "@jupyter-widgets/controls",
      "model_module_version": "1.5.0",
      "model_name": "HBoxModel",
      "state": {
       "_dom_classes": [],
       "_model_module": "@jupyter-widgets/controls",
       "_model_module_version": "1.5.0",
       "_model_name": "HBoxModel",
       "_view_count": null,
       "_view_module": "@jupyter-widgets/controls",
       "_view_module_version": "1.5.0",
       "_view_name": "HBoxView",
       "box_style": "",
       "children": [
        "IPY_MODEL_e8aa4c7bea6148de817ccecb1e5bc881",
        "IPY_MODEL_bf9cc6e1524840018a29ffd8ed2cf1c6",
        "IPY_MODEL_b808dab4f22e49c690121ef382aee122"
       ],
       "layout": "IPY_MODEL_41645a7c84624e13a1690fd06fe30531"
      }
     },
     "35b736603b604d0fa67ab7b6a8707402": {
      "model_module": "@jupyter-widgets/controls",
      "model_module_version": "1.5.0",
      "model_name": "DescriptionStyleModel",
      "state": {
       "_model_module": "@jupyter-widgets/controls",
       "_model_module_version": "1.5.0",
       "_model_name": "DescriptionStyleModel",
       "_view_count": null,
       "_view_module": "@jupyter-widgets/base",
       "_view_module_version": "1.2.0",
       "_view_name": "StyleView",
       "description_width": ""
      }
     },
     "3d5fde2d8ff24f37a0d56eaa163fa61b": {
      "model_module": "@jupyter-widgets/controls",
      "model_module_version": "1.5.0",
      "model_name": "DescriptionStyleModel",
      "state": {
       "_model_module": "@jupyter-widgets/controls",
       "_model_module_version": "1.5.0",
       "_model_name": "DescriptionStyleModel",
       "_view_count": null,
       "_view_module": "@jupyter-widgets/base",
       "_view_module_version": "1.2.0",
       "_view_name": "StyleView",
       "description_width": ""
      }
     },
     "41645a7c84624e13a1690fd06fe30531": {
      "model_module": "@jupyter-widgets/base",
      "model_module_version": "1.2.0",
      "model_name": "LayoutModel",
      "state": {
       "_model_module": "@jupyter-widgets/base",
       "_model_module_version": "1.2.0",
       "_model_name": "LayoutModel",
       "_view_count": null,
       "_view_module": "@jupyter-widgets/base",
       "_view_module_version": "1.2.0",
       "_view_name": "LayoutView",
       "align_content": null,
       "align_items": null,
       "align_self": null,
       "border": null,
       "bottom": null,
       "display": null,
       "flex": null,
       "flex_flow": null,
       "grid_area": null,
       "grid_auto_columns": null,
       "grid_auto_flow": null,
       "grid_auto_rows": null,
       "grid_column": null,
       "grid_gap": null,
       "grid_row": null,
       "grid_template_areas": null,
       "grid_template_columns": null,
       "grid_template_rows": null,
       "height": null,
       "justify_content": null,
       "justify_items": null,
       "left": null,
       "margin": null,
       "max_height": null,
       "max_width": null,
       "min_height": null,
       "min_width": null,
       "object_fit": null,
       "object_position": null,
       "order": null,
       "overflow": null,
       "overflow_x": null,
       "overflow_y": null,
       "padding": null,
       "right": null,
       "top": null,
       "visibility": null,
       "width": null
      }
     },
     "4233f73d79984f40866ea7cceaaa7257": {
      "model_module": "@jupyter-widgets/controls",
      "model_module_version": "1.5.0",
      "model_name": "DescriptionStyleModel",
      "state": {
       "_model_module": "@jupyter-widgets/controls",
       "_model_module_version": "1.5.0",
       "_model_name": "DescriptionStyleModel",
       "_view_count": null,
       "_view_module": "@jupyter-widgets/base",
       "_view_module_version": "1.2.0",
       "_view_name": "StyleView",
       "description_width": ""
      }
     },
     "44cca86df0b543b49951fd643a526749": {
      "model_module": "@jupyter-widgets/controls",
      "model_module_version": "1.5.0",
      "model_name": "FloatProgressModel",
      "state": {
       "_dom_classes": [],
       "_model_module": "@jupyter-widgets/controls",
       "_model_module_version": "1.5.0",
       "_model_name": "FloatProgressModel",
       "_view_count": null,
       "_view_module": "@jupyter-widgets/controls",
       "_view_module_version": "1.5.0",
       "_view_name": "ProgressView",
       "bar_style": "success",
       "description": "",
       "description_tooltip": null,
       "layout": "IPY_MODEL_4c8114be509746b6b03c460c52623392",
       "max": 466062.0,
       "min": 0.0,
       "orientation": "horizontal",
       "style": "IPY_MODEL_8700279be989492abc14ffc42a03b012",
       "value": 466062.0
      }
     },
     "471f33c12fd24301bd0b4f80ed708958": {
      "model_module": "@jupyter-widgets/base",
      "model_module_version": "1.2.0",
      "model_name": "LayoutModel",
      "state": {
       "_model_module": "@jupyter-widgets/base",
       "_model_module_version": "1.2.0",
       "_model_name": "LayoutModel",
       "_view_count": null,
       "_view_module": "@jupyter-widgets/base",
       "_view_module_version": "1.2.0",
       "_view_name": "LayoutView",
       "align_content": null,
       "align_items": null,
       "align_self": null,
       "border": null,
       "bottom": null,
       "display": null,
       "flex": null,
       "flex_flow": null,
       "grid_area": null,
       "grid_auto_columns": null,
       "grid_auto_flow": null,
       "grid_auto_rows": null,
       "grid_column": null,
       "grid_gap": null,
       "grid_row": null,
       "grid_template_areas": null,
       "grid_template_columns": null,
       "grid_template_rows": null,
       "height": null,
       "justify_content": null,
       "justify_items": null,
       "left": null,
       "margin": null,
       "max_height": null,
       "max_width": null,
       "min_height": null,
       "min_width": null,
       "object_fit": null,
       "object_position": null,
       "order": null,
       "overflow": null,
       "overflow_x": null,
       "overflow_y": null,
       "padding": null,
       "right": null,
       "top": null,
       "visibility": null,
       "width": null
      }
     },
     "4876ec837fdc4b028a455ac644e4216f": {
      "model_module": "@jupyter-widgets/controls",
      "model_module_version": "1.5.0",
      "model_name": "HTMLModel",
      "state": {
       "_dom_classes": [],
       "_model_module": "@jupyter-widgets/controls",
       "_model_module_version": "1.5.0",
       "_model_name": "HTMLModel",
       "_view_count": null,
       "_view_module": "@jupyter-widgets/controls",
       "_view_module_version": "1.5.0",
       "_view_name": "HTMLView",
       "description": "",
       "description_tooltip": null,
       "layout": "IPY_MODEL_950818b11ac949a1bd8817269bed2e67",
       "placeholder": "​",
       "style": "IPY_MODEL_202ef4c798a4435a8225c67f74e1ce80",
       "value": " 268M/268M [00:01&lt;00:00, 298MB/s]"
      }
     },
     "4c8114be509746b6b03c460c52623392": {
      "model_module": "@jupyter-widgets/base",
      "model_module_version": "1.2.0",
      "model_name": "LayoutModel",
      "state": {
       "_model_module": "@jupyter-widgets/base",
       "_model_module_version": "1.2.0",
       "_model_name": "LayoutModel",
       "_view_count": null,
       "_view_module": "@jupyter-widgets/base",
       "_view_module_version": "1.2.0",
       "_view_name": "LayoutView",
       "align_content": null,
       "align_items": null,
       "align_self": null,
       "border": null,
       "bottom": null,
       "display": null,
       "flex": null,
       "flex_flow": null,
       "grid_area": null,
       "grid_auto_columns": null,
       "grid_auto_flow": null,
       "grid_auto_rows": null,
       "grid_column": null,
       "grid_gap": null,
       "grid_row": null,
       "grid_template_areas": null,
       "grid_template_columns": null,
       "grid_template_rows": null,
       "height": null,
       "justify_content": null,
       "justify_items": null,
       "left": null,
       "margin": null,
       "max_height": null,
       "max_width": null,
       "min_height": null,
       "min_width": null,
       "object_fit": null,
       "object_position": null,
       "order": null,
       "overflow": null,
       "overflow_x": null,
       "overflow_y": null,
       "padding": null,
       "right": null,
       "top": null,
       "visibility": null,
       "width": null
      }
     },
     "4e4fa3b940fb485da63f8a32d2fc872d": {
      "model_module": "@jupyter-widgets/base",
      "model_module_version": "1.2.0",
      "model_name": "LayoutModel",
      "state": {
       "_model_module": "@jupyter-widgets/base",
       "_model_module_version": "1.2.0",
       "_model_name": "LayoutModel",
       "_view_count": null,
       "_view_module": "@jupyter-widgets/base",
       "_view_module_version": "1.2.0",
       "_view_name": "LayoutView",
       "align_content": null,
       "align_items": null,
       "align_self": null,
       "border": null,
       "bottom": null,
       "display": null,
       "flex": null,
       "flex_flow": null,
       "grid_area": null,
       "grid_auto_columns": null,
       "grid_auto_flow": null,
       "grid_auto_rows": null,
       "grid_column": null,
       "grid_gap": null,
       "grid_row": null,
       "grid_template_areas": null,
       "grid_template_columns": null,
       "grid_template_rows": null,
       "height": null,
       "justify_content": null,
       "justify_items": null,
       "left": null,
       "margin": null,
       "max_height": null,
       "max_width": null,
       "min_height": null,
       "min_width": null,
       "object_fit": null,
       "object_position": null,
       "order": null,
       "overflow": null,
       "overflow_x": null,
       "overflow_y": null,
       "padding": null,
       "right": null,
       "top": null,
       "visibility": null,
       "width": null
      }
     },
     "50f3128aa2144d6093ac10094c4eaa14": {
      "model_module": "@jupyter-widgets/base",
      "model_module_version": "1.2.0",
      "model_name": "LayoutModel",
      "state": {
       "_model_module": "@jupyter-widgets/base",
       "_model_module_version": "1.2.0",
       "_model_name": "LayoutModel",
       "_view_count": null,
       "_view_module": "@jupyter-widgets/base",
       "_view_module_version": "1.2.0",
       "_view_name": "LayoutView",
       "align_content": null,
       "align_items": null,
       "align_self": null,
       "border": null,
       "bottom": null,
       "display": null,
       "flex": null,
       "flex_flow": null,
       "grid_area": null,
       "grid_auto_columns": null,
       "grid_auto_flow": null,
       "grid_auto_rows": null,
       "grid_column": null,
       "grid_gap": null,
       "grid_row": null,
       "grid_template_areas": null,
       "grid_template_columns": null,
       "grid_template_rows": null,
       "height": null,
       "justify_content": null,
       "justify_items": null,
       "left": null,
       "margin": null,
       "max_height": null,
       "max_width": null,
       "min_height": null,
       "min_width": null,
       "object_fit": null,
       "object_position": null,
       "order": null,
       "overflow": null,
       "overflow_x": null,
       "overflow_y": null,
       "padding": null,
       "right": null,
       "top": null,
       "visibility": null,
       "width": null
      }
     },
     "5718bd7ea43448f8b3f95baf3c0209c2": {
      "model_module": "@jupyter-widgets/controls",
      "model_module_version": "1.5.0",
      "model_name": "HBoxModel",
      "state": {
       "_dom_classes": [],
       "_model_module": "@jupyter-widgets/controls",
       "_model_module_version": "1.5.0",
       "_model_name": "HBoxModel",
       "_view_count": null,
       "_view_module": "@jupyter-widgets/controls",
       "_view_module_version": "1.5.0",
       "_view_name": "HBoxView",
       "box_style": "",
       "children": [
        "IPY_MODEL_db8065b041e94c5898da22d6811b7d6b",
        "IPY_MODEL_0274291698694790ad8e4865eefd7168",
        "IPY_MODEL_26ec28e97b90456db2119470219ae130"
       ],
       "layout": "IPY_MODEL_50f3128aa2144d6093ac10094c4eaa14"
      }
     },
     "57f1e5cf0f04438fad6df507b869b706": {
      "model_module": "@jupyter-widgets/controls",
      "model_module_version": "1.5.0",
      "model_name": "HTMLModel",
      "state": {
       "_dom_classes": [],
       "_model_module": "@jupyter-widgets/controls",
       "_model_module_version": "1.5.0",
       "_model_name": "HTMLModel",
       "_view_count": null,
       "_view_module": "@jupyter-widgets/controls",
       "_view_module_version": "1.5.0",
       "_view_name": "HTMLView",
       "description": "",
       "description_tooltip": null,
       "layout": "IPY_MODEL_e364d24f2b024eeca251427cfb9034ba",
       "placeholder": "​",
       "style": "IPY_MODEL_6678adc53a424c8b8d256539fb8a9ad4",
       "value": " 466k/466k [00:00&lt;00:00, 1.87MB/s]"
      }
     },
     "5b8b9fd544324afe898bf35d9ddb4c8c": {
      "model_module": "@jupyter-widgets/base",
      "model_module_version": "1.2.0",
      "model_name": "LayoutModel",
      "state": {
       "_model_module": "@jupyter-widgets/base",
       "_model_module_version": "1.2.0",
       "_model_name": "LayoutModel",
       "_view_count": null,
       "_view_module": "@jupyter-widgets/base",
       "_view_module_version": "1.2.0",
       "_view_name": "LayoutView",
       "align_content": null,
       "align_items": null,
       "align_self": null,
       "border": null,
       "bottom": null,
       "display": null,
       "flex": null,
       "flex_flow": null,
       "grid_area": null,
       "grid_auto_columns": null,
       "grid_auto_flow": null,
       "grid_auto_rows": null,
       "grid_column": null,
       "grid_gap": null,
       "grid_row": null,
       "grid_template_areas": null,
       "grid_template_columns": null,
       "grid_template_rows": null,
       "height": null,
       "justify_content": null,
       "justify_items": null,
       "left": null,
       "margin": null,
       "max_height": null,
       "max_width": null,
       "min_height": null,
       "min_width": null,
       "object_fit": null,
       "object_position": null,
       "order": null,
       "overflow": null,
       "overflow_x": null,
       "overflow_y": null,
       "padding": null,
       "right": null,
       "top": null,
       "visibility": null,
       "width": null
      }
     },
     "610ad54dc740426fbe4e1c559c77c24f": {
      "model_module": "@jupyter-widgets/controls",
      "model_module_version": "1.5.0",
      "model_name": "HBoxModel",
      "state": {
       "_dom_classes": [],
       "_model_module": "@jupyter-widgets/controls",
       "_model_module_version": "1.5.0",
       "_model_name": "HBoxModel",
       "_view_count": null,
       "_view_module": "@jupyter-widgets/controls",
       "_view_module_version": "1.5.0",
       "_view_name": "HBoxView",
       "box_style": "",
       "children": [
        "IPY_MODEL_b242d04ce5e7404486d0908c3c848b25",
        "IPY_MODEL_44cca86df0b543b49951fd643a526749",
        "IPY_MODEL_57f1e5cf0f04438fad6df507b869b706"
       ],
       "layout": "IPY_MODEL_9cd8df4a76b84e20ab63b686a41a767f"
      }
     },
     "636f5be7eb004c46b06793603e5b4c1d": {
      "model_module": "@jupyter-widgets/controls",
      "model_module_version": "1.5.0",
      "model_name": "HTMLModel",
      "state": {
       "_dom_classes": [],
       "_model_module": "@jupyter-widgets/controls",
       "_model_module_version": "1.5.0",
       "_model_name": "HTMLModel",
       "_view_count": null,
       "_view_module": "@jupyter-widgets/controls",
       "_view_module_version": "1.5.0",
       "_view_name": "HTMLView",
       "description": "",
       "description_tooltip": null,
       "layout": "IPY_MODEL_8d41b29692b749ddaff4659572c94066",
       "placeholder": "​",
       "style": "IPY_MODEL_2171e08ccb674f9a949d8e85c1cde377",
       "value": " 483/483 [00:00&lt;00:00, 40.3kB/s]"
      }
     },
     "6678adc53a424c8b8d256539fb8a9ad4": {
      "model_module": "@jupyter-widgets/controls",
      "model_module_version": "1.5.0",
      "model_name": "DescriptionStyleModel",
      "state": {
       "_model_module": "@jupyter-widgets/controls",
       "_model_module_version": "1.5.0",
       "_model_name": "DescriptionStyleModel",
       "_view_count": null,
       "_view_module": "@jupyter-widgets/base",
       "_view_module_version": "1.2.0",
       "_view_name": "StyleView",
       "description_width": ""
      }
     },
     "79bc4256bf7d4bd0b0b494368bb2a852": {
      "model_module": "@jupyter-widgets/base",
      "model_module_version": "1.2.0",
      "model_name": "LayoutModel",
      "state": {
       "_model_module": "@jupyter-widgets/base",
       "_model_module_version": "1.2.0",
       "_model_name": "LayoutModel",
       "_view_count": null,
       "_view_module": "@jupyter-widgets/base",
       "_view_module_version": "1.2.0",
       "_view_name": "LayoutView",
       "align_content": null,
       "align_items": null,
       "align_self": null,
       "border": null,
       "bottom": null,
       "display": null,
       "flex": null,
       "flex_flow": null,
       "grid_area": null,
       "grid_auto_columns": null,
       "grid_auto_flow": null,
       "grid_auto_rows": null,
       "grid_column": null,
       "grid_gap": null,
       "grid_row": null,
       "grid_template_areas": null,
       "grid_template_columns": null,
       "grid_template_rows": null,
       "height": null,
       "justify_content": null,
       "justify_items": null,
       "left": null,
       "margin": null,
       "max_height": null,
       "max_width": null,
       "min_height": null,
       "min_width": null,
       "object_fit": null,
       "object_position": null,
       "order": null,
       "overflow": null,
       "overflow_x": null,
       "overflow_y": null,
       "padding": null,
       "right": null,
       "top": null,
       "visibility": null,
       "width": null
      }
     },
     "79d05a254a5d4dc3aea33839b69562c4": {
      "model_module": "@jupyter-widgets/base",
      "model_module_version": "1.2.0",
      "model_name": "LayoutModel",
      "state": {
       "_model_module": "@jupyter-widgets/base",
       "_model_module_version": "1.2.0",
       "_model_name": "LayoutModel",
       "_view_count": null,
       "_view_module": "@jupyter-widgets/base",
       "_view_module_version": "1.2.0",
       "_view_name": "LayoutView",
       "align_content": null,
       "align_items": null,
       "align_self": null,
       "border": null,
       "bottom": null,
       "display": null,
       "flex": null,
       "flex_flow": null,
       "grid_area": null,
       "grid_auto_columns": null,
       "grid_auto_flow": null,
       "grid_auto_rows": null,
       "grid_column": null,
       "grid_gap": null,
       "grid_row": null,
       "grid_template_areas": null,
       "grid_template_columns": null,
       "grid_template_rows": null,
       "height": null,
       "justify_content": null,
       "justify_items": null,
       "left": null,
       "margin": null,
       "max_height": null,
       "max_width": null,
       "min_height": null,
       "min_width": null,
       "object_fit": null,
       "object_position": null,
       "order": null,
       "overflow": null,
       "overflow_x": null,
       "overflow_y": null,
       "padding": null,
       "right": null,
       "top": null,
       "visibility": null,
       "width": null
      }
     },
     "7ab1841b6c484965b78a4e05e98ae1f8": {
      "model_module": "@jupyter-widgets/base",
      "model_module_version": "1.2.0",
      "model_name": "LayoutModel",
      "state": {
       "_model_module": "@jupyter-widgets/base",
       "_model_module_version": "1.2.0",
       "_model_name": "LayoutModel",
       "_view_count": null,
       "_view_module": "@jupyter-widgets/base",
       "_view_module_version": "1.2.0",
       "_view_name": "LayoutView",
       "align_content": null,
       "align_items": null,
       "align_self": null,
       "border": null,
       "bottom": null,
       "display": null,
       "flex": null,
       "flex_flow": null,
       "grid_area": null,
       "grid_auto_columns": null,
       "grid_auto_flow": null,
       "grid_auto_rows": null,
       "grid_column": null,
       "grid_gap": null,
       "grid_row": null,
       "grid_template_areas": null,
       "grid_template_columns": null,
       "grid_template_rows": null,
       "height": null,
       "justify_content": null,
       "justify_items": null,
       "left": null,
       "margin": null,
       "max_height": null,
       "max_width": null,
       "min_height": null,
       "min_width": null,
       "object_fit": null,
       "object_position": null,
       "order": null,
       "overflow": null,
       "overflow_x": null,
       "overflow_y": null,
       "padding": null,
       "right": null,
       "top": null,
       "visibility": null,
       "width": null
      }
     },
     "82746a06a3344fd39594e41ddb8aa315": {
      "model_module": "@jupyter-widgets/controls",
      "model_module_version": "1.5.0",
      "model_name": "ProgressStyleModel",
      "state": {
       "_model_module": "@jupyter-widgets/controls",
       "_model_module_version": "1.5.0",
       "_model_name": "ProgressStyleModel",
       "_view_count": null,
       "_view_module": "@jupyter-widgets/base",
       "_view_module_version": "1.2.0",
       "_view_name": "StyleView",
       "bar_color": null,
       "description_width": ""
      }
     },
     "8700279be989492abc14ffc42a03b012": {
      "model_module": "@jupyter-widgets/controls",
      "model_module_version": "1.5.0",
      "model_name": "ProgressStyleModel",
      "state": {
       "_model_module": "@jupyter-widgets/controls",
       "_model_module_version": "1.5.0",
       "_model_name": "ProgressStyleModel",
       "_view_count": null,
       "_view_module": "@jupyter-widgets/base",
       "_view_module_version": "1.2.0",
       "_view_name": "StyleView",
       "bar_color": null,
       "description_width": ""
      }
     },
     "8c08c8af61104f1187db87ca2234d5be": {
      "model_module": "@jupyter-widgets/controls",
      "model_module_version": "1.5.0",
      "model_name": "HTMLModel",
      "state": {
       "_dom_classes": [],
       "_model_module": "@jupyter-widgets/controls",
       "_model_module_version": "1.5.0",
       "_model_name": "HTMLModel",
       "_view_count": null,
       "_view_module": "@jupyter-widgets/controls",
       "_view_module_version": "1.5.0",
       "_view_name": "HTMLView",
       "description": "",
       "description_tooltip": null,
       "layout": "IPY_MODEL_4e4fa3b940fb485da63f8a32d2fc872d",
       "placeholder": "​",
       "style": "IPY_MODEL_4233f73d79984f40866ea7cceaaa7257",
       "value": "model.safetensors: 100%"
      }
     },
     "8d21ed4fa6b54b4ab74522fc164867d3": {
      "model_module": "@jupyter-widgets/base",
      "model_module_version": "1.2.0",
      "model_name": "LayoutModel",
      "state": {
       "_model_module": "@jupyter-widgets/base",
       "_model_module_version": "1.2.0",
       "_model_name": "LayoutModel",
       "_view_count": null,
       "_view_module": "@jupyter-widgets/base",
       "_view_module_version": "1.2.0",
       "_view_name": "LayoutView",
       "align_content": null,
       "align_items": null,
       "align_self": null,
       "border": null,
       "bottom": null,
       "display": null,
       "flex": null,
       "flex_flow": null,
       "grid_area": null,
       "grid_auto_columns": null,
       "grid_auto_flow": null,
       "grid_auto_rows": null,
       "grid_column": null,
       "grid_gap": null,
       "grid_row": null,
       "grid_template_areas": null,
       "grid_template_columns": null,
       "grid_template_rows": null,
       "height": null,
       "justify_content": null,
       "justify_items": null,
       "left": null,
       "margin": null,
       "max_height": null,
       "max_width": null,
       "min_height": null,
       "min_width": null,
       "object_fit": null,
       "object_position": null,
       "order": null,
       "overflow": null,
       "overflow_x": null,
       "overflow_y": null,
       "padding": null,
       "right": null,
       "top": null,
       "visibility": null,
       "width": null
      }
     },
     "8d41b29692b749ddaff4659572c94066": {
      "model_module": "@jupyter-widgets/base",
      "model_module_version": "1.2.0",
      "model_name": "LayoutModel",
      "state": {
       "_model_module": "@jupyter-widgets/base",
       "_model_module_version": "1.2.0",
       "_model_name": "LayoutModel",
       "_view_count": null,
       "_view_module": "@jupyter-widgets/base",
       "_view_module_version": "1.2.0",
       "_view_name": "LayoutView",
       "align_content": null,
       "align_items": null,
       "align_self": null,
       "border": null,
       "bottom": null,
       "display": null,
       "flex": null,
       "flex_flow": null,
       "grid_area": null,
       "grid_auto_columns": null,
       "grid_auto_flow": null,
       "grid_auto_rows": null,
       "grid_column": null,
       "grid_gap": null,
       "grid_row": null,
       "grid_template_areas": null,
       "grid_template_columns": null,
       "grid_template_rows": null,
       "height": null,
       "justify_content": null,
       "justify_items": null,
       "left": null,
       "margin": null,
       "max_height": null,
       "max_width": null,
       "min_height": null,
       "min_width": null,
       "object_fit": null,
       "object_position": null,
       "order": null,
       "overflow": null,
       "overflow_x": null,
       "overflow_y": null,
       "padding": null,
       "right": null,
       "top": null,
       "visibility": null,
       "width": null
      }
     },
     "92c6f3f2612a4e48b7eb4a16418c8024": {
      "model_module": "@jupyter-widgets/base",
      "model_module_version": "1.2.0",
      "model_name": "LayoutModel",
      "state": {
       "_model_module": "@jupyter-widgets/base",
       "_model_module_version": "1.2.0",
       "_model_name": "LayoutModel",
       "_view_count": null,
       "_view_module": "@jupyter-widgets/base",
       "_view_module_version": "1.2.0",
       "_view_name": "LayoutView",
       "align_content": null,
       "align_items": null,
       "align_self": null,
       "border": null,
       "bottom": null,
       "display": null,
       "flex": null,
       "flex_flow": null,
       "grid_area": null,
       "grid_auto_columns": null,
       "grid_auto_flow": null,
       "grid_auto_rows": null,
       "grid_column": null,
       "grid_gap": null,
       "grid_row": null,
       "grid_template_areas": null,
       "grid_template_columns": null,
       "grid_template_rows": null,
       "height": null,
       "justify_content": null,
       "justify_items": null,
       "left": null,
       "margin": null,
       "max_height": null,
       "max_width": null,
       "min_height": null,
       "min_width": null,
       "object_fit": null,
       "object_position": null,
       "order": null,
       "overflow": null,
       "overflow_x": null,
       "overflow_y": null,
       "padding": null,
       "right": null,
       "top": null,
       "visibility": null,
       "width": null
      }
     },
     "950818b11ac949a1bd8817269bed2e67": {
      "model_module": "@jupyter-widgets/base",
      "model_module_version": "1.2.0",
      "model_name": "LayoutModel",
      "state": {
       "_model_module": "@jupyter-widgets/base",
       "_model_module_version": "1.2.0",
       "_model_name": "LayoutModel",
       "_view_count": null,
       "_view_module": "@jupyter-widgets/base",
       "_view_module_version": "1.2.0",
       "_view_name": "LayoutView",
       "align_content": null,
       "align_items": null,
       "align_self": null,
       "border": null,
       "bottom": null,
       "display": null,
       "flex": null,
       "flex_flow": null,
       "grid_area": null,
       "grid_auto_columns": null,
       "grid_auto_flow": null,
       "grid_auto_rows": null,
       "grid_column": null,
       "grid_gap": null,
       "grid_row": null,
       "grid_template_areas": null,
       "grid_template_columns": null,
       "grid_template_rows": null,
       "height": null,
       "justify_content": null,
       "justify_items": null,
       "left": null,
       "margin": null,
       "max_height": null,
       "max_width": null,
       "min_height": null,
       "min_width": null,
       "object_fit": null,
       "object_position": null,
       "order": null,
       "overflow": null,
       "overflow_x": null,
       "overflow_y": null,
       "padding": null,
       "right": null,
       "top": null,
       "visibility": null,
       "width": null
      }
     },
     "9cd8df4a76b84e20ab63b686a41a767f": {
      "model_module": "@jupyter-widgets/base",
      "model_module_version": "1.2.0",
      "model_name": "LayoutModel",
      "state": {
       "_model_module": "@jupyter-widgets/base",
       "_model_module_version": "1.2.0",
       "_model_name": "LayoutModel",
       "_view_count": null,
       "_view_module": "@jupyter-widgets/base",
       "_view_module_version": "1.2.0",
       "_view_name": "LayoutView",
       "align_content": null,
       "align_items": null,
       "align_self": null,
       "border": null,
       "bottom": null,
       "display": null,
       "flex": null,
       "flex_flow": null,
       "grid_area": null,
       "grid_auto_columns": null,
       "grid_auto_flow": null,
       "grid_auto_rows": null,
       "grid_column": null,
       "grid_gap": null,
       "grid_row": null,
       "grid_template_areas": null,
       "grid_template_columns": null,
       "grid_template_rows": null,
       "height": null,
       "justify_content": null,
       "justify_items": null,
       "left": null,
       "margin": null,
       "max_height": null,
       "max_width": null,
       "min_height": null,
       "min_width": null,
       "object_fit": null,
       "object_position": null,
       "order": null,
       "overflow": null,
       "overflow_x": null,
       "overflow_y": null,
       "padding": null,
       "right": null,
       "top": null,
       "visibility": null,
       "width": null
      }
     },
     "9e1ee4c336584038a8d69a086f86ec27": {
      "model_module": "@jupyter-widgets/controls",
      "model_module_version": "1.5.0",
      "model_name": "DescriptionStyleModel",
      "state": {
       "_model_module": "@jupyter-widgets/controls",
       "_model_module_version": "1.5.0",
       "_model_name": "DescriptionStyleModel",
       "_view_count": null,
       "_view_module": "@jupyter-widgets/base",
       "_view_module_version": "1.2.0",
       "_view_name": "StyleView",
       "description_width": ""
      }
     },
     "9f707b42a9b94b18ab2433aaf731df1a": {
      "model_module": "@jupyter-widgets/base",
      "model_module_version": "1.2.0",
      "model_name": "LayoutModel",
      "state": {
       "_model_module": "@jupyter-widgets/base",
       "_model_module_version": "1.2.0",
       "_model_name": "LayoutModel",
       "_view_count": null,
       "_view_module": "@jupyter-widgets/base",
       "_view_module_version": "1.2.0",
       "_view_name": "LayoutView",
       "align_content": null,
       "align_items": null,
       "align_self": null,
       "border": null,
       "bottom": null,
       "display": null,
       "flex": null,
       "flex_flow": null,
       "grid_area": null,
       "grid_auto_columns": null,
       "grid_auto_flow": null,
       "grid_auto_rows": null,
       "grid_column": null,
       "grid_gap": null,
       "grid_row": null,
       "grid_template_areas": null,
       "grid_template_columns": null,
       "grid_template_rows": null,
       "height": null,
       "justify_content": null,
       "justify_items": null,
       "left": null,
       "margin": null,
       "max_height": null,
       "max_width": null,
       "min_height": null,
       "min_width": null,
       "object_fit": null,
       "object_position": null,
       "order": null,
       "overflow": null,
       "overflow_x": null,
       "overflow_y": null,
       "padding": null,
       "right": null,
       "top": null,
       "visibility": null,
       "width": null
      }
     },
     "b242d04ce5e7404486d0908c3c848b25": {
      "model_module": "@jupyter-widgets/controls",
      "model_module_version": "1.5.0",
      "model_name": "HTMLModel",
      "state": {
       "_dom_classes": [],
       "_model_module": "@jupyter-widgets/controls",
       "_model_module_version": "1.5.0",
       "_model_name": "HTMLModel",
       "_view_count": null,
       "_view_module": "@jupyter-widgets/controls",
       "_view_module_version": "1.5.0",
       "_view_name": "HTMLView",
       "description": "",
       "description_tooltip": null,
       "layout": "IPY_MODEL_79bc4256bf7d4bd0b0b494368bb2a852",
       "placeholder": "​",
       "style": "IPY_MODEL_2fadeb25a82f47179d7cefed07c346f2",
       "value": "tokenizer.json: 100%"
      }
     },
     "b808dab4f22e49c690121ef382aee122": {
      "model_module": "@jupyter-widgets/controls",
      "model_module_version": "1.5.0",
      "model_name": "HTMLModel",
      "state": {
       "_dom_classes": [],
       "_model_module": "@jupyter-widgets/controls",
       "_model_module_version": "1.5.0",
       "_model_name": "HTMLModel",
       "_view_count": null,
       "_view_module": "@jupyter-widgets/controls",
       "_view_module_version": "1.5.0",
       "_view_name": "HTMLView",
       "description": "",
       "description_tooltip": null,
       "layout": "IPY_MODEL_31e434006a8c492584f8bdf64cda771c",
       "placeholder": "​",
       "style": "IPY_MODEL_35b736603b604d0fa67ab7b6a8707402",
       "value": " 28.0/28.0 [00:00&lt;00:00, 2.24kB/s]"
      }
     },
     "bf9cc6e1524840018a29ffd8ed2cf1c6": {
      "model_module": "@jupyter-widgets/controls",
      "model_module_version": "1.5.0",
      "model_name": "FloatProgressModel",
      "state": {
       "_dom_classes": [],
       "_model_module": "@jupyter-widgets/controls",
       "_model_module_version": "1.5.0",
       "_model_name": "FloatProgressModel",
       "_view_count": null,
       "_view_module": "@jupyter-widgets/controls",
       "_view_module_version": "1.5.0",
       "_view_name": "ProgressView",
       "bar_style": "success",
       "description": "",
       "description_tooltip": null,
       "layout": "IPY_MODEL_2725241b465841aba1d1d3116e446db9",
       "max": 28.0,
       "min": 0.0,
       "orientation": "horizontal",
       "style": "IPY_MODEL_d39f83e57d5d4572920007cc2b37bdca",
       "value": 28.0
      }
     },
     "c4b16e7156b847b8b7d5354977daa4fc": {
      "model_module": "@jupyter-widgets/base",
      "model_module_version": "1.2.0",
      "model_name": "LayoutModel",
      "state": {
       "_model_module": "@jupyter-widgets/base",
       "_model_module_version": "1.2.0",
       "_model_name": "LayoutModel",
       "_view_count": null,
       "_view_module": "@jupyter-widgets/base",
       "_view_module_version": "1.2.0",
       "_view_name": "LayoutView",
       "align_content": null,
       "align_items": null,
       "align_self": null,
       "border": null,
       "bottom": null,
       "display": null,
       "flex": null,
       "flex_flow": null,
       "grid_area": null,
       "grid_auto_columns": null,
       "grid_auto_flow": null,
       "grid_auto_rows": null,
       "grid_column": null,
       "grid_gap": null,
       "grid_row": null,
       "grid_template_areas": null,
       "grid_template_columns": null,
       "grid_template_rows": null,
       "height": null,
       "justify_content": null,
       "justify_items": null,
       "left": null,
       "margin": null,
       "max_height": null,
       "max_width": null,
       "min_height": null,
       "min_width": null,
       "object_fit": null,
       "object_position": null,
       "order": null,
       "overflow": null,
       "overflow_x": null,
       "overflow_y": null,
       "padding": null,
       "right": null,
       "top": null,
       "visibility": null,
       "width": null
      }
     },
     "cd4fd6f03bcd4f69ba734051de65aea4": {
      "model_module": "@jupyter-widgets/controls",
      "model_module_version": "1.5.0",
      "model_name": "ProgressStyleModel",
      "state": {
       "_model_module": "@jupyter-widgets/controls",
       "_model_module_version": "1.5.0",
       "_model_name": "ProgressStyleModel",
       "_view_count": null,
       "_view_module": "@jupyter-widgets/base",
       "_view_module_version": "1.2.0",
       "_view_name": "StyleView",
       "bar_color": null,
       "description_width": ""
      }
     },
     "d2169bbf84ba4f8387d2f42deda3c524": {
      "model_module": "@jupyter-widgets/controls",
      "model_module_version": "1.5.0",
      "model_name": "FloatProgressModel",
      "state": {
       "_dom_classes": [],
       "_model_module": "@jupyter-widgets/controls",
       "_model_module_version": "1.5.0",
       "_model_name": "FloatProgressModel",
       "_view_count": null,
       "_view_module": "@jupyter-widgets/controls",
       "_view_module_version": "1.5.0",
       "_view_name": "ProgressView",
       "bar_style": "success",
       "description": "",
       "description_tooltip": null,
       "layout": "IPY_MODEL_7ab1841b6c484965b78a4e05e98ae1f8",
       "max": 267954768.0,
       "min": 0.0,
       "orientation": "horizontal",
       "style": "IPY_MODEL_cd4fd6f03bcd4f69ba734051de65aea4",
       "value": 267954768.0
      }
     },
     "d2df1279d7164f739fac720cd80abfcd": {
      "model_module": "@jupyter-widgets/controls",
      "model_module_version": "1.5.0",
      "model_name": "DescriptionStyleModel",
      "state": {
       "_model_module": "@jupyter-widgets/controls",
       "_model_module_version": "1.5.0",
       "_model_name": "DescriptionStyleModel",
       "_view_count": null,
       "_view_module": "@jupyter-widgets/base",
       "_view_module_version": "1.2.0",
       "_view_name": "StyleView",
       "description_width": ""
      }
     },
     "d39f83e57d5d4572920007cc2b37bdca": {
      "model_module": "@jupyter-widgets/controls",
      "model_module_version": "1.5.0",
      "model_name": "ProgressStyleModel",
      "state": {
       "_model_module": "@jupyter-widgets/controls",
       "_model_module_version": "1.5.0",
       "_model_name": "ProgressStyleModel",
       "_view_count": null,
       "_view_module": "@jupyter-widgets/base",
       "_view_module_version": "1.2.0",
       "_view_name": "StyleView",
       "bar_color": null,
       "description_width": ""
      }
     },
     "d6928479a2ba4cf2ab44750b2fcae300": {
      "model_module": "@jupyter-widgets/controls",
      "model_module_version": "1.5.0",
      "model_name": "DescriptionStyleModel",
      "state": {
       "_model_module": "@jupyter-widgets/controls",
       "_model_module_version": "1.5.0",
       "_model_name": "DescriptionStyleModel",
       "_view_count": null,
       "_view_module": "@jupyter-widgets/base",
       "_view_module_version": "1.2.0",
       "_view_name": "StyleView",
       "description_width": ""
      }
     },
     "db8065b041e94c5898da22d6811b7d6b": {
      "model_module": "@jupyter-widgets/controls",
      "model_module_version": "1.5.0",
      "model_name": "HTMLModel",
      "state": {
       "_dom_classes": [],
       "_model_module": "@jupyter-widgets/controls",
       "_model_module_version": "1.5.0",
       "_model_name": "HTMLModel",
       "_view_count": null,
       "_view_module": "@jupyter-widgets/controls",
       "_view_module_version": "1.5.0",
       "_view_name": "HTMLView",
       "description": "",
       "description_tooltip": null,
       "layout": "IPY_MODEL_79d05a254a5d4dc3aea33839b69562c4",
       "placeholder": "​",
       "style": "IPY_MODEL_9e1ee4c336584038a8d69a086f86ec27",
       "value": "vocab.txt: 100%"
      }
     },
     "ddf6feeec1164c4c8adce59ed551afb6": {
      "model_module": "@jupyter-widgets/base",
      "model_module_version": "1.2.0",
      "model_name": "LayoutModel",
      "state": {
       "_model_module": "@jupyter-widgets/base",
       "_model_module_version": "1.2.0",
       "_model_name": "LayoutModel",
       "_view_count": null,
       "_view_module": "@jupyter-widgets/base",
       "_view_module_version": "1.2.0",
       "_view_name": "LayoutView",
       "align_content": null,
       "align_items": null,
       "align_self": null,
       "border": null,
       "bottom": null,
       "display": null,
       "flex": null,
       "flex_flow": null,
       "grid_area": null,
       "grid_auto_columns": null,
       "grid_auto_flow": null,
       "grid_auto_rows": null,
       "grid_column": null,
       "grid_gap": null,
       "grid_row": null,
       "grid_template_areas": null,
       "grid_template_columns": null,
       "grid_template_rows": null,
       "height": null,
       "justify_content": null,
       "justify_items": null,
       "left": null,
       "margin": null,
       "max_height": null,
       "max_width": null,
       "min_height": null,
       "min_width": null,
       "object_fit": null,
       "object_position": null,
       "order": null,
       "overflow": null,
       "overflow_x": null,
       "overflow_y": null,
       "padding": null,
       "right": null,
       "top": null,
       "visibility": null,
       "width": null
      }
     },
     "e364d24f2b024eeca251427cfb9034ba": {
      "model_module": "@jupyter-widgets/base",
      "model_module_version": "1.2.0",
      "model_name": "LayoutModel",
      "state": {
       "_model_module": "@jupyter-widgets/base",
       "_model_module_version": "1.2.0",
       "_model_name": "LayoutModel",
       "_view_count": null,
       "_view_module": "@jupyter-widgets/base",
       "_view_module_version": "1.2.0",
       "_view_name": "LayoutView",
       "align_content": null,
       "align_items": null,
       "align_self": null,
       "border": null,
       "bottom": null,
       "display": null,
       "flex": null,
       "flex_flow": null,
       "grid_area": null,
       "grid_auto_columns": null,
       "grid_auto_flow": null,
       "grid_auto_rows": null,
       "grid_column": null,
       "grid_gap": null,
       "grid_row": null,
       "grid_template_areas": null,
       "grid_template_columns": null,
       "grid_template_rows": null,
       "height": null,
       "justify_content": null,
       "justify_items": null,
       "left": null,
       "margin": null,
       "max_height": null,
       "max_width": null,
       "min_height": null,
       "min_width": null,
       "object_fit": null,
       "object_position": null,
       "order": null,
       "overflow": null,
       "overflow_x": null,
       "overflow_y": null,
       "padding": null,
       "right": null,
       "top": null,
       "visibility": null,
       "width": null
      }
     },
     "e8aa4c7bea6148de817ccecb1e5bc881": {
      "model_module": "@jupyter-widgets/controls",
      "model_module_version": "1.5.0",
      "model_name": "HTMLModel",
      "state": {
       "_dom_classes": [],
       "_model_module": "@jupyter-widgets/controls",
       "_model_module_version": "1.5.0",
       "_model_name": "HTMLModel",
       "_view_count": null,
       "_view_module": "@jupyter-widgets/controls",
       "_view_module_version": "1.5.0",
       "_view_name": "HTMLView",
       "description": "",
       "description_tooltip": null,
       "layout": "IPY_MODEL_ddf6feeec1164c4c8adce59ed551afb6",
       "placeholder": "​",
       "style": "IPY_MODEL_d6928479a2ba4cf2ab44750b2fcae300",
       "value": "tokenizer_config.json: 100%"
      }
     },
     "ee1af55e55f64f87a94c1542be452de3": {
      "model_module": "@jupyter-widgets/controls",
      "model_module_version": "1.5.0",
      "model_name": "HTMLModel",
      "state": {
       "_dom_classes": [],
       "_model_module": "@jupyter-widgets/controls",
       "_model_module_version": "1.5.0",
       "_model_name": "HTMLModel",
       "_view_count": null,
       "_view_module": "@jupyter-widgets/controls",
       "_view_module_version": "1.5.0",
       "_view_name": "HTMLView",
       "description": "",
       "description_tooltip": null,
       "layout": "IPY_MODEL_c4b16e7156b847b8b7d5354977daa4fc",
       "placeholder": "​",
       "style": "IPY_MODEL_3d5fde2d8ff24f37a0d56eaa163fa61b",
       "value": "config.json: 100%"
      }
     },
     "f3026007bbeb4e09a02408fac203ff64": {
      "model_module": "@jupyter-widgets/controls",
      "model_module_version": "1.5.0",
      "model_name": "HBoxModel",
      "state": {
       "_dom_classes": [],
       "_model_module": "@jupyter-widgets/controls",
       "_model_module_version": "1.5.0",
       "_model_name": "HBoxModel",
       "_view_count": null,
       "_view_module": "@jupyter-widgets/controls",
       "_view_module_version": "1.5.0",
       "_view_name": "HBoxView",
       "box_style": "",
       "children": [
        "IPY_MODEL_8c08c8af61104f1187db87ca2234d5be",
        "IPY_MODEL_d2169bbf84ba4f8387d2f42deda3c524",
        "IPY_MODEL_4876ec837fdc4b028a455ac644e4216f"
       ],
       "layout": "IPY_MODEL_92c6f3f2612a4e48b7eb4a16418c8024"
      }
     },
     "fc98de43c8f7479e904449bd682206d7": {
      "model_module": "@jupyter-widgets/controls",
      "model_module_version": "1.5.0",
      "model_name": "HBoxModel",
      "state": {
       "_dom_classes": [],
       "_model_module": "@jupyter-widgets/controls",
       "_model_module_version": "1.5.0",
       "_model_name": "HBoxModel",
       "_view_count": null,
       "_view_module": "@jupyter-widgets/controls",
       "_view_module_version": "1.5.0",
       "_view_name": "HBoxView",
       "box_style": "",
       "children": [
        "IPY_MODEL_ee1af55e55f64f87a94c1542be452de3",
        "IPY_MODEL_11fbc22bd17348dea926178b059db79d",
        "IPY_MODEL_636f5be7eb004c46b06793603e5b4c1d"
       ],
       "layout": "IPY_MODEL_5b8b9fd544324afe898bf35d9ddb4c8c"
      }
     }
    },
    "version_major": 2,
    "version_minor": 0
   }
  }
 },
 "nbformat": 4,
 "nbformat_minor": 5
}
