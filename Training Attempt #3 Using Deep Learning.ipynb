{
 "cells": [
  {
   "cell_type": "markdown",
   "id": "7f2d9519",
   "metadata": {
    "papermill": {
     "duration": 0.025553,
     "end_time": "2024-04-23T07:54:07.826166",
     "exception": false,
     "start_time": "2024-04-23T07:54:07.800613",
     "status": "completed"
    },
    "tags": []
   },
   "source": [
    "In real life, humans use information from text and title to determine if a piece of news is fake or not\n",
    "\n",
    "\n",
    "\n",
    "\n",
    "In the previous models, we mostly depended on the word type and frequency, but did not use the meaning and order of words to determine the veracity of the news\n",
    "\n",
    "\n",
    "\n",
    "\n",
    "Using Deep Learning, We can perform this, with the use of Attention Mechanisms and word embeddings\n",
    "\n",
    "\n",
    "\n",
    "\n",
    "What is BERT?\n",
    "\n",
    "![Alt text](DistillBert.png \"DistillBERT Architecture\")\n",
    "\n",
    "\n",
    "\n",
    "BERT (Bidirectional Encoder Representations from Transformers) is a method of pretraining language representations that was used to create models that NLP practitioners can then download and use for free. We use these models to extract high quality language features from your text data, and fine-tune these models on our classification problem with our data to produce state of the art predictions.\n",
    "\n",
    "\n",
    "\n",
    "\n",
    "We decided to use DistillBERT, as BERT architecture allows for Bidirectional Encoding of the text, which should improve classification compared to other forms of Encoding like TD-IDF or other Neural Net based Unidirectional Encodings like Word2Vec or Glove. \n",
    "\n",
    "BERT has also been shown to be able to handle class imbalance(Madabushi et al,2020). As our train and test set is simillar, we should obtain good results.\n",
    "\n",
    "\n",
    "\n",
    "For example, given two sentences: \"The man was accused of robbing a bank.\" \"The man went fishing by the bank of the river.\"  Embeddings like Word2Vec and TDIDF would produce the same word embedding for the word \"bank\" in both sentences, while under BERT the word embedding for \"bank\" would be different for each sentence which is more in line with the meaning of the sentence.\n",
    "\n",
    "\n",
    "\n",
    "\n",
    "As BERT also comes with a variety of versions, we decided to use DistillBERT, a smaller model with similar accuracy , given the relatively smaller size of the dataset to prevent excessive overfitting and the computational time limit of 12hours on Kaggle\n",
    "\n",
    "\n",
    "\n",
    "\n",
    "In this project, we applied Transfer Learning, using a Encoder and Model Trained on Wikipedia pages. We hypothesize that such a approach should be the most effective, given that detection of fake news require a deep existing knowledge base, which the pretrained model weights should reflect\n",
    "\n",
    "\n",
    "\n",
    "\n",
    "We add a Linear layer to obtain a classifier which outputs 0 and 1. We then train all layers of the classifier to update its weights\n",
    "\n",
    "\n",
    "\n",
    "\n",
    "\n",
    "Due to lack of computational time, we are unable to do automated hyperparameter tuning experiments, but found that the default hyperparameters was able to produce state of the art results on both the testing and validation results.\n",
    "\n",
    "\n",
    "\n",
    "\n"
   ]
  },
  {
   "cell_type": "code",
   "execution_count": 1,
   "id": "6aacac0e",
   "metadata": {
    "_cell_guid": "b1076dfc-b9ad-4769-8c92-a6c4dae69d19",
    "_uuid": "8f2839f25d086af736a60e9eeb907d3b93b6e0e5",
    "cell_id": "d83ae72c358e4568a959e9d31ee1c3e7",
    "deepnote_cell_type": "code",
    "execution": {
     "iopub.execute_input": "2024-04-23T07:54:07.866574Z",
     "iopub.status.busy": "2024-04-23T07:54:07.865773Z",
     "iopub.status.idle": "2024-04-23T07:54:27.632459Z",
     "shell.execute_reply": "2024-04-23T07:54:27.631481Z"
    },
    "papermill": {
     "duration": 19.789075,
     "end_time": "2024-04-23T07:54:27.634675",
     "exception": false,
     "start_time": "2024-04-23T07:54:07.845600",
     "status": "completed"
    },
    "tags": []
   },
   "outputs": [
    {
     "name": "stderr",
     "output_type": "stream",
     "text": [
      "2024-04-23 07:54:17.320151: E external/local_xla/xla/stream_executor/cuda/cuda_dnn.cc:9261] Unable to register cuDNN factory: Attempting to register factory for plugin cuDNN when one has already been registered\n",
      "2024-04-23 07:54:17.320258: E external/local_xla/xla/stream_executor/cuda/cuda_fft.cc:607] Unable to register cuFFT factory: Attempting to register factory for plugin cuFFT when one has already been registered\n",
      "2024-04-23 07:54:17.450483: E external/local_xla/xla/stream_executor/cuda/cuda_blas.cc:1515] Unable to register cuBLAS factory: Attempting to register factory for plugin cuBLAS when one has already been registered\n"
     ]
    },
    {
     "name": "stdout",
     "output_type": "stream",
     "text": [
      "/kaggle/input/cleaned-news/cleaned_news.csv\n"
     ]
    }
   ],
   "source": [
    "# This Python 3 environment comes with many helpful analytics libraries installed\n",
    "# It is defined by the kaggle/python Docker image: https://github.com/kaggle/docker-python\n",
    "# For example, here's several helpful packages to load\n",
    "\n",
    "import numpy as np # linear algebra\n",
    "import pandas as pd # data processing, CSV file I/O (e.g. pd.read_csv)\n",
    "import seaborn as sb\n",
    "import torch\n",
    "import os\n",
    "import matplotlib.pyplot as plt\n",
    "from transformers import BertTokenizer, TFBertModel,BertForSequenceClassification,DistilBertTokenizerFast,DistilBertModel, Trainer, TrainingArguments,DistilBertForSequenceClassification\n",
    "from sklearn.model_selection import train_test_split\n",
    "from sklearn.utils import shuffle\n",
    "from sklearn.metrics import accuracy_score, precision_recall_fscore_support, confusion_matrix, classification_report\n",
    "# Input data files are available in the read-only \"../input/\" directory\n",
    "# For example, running this (by clicking run or pressing Shift+Enter) will list all files under the input directory\n",
    "\n",
    "import os\n",
    "for dirname, _, filenames in os.walk('/kaggle/input'):\n",
    "    for filename in filenames:\n",
    "        print(os.path.join(dirname, filename))\n",
    "\n",
    "# You can write up to 20GB to the current directory (/kaggle/working/) that gets preserved as output when you create a version using \"Save & Run All\" \n",
    "# You can also write temporary files to /kaggle/temp/, but they won't be saved outside of the current session"
   ]
  },
  {
   "cell_type": "code",
   "execution_count": null,
   "id": "4f810b40",
   "metadata": {
    "cell_id": "edefa83417e04c4e80347654c2164440",
    "deepnote_cell_type": "code",
    "papermill": {
     "duration": 0.018215,
     "end_time": "2024-04-23T07:54:27.671506",
     "exception": false,
     "start_time": "2024-04-23T07:54:27.653291",
     "status": "completed"
    },
    "tags": []
   },
   "outputs": [],
   "source": []
  },
  {
   "cell_type": "code",
   "execution_count": 2,
   "id": "10ef9707",
   "metadata": {
    "cell_id": "04cc0742430e44e3a5466da9c01c8493",
    "deepnote_cell_type": "code",
    "execution": {
     "iopub.execute_input": "2024-04-23T07:54:27.710738Z",
     "iopub.status.busy": "2024-04-23T07:54:27.710081Z",
     "iopub.status.idle": "2024-04-23T07:54:31.927593Z",
     "shell.execute_reply": "2024-04-23T07:54:31.926587Z"
    },
    "papermill": {
     "duration": 4.240135,
     "end_time": "2024-04-23T07:54:31.930002",
     "exception": false,
     "start_time": "2024-04-23T07:54:27.689867",
     "status": "completed"
    },
    "tags": []
   },
   "outputs": [],
   "source": [
    "news = pd.read_csv('/kaggle/input/cleaned-news/cleaned_news.csv')"
   ]
  },
  {
   "cell_type": "code",
   "execution_count": 3,
   "id": "17dde628",
   "metadata": {
    "cell_id": "3aa7da1ac17d4f05b641290c3c7e24a9",
    "deepnote_cell_type": "code",
    "execution": {
     "iopub.execute_input": "2024-04-23T07:54:31.970213Z",
     "iopub.status.busy": "2024-04-23T07:54:31.969492Z",
     "iopub.status.idle": "2024-04-23T07:54:31.986892Z",
     "shell.execute_reply": "2024-04-23T07:54:31.986154Z"
    },
    "papermill": {
     "duration": 0.039866,
     "end_time": "2024-04-23T07:54:31.988944",
     "exception": false,
     "start_time": "2024-04-23T07:54:31.949078",
     "status": "completed"
    },
    "tags": []
   },
   "outputs": [],
   "source": [
    "#create new dataframe with title,text,label\n",
    "news_cleaned = news[['title','text','label']]"
   ]
  },
  {
   "cell_type": "markdown",
   "id": "595ccbd8",
   "metadata": {
    "cell_id": "254946d1a3fa4447ac012f37415ebd6b",
    "deepnote_cell_type": "text-cell-p",
    "formattedRanges": [],
    "papermill": {
     "duration": 0.019933,
     "end_time": "2024-04-23T07:54:32.029000",
     "exception": false,
     "start_time": "2024-04-23T07:54:32.009067",
     "status": "completed"
    },
    "tags": []
   },
   "source": [
    "Combining the title and the text together in a column 'comb_text'"
   ]
  },
  {
   "cell_type": "code",
   "execution_count": 4,
   "id": "be635371",
   "metadata": {
    "cell_id": "8b683db284f645dcb9be2748d5f69f9a",
    "deepnote_cell_type": "code",
    "execution": {
     "iopub.execute_input": "2024-04-23T07:54:32.067340Z",
     "iopub.status.busy": "2024-04-23T07:54:32.067011Z",
     "iopub.status.idle": "2024-04-23T07:54:32.645086Z",
     "shell.execute_reply": "2024-04-23T07:54:32.644013Z"
    },
    "papermill": {
     "duration": 0.59971,
     "end_time": "2024-04-23T07:54:32.647340",
     "exception": false,
     "start_time": "2024-04-23T07:54:32.047630",
     "status": "completed"
    },
    "tags": []
   },
   "outputs": [
    {
     "name": "stderr",
     "output_type": "stream",
     "text": [
      "/tmp/ipykernel_24/2583779514.py:2: SettingWithCopyWarning: \n",
      "A value is trying to be set on a copy of a slice from a DataFrame.\n",
      "Try using .loc[row_indexer,col_indexer] = value instead\n",
      "\n",
      "See the caveats in the documentation: https://pandas.pydata.org/pandas-docs/stable/user_guide/indexing.html#returning-a-view-versus-a-copy\n",
      "  news_cleaned['comb_text'] = news_cleaned[['title', 'text']].agg(''.join, axis=1)\n"
     ]
    },
    {
     "data": {
      "text/html": [
       "<div>\n",
       "<style scoped>\n",
       "    .dataframe tbody tr th:only-of-type {\n",
       "        vertical-align: middle;\n",
       "    }\n",
       "\n",
       "    .dataframe tbody tr th {\n",
       "        vertical-align: top;\n",
       "    }\n",
       "\n",
       "    .dataframe thead th {\n",
       "        text-align: right;\n",
       "    }\n",
       "</style>\n",
       "<table border=\"1\" class=\"dataframe\">\n",
       "  <thead>\n",
       "    <tr style=\"text-align: right;\">\n",
       "      <th></th>\n",
       "      <th>title</th>\n",
       "      <th>text</th>\n",
       "      <th>label</th>\n",
       "      <th>comb_text</th>\n",
       "    </tr>\n",
       "  </thead>\n",
       "  <tbody>\n",
       "    <tr>\n",
       "      <th>0</th>\n",
       "      <td>Pennsylvania Church Demonstrates How To Deal ...</td>\n",
       "      <td>While many churches defend pastors who have ra...</td>\n",
       "      <td>0</td>\n",
       "      <td>Pennsylvania Church Demonstrates How To Deal ...</td>\n",
       "    </tr>\n",
       "    <tr>\n",
       "      <th>1</th>\n",
       "      <td>Trump to keep Obama rule curbing corporate tax...</td>\n",
       "      <td>(This October 4 story fixes comment by Organi...</td>\n",
       "      <td>1</td>\n",
       "      <td>Trump to keep Obama rule curbing corporate tax...</td>\n",
       "    </tr>\n",
       "    <tr>\n",
       "      <th>2</th>\n",
       "      <td>Trump says he's considering keeping parts of O...</td>\n",
       "      <td>(Reuters) - President-elect Donald Trump told ...</td>\n",
       "      <td>1</td>\n",
       "      <td>Trump says he's considering keeping parts of O...</td>\n",
       "    </tr>\n",
       "    <tr>\n",
       "      <th>3</th>\n",
       "      <td>CalPERS chief sees volatility until Trump impl...</td>\n",
       "      <td>SAN FRANCISCO (Reuters) - The California Publi...</td>\n",
       "      <td>1</td>\n",
       "      <td>CalPERS chief sees volatility until Trump impl...</td>\n",
       "    </tr>\n",
       "    <tr>\n",
       "      <th>4</th>\n",
       "      <td>House votes to protect 'dark money' political ...</td>\n",
       "      <td>WASHINGTON (Reuters) - The Republican-controll...</td>\n",
       "      <td>1</td>\n",
       "      <td>House votes to protect 'dark money' political ...</td>\n",
       "    </tr>\n",
       "    <tr>\n",
       "      <th>...</th>\n",
       "      <td>...</td>\n",
       "      <td>...</td>\n",
       "      <td>...</td>\n",
       "      <td>...</td>\n",
       "    </tr>\n",
       "    <tr>\n",
       "      <th>44893</th>\n",
       "      <td>Trump says he hopes North Korea understands gr...</td>\n",
       "      <td>BEDMINSTER, N.J. (Reuters) - President Donald ...</td>\n",
       "      <td>1</td>\n",
       "      <td>Trump says he hopes North Korea understands gr...</td>\n",
       "    </tr>\n",
       "    <tr>\n",
       "      <th>44894</th>\n",
       "      <td>UK MPs cast doubt on plan to avoid Ireland bor...</td>\n",
       "      <td>LONDON (Reuters) - Britain s intention to avoi...</td>\n",
       "      <td>1</td>\n",
       "      <td>UK MPs cast doubt on plan to avoid Ireland bor...</td>\n",
       "    </tr>\n",
       "    <tr>\n",
       "      <th>44895</th>\n",
       "      <td>A Former President Of Mexico Is THANKING Dona...</td>\n",
       "      <td>Vicente Fox, the former president of Mexico wh...</td>\n",
       "      <td>0</td>\n",
       "      <td>A Former President Of Mexico Is THANKING Dona...</td>\n",
       "    </tr>\n",
       "    <tr>\n",
       "      <th>44896</th>\n",
       "      <td>Even Trump Voters Think Obama’s Economy Is Do...</td>\n",
       "      <td>Democrats and a lot of Republicans are scratch...</td>\n",
       "      <td>0</td>\n",
       "      <td>Even Trump Voters Think Obama’s Economy Is Do...</td>\n",
       "    </tr>\n",
       "    <tr>\n",
       "      <th>44897</th>\n",
       "      <td>Mexico will 'immediately' respond to any U.S. ...</td>\n",
       "      <td>MEXICO CITY (Reuters) - Mexico must be ready t...</td>\n",
       "      <td>1</td>\n",
       "      <td>Mexico will 'immediately' respond to any U.S. ...</td>\n",
       "    </tr>\n",
       "  </tbody>\n",
       "</table>\n",
       "<p>44898 rows × 4 columns</p>\n",
       "</div>"
      ],
      "text/plain": [
       "                                                   title  \\\n",
       "0       Pennsylvania Church Demonstrates How To Deal ...   \n",
       "1      Trump to keep Obama rule curbing corporate tax...   \n",
       "2      Trump says he's considering keeping parts of O...   \n",
       "3      CalPERS chief sees volatility until Trump impl...   \n",
       "4      House votes to protect 'dark money' political ...   \n",
       "...                                                  ...   \n",
       "44893  Trump says he hopes North Korea understands gr...   \n",
       "44894  UK MPs cast doubt on plan to avoid Ireland bor...   \n",
       "44895   A Former President Of Mexico Is THANKING Dona...   \n",
       "44896   Even Trump Voters Think Obama’s Economy Is Do...   \n",
       "44897  Mexico will 'immediately' respond to any U.S. ...   \n",
       "\n",
       "                                                    text  label  \\\n",
       "0      While many churches defend pastors who have ra...      0   \n",
       "1       (This October 4 story fixes comment by Organi...      1   \n",
       "2      (Reuters) - President-elect Donald Trump told ...      1   \n",
       "3      SAN FRANCISCO (Reuters) - The California Publi...      1   \n",
       "4      WASHINGTON (Reuters) - The Republican-controll...      1   \n",
       "...                                                  ...    ...   \n",
       "44893  BEDMINSTER, N.J. (Reuters) - President Donald ...      1   \n",
       "44894  LONDON (Reuters) - Britain s intention to avoi...      1   \n",
       "44895  Vicente Fox, the former president of Mexico wh...      0   \n",
       "44896  Democrats and a lot of Republicans are scratch...      0   \n",
       "44897  MEXICO CITY (Reuters) - Mexico must be ready t...      1   \n",
       "\n",
       "                                               comb_text  \n",
       "0       Pennsylvania Church Demonstrates How To Deal ...  \n",
       "1      Trump to keep Obama rule curbing corporate tax...  \n",
       "2      Trump says he's considering keeping parts of O...  \n",
       "3      CalPERS chief sees volatility until Trump impl...  \n",
       "4      House votes to protect 'dark money' political ...  \n",
       "...                                                  ...  \n",
       "44893  Trump says he hopes North Korea understands gr...  \n",
       "44894  UK MPs cast doubt on plan to avoid Ireland bor...  \n",
       "44895   A Former President Of Mexico Is THANKING Dona...  \n",
       "44896   Even Trump Voters Think Obama’s Economy Is Do...  \n",
       "44897  Mexico will 'immediately' respond to any U.S. ...  \n",
       "\n",
       "[44898 rows x 4 columns]"
      ]
     },
     "metadata": {},
     "output_type": "display_data"
    }
   ],
   "source": [
    "\n",
    "\n",
    "# Purify by merging the title and text\n",
    "news_cleaned['comb_text'] = news_cleaned[['title', 'text']].agg(''.join, axis=1)\n",
    "display(news_cleaned)\n"
   ]
  },
  {
   "cell_type": "code",
   "execution_count": 5,
   "id": "433c0241",
   "metadata": {
    "cell_id": "db2e583f45af45c4ab8a13d072d14812",
    "deepnote_cell_type": "code",
    "execution": {
     "iopub.execute_input": "2024-04-23T07:54:32.688063Z",
     "iopub.status.busy": "2024-04-23T07:54:32.687762Z",
     "iopub.status.idle": "2024-04-23T07:54:32.696907Z",
     "shell.execute_reply": "2024-04-23T07:54:32.696046Z"
    },
    "papermill": {
     "duration": 0.031621,
     "end_time": "2024-04-23T07:54:32.698851",
     "exception": false,
     "start_time": "2024-04-23T07:54:32.667230",
     "status": "completed"
    },
    "tags": []
   },
   "outputs": [],
   "source": [
    "news_cleaned = news_cleaned[['comb_text','label']]"
   ]
  },
  {
   "cell_type": "code",
   "execution_count": 6,
   "id": "f8cd79f8",
   "metadata": {
    "cell_id": "0e73b1f3558b47328deb968db503ca83",
    "deepnote_cell_type": "code",
    "execution": {
     "iopub.execute_input": "2024-04-23T07:54:32.737998Z",
     "iopub.status.busy": "2024-04-23T07:54:32.737741Z",
     "iopub.status.idle": "2024-04-23T07:54:32.744577Z",
     "shell.execute_reply": "2024-04-23T07:54:32.743604Z"
    },
    "papermill": {
     "duration": 0.028797,
     "end_time": "2024-04-23T07:54:32.746570",
     "exception": false,
     "start_time": "2024-04-23T07:54:32.717773",
     "status": "completed"
    },
    "tags": []
   },
   "outputs": [],
   "source": [
    "df_texts, df_labels = news_cleaned[\"comb_text\"].to_list(),news_cleaned[\"label\"].to_list()"
   ]
  },
  {
   "cell_type": "code",
   "execution_count": 7,
   "id": "02a83d14",
   "metadata": {
    "cell_id": "39cec61d69994469926451a978aaffba",
    "deepnote_cell_type": "code",
    "execution": {
     "iopub.execute_input": "2024-04-23T07:54:32.787244Z",
     "iopub.status.busy": "2024-04-23T07:54:32.786696Z",
     "iopub.status.idle": "2024-04-23T07:54:32.814141Z",
     "shell.execute_reply": "2024-04-23T07:54:32.813472Z"
    },
    "papermill": {
     "duration": 0.050311,
     "end_time": "2024-04-23T07:54:32.816242",
     "exception": false,
     "start_time": "2024-04-23T07:54:32.765931",
     "status": "completed"
    },
    "tags": []
   },
   "outputs": [],
   "source": [
    "train_texts, test_texts, train_labels, test_labels = train_test_split(df_texts, df_labels, test_size=.3,random_state=2024)"
   ]
  },
  {
   "cell_type": "code",
   "execution_count": 8,
   "id": "17b0cdbf",
   "metadata": {
    "cell_id": "c1873b52abeb49f199389d20c342be7d",
    "deepnote_cell_type": "code",
    "execution": {
     "iopub.execute_input": "2024-04-23T07:54:32.856563Z",
     "iopub.status.busy": "2024-04-23T07:54:32.856293Z",
     "iopub.status.idle": "2024-04-23T07:54:35.398398Z",
     "shell.execute_reply": "2024-04-23T07:54:35.397603Z"
    },
    "papermill": {
     "duration": 2.564518,
     "end_time": "2024-04-23T07:54:35.400610",
     "exception": false,
     "start_time": "2024-04-23T07:54:32.836092",
     "status": "completed"
    },
    "tags": []
   },
   "outputs": [
    {
     "data": {
      "application/vnd.jupyter.widget-view+json": {
       "model_id": "21847414946644419eae400c612e6bf3",
       "version_major": 2,
       "version_minor": 0
      },
      "text/plain": [
       "config.json:   0%|          | 0.00/483 [00:00<?, ?B/s]"
      ]
     },
     "metadata": {},
     "output_type": "display_data"
    },
    {
     "data": {
      "application/vnd.jupyter.widget-view+json": {
       "model_id": "23a68b186b9f414ebed25abbc01bed15",
       "version_major": 2,
       "version_minor": 0
      },
      "text/plain": [
       "model.safetensors:   0%|          | 0.00/268M [00:00<?, ?B/s]"
      ]
     },
     "metadata": {},
     "output_type": "display_data"
    },
    {
     "data": {
      "application/vnd.jupyter.widget-view+json": {
       "model_id": "4be2edeb460b4409b5785cb6833e51a3",
       "version_major": 2,
       "version_minor": 0
      },
      "text/plain": [
       "tokenizer_config.json:   0%|          | 0.00/28.0 [00:00<?, ?B/s]"
      ]
     },
     "metadata": {},
     "output_type": "display_data"
    },
    {
     "data": {
      "application/vnd.jupyter.widget-view+json": {
       "model_id": "926857dfb0a840e68d18b80c9827ea7f",
       "version_major": 2,
       "version_minor": 0
      },
      "text/plain": [
       "vocab.txt:   0%|          | 0.00/232k [00:00<?, ?B/s]"
      ]
     },
     "metadata": {},
     "output_type": "display_data"
    },
    {
     "data": {
      "application/vnd.jupyter.widget-view+json": {
       "model_id": "e5c2c9a3a55f41ab98f1e2f6284102a2",
       "version_major": 2,
       "version_minor": 0
      },
      "text/plain": [
       "tokenizer.json:   0%|          | 0.00/466k [00:00<?, ?B/s]"
      ]
     },
     "metadata": {},
     "output_type": "display_data"
    }
   ],
   "source": [
    "model_name = DistilBertModel.from_pretrained(\"distilbert-base-uncased\")\n",
    "tokenizer = DistilBertTokenizerFast.from_pretrained(\"distilbert-base-uncased\")"
   ]
  },
  {
   "cell_type": "code",
   "execution_count": 9,
   "id": "9864a055",
   "metadata": {
    "cell_id": "83f033287ed14cf0b020fce71ac6acc6",
    "deepnote_cell_type": "code",
    "execution": {
     "iopub.execute_input": "2024-04-23T07:54:35.442661Z",
     "iopub.status.busy": "2024-04-23T07:54:35.442362Z",
     "iopub.status.idle": "2024-04-23T07:55:10.767776Z",
     "shell.execute_reply": "2024-04-23T07:55:10.766477Z"
    },
    "papermill": {
     "duration": 35.349457,
     "end_time": "2024-04-23T07:55:10.770681",
     "exception": false,
     "start_time": "2024-04-23T07:54:35.421224",
     "status": "completed"
    },
    "tags": []
   },
   "outputs": [],
   "source": [
    "#tokenise the title + text, which will be passed into embedding layer to get input_ids, token_type_ids, and attention_mask.\n",
    "#Pad to the longest sequence in the batch \n",
    "#Truncate to a maximum length specified with the argument max_length or to the maximum acceptable input length for the model. This will truncate token by token, removing a token from the longest sequence in the pair if a pair of sequences (or a batch of pairs) is provided.\n",
    "train_encodings = tokenizer(train_texts, truncation=True, padding=True)\n",
    "test_encodings = tokenizer(test_texts, truncation=True, padding=True)"
   ]
  },
  {
   "cell_type": "code",
   "execution_count": 10,
   "id": "cecd3da1",
   "metadata": {
    "cell_id": "e776751df1664dc9ae945ebfa2fbb54c",
    "deepnote_cell_type": "code",
    "execution": {
     "iopub.execute_input": "2024-04-23T07:55:10.819239Z",
     "iopub.status.busy": "2024-04-23T07:55:10.818432Z",
     "iopub.status.idle": "2024-04-23T07:55:10.827089Z",
     "shell.execute_reply": "2024-04-23T07:55:10.826131Z"
    },
    "papermill": {
     "duration": 0.03473,
     "end_time": "2024-04-23T07:55:10.829836",
     "exception": false,
     "start_time": "2024-04-23T07:55:10.795106",
     "status": "completed"
    },
    "tags": []
   },
   "outputs": [],
   "source": [
    "#class to return encodings and labels for training\n",
    "class NewsDataset(torch.utils.data.Dataset):\n",
    "    def __init__(self, encodings, labels):\n",
    "        self.encodings = encodings\n",
    "        self.labels = labels\n",
    "\n",
    "    def __getitem__(self, idx):\n",
    "        item = {key: torch.tensor(val[idx]) for key, val in self.encodings.items()}\n",
    "        item['labels'] = torch.tensor(self.labels[idx])\n",
    "        return item\n",
    "\n",
    "    def __len__(self):\n",
    "        return len(self.labels)\n",
    "\n",
    "train_dataset = NewsDataset(train_encodings, train_labels)\n",
    "test_dataset = NewsDataset(test_encodings, test_labels)"
   ]
  },
  {
   "cell_type": "code",
   "execution_count": 11,
   "id": "da13f0ca",
   "metadata": {
    "execution": {
     "iopub.execute_input": "2024-04-23T07:55:10.881442Z",
     "iopub.status.busy": "2024-04-23T07:55:10.880459Z",
     "iopub.status.idle": "2024-04-23T07:55:10.888312Z",
     "shell.execute_reply": "2024-04-23T07:55:10.887228Z"
    },
    "papermill": {
     "duration": 0.034297,
     "end_time": "2024-04-23T07:55:10.890519",
     "exception": false,
     "start_time": "2024-04-23T07:55:10.856222",
     "status": "completed"
    },
    "tags": []
   },
   "outputs": [],
   "source": [
    "def training_compute_metrics(pred):\n",
    "    labels = pred.label_ids\n",
    "    preds = pred.predictions.argmax(-1)\n",
    " \n",
    "    \n",
    "    precision, recall, f1, _ = precision_recall_fscore_support(labels, preds, average='binary')\n",
    "    acc = accuracy_score(labels, preds)\n",
    "    \n",
    "    return {\n",
    "        'accuracy': acc,\n",
    "        'f1': f1,\n",
    "        'precision': precision,\n",
    "        'recall': recall\n",
    "    }"
   ]
  },
  {
   "cell_type": "code",
   "execution_count": 12,
   "id": "93d236b9",
   "metadata": {
    "cell_id": "469526369ac74857948b0f59c50b3fc7",
    "deepnote_cell_type": "code",
    "execution": {
     "iopub.execute_input": "2024-04-23T07:55:10.939632Z",
     "iopub.status.busy": "2024-04-23T07:55:10.939205Z",
     "iopub.status.idle": "2024-04-23T07:55:10.952662Z",
     "shell.execute_reply": "2024-04-23T07:55:10.951731Z"
    },
    "papermill": {
     "duration": 0.038773,
     "end_time": "2024-04-23T07:55:10.954874",
     "exception": false,
     "start_time": "2024-04-23T07:55:10.916101",
     "status": "completed"
    },
    "tags": []
   },
   "outputs": [],
   "source": [
    "#function to evaluate test data\n",
    "def compute_metrics(pred):\n",
    "    labels = pred.label_ids\n",
    "    preds = pred.predictions.argmax(-1)\n",
    " \n",
    "    \n",
    "    precision, recall, f1, _ = precision_recall_fscore_support(labels, preds, average='binary')\n",
    "    acc = accuracy_score(labels, preds)\n",
    "    # Print the Accuracy Measures from the Confusion Matrix\n",
    "    cmTest = confusion_matrix(labels.tolist(), preds.tolist())\n",
    "    tpTest = cmTest[1][1] # True Positives : Good (1) predicted Good (1)\n",
    "    fpTest = cmTest[0][1] # False Positives : Bad (0) predicted Good (1)\n",
    "    tnTest = cmTest[0][0] # True Negatives : Bad (0) predicted Bad (0)\n",
    "    fnTest = cmTest[1][0] # False Negatives : Good (1) predicted Bad (0)\n",
    "\n",
    "    print(\"TPR Test :\\t\", (tpTest/(tpTest + fnTest)))\n",
    "    print(\"TNR Test :\\t\", (tnTest/(tnTest + fpTest)))\n",
    "    print()\n",
    "\n",
    "    print(\"FPR Test :\\t\", (fpTest/(tnTest + fpTest)))\n",
    "    print(\"FNR Test :\\t\", (fnTest/(tpTest + fnTest)))\n",
    "\n",
    "    # Plot the two-way Confusion Matrix\n",
    "    sb.heatmap(cmTest, \n",
    "               annot = True, fmt=\".0f\", annot_kws={\"size\": 18})\n",
    "    plt.figure()\n",
    "    cr = classification_report(labels, preds,output_dict=True)\n",
    "    #use seaborn to present the classification report\n",
    "    sb.heatmap(pd.DataFrame(cr).iloc[:-1, :].T, annot=True)\n",
    "    return {\n",
    "        'accuracy': acc,\n",
    "        'f1': f1,\n",
    "        'precision': precision,\n",
    "        'recall': recall\n",
    "    }"
   ]
  },
  {
   "cell_type": "code",
   "execution_count": 13,
   "id": "e8660332",
   "metadata": {
    "cell_id": "4b7275236c714920bd41c454a6412575",
    "deepnote_cell_type": "code",
    "deepnote_to_be_reexecuted": false,
    "execution": {
     "iopub.execute_input": "2024-04-23T07:55:11.001296Z",
     "iopub.status.busy": "2024-04-23T07:55:11.000303Z",
     "iopub.status.idle": "2024-04-23T07:55:11.009563Z",
     "shell.execute_reply": "2024-04-23T07:55:11.008489Z"
    },
    "execution_millis": 336,
    "execution_start": 1713457067849,
    "papermill": {
     "duration": 0.035067,
     "end_time": "2024-04-23T07:55:11.012348",
     "exception": false,
     "start_time": "2024-04-23T07:55:10.977281",
     "status": "completed"
    },
    "source_hash": "684633b5",
    "tags": []
   },
   "outputs": [],
   "source": [
    "#function to evaluate test data\n",
    "def compute_train_metrics(pred):\n",
    "    labels = pred.label_ids\n",
    "    preds = pred.predictions.argmax(-1)\n",
    "    precision, recall, f1, _ = precision_recall_fscore_support(labels, preds, average='binary')\n",
    "    acc = accuracy_score(labels, preds)\n",
    "    # Print the Accuracy Measures from the Confusion Matrix\n",
    "    cmTrain = confusion_matrix(labels, preds)\n",
    "    tpTrain = cmTrain[1][1] # True Positives : Good (1) predicted Good (1)\n",
    "    fpTrain = cmTrain[0][1] # False Positives : Bad (0) predicted Good (1)\n",
    "    tnTrain = cmTrain[0][0] # True Negatives : Bad (0) predicted Bad (0)\n",
    "    fnTrain = cmTrain[1][0] # False Negatives : Good (1) predicted Bad (0)\n",
    "\n",
    "    print(\"TPR Train :\\t\", (tpTrain/(tpTrain + fnTrain)))\n",
    "    print(\"TNR Train :\\t\", (tnTrain/(tnTrain + fpTrain)))\n",
    "    print()\n",
    "\n",
    "    print(\"FPR Train :\\t\", (fpTrain/(tnTrain + fpTrain)))\n",
    "    print(\"FNR Train :\\t\", (fnTrain/(tpTrain + fnTrain)))\n",
    "\n",
    "    # Plot the two-way Confusion Matrix\n",
    "    sb.heatmap(cmTrain, \n",
    "               annot = True, fmt=\".0f\", annot_kws={\"size\": 18})\n",
    "    \n",
    "    \n",
    "    return {\n",
    "        'accuracy': acc,\n",
    "        'f1': f1,\n",
    "        'precision': precision,\n",
    "        'recall': recall\n",
    "    }"
   ]
  },
  {
   "cell_type": "code",
   "execution_count": 14,
   "id": "5105c25a",
   "metadata": {
    "cell_id": "d9ccd6eaac4b4911829ed153104c3d18",
    "deepnote_cell_type": "code",
    "execution": {
     "iopub.execute_input": "2024-04-23T07:55:11.066567Z",
     "iopub.status.busy": "2024-04-23T07:55:11.065508Z",
     "iopub.status.idle": "2024-04-23T07:55:11.710500Z",
     "shell.execute_reply": "2024-04-23T07:55:11.709670Z"
    },
    "papermill": {
     "duration": 0.672557,
     "end_time": "2024-04-23T07:55:11.712530",
     "exception": false,
     "start_time": "2024-04-23T07:55:11.039973",
     "status": "completed"
    },
    "tags": []
   },
   "outputs": [
    {
     "name": "stderr",
     "output_type": "stream",
     "text": [
      "Using the `WANDB_DISABLED` environment variable is deprecated and will be removed in v5. Use the --report_to flag to control the integrations used for logging result (for instance --report_to none).\n",
      "Some weights of DistilBertForSequenceClassification were not initialized from the model checkpoint at distilbert-base-uncased and are newly initialized: ['classifier.bias', 'classifier.weight', 'pre_classifier.bias', 'pre_classifier.weight']\n",
      "You should probably TRAIN this model on a down-stream task to be able to use it for predictions and inference.\n",
      "/opt/conda/lib/python3.10/site-packages/accelerate/accelerator.py:436: FutureWarning: Passing the following arguments to `Accelerator` is deprecated and will be removed in version 1.0 of Accelerate: dict_keys(['dispatch_batches', 'split_batches', 'even_batches', 'use_seedable_sampler']). Please pass an `accelerate.DataLoaderConfiguration` instead: \n",
      "dataloader_config = DataLoaderConfiguration(dispatch_batches=None, split_batches=False, even_batches=True, use_seedable_sampler=True)\n",
      "  warnings.warn(\n"
     ]
    },
    {
     "name": "stdout",
     "output_type": "stream",
     "text": [
      "num params: 66955010\n",
      "num trainable params: 66955010\n",
      "DistilBertForSequenceClassification(\n",
      "  (distilbert): DistilBertModel(\n",
      "    (embeddings): Embeddings(\n",
      "      (word_embeddings): Embedding(30522, 768, padding_idx=0)\n",
      "      (position_embeddings): Embedding(512, 768)\n",
      "      (LayerNorm): LayerNorm((768,), eps=1e-12, elementwise_affine=True)\n",
      "      (dropout): Dropout(p=0.1, inplace=False)\n",
      "    )\n",
      "    (transformer): Transformer(\n",
      "      (layer): ModuleList(\n",
      "        (0-5): 6 x TransformerBlock(\n",
      "          (attention): MultiHeadSelfAttention(\n",
      "            (dropout): Dropout(p=0.1, inplace=False)\n",
      "            (q_lin): Linear(in_features=768, out_features=768, bias=True)\n",
      "            (k_lin): Linear(in_features=768, out_features=768, bias=True)\n",
      "            (v_lin): Linear(in_features=768, out_features=768, bias=True)\n",
      "            (out_lin): Linear(in_features=768, out_features=768, bias=True)\n",
      "          )\n",
      "          (sa_layer_norm): LayerNorm((768,), eps=1e-12, elementwise_affine=True)\n",
      "          (ffn): FFN(\n",
      "            (dropout): Dropout(p=0.1, inplace=False)\n",
      "            (lin1): Linear(in_features=768, out_features=3072, bias=True)\n",
      "            (lin2): Linear(in_features=3072, out_features=768, bias=True)\n",
      "            (activation): GELUActivation()\n",
      "          )\n",
      "          (output_layer_norm): LayerNorm((768,), eps=1e-12, elementwise_affine=True)\n",
      "        )\n",
      "      )\n",
      "    )\n",
      "  )\n",
      "  (pre_classifier): Linear(in_features=768, out_features=768, bias=True)\n",
      "  (classifier): Linear(in_features=768, out_features=2, bias=True)\n",
      "  (dropout): Dropout(p=0.2, inplace=False)\n",
      ")\n"
     ]
    }
   ],
   "source": [
    "\n",
    "os.environ[\"WANDB_DISABLED\"] = \"true\"\n",
    "\n",
    "training_args = TrainingArguments(\n",
    "    output_dir='./results',          # output directory\n",
    "    num_train_epochs=3,              # total number of training epochs\n",
    "    per_device_train_batch_size=16,  # batch size per device during training\n",
    "    per_device_eval_batch_size=64,   # batch size for evaluation\n",
    "    warmup_steps=500,                # number of warmup steps for learning rate scheduler\n",
    "    weight_decay=0.01,               # strength of weight decay\n",
    "    logging_dir='./logs',            # directory for storing logs\n",
    "    logging_steps=10,\n",
    "    load_best_model_at_end=True,\n",
    "    evaluation_strategy =\"epoch\",\n",
    "    save_strategy = 'epoch'\n",
    ")\n",
    "model = DistilBertForSequenceClassification.from_pretrained(\"distilbert-base-uncased\")\n",
    "'''\n",
    "for name, param in list(model.named_parameters())[:-3]:  \n",
    "    print(name)\n",
    "    param.requires_grad = False\n",
    "'''\n",
    "print(f\"num params:\", model.num_parameters())\n",
    "print(f\"num trainable params:\", model.num_parameters(only_trainable=True))\n",
    "print(model)\n",
    "\n",
    "trainer = Trainer(\n",
    "    model=model,                         # the instantiated 🤗 Transformers model to be trained\n",
    "    args=training_args,                  # training arguments, defined above\n",
    "    compute_metrics=training_compute_metrics,\n",
    "    train_dataset=train_dataset,         # training dataset\n",
    "    eval_dataset=train_dataset,             # evaluation dataset\n",
    ")\n",
    "\n"
   ]
  },
  {
   "cell_type": "code",
   "execution_count": 15,
   "id": "e21871a1",
   "metadata": {
    "cell_id": "0d724ebcc79f4e6ca0948dcd592e6d47",
    "deepnote_cell_type": "code",
    "execution": {
     "iopub.execute_input": "2024-04-23T07:55:11.754919Z",
     "iopub.status.busy": "2024-04-23T07:55:11.754611Z",
     "iopub.status.idle": "2024-04-23T08:52:12.861449Z",
     "shell.execute_reply": "2024-04-23T08:52:12.860594Z"
    },
    "papermill": {
     "duration": 3421.129969,
     "end_time": "2024-04-23T08:52:12.863350",
     "exception": false,
     "start_time": "2024-04-23T07:55:11.733381",
     "status": "completed"
    },
    "tags": []
   },
   "outputs": [
    {
     "data": {
      "text/html": [
       "\n",
       "    <div>\n",
       "      \n",
       "      <progress value='5895' max='5895' style='width:300px; height:20px; vertical-align: middle;'></progress>\n",
       "      [5895/5895 56:59, Epoch 3/3]\n",
       "    </div>\n",
       "    <table border=\"1\" class=\"dataframe\">\n",
       "  <thead>\n",
       " <tr style=\"text-align: left;\">\n",
       "      <th>Epoch</th>\n",
       "      <th>Training Loss</th>\n",
       "      <th>Validation Loss</th>\n",
       "      <th>Accuracy</th>\n",
       "      <th>F1</th>\n",
       "      <th>Precision</th>\n",
       "      <th>Recall</th>\n",
       "    </tr>\n",
       "  </thead>\n",
       "  <tbody>\n",
       "    <tr>\n",
       "      <td>1</td>\n",
       "      <td>0.000000</td>\n",
       "      <td>0.001214</td>\n",
       "      <td>0.999809</td>\n",
       "      <td>0.999800</td>\n",
       "      <td>0.999667</td>\n",
       "      <td>0.999933</td>\n",
       "    </tr>\n",
       "    <tr>\n",
       "      <td>2</td>\n",
       "      <td>0.000000</td>\n",
       "      <td>0.000005</td>\n",
       "      <td>1.000000</td>\n",
       "      <td>1.000000</td>\n",
       "      <td>1.000000</td>\n",
       "      <td>1.000000</td>\n",
       "    </tr>\n",
       "    <tr>\n",
       "      <td>3</td>\n",
       "      <td>0.000000</td>\n",
       "      <td>0.000003</td>\n",
       "      <td>1.000000</td>\n",
       "      <td>1.000000</td>\n",
       "      <td>1.000000</td>\n",
       "      <td>1.000000</td>\n",
       "    </tr>\n",
       "  </tbody>\n",
       "</table><p>"
      ],
      "text/plain": [
       "<IPython.core.display.HTML object>"
      ]
     },
     "metadata": {},
     "output_type": "display_data"
    },
    {
     "data": {
      "text/plain": [
       "TrainOutput(global_step=5895, training_loss=0.011880964651500972, metrics={'train_runtime': 3420.4621, 'train_samples_per_second': 27.565, 'train_steps_per_second': 1.723, 'total_flos': 1.2489556214882304e+16, 'train_loss': 0.011880964651500972, 'epoch': 3.0})"
      ]
     },
     "execution_count": 15,
     "metadata": {},
     "output_type": "execute_result"
    }
   ],
   "source": [
    "trainer.train()"
   ]
  },
  {
   "cell_type": "code",
   "execution_count": 16,
   "id": "7770c682",
   "metadata": {
    "cell_id": "051ea0f579a84ac1aed44b5453b3409f",
    "deepnote_cell_type": "code",
    "execution": {
     "iopub.execute_input": "2024-04-23T08:52:12.906635Z",
     "iopub.status.busy": "2024-04-23T08:52:12.906280Z",
     "iopub.status.idle": "2024-04-23T08:52:13.056521Z",
     "shell.execute_reply": "2024-04-23T08:52:13.055219Z"
    },
    "papermill": {
     "duration": 0.174301,
     "end_time": "2024-04-23T08:52:13.058789",
     "exception": false,
     "start_time": "2024-04-23T08:52:12.884488",
     "status": "completed"
    },
    "tags": []
   },
   "outputs": [
    {
     "name": "stdout",
     "output_type": "stream",
     "text": [
      "./results/checkpoint-5895\n"
     ]
    }
   ],
   "source": [
    "#load trained model\n",
    "#obtain saved model from training to evaluate trainset\n",
    "best_ckpt_path = trainer.state.best_model_checkpoint\n",
    "print(best_ckpt_path)\n",
    "self_train_model = DistilBertForSequenceClassification.from_pretrained(best_ckpt_path)"
   ]
  },
  {
   "cell_type": "code",
   "execution_count": null,
   "id": "a3514209",
   "metadata": {
    "papermill": {
     "duration": 0.02071,
     "end_time": "2024-04-23T08:52:13.100658",
     "exception": false,
     "start_time": "2024-04-23T08:52:13.079948",
     "status": "completed"
    },
    "tags": []
   },
   "outputs": [],
   "source": []
  },
  {
   "cell_type": "code",
   "execution_count": 17,
   "id": "b27d9ac2",
   "metadata": {
    "cell_id": "5d5461c8826344adbdc98a3a90bf422a",
    "deepnote_cell_type": "code",
    "execution": {
     "iopub.execute_input": "2024-04-23T08:52:13.143489Z",
     "iopub.status.busy": "2024-04-23T08:52:13.143175Z",
     "iopub.status.idle": "2024-04-23T08:52:13.220130Z",
     "shell.execute_reply": "2024-04-23T08:52:13.219224Z"
    },
    "papermill": {
     "duration": 0.100433,
     "end_time": "2024-04-23T08:52:13.222090",
     "exception": false,
     "start_time": "2024-04-23T08:52:13.121657",
     "status": "completed"
    },
    "tags": []
   },
   "outputs": [
    {
     "name": "stderr",
     "output_type": "stream",
     "text": [
      "/opt/conda/lib/python3.10/site-packages/accelerate/accelerator.py:436: FutureWarning: Passing the following arguments to `Accelerator` is deprecated and will be removed in version 1.0 of Accelerate: dict_keys(['dispatch_batches', 'split_batches', 'even_batches', 'use_seedable_sampler']). Please pass an `accelerate.DataLoaderConfiguration` instead: \n",
      "dataloader_config = DataLoaderConfiguration(dispatch_batches=None, split_batches=False, even_batches=True, use_seedable_sampler=True)\n",
      "  warnings.warn(\n"
     ]
    }
   ],
   "source": [
    "training_trainer = Trainer(\n",
    "    model=self_train_model,                         # the instantiated 🤗 Transformers model to be trained\n",
    "    args=training_args,                  # training arguments, defined above\n",
    "    compute_metrics=compute_train_metrics,\n",
    "    train_dataset=train_dataset,         # training dataset\n",
    "    eval_dataset=train_dataset,             # train dataset\n",
    ")\n"
   ]
  },
  {
   "cell_type": "code",
   "execution_count": 18,
   "id": "3d003a43",
   "metadata": {
    "cell_id": "3cd9dc657e5a4e979f667bd5763df777",
    "deepnote_cell_type": "code",
    "execution": {
     "iopub.execute_input": "2024-04-23T08:52:13.264840Z",
     "iopub.status.busy": "2024-04-23T08:52:13.264528Z",
     "iopub.status.idle": "2024-04-23T08:57:00.713542Z",
     "shell.execute_reply": "2024-04-23T08:57:00.712547Z"
    },
    "papermill": {
     "duration": 287.472909,
     "end_time": "2024-04-23T08:57:00.715761",
     "exception": false,
     "start_time": "2024-04-23T08:52:13.242852",
     "status": "completed"
    },
    "tags": []
   },
   "outputs": [
    {
     "data": {
      "text/html": [
       "\n",
       "    <div>\n",
       "      \n",
       "      <progress value='492' max='492' style='width:300px; height:20px; vertical-align: middle;'></progress>\n",
       "      [492/492 04:46]\n",
       "    </div>\n",
       "    "
      ],
      "text/plain": [
       "<IPython.core.display.HTML object>"
      ]
     },
     "metadata": {},
     "output_type": "display_data"
    },
    {
     "name": "stdout",
     "output_type": "stream",
     "text": [
      "TPR Train :\t 1.0\n",
      "TNR Train :\t 1.0\n",
      "\n",
      "FPR Train :\t 0.0\n",
      "FNR Train :\t 0.0\n"
     ]
    },
    {
     "data": {
      "text/plain": [
       "{'eval_loss': 2.7436171876615845e-06,\n",
       " 'eval_accuracy': 1.0,\n",
       " 'eval_f1': 1.0,\n",
       " 'eval_precision': 1.0,\n",
       " 'eval_recall': 1.0,\n",
       " 'eval_runtime': 287.2907,\n",
       " 'eval_samples_per_second': 109.394,\n",
       " 'eval_steps_per_second': 1.713}"
      ]
     },
     "execution_count": 18,
     "metadata": {},
     "output_type": "execute_result"
    },
    {
     "data": {
      "image/png": "[encoded data removed]",
      "text/plain": [
       "<Figure size 640x480 with 2 Axes>"
      ]
     },
     "metadata": {},
     "output_type": "display_data"
    }
   ],
   "source": [
    "#evaluate on train data\n",
    "training_trainer.evaluate()"
   ]
  },
  {
   "cell_type": "code",
   "execution_count": 19,
   "id": "89b48706",
   "metadata": {
    "execution": {
     "iopub.execute_input": "2024-04-23T08:57:00.762085Z",
     "iopub.status.busy": "2024-04-23T08:57:00.761749Z",
     "iopub.status.idle": "2024-04-23T08:57:00.772669Z",
     "shell.execute_reply": "2024-04-23T08:57:00.771645Z"
    },
    "papermill": {
     "duration": 0.036265,
     "end_time": "2024-04-23T08:57:00.774788",
     "exception": false,
     "start_time": "2024-04-23T08:57:00.738523",
     "status": "completed"
    },
    "tags": []
   },
   "outputs": [
    {
     "name": "stderr",
     "output_type": "stream",
     "text": [
      "/opt/conda/lib/python3.10/site-packages/accelerate/accelerator.py:436: FutureWarning: Passing the following arguments to `Accelerator` is deprecated and will be removed in version 1.0 of Accelerate: dict_keys(['dispatch_batches', 'split_batches', 'even_batches', 'use_seedable_sampler']). Please pass an `accelerate.DataLoaderConfiguration` instead: \n",
      "dataloader_config = DataLoaderConfiguration(dispatch_batches=None, split_batches=False, even_batches=True, use_seedable_sampler=True)\n",
      "  warnings.warn(\n"
     ]
    }
   ],
   "source": [
    "trainer = Trainer(\n",
    "    model=self_train_model,                         # the instantiated 🤗 Transformers model to be trained\n",
    "    args=training_args,                  # training arguments, defined above\n",
    "    compute_metrics=compute_metrics,\n",
    "    train_dataset=train_dataset,         # training dataset\n",
    "    eval_dataset=test_dataset,             # train dataset\n",
    ")\n"
   ]
  },
  {
   "cell_type": "code",
   "execution_count": 20,
   "id": "f6d6730f",
   "metadata": {
    "cell_id": "cdeb9029da8f4d528753d0c850526f30",
    "deepnote_cell_type": "code",
    "execution": {
     "iopub.execute_input": "2024-04-23T08:57:00.819407Z",
     "iopub.status.busy": "2024-04-23T08:57:00.818601Z",
     "iopub.status.idle": "2024-04-23T08:59:04.655007Z",
     "shell.execute_reply": "2024-04-23T08:59:04.654058Z"
    },
    "papermill": {
     "duration": 123.860874,
     "end_time": "2024-04-23T08:59:04.657334",
     "exception": false,
     "start_time": "2024-04-23T08:57:00.796460",
     "status": "completed"
    },
    "tags": []
   },
   "outputs": [
    {
     "data": {
      "text/html": [
       "\n",
       "    <div>\n",
       "      \n",
       "      <progress value='211' max='211' style='width:300px; height:20px; vertical-align: middle;'></progress>\n",
       "      [211/211 02:02]\n",
       "    </div>\n",
       "    "
      ],
      "text/plain": [
       "<IPython.core.display.HTML object>"
      ]
     },
     "metadata": {},
     "output_type": "display_data"
    },
    {
     "name": "stdout",
     "output_type": "stream",
     "text": [
      "TPR Test :\t 0.9996874511642444\n",
      "TNR Test :\t 1.0\n",
      "\n",
      "FPR Test :\t 0.0\n",
      "FNR Test :\t 0.0003125488357555868\n"
     ]
    },
    {
     "data": {
      "text/plain": [
       "{'eval_loss': 0.0018358962843194604,\n",
       " 'eval_accuracy': 0.9998515219005196,\n",
       " 'eval_f1': 0.9998437011566115,\n",
       " 'eval_precision': 1.0,\n",
       " 'eval_recall': 0.9996874511642444,\n",
       " 'eval_runtime': 123.5132,\n",
       " 'eval_samples_per_second': 109.057,\n",
       " 'eval_steps_per_second': 1.708}"
      ]
     },
     "execution_count": 20,
     "metadata": {},
     "output_type": "execute_result"
    },
    {
     "data": {
      "image/png": "[encoded data removed]",
      "text/plain": [
       "<Figure size 640x480 with 2 Axes>"
      ]
     },
     "metadata": {},
     "output_type": "display_data"
    },
    {
     "data": {
      "image/png": "[encoded data removed]",
      "text/plain": [
       "<Figure size 640x480 with 2 Axes>"
      ]
     },
     "metadata": {},
     "output_type": "display_data"
    }
   ],
   "source": [
    "#evaluate on test data\n",
    "trainer.evaluate()"
   ]
  },
  {
   "cell_type": "code",
   "execution_count": null,
   "id": "a72547e9",
   "metadata": {
    "cell_id": "5cfdbcf53bfd4c4c95f7fb966ca32dee",
    "deepnote_cell_type": "code",
    "papermill": {
     "duration": 0.022588,
     "end_time": "2024-04-23T08:59:04.703471",
     "exception": false,
     "start_time": "2024-04-23T08:59:04.680883",
     "status": "completed"
    },
    "tags": []
   },
   "outputs": [],
   "source": []
  },
  {
   "cell_type": "code",
   "execution_count": null,
   "id": "ab0bfa69",
   "metadata": {
    "cell_id": "9d1a84f7c55f469390e903335944ae27",
    "deepnote_cell_type": "code",
    "papermill": {
     "duration": 0.028357,
     "end_time": "2024-04-23T08:59:04.754350",
     "exception": false,
     "start_time": "2024-04-23T08:59:04.725993",
     "status": "completed"
    },
    "tags": []
   },
   "outputs": [],
   "source": []
  },
  {
   "cell_type": "markdown",
   "id": "6a583a9d",
   "metadata": {
    "created_in_deepnote_cell": true,
    "deepnote_cell_type": "markdown",
    "papermill": {
     "duration": 0.022459,
     "end_time": "2024-04-23T08:59:04.799874",
     "exception": false,
     "start_time": "2024-04-23T08:59:04.777415",
     "status": "completed"
    },
    "tags": []
   },
   "source": [
    "<a style='text-decoration:none;line-height:16px;display:flex;color:#5B5B62;padding:10px;justify-content:end;' href='https://deepnote.com?utm_source=created-in-deepnote-cell&projectId=9f23536d-6e62-418a-b94b-ca9356b2599b' target=\"_blank\">\n",
    "<img alt='Created in deepnote.com' style='display:inline;max-height:16px;margin:0px;margin-right:7.5px;' src='data:image/svg+xml;base64,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' > </img>\n",
    "Created in <span style='font-weight:600;margin-left:4px;'>Deepnote</span></a>"
   ]
  }
 ],
 "metadata": {
  "deepnote_execution_queue": [],
  "deepnote_notebook_id": "92ae66cc0eac40698457dc31e94e3846",
  "kaggle": {
   "accelerator": "gpu",
   "dataSources": [
    {
     "datasetId": 4837866,
     "sourceId": 8173634,
     "sourceType": "datasetVersion"
    }
   ],
   "dockerImageVersionId": 30699,
   "isGpuEnabled": true,
   "isInternetEnabled": true,
   "language": "python",
   "sourceType": "notebook"
  },
  "kernelspec": {
   "display_name": "Python 3",
   "language": "python",
   "name": "python3"
  },
  "language_info": {
   "codemirror_mode": {
    "name": "ipython",
    "version": 3
   },
   "file_extension": ".py",
   "mimetype": "text/x-python",
   "name": "python",
   "nbconvert_exporter": "python",
   "pygments_lexer": "ipython3",
   "version": "3.10.13"
  },
  "papermill": {
   "default_parameters": {},
   "duration": 3903.906343,
   "end_time": "2024-04-23T08:59:08.825070",
   "environment_variables": {},
   "exception": null,
   "input_path": "__notebook__.ipynb",
   "output_path": "__notebook__.ipynb",
   "parameters": {},
   "start_time": "2024-04-23T07:54:04.918727",
   "version": "2.5.0"
  },
  "widgets": {
   "application/vnd.jupyter.widget-state+json": {
    "state": {
     "026c3917777c46b9a97f2fb939e6b8d8": {
      "model_module": "@jupyter-widgets/base",
      "model_module_version": "1.2.0",
      "model_name": "LayoutModel",
      "state": {
       "_model_module": "@jupyter-widgets/base",
       "_model_module_version": "1.2.0",
       "_model_name": "LayoutModel",
       "_view_count": null,
       "_view_module": "@jupyter-widgets/base",
       "_view_module_version": "1.2.0",
       "_view_name": "LayoutView",
       "align_content": null,
       "align_items": null,
       "align_self": null,
       "border": null,
       "bottom": null,
       "display": null,
       "flex": null,
       "flex_flow": null,
       "grid_area": null,
       "grid_auto_columns": null,
       "grid_auto_flow": null,
       "grid_auto_rows": null,
       "grid_column": null,
       "grid_gap": null,
       "grid_row": null,
       "grid_template_areas": null,
       "grid_template_columns": null,
       "grid_template_rows": null,
       "height": null,
       "justify_content": null,
       "justify_items": null,
       "left": null,
       "margin": null,
       "max_height": null,
       "max_width": null,
       "min_height": null,
       "min_width": null,
       "object_fit": null,
       "object_position": null,
       "order": null,
       "overflow": null,
       "overflow_x": null,
       "overflow_y": null,
       "padding": null,
       "right": null,
       "top": null,
       "visibility": null,
       "width": null
      }
     },
     "04496b6a499a439c8ede70d2fa04147d": {
      "model_module": "@jupyter-widgets/controls",
      "model_module_version": "1.5.0",
      "model_name": "FloatProgressModel",
      "state": {
       "_dom_classes": [],
       "_model_module": "@jupyter-widgets/controls",
       "_model_module_version": "1.5.0",
       "_model_name": "FloatProgressModel",
       "_view_count": null,
       "_view_module": "@jupyter-widgets/controls",
       "_view_module_version": "1.5.0",
       "_view_name": "ProgressView",
       "bar_style": "success",
       "description": "",
       "description_tooltip": null,
       "layout": "IPY_MODEL_e533fb8a216d4f549b59a125d783f3c3",
       "max": 231508.0,
       "min": 0.0,
       "orientation": "horizontal",
       "style": "IPY_MODEL_558413c7bc0d459aaad588bf3d5a4d9a",
       "value": 231508.0
      }
     },
     "0a6842f216d34b959e2648e4eac67256": {
      "model_module": "@jupyter-widgets/controls",
      "model_module_version": "1.5.0",
      "model_name": "HTMLModel",
      "state": {
       "_dom_classes": [],
       "_model_module": "@jupyter-widgets/controls",
       "_model_module_version": "1.5.0",
       "_model_name": "HTMLModel",
       "_view_count": null,
       "_view_module": "@jupyter-widgets/controls",
       "_view_module_version": "1.5.0",
       "_view_name": "HTMLView",
       "description": "",
       "description_tooltip": null,
       "layout": "IPY_MODEL_64e95e5f36b0486baba95b4c642ea62b",
       "placeholder": "​",
       "style": "IPY_MODEL_17fa153d80f74f419e088000cb0fbd8e",
       "value": "config.json: 100%"
      }
     },
     "10e09290ac004c30b56f80a8de5496bb": {
      "model_module": "@jupyter-widgets/controls",
      "model_module_version": "1.5.0",
      "model_name": "FloatProgressModel",
      "state": {
       "_dom_classes": [],
       "_model_module": "@jupyter-widgets/controls",
       "_model_module_version": "1.5.0",
       "_model_name": "FloatProgressModel",
       "_view_count": null,
       "_view_module": "@jupyter-widgets/controls",
       "_view_module_version": "1.5.0",
       "_view_name": "ProgressView",
       "bar_style": "success",
       "description": "",
       "description_tooltip": null,
       "layout": "IPY_MODEL_1bdd965f3325485caaeccdce86341043",
       "max": 28.0,
       "min": 0.0,
       "orientation": "horizontal",
       "style": "IPY_MODEL_8e87659fba5543c99c15aa03eb6c781c",
       "value": 28.0
      }
     },
     "178e6c155afe4c478feb095a920be226": {
      "model_module": "@jupyter-widgets/controls",
      "model_module_version": "1.5.0",
      "model_name": "FloatProgressModel",
      "state": {
       "_dom_classes": [],
       "_model_module": "@jupyter-widgets/controls",
       "_model_module_version": "1.5.0",
       "_model_name": "FloatProgressModel",
       "_view_count": null,
       "_view_module": "@jupyter-widgets/controls",
       "_view_module_version": "1.5.0",
       "_view_name": "ProgressView",
       "bar_style": "success",
       "description": "",
       "description_tooltip": null,
       "layout": "IPY_MODEL_2941bf33bd524ecd93612841d0ae6fb9",
       "max": 466062.0,
       "min": 0.0,
       "orientation": "horizontal",
       "style": "IPY_MODEL_f0b01b9f69204153856bfa6aeb3e14a0",
       "value": 466062.0
      }
     },
     "17fa153d80f74f419e088000cb0fbd8e": {
      "model_module": "@jupyter-widgets/controls",
      "model_module_version": "1.5.0",
      "model_name": "DescriptionStyleModel",
      "state": {
       "_model_module": "@jupyter-widgets/controls",
       "_model_module_version": "1.5.0",
       "_model_name": "DescriptionStyleModel",
       "_view_count": null,
       "_view_module": "@jupyter-widgets/base",
       "_view_module_version": "1.2.0",
       "_view_name": "StyleView",
       "description_width": ""
      }
     },
     "1bdd965f3325485caaeccdce86341043": {
      "model_module": "@jupyter-widgets/base",
      "model_module_version": "1.2.0",
      "model_name": "LayoutModel",
      "state": {
       "_model_module": "@jupyter-widgets/base",
       "_model_module_version": "1.2.0",
       "_model_name": "LayoutModel",
       "_view_count": null,
       "_view_module": "@jupyter-widgets/base",
       "_view_module_version": "1.2.0",
       "_view_name": "LayoutView",
       "align_content": null,
       "align_items": null,
       "align_self": null,
       "border": null,
       "bottom": null,
       "display": null,
       "flex": null,
       "flex_flow": null,
       "grid_area": null,
       "grid_auto_columns": null,
       "grid_auto_flow": null,
       "grid_auto_rows": null,
       "grid_column": null,
       "grid_gap": null,
       "grid_row": null,
       "grid_template_areas": null,
       "grid_template_columns": null,
       "grid_template_rows": null,
       "height": null,
       "justify_content": null,
       "justify_items": null,
       "left": null,
       "margin": null,
       "max_height": null,
       "max_width": null,
       "min_height": null,
       "min_width": null,
       "object_fit": null,
       "object_position": null,
       "order": null,
       "overflow": null,
       "overflow_x": null,
       "overflow_y": null,
       "padding": null,
       "right": null,
       "top": null,
       "visibility": null,
       "width": null
      }
     },
     "1f05835967174d9a8864fbec3efe0edd": {
      "model_module": "@jupyter-widgets/controls",
      "model_module_version": "1.5.0",
      "model_name": "DescriptionStyleModel",
      "state": {
       "_model_module": "@jupyter-widgets/controls",
       "_model_module_version": "1.5.0",
       "_model_name": "DescriptionStyleModel",
       "_view_count": null,
       "_view_module": "@jupyter-widgets/base",
       "_view_module_version": "1.2.0",
       "_view_name": "StyleView",
       "description_width": ""
      }
     },
     "21847414946644419eae400c612e6bf3": {
      "model_module": "@jupyter-widgets/controls",
      "model_module_version": "1.5.0",
      "model_name": "HBoxModel",
      "state": {
       "_dom_classes": [],
       "_model_module": "@jupyter-widgets/controls",
       "_model_module_version": "1.5.0",
       "_model_name": "HBoxModel",
       "_view_count": null,
       "_view_module": "@jupyter-widgets/controls",
       "_view_module_version": "1.5.0",
       "_view_name": "HBoxView",
       "box_style": "",
       "children": [
        "IPY_MODEL_0a6842f216d34b959e2648e4eac67256",
        "IPY_MODEL_21ce591473534e318bbcf49ab8802a43",
        "IPY_MODEL_941682139b114553b9698838b53f1fd0"
       ],
       "layout": "IPY_MODEL_e82c421d35ec4dbba74d201b36f7cdb6"
      }
     },
     "21ce591473534e318bbcf49ab8802a43": {
      "model_module": "@jupyter-widgets/controls",
      "model_module_version": "1.5.0",
      "model_name": "FloatProgressModel",
      "state": {
       "_dom_classes": [],
       "_model_module": "@jupyter-widgets/controls",
       "_model_module_version": "1.5.0",
       "_model_name": "FloatProgressModel",
       "_view_count": null,
       "_view_module": "@jupyter-widgets/controls",
       "_view_module_version": "1.5.0",
       "_view_name": "ProgressView",
       "bar_style": "success",
       "description": "",
       "description_tooltip": null,
       "layout": "IPY_MODEL_743c5327bf7c4c33adefbeb7d44518c7",
       "max": 483.0,
       "min": 0.0,
       "orientation": "horizontal",
       "style": "IPY_MODEL_69abb9a653d4421e88adaaadceae8650",
       "value": 483.0
      }
     },
     "23a68b186b9f414ebed25abbc01bed15": {
      "model_module": "@jupyter-widgets/controls",
      "model_module_version": "1.5.0",
      "model_name": "HBoxModel",
      "state": {
       "_dom_classes": [],
       "_model_module": "@jupyter-widgets/controls",
       "_model_module_version": "1.5.0",
       "_model_name": "HBoxModel",
       "_view_count": null,
       "_view_module": "@jupyter-widgets/controls",
       "_view_module_version": "1.5.0",
       "_view_name": "HBoxView",
       "box_style": "",
       "children": [
        "IPY_MODEL_cc106a3b43cd44c3ab60be0a29fd27c8",
        "IPY_MODEL_304f8c02c1f14ca293b1b1de8c8953b0",
        "IPY_MODEL_4f1664b9bb9f40f5a5bc921a632d8dc1"
       ],
       "layout": "IPY_MODEL_489688da18204542acb4bcb7aede9e5a"
      }
     },
     "2941bf33bd524ecd93612841d0ae6fb9": {
      "model_module": "@jupyter-widgets/base",
      "model_module_version": "1.2.0",
      "model_name": "LayoutModel",
      "state": {
       "_model_module": "@jupyter-widgets/base",
       "_model_module_version": "1.2.0",
       "_model_name": "LayoutModel",
       "_view_count": null,
       "_view_module": "@jupyter-widgets/base",
       "_view_module_version": "1.2.0",
       "_view_name": "LayoutView",
       "align_content": null,
       "align_items": null,
       "align_self": null,
       "border": null,
       "bottom": null,
       "display": null,
       "flex": null,
       "flex_flow": null,
       "grid_area": null,
       "grid_auto_columns": null,
       "grid_auto_flow": null,
       "grid_auto_rows": null,
       "grid_column": null,
       "grid_gap": null,
       "grid_row": null,
       "grid_template_areas": null,
       "grid_template_columns": null,
       "grid_template_rows": null,
       "height": null,
       "justify_content": null,
       "justify_items": null,
       "left": null,
       "margin": null,
       "max_height": null,
       "max_width": null,
       "min_height": null,
       "min_width": null,
       "object_fit": null,
       "object_position": null,
       "order": null,
       "overflow": null,
       "overflow_x": null,
       "overflow_y": null,
       "padding": null,
       "right": null,
       "top": null,
       "visibility": null,
       "width": null
      }
     },
     "2e2ac9b933f84a3aa7234cd0e7f333aa": {
      "model_module": "@jupyter-widgets/base",
      "model_module_version": "1.2.0",
      "model_name": "LayoutModel",
      "state": {
       "_model_module": "@jupyter-widgets/base",
       "_model_module_version": "1.2.0",
       "_model_name": "LayoutModel",
       "_view_count": null,
       "_view_module": "@jupyter-widgets/base",
       "_view_module_version": "1.2.0",
       "_view_name": "LayoutView",
       "align_content": null,
       "align_items": null,
       "align_self": null,
       "border": null,
       "bottom": null,
       "display": null,
       "flex": null,
       "flex_flow": null,
       "grid_area": null,
       "grid_auto_columns": null,
       "grid_auto_flow": null,
       "grid_auto_rows": null,
       "grid_column": null,
       "grid_gap": null,
       "grid_row": null,
       "grid_template_areas": null,
       "grid_template_columns": null,
       "grid_template_rows": null,
       "height": null,
       "justify_content": null,
       "justify_items": null,
       "left": null,
       "margin": null,
       "max_height": null,
       "max_width": null,
       "min_height": null,
       "min_width": null,
       "object_fit": null,
       "object_position": null,
       "order": null,
       "overflow": null,
       "overflow_x": null,
       "overflow_y": null,
       "padding": null,
       "right": null,
       "top": null,
       "visibility": null,
       "width": null
      }
     },
     "304f8c02c1f14ca293b1b1de8c8953b0": {
      "model_module": "@jupyter-widgets/controls",
      "model_module_version": "1.5.0",
      "model_name": "FloatProgressModel",
      "state": {
       "_dom_classes": [],
       "_model_module": "@jupyter-widgets/controls",
       "_model_module_version": "1.5.0",
       "_model_name": "FloatProgressModel",
       "_view_count": null,
       "_view_module": "@jupyter-widgets/controls",
       "_view_module_version": "1.5.0",
       "_view_name": "ProgressView",
       "bar_style": "success",
       "description": "",
       "description_tooltip": null,
       "layout": "IPY_MODEL_518cd0ffb968461a85169adcb847b161",
       "max": 267954768.0,
       "min": 0.0,
       "orientation": "horizontal",
       "style": "IPY_MODEL_e94fce44fc1c4bf08863a77e311cc8ed",
       "value": 267954768.0
      }
     },
     "489688da18204542acb4bcb7aede9e5a": {
      "model_module": "@jupyter-widgets/base",
      "model_module_version": "1.2.0",
      "model_name": "LayoutModel",
      "state": {
       "_model_module": "@jupyter-widgets/base",
       "_model_module_version": "1.2.0",
       "_model_name": "LayoutModel",
       "_view_count": null,
       "_view_module": "@jupyter-widgets/base",
       "_view_module_version": "1.2.0",
       "_view_name": "LayoutView",
       "align_content": null,
       "align_items": null,
       "align_self": null,
       "border": null,
       "bottom": null,
       "display": null,
       "flex": null,
       "flex_flow": null,
       "grid_area": null,
       "grid_auto_columns": null,
       "grid_auto_flow": null,
       "grid_auto_rows": null,
       "grid_column": null,
       "grid_gap": null,
       "grid_row": null,
       "grid_template_areas": null,
       "grid_template_columns": null,
       "grid_template_rows": null,
       "height": null,
       "justify_content": null,
       "justify_items": null,
       "left": null,
       "margin": null,
       "max_height": null,
       "max_width": null,
       "min_height": null,
       "min_width": null,
       "object_fit": null,
       "object_position": null,
       "order": null,
       "overflow": null,
       "overflow_x": null,
       "overflow_y": null,
       "padding": null,
       "right": null,
       "top": null,
       "visibility": null,
       "width": null
      }
     },
     "48ac68fa66844388819f6c2cfeb2839b": {
      "model_module": "@jupyter-widgets/controls",
      "model_module_version": "1.5.0",
      "model_name": "DescriptionStyleModel",
      "state": {
       "_model_module": "@jupyter-widgets/controls",
       "_model_module_version": "1.5.0",
       "_model_name": "DescriptionStyleModel",
       "_view_count": null,
       "_view_module": "@jupyter-widgets/base",
       "_view_module_version": "1.2.0",
       "_view_name": "StyleView",
       "description_width": ""
      }
     },
     "4be2edeb460b4409b5785cb6833e51a3": {
      "model_module": "@jupyter-widgets/controls",
      "model_module_version": "1.5.0",
      "model_name": "HBoxModel",
      "state": {
       "_dom_classes": [],
       "_model_module": "@jupyter-widgets/controls",
       "_model_module_version": "1.5.0",
       "_model_name": "HBoxModel",
       "_view_count": null,
       "_view_module": "@jupyter-widgets/controls",
       "_view_module_version": "1.5.0",
       "_view_name": "HBoxView",
       "box_style": "",
       "children": [
        "IPY_MODEL_e80fd08ece71479ab69e5ce44be8a844",
        "IPY_MODEL_10e09290ac004c30b56f80a8de5496bb",
        "IPY_MODEL_b8b19bb31e4d4042a0dc9a4ce57c07c0"
       ],
       "layout": "IPY_MODEL_2e2ac9b933f84a3aa7234cd0e7f333aa"
      }
     },
     "4f1664b9bb9f40f5a5bc921a632d8dc1": {
      "model_module": "@jupyter-widgets/controls",
      "model_module_version": "1.5.0",
      "model_name": "HTMLModel",
      "state": {
       "_dom_classes": [],
       "_model_module": "@jupyter-widgets/controls",
       "_model_module_version": "1.5.0",
       "_model_name": "HTMLModel",
       "_view_count": null,
       "_view_module": "@jupyter-widgets/controls",
       "_view_module_version": "1.5.0",
       "_view_name": "HTMLView",
       "description": "",
       "description_tooltip": null,
       "layout": "IPY_MODEL_b62dba0e0bce408d8baed44e8473104e",
       "placeholder": "​",
       "style": "IPY_MODEL_87ee17e5c1b44ddb98c8856d2537a010",
       "value": " 268M/268M [00:01&lt;00:00, 214MB/s]"
      }
     },
     "518cd0ffb968461a85169adcb847b161": {
      "model_module": "@jupyter-widgets/base",
      "model_module_version": "1.2.0",
      "model_name": "LayoutModel",
      "state": {
       "_model_module": "@jupyter-widgets/base",
       "_model_module_version": "1.2.0",
       "_model_name": "LayoutModel",
       "_view_count": null,
       "_view_module": "@jupyter-widgets/base",
       "_view_module_version": "1.2.0",
       "_view_name": "LayoutView",
       "align_content": null,
       "align_items": null,
       "align_self": null,
       "border": null,
       "bottom": null,
       "display": null,
       "flex": null,
       "flex_flow": null,
       "grid_area": null,
       "grid_auto_columns": null,
       "grid_auto_flow": null,
       "grid_auto_rows": null,
       "grid_column": null,
       "grid_gap": null,
       "grid_row": null,
       "grid_template_areas": null,
       "grid_template_columns": null,
       "grid_template_rows": null,
       "height": null,
       "justify_content": null,
       "justify_items": null,
       "left": null,
       "margin": null,
       "max_height": null,
       "max_width": null,
       "min_height": null,
       "min_width": null,
       "object_fit": null,
       "object_position": null,
       "order": null,
       "overflow": null,
       "overflow_x": null,
       "overflow_y": null,
       "padding": null,
       "right": null,
       "top": null,
       "visibility": null,
       "width": null
      }
     },
     "548c0aa8437842f983c2391ce2ac85c1": {
      "model_module": "@jupyter-widgets/base",
      "model_module_version": "1.2.0",
      "model_name": "LayoutModel",
      "state": {
       "_model_module": "@jupyter-widgets/base",
       "_model_module_version": "1.2.0",
       "_model_name": "LayoutModel",
       "_view_count": null,
       "_view_module": "@jupyter-widgets/base",
       "_view_module_version": "1.2.0",
       "_view_name": "LayoutView",
       "align_content": null,
       "align_items": null,
       "align_self": null,
       "border": null,
       "bottom": null,
       "display": null,
       "flex": null,
       "flex_flow": null,
       "grid_area": null,
       "grid_auto_columns": null,
       "grid_auto_flow": null,
       "grid_auto_rows": null,
       "grid_column": null,
       "grid_gap": null,
       "grid_row": null,
       "grid_template_areas": null,
       "grid_template_columns": null,
       "grid_template_rows": null,
       "height": null,
       "justify_content": null,
       "justify_items": null,
       "left": null,
       "margin": null,
       "max_height": null,
       "max_width": null,
       "min_height": null,
       "min_width": null,
       "object_fit": null,
       "object_position": null,
       "order": null,
       "overflow": null,
       "overflow_x": null,
       "overflow_y": null,
       "padding": null,
       "right": null,
       "top": null,
       "visibility": null,
       "width": null
      }
     },
     "558413c7bc0d459aaad588bf3d5a4d9a": {
      "model_module": "@jupyter-widgets/controls",
      "model_module_version": "1.5.0",
      "model_name": "ProgressStyleModel",
      "state": {
       "_model_module": "@jupyter-widgets/controls",
       "_model_module_version": "1.5.0",
       "_model_name": "ProgressStyleModel",
       "_view_count": null,
       "_view_module": "@jupyter-widgets/base",
       "_view_module_version": "1.2.0",
       "_view_name": "StyleView",
       "bar_color": null,
       "description_width": ""
      }
     },
     "5949355439364fa1b943aeb05932ade2": {
      "model_module": "@jupyter-widgets/controls",
      "model_module_version": "1.5.0",
      "model_name": "DescriptionStyleModel",
      "state": {
       "_model_module": "@jupyter-widgets/controls",
       "_model_module_version": "1.5.0",
       "_model_name": "DescriptionStyleModel",
       "_view_count": null,
       "_view_module": "@jupyter-widgets/base",
       "_view_module_version": "1.2.0",
       "_view_name": "StyleView",
       "description_width": ""
      }
     },
     "64e95e5f36b0486baba95b4c642ea62b": {
      "model_module": "@jupyter-widgets/base",
      "model_module_version": "1.2.0",
      "model_name": "LayoutModel",
      "state": {
       "_model_module": "@jupyter-widgets/base",
       "_model_module_version": "1.2.0",
       "_model_name": "LayoutModel",
       "_view_count": null,
       "_view_module": "@jupyter-widgets/base",
       "_view_module_version": "1.2.0",
       "_view_name": "LayoutView",
       "align_content": null,
       "align_items": null,
       "align_self": null,
       "border": null,
       "bottom": null,
       "display": null,
       "flex": null,
       "flex_flow": null,
       "grid_area": null,
       "grid_auto_columns": null,
       "grid_auto_flow": null,
       "grid_auto_rows": null,
       "grid_column": null,
       "grid_gap": null,
       "grid_row": null,
       "grid_template_areas": null,
       "grid_template_columns": null,
       "grid_template_rows": null,
       "height": null,
       "justify_content": null,
       "justify_items": null,
       "left": null,
       "margin": null,
       "max_height": null,
       "max_width": null,
       "min_height": null,
       "min_width": null,
       "object_fit": null,
       "object_position": null,
       "order": null,
       "overflow": null,
       "overflow_x": null,
       "overflow_y": null,
       "padding": null,
       "right": null,
       "top": null,
       "visibility": null,
       "width": null
      }
     },
     "69abb9a653d4421e88adaaadceae8650": {
      "model_module": "@jupyter-widgets/controls",
      "model_module_version": "1.5.0",
      "model_name": "ProgressStyleModel",
      "state": {
       "_model_module": "@jupyter-widgets/controls",
       "_model_module_version": "1.5.0",
       "_model_name": "ProgressStyleModel",
       "_view_count": null,
       "_view_module": "@jupyter-widgets/base",
       "_view_module_version": "1.2.0",
       "_view_name": "StyleView",
       "bar_color": null,
       "description_width": ""
      }
     },
     "6f7485db0e064fe2bd0281fd51b2e535": {
      "model_module": "@jupyter-widgets/controls",
      "model_module_version": "1.5.0",
      "model_name": "DescriptionStyleModel",
      "state": {
       "_model_module": "@jupyter-widgets/controls",
       "_model_module_version": "1.5.0",
       "_model_name": "DescriptionStyleModel",
       "_view_count": null,
       "_view_module": "@jupyter-widgets/base",
       "_view_module_version": "1.2.0",
       "_view_name": "StyleView",
       "description_width": ""
      }
     },
     "732646def7054d43874e93266f6786bf": {
      "model_module": "@jupyter-widgets/base",
      "model_module_version": "1.2.0",
      "model_name": "LayoutModel",
      "state": {
       "_model_module": "@jupyter-widgets/base",
       "_model_module_version": "1.2.0",
       "_model_name": "LayoutModel",
       "_view_count": null,
       "_view_module": "@jupyter-widgets/base",
       "_view_module_version": "1.2.0",
       "_view_name": "LayoutView",
       "align_content": null,
       "align_items": null,
       "align_self": null,
       "border": null,
       "bottom": null,
       "display": null,
       "flex": null,
       "flex_flow": null,
       "grid_area": null,
       "grid_auto_columns": null,
       "grid_auto_flow": null,
       "grid_auto_rows": null,
       "grid_column": null,
       "grid_gap": null,
       "grid_row": null,
       "grid_template_areas": null,
       "grid_template_columns": null,
       "grid_template_rows": null,
       "height": null,
       "justify_content": null,
       "justify_items": null,
       "left": null,
       "margin": null,
       "max_height": null,
       "max_width": null,
       "min_height": null,
       "min_width": null,
       "object_fit": null,
       "object_position": null,
       "order": null,
       "overflow": null,
       "overflow_x": null,
       "overflow_y": null,
       "padding": null,
       "right": null,
       "top": null,
       "visibility": null,
       "width": null
      }
     },
     "743c5327bf7c4c33adefbeb7d44518c7": {
      "model_module": "@jupyter-widgets/base",
      "model_module_version": "1.2.0",
      "model_name": "LayoutModel",
      "state": {
       "_model_module": "@jupyter-widgets/base",
       "_model_module_version": "1.2.0",
       "_model_name": "LayoutModel",
       "_view_count": null,
       "_view_module": "@jupyter-widgets/base",
       "_view_module_version": "1.2.0",
       "_view_name": "LayoutView",
       "align_content": null,
       "align_items": null,
       "align_self": null,
       "border": null,
       "bottom": null,
       "display": null,
       "flex": null,
       "flex_flow": null,
       "grid_area": null,
       "grid_auto_columns": null,
       "grid_auto_flow": null,
       "grid_auto_rows": null,
       "grid_column": null,
       "grid_gap": null,
       "grid_row": null,
       "grid_template_areas": null,
       "grid_template_columns": null,
       "grid_template_rows": null,
       "height": null,
       "justify_content": null,
       "justify_items": null,
       "left": null,
       "margin": null,
       "max_height": null,
       "max_width": null,
       "min_height": null,
       "min_width": null,
       "object_fit": null,
       "object_position": null,
       "order": null,
       "overflow": null,
       "overflow_x": null,
       "overflow_y": null,
       "padding": null,
       "right": null,
       "top": null,
       "visibility": null,
       "width": null
      }
     },
     "762937f7362a49c4903c777cbfe70e63": {
      "model_module": "@jupyter-widgets/controls",
      "model_module_version": "1.5.0",
      "model_name": "DescriptionStyleModel",
      "state": {
       "_model_module": "@jupyter-widgets/controls",
       "_model_module_version": "1.5.0",
       "_model_name": "DescriptionStyleModel",
       "_view_count": null,
       "_view_module": "@jupyter-widgets/base",
       "_view_module_version": "1.2.0",
       "_view_name": "StyleView",
       "description_width": ""
      }
     },
     "7b0158bf0b224384aef2f639da802006": {
      "model_module": "@jupyter-widgets/base",
      "model_module_version": "1.2.0",
      "model_name": "LayoutModel",
      "state": {
       "_model_module": "@jupyter-widgets/base",
       "_model_module_version": "1.2.0",
       "_model_name": "LayoutModel",
       "_view_count": null,
       "_view_module": "@jupyter-widgets/base",
       "_view_module_version": "1.2.0",
       "_view_name": "LayoutView",
       "align_content": null,
       "align_items": null,
       "align_self": null,
       "border": null,
       "bottom": null,
       "display": null,
       "flex": null,
       "flex_flow": null,
       "grid_area": null,
       "grid_auto_columns": null,
       "grid_auto_flow": null,
       "grid_auto_rows": null,
       "grid_column": null,
       "grid_gap": null,
       "grid_row": null,
       "grid_template_areas": null,
       "grid_template_columns": null,
       "grid_template_rows": null,
       "height": null,
       "justify_content": null,
       "justify_items": null,
       "left": null,
       "margin": null,
       "max_height": null,
       "max_width": null,
       "min_height": null,
       "min_width": null,
       "object_fit": null,
       "object_position": null,
       "order": null,
       "overflow": null,
       "overflow_x": null,
       "overflow_y": null,
       "padding": null,
       "right": null,
       "top": null,
       "visibility": null,
       "width": null
      }
     },
     "7b92efff22614cbb9c8db4b378159b8a": {
      "model_module": "@jupyter-widgets/controls",
      "model_module_version": "1.5.0",
      "model_name": "HTMLModel",
      "state": {
       "_dom_classes": [],
       "_model_module": "@jupyter-widgets/controls",
       "_model_module_version": "1.5.0",
       "_model_name": "HTMLModel",
       "_view_count": null,
       "_view_module": "@jupyter-widgets/controls",
       "_view_module_version": "1.5.0",
       "_view_name": "HTMLView",
       "description": "",
       "description_tooltip": null,
       "layout": "IPY_MODEL_732646def7054d43874e93266f6786bf",
       "placeholder": "​",
       "style": "IPY_MODEL_1f05835967174d9a8864fbec3efe0edd",
       "value": "tokenizer.json: 100%"
      }
     },
     "7f62a37842e4477db205f50e0a61d68e": {
      "model_module": "@jupyter-widgets/controls",
      "model_module_version": "1.5.0",
      "model_name": "DescriptionStyleModel",
      "state": {
       "_model_module": "@jupyter-widgets/controls",
       "_model_module_version": "1.5.0",
       "_model_name": "DescriptionStyleModel",
       "_view_count": null,
       "_view_module": "@jupyter-widgets/base",
       "_view_module_version": "1.2.0",
       "_view_name": "StyleView",
       "description_width": ""
      }
     },
     "87ee17e5c1b44ddb98c8856d2537a010": {
      "model_module": "@jupyter-widgets/controls",
      "model_module_version": "1.5.0",
      "model_name": "DescriptionStyleModel",
      "state": {
       "_model_module": "@jupyter-widgets/controls",
       "_model_module_version": "1.5.0",
       "_model_name": "DescriptionStyleModel",
       "_view_count": null,
       "_view_module": "@jupyter-widgets/base",
       "_view_module_version": "1.2.0",
       "_view_name": "StyleView",
       "description_width": ""
      }
     },
     "8e87659fba5543c99c15aa03eb6c781c": {
      "model_module": "@jupyter-widgets/controls",
      "model_module_version": "1.5.0",
      "model_name": "ProgressStyleModel",
      "state": {
       "_model_module": "@jupyter-widgets/controls",
       "_model_module_version": "1.5.0",
       "_model_name": "ProgressStyleModel",
       "_view_count": null,
       "_view_module": "@jupyter-widgets/base",
       "_view_module_version": "1.2.0",
       "_view_name": "StyleView",
       "bar_color": null,
       "description_width": ""
      }
     },
     "926857dfb0a840e68d18b80c9827ea7f": {
      "model_module": "@jupyter-widgets/controls",
      "model_module_version": "1.5.0",
      "model_name": "HBoxModel",
      "state": {
       "_dom_classes": [],
       "_model_module": "@jupyter-widgets/controls",
       "_model_module_version": "1.5.0",
       "_model_name": "HBoxModel",
       "_view_count": null,
       "_view_module": "@jupyter-widgets/controls",
       "_view_module_version": "1.5.0",
       "_view_name": "HBoxView",
       "box_style": "",
       "children": [
        "IPY_MODEL_95ff0283cb6f48b98f7ef9142400f95b",
        "IPY_MODEL_04496b6a499a439c8ede70d2fa04147d",
        "IPY_MODEL_9fd514abf49846c6b56ca585f2d7f574"
       ],
       "layout": "IPY_MODEL_f6276543550f4f78a7c147794a5ef3bf"
      }
     },
     "941682139b114553b9698838b53f1fd0": {
      "model_module": "@jupyter-widgets/controls",
      "model_module_version": "1.5.0",
      "model_name": "HTMLModel",
      "state": {
       "_dom_classes": [],
       "_model_module": "@jupyter-widgets/controls",
       "_model_module_version": "1.5.0",
       "_model_name": "HTMLModel",
       "_view_count": null,
       "_view_module": "@jupyter-widgets/controls",
       "_view_module_version": "1.5.0",
       "_view_name": "HTMLView",
       "description": "",
       "description_tooltip": null,
       "layout": "IPY_MODEL_7b0158bf0b224384aef2f639da802006",
       "placeholder": "​",
       "style": "IPY_MODEL_6f7485db0e064fe2bd0281fd51b2e535",
       "value": " 483/483 [00:00&lt;00:00, 41.2kB/s]"
      }
     },
     "950036c3eb0347a99bdb4b5d583b5ce9": {
      "model_module": "@jupyter-widgets/controls",
      "model_module_version": "1.5.0",
      "model_name": "DescriptionStyleModel",
      "state": {
       "_model_module": "@jupyter-widgets/controls",
       "_model_module_version": "1.5.0",
       "_model_name": "DescriptionStyleModel",
       "_view_count": null,
       "_view_module": "@jupyter-widgets/base",
       "_view_module_version": "1.2.0",
       "_view_name": "StyleView",
       "description_width": ""
      }
     },
     "95ff0283cb6f48b98f7ef9142400f95b": {
      "model_module": "@jupyter-widgets/controls",
      "model_module_version": "1.5.0",
      "model_name": "HTMLModel",
      "state": {
       "_dom_classes": [],
       "_model_module": "@jupyter-widgets/controls",
       "_model_module_version": "1.5.0",
       "_model_name": "HTMLModel",
       "_view_count": null,
       "_view_module": "@jupyter-widgets/controls",
       "_view_module_version": "1.5.0",
       "_view_name": "HTMLView",
       "description": "",
       "description_tooltip": null,
       "layout": "IPY_MODEL_548c0aa8437842f983c2391ce2ac85c1",
       "placeholder": "​",
       "style": "IPY_MODEL_5949355439364fa1b943aeb05932ade2",
       "value": "vocab.txt: 100%"
      }
     },
     "9b40332e28ce4e2db1c7a95082db23ef": {
      "model_module": "@jupyter-widgets/base",
      "model_module_version": "1.2.0",
      "model_name": "LayoutModel",
      "state": {
       "_model_module": "@jupyter-widgets/base",
       "_model_module_version": "1.2.0",
       "_model_name": "LayoutModel",
       "_view_count": null,
       "_view_module": "@jupyter-widgets/base",
       "_view_module_version": "1.2.0",
       "_view_name": "LayoutView",
       "align_content": null,
       "align_items": null,
       "align_self": null,
       "border": null,
       "bottom": null,
       "display": null,
       "flex": null,
       "flex_flow": null,
       "grid_area": null,
       "grid_auto_columns": null,
       "grid_auto_flow": null,
       "grid_auto_rows": null,
       "grid_column": null,
       "grid_gap": null,
       "grid_row": null,
       "grid_template_areas": null,
       "grid_template_columns": null,
       "grid_template_rows": null,
       "height": null,
       "justify_content": null,
       "justify_items": null,
       "left": null,
       "margin": null,
       "max_height": null,
       "max_width": null,
       "min_height": null,
       "min_width": null,
       "object_fit": null,
       "object_position": null,
       "order": null,
       "overflow": null,
       "overflow_x": null,
       "overflow_y": null,
       "padding": null,
       "right": null,
       "top": null,
       "visibility": null,
       "width": null
      }
     },
     "9cb528c5b7b840a6afabd360dd8798b9": {
      "model_module": "@jupyter-widgets/controls",
      "model_module_version": "1.5.0",
      "model_name": "DescriptionStyleModel",
      "state": {
       "_model_module": "@jupyter-widgets/controls",
       "_model_module_version": "1.5.0",
       "_model_name": "DescriptionStyleModel",
       "_view_count": null,
       "_view_module": "@jupyter-widgets/base",
       "_view_module_version": "1.2.0",
       "_view_name": "StyleView",
       "description_width": ""
      }
     },
     "9fd514abf49846c6b56ca585f2d7f574": {
      "model_module": "@jupyter-widgets/controls",
      "model_module_version": "1.5.0",
      "model_name": "HTMLModel",
      "state": {
       "_dom_classes": [],
       "_model_module": "@jupyter-widgets/controls",
       "_model_module_version": "1.5.0",
       "_model_name": "HTMLModel",
       "_view_count": null,
       "_view_module": "@jupyter-widgets/controls",
       "_view_module_version": "1.5.0",
       "_view_name": "HTMLView",
       "description": "",
       "description_tooltip": null,
       "layout": "IPY_MODEL_d164211aa3034789a7a9def1b61ae39b",
       "placeholder": "​",
       "style": "IPY_MODEL_7f62a37842e4477db205f50e0a61d68e",
       "value": " 232k/232k [00:00&lt;00:00, 4.34MB/s]"
      }
     },
     "b62dba0e0bce408d8baed44e8473104e": {
      "model_module": "@jupyter-widgets/base",
      "model_module_version": "1.2.0",
      "model_name": "LayoutModel",
      "state": {
       "_model_module": "@jupyter-widgets/base",
       "_model_module_version": "1.2.0",
       "_model_name": "LayoutModel",
       "_view_count": null,
       "_view_module": "@jupyter-widgets/base",
       "_view_module_version": "1.2.0",
       "_view_name": "LayoutView",
       "align_content": null,
       "align_items": null,
       "align_self": null,
       "border": null,
       "bottom": null,
       "display": null,
       "flex": null,
       "flex_flow": null,
       "grid_area": null,
       "grid_auto_columns": null,
       "grid_auto_flow": null,
       "grid_auto_rows": null,
       "grid_column": null,
       "grid_gap": null,
       "grid_row": null,
       "grid_template_areas": null,
       "grid_template_columns": null,
       "grid_template_rows": null,
       "height": null,
       "justify_content": null,
       "justify_items": null,
       "left": null,
       "margin": null,
       "max_height": null,
       "max_width": null,
       "min_height": null,
       "min_width": null,
       "object_fit": null,
       "object_position": null,
       "order": null,
       "overflow": null,
       "overflow_x": null,
       "overflow_y": null,
       "padding": null,
       "right": null,
       "top": null,
       "visibility": null,
       "width": null
      }
     },
     "b8b19bb31e4d4042a0dc9a4ce57c07c0": {
      "model_module": "@jupyter-widgets/controls",
      "model_module_version": "1.5.0",
      "model_name": "HTMLModel",
      "state": {
       "_dom_classes": [],
       "_model_module": "@jupyter-widgets/controls",
       "_model_module_version": "1.5.0",
       "_model_name": "HTMLModel",
       "_view_count": null,
       "_view_module": "@jupyter-widgets/controls",
       "_view_module_version": "1.5.0",
       "_view_name": "HTMLView",
       "description": "",
       "description_tooltip": null,
       "layout": "IPY_MODEL_f460307ad0c541d1abf52cbf94274dc4",
       "placeholder": "​",
       "style": "IPY_MODEL_9cb528c5b7b840a6afabd360dd8798b9",
       "value": " 28.0/28.0 [00:00&lt;00:00, 2.47kB/s]"
      }
     },
     "cc106a3b43cd44c3ab60be0a29fd27c8": {
      "model_module": "@jupyter-widgets/controls",
      "model_module_version": "1.5.0",
      "model_name": "HTMLModel",
      "state": {
       "_dom_classes": [],
       "_model_module": "@jupyter-widgets/controls",
       "_model_module_version": "1.5.0",
       "_model_name": "HTMLModel",
       "_view_count": null,
       "_view_module": "@jupyter-widgets/controls",
       "_view_module_version": "1.5.0",
       "_view_name": "HTMLView",
       "description": "",
       "description_tooltip": null,
       "layout": "IPY_MODEL_e37f70c805ef46269ea78bfcdffa1980",
       "placeholder": "​",
       "style": "IPY_MODEL_48ac68fa66844388819f6c2cfeb2839b",
       "value": "model.safetensors: 100%"
      }
     },
     "d164211aa3034789a7a9def1b61ae39b": {
      "model_module": "@jupyter-widgets/base",
      "model_module_version": "1.2.0",
      "model_name": "LayoutModel",
      "state": {
       "_model_module": "@jupyter-widgets/base",
       "_model_module_version": "1.2.0",
       "_model_name": "LayoutModel",
       "_view_count": null,
       "_view_module": "@jupyter-widgets/base",
       "_view_module_version": "1.2.0",
       "_view_name": "LayoutView",
       "align_content": null,
       "align_items": null,
       "align_self": null,
       "border": null,
       "bottom": null,
       "display": null,
       "flex": null,
       "flex_flow": null,
       "grid_area": null,
       "grid_auto_columns": null,
       "grid_auto_flow": null,
       "grid_auto_rows": null,
       "grid_column": null,
       "grid_gap": null,
       "grid_row": null,
       "grid_template_areas": null,
       "grid_template_columns": null,
       "grid_template_rows": null,
       "height": null,
       "justify_content": null,
       "justify_items": null,
       "left": null,
       "margin": null,
       "max_height": null,
       "max_width": null,
       "min_height": null,
       "min_width": null,
       "object_fit": null,
       "object_position": null,
       "order": null,
       "overflow": null,
       "overflow_x": null,
       "overflow_y": null,
       "padding": null,
       "right": null,
       "top": null,
       "visibility": null,
       "width": null
      }
     },
     "d2637be8220644498296ab63c597a5d1": {
      "model_module": "@jupyter-widgets/controls",
      "model_module_version": "1.5.0",
      "model_name": "HTMLModel",
      "state": {
       "_dom_classes": [],
       "_model_module": "@jupyter-widgets/controls",
       "_model_module_version": "1.5.0",
       "_model_name": "HTMLModel",
       "_view_count": null,
       "_view_module": "@jupyter-widgets/controls",
       "_view_module_version": "1.5.0",
       "_view_name": "HTMLView",
       "description": "",
       "description_tooltip": null,
       "layout": "IPY_MODEL_9b40332e28ce4e2db1c7a95082db23ef",
       "placeholder": "​",
       "style": "IPY_MODEL_762937f7362a49c4903c777cbfe70e63",
       "value": " 466k/466k [00:00&lt;00:00, 8.59MB/s]"
      }
     },
     "e37f70c805ef46269ea78bfcdffa1980": {
      "model_module": "@jupyter-widgets/base",
      "model_module_version": "1.2.0",
      "model_name": "LayoutModel",
      "state": {
       "_model_module": "@jupyter-widgets/base",
       "_model_module_version": "1.2.0",
       "_model_name": "LayoutModel",
       "_view_count": null,
       "_view_module": "@jupyter-widgets/base",
       "_view_module_version": "1.2.0",
       "_view_name": "LayoutView",
       "align_content": null,
       "align_items": null,
       "align_self": null,
       "border": null,
       "bottom": null,
       "display": null,
       "flex": null,
       "flex_flow": null,
       "grid_area": null,
       "grid_auto_columns": null,
       "grid_auto_flow": null,
       "grid_auto_rows": null,
       "grid_column": null,
       "grid_gap": null,
       "grid_row": null,
       "grid_template_areas": null,
       "grid_template_columns": null,
       "grid_template_rows": null,
       "height": null,
       "justify_content": null,
       "justify_items": null,
       "left": null,
       "margin": null,
       "max_height": null,
       "max_width": null,
       "min_height": null,
       "min_width": null,
       "object_fit": null,
       "object_position": null,
       "order": null,
       "overflow": null,
       "overflow_x": null,
       "overflow_y": null,
       "padding": null,
       "right": null,
       "top": null,
       "visibility": null,
       "width": null
      }
     },
     "e533fb8a216d4f549b59a125d783f3c3": {
      "model_module": "@jupyter-widgets/base",
      "model_module_version": "1.2.0",
      "model_name": "LayoutModel",
      "state": {
       "_model_module": "@jupyter-widgets/base",
       "_model_module_version": "1.2.0",
       "_model_name": "LayoutModel",
       "_view_count": null,
       "_view_module": "@jupyter-widgets/base",
       "_view_module_version": "1.2.0",
       "_view_name": "LayoutView",
       "align_content": null,
       "align_items": null,
       "align_self": null,
       "border": null,
       "bottom": null,
       "display": null,
       "flex": null,
       "flex_flow": null,
       "grid_area": null,
       "grid_auto_columns": null,
       "grid_auto_flow": null,
       "grid_auto_rows": null,
       "grid_column": null,
       "grid_gap": null,
       "grid_row": null,
       "grid_template_areas": null,
       "grid_template_columns": null,
       "grid_template_rows": null,
       "height": null,
       "justify_content": null,
       "justify_items": null,
       "left": null,
       "margin": null,
       "max_height": null,
       "max_width": null,
       "min_height": null,
       "min_width": null,
       "object_fit": null,
       "object_position": null,
       "order": null,
       "overflow": null,
       "overflow_x": null,
       "overflow_y": null,
       "padding": null,
       "right": null,
       "top": null,
       "visibility": null,
       "width": null
      }
     },
     "e5c2c9a3a55f41ab98f1e2f6284102a2": {
      "model_module": "@jupyter-widgets/controls",
      "model_module_version": "1.5.0",
      "model_name": "HBoxModel",
      "state": {
       "_dom_classes": [],
       "_model_module": "@jupyter-widgets/controls",
       "_model_module_version": "1.5.0",
       "_model_name": "HBoxModel",
       "_view_count": null,
       "_view_module": "@jupyter-widgets/controls",
       "_view_module_version": "1.5.0",
       "_view_name": "HBoxView",
       "box_style": "",
       "children": [
        "IPY_MODEL_7b92efff22614cbb9c8db4b378159b8a",
        "IPY_MODEL_178e6c155afe4c478feb095a920be226",
        "IPY_MODEL_d2637be8220644498296ab63c597a5d1"
       ],
       "layout": "IPY_MODEL_026c3917777c46b9a97f2fb939e6b8d8"
      }
     },
     "e634c8b291074df8b484e17a5532f762": {
      "model_module": "@jupyter-widgets/base",
      "model_module_version": "1.2.0",
      "model_name": "LayoutModel",
      "state": {
       "_model_module": "@jupyter-widgets/base",
       "_model_module_version": "1.2.0",
       "_model_name": "LayoutModel",
       "_view_count": null,
       "_view_module": "@jupyter-widgets/base",
       "_view_module_version": "1.2.0",
       "_view_name": "LayoutView",
       "align_content": null,
       "align_items": null,
       "align_self": null,
       "border": null,
       "bottom": null,
       "display": null,
       "flex": null,
       "flex_flow": null,
       "grid_area": null,
       "grid_auto_columns": null,
       "grid_auto_flow": null,
       "grid_auto_rows": null,
       "grid_column": null,
       "grid_gap": null,
       "grid_row": null,
       "grid_template_areas": null,
       "grid_template_columns": null,
       "grid_template_rows": null,
       "height": null,
       "justify_content": null,
       "justify_items": null,
       "left": null,
       "margin": null,
       "max_height": null,
       "max_width": null,
       "min_height": null,
       "min_width": null,
       "object_fit": null,
       "object_position": null,
       "order": null,
       "overflow": null,
       "overflow_x": null,
       "overflow_y": null,
       "padding": null,
       "right": null,
       "top": null,
       "visibility": null,
       "width": null
      }
     },
     "e80fd08ece71479ab69e5ce44be8a844": {
      "model_module": "@jupyter-widgets/controls",
      "model_module_version": "1.5.0",
      "model_name": "HTMLModel",
      "state": {
       "_dom_classes": [],
       "_model_module": "@jupyter-widgets/controls",
       "_model_module_version": "1.5.0",
       "_model_name": "HTMLModel",
       "_view_count": null,
       "_view_module": "@jupyter-widgets/controls",
       "_view_module_version": "1.5.0",
       "_view_name": "HTMLView",
       "description": "",
       "description_tooltip": null,
       "layout": "IPY_MODEL_e634c8b291074df8b484e17a5532f762",
       "placeholder": "​",
       "style": "IPY_MODEL_950036c3eb0347a99bdb4b5d583b5ce9",
       "value": "tokenizer_config.json: 100%"
      }
     },
     "e82c421d35ec4dbba74d201b36f7cdb6": {
      "model_module": "@jupyter-widgets/base",
      "model_module_version": "1.2.0",
      "model_name": "LayoutModel",
      "state": {
       "_model_module": "@jupyter-widgets/base",
       "_model_module_version": "1.2.0",
       "_model_name": "LayoutModel",
       "_view_count": null,
       "_view_module": "@jupyter-widgets/base",
       "_view_module_version": "1.2.0",
       "_view_name": "LayoutView",
       "align_content": null,
       "align_items": null,
       "align_self": null,
       "border": null,
       "bottom": null,
       "display": null,
       "flex": null,
       "flex_flow": null,
       "grid_area": null,
       "grid_auto_columns": null,
       "grid_auto_flow": null,
       "grid_auto_rows": null,
       "grid_column": null,
       "grid_gap": null,
       "grid_row": null,
       "grid_template_areas": null,
       "grid_template_columns": null,
       "grid_template_rows": null,
       "height": null,
       "justify_content": null,
       "justify_items": null,
       "left": null,
       "margin": null,
       "max_height": null,
       "max_width": null,
       "min_height": null,
       "min_width": null,
       "object_fit": null,
       "object_position": null,
       "order": null,
       "overflow": null,
       "overflow_x": null,
       "overflow_y": null,
       "padding": null,
       "right": null,
       "top": null,
       "visibility": null,
       "width": null
      }
     },
     "e94fce44fc1c4bf08863a77e311cc8ed": {
      "model_module": "@jupyter-widgets/controls",
      "model_module_version": "1.5.0",
      "model_name": "ProgressStyleModel",
      "state": {
       "_model_module": "@jupyter-widgets/controls",
       "_model_module_version": "1.5.0",
       "_model_name": "ProgressStyleModel",
       "_view_count": null,
       "_view_module": "@jupyter-widgets/base",
       "_view_module_version": "1.2.0",
       "_view_name": "StyleView",
       "bar_color": null,
       "description_width": ""
      }
     },
     "f0b01b9f69204153856bfa6aeb3e14a0": {
      "model_module": "@jupyter-widgets/controls",
      "model_module_version": "1.5.0",
      "model_name": "ProgressStyleModel",
      "state": {
       "_model_module": "@jupyter-widgets/controls",
       "_model_module_version": "1.5.0",
       "_model_name": "ProgressStyleModel",
       "_view_count": null,
       "_view_module": "@jupyter-widgets/base",
       "_view_module_version": "1.2.0",
       "_view_name": "StyleView",
       "bar_color": null,
       "description_width": ""
      }
     },
     "f460307ad0c541d1abf52cbf94274dc4": {
      "model_module": "@jupyter-widgets/base",
      "model_module_version": "1.2.0",
      "model_name": "LayoutModel",
      "state": {
       "_model_module": "@jupyter-widgets/base",
       "_model_module_version": "1.2.0",
       "_model_name": "LayoutModel",
       "_view_count": null,
       "_view_module": "@jupyter-widgets/base",
       "_view_module_version": "1.2.0",
       "_view_name": "LayoutView",
       "align_content": null,
       "align_items": null,
       "align_self": null,
       "border": null,
       "bottom": null,
       "display": null,
       "flex": null,
       "flex_flow": null,
       "grid_area": null,
       "grid_auto_columns": null,
       "grid_auto_flow": null,
       "grid_auto_rows": null,
       "grid_column": null,
       "grid_gap": null,
       "grid_row": null,
       "grid_template_areas": null,
       "grid_template_columns": null,
       "grid_template_rows": null,
       "height": null,
       "justify_content": null,
       "justify_items": null,
       "left": null,
       "margin": null,
       "max_height": null,
       "max_width": null,
       "min_height": null,
       "min_width": null,
       "object_fit": null,
       "object_position": null,
       "order": null,
       "overflow": null,
       "overflow_x": null,
       "overflow_y": null,
       "padding": null,
       "right": null,
       "top": null,
       "visibility": null,
       "width": null
      }
     },
     "f6276543550f4f78a7c147794a5ef3bf": {
      "model_module": "@jupyter-widgets/base",
      "model_module_version": "1.2.0",
      "model_name": "LayoutModel",
      "state": {
       "_model_module": "@jupyter-widgets/base",
       "_model_module_version": "1.2.0",
       "_model_name": "LayoutModel",
       "_view_count": null,
       "_view_module": "@jupyter-widgets/base",
       "_view_module_version": "1.2.0",
       "_view_name": "LayoutView",
       "align_content": null,
       "align_items": null,
       "align_self": null,
       "border": null,
       "bottom": null,
       "display": null,
       "flex": null,
       "flex_flow": null,
       "grid_area": null,
       "grid_auto_columns": null,
       "grid_auto_flow": null,
       "grid_auto_rows": null,
       "grid_column": null,
       "grid_gap": null,
       "grid_row": null,
       "grid_template_areas": null,
       "grid_template_columns": null,
       "grid_template_rows": null,
       "height": null,
       "justify_content": null,
       "justify_items": null,
       "left": null,
       "margin": null,
       "max_height": null,
       "max_width": null,
       "min_height": null,
       "min_width": null,
       "object_fit": null,
       "object_position": null,
       "order": null,
       "overflow": null,
       "overflow_x": null,
       "overflow_y": null,
       "padding": null,
       "right": null,
       "top": null,
       "visibility": null,
       "width": null
      }
     }
    },
    "version_major": 2,
    "version_minor": 0
   }
  }
 },
 "nbformat": 4,
 "nbformat_minor": 5
}
